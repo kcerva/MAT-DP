{
 "cells": [
  {
   "cell_type": "code",
   "execution_count": 8,
   "metadata": {},
   "outputs": [],
   "source": [
    "import matplotlib.pyplot as plt\n",
    "import pandas as pd\n",
    "import numpy as np\n",
    "# import seaborn as sns\n",
    "import plotly\n",
    "import plotly_express as px\n",
    "# import plotly.plotly as py\n",
    "from plotly import tools\n",
    "from plotly.offline import plot\n",
    "import plotly.graph_objs as go\n",
    "# import matplotlib.patches as mpatches\n",
    "# from shapely.geometry import Polygon\n",
    "# import geopandas\n",
    "# import geoplot\n",
    "import plotly.io as pio\n",
    "from os import listdir\n",
    "from os.path import isfile, join\n",
    "from pathlib import Path\n",
    "from os import listdir\n",
    "from os.path import isfile, join\n",
    "# import country_converter as coco\n",
    "# import scipy\n",
    "# from scipy.optimize import curve_fit\n",
    "from plotly.subplots import make_subplots\n",
    "import ipywidgets as widgets\n",
    "# import statsmodels.formula.api as smf\n",
    "# import statsmodels.api as sm\n",
    "# from patsy import dmatrices\n",
    "\n",
    "# import spacy\n",
    "\n",
    "%matplotlib inline"
   ]
  },
  {
   "cell_type": "markdown",
   "metadata": {},
   "source": [
    "# Load E+M data"
   ]
  },
  {
   "cell_type": "code",
   "execution_count": 624,
   "metadata": {},
   "outputs": [],
   "source": [
    "# CHECK THE DATA TAKEN HERE IS THE RIGHT ONE AFTER THE CHANGES. SAME FOR EXCEL FILE.\n",
    "\n",
    "# Define matrices and load data\n",
    "# country energy projection [kWh]\n",
    "mypath = \"C:/Users/KarlaC/Dropbox (Cambridge University)/CCG/Electricity and material demand model/\"\n",
    "C = pd.read_excel(mypath+'Excel_model_material_implications_energy_systems.xlsx', sheet_name = 'Matrices', \n",
    "                skiprows = 2, usecols = \"C:I\", nrows = 1)\n",
    "#  material per energy technology [g/kWh]\n",
    "M = pd.read_excel(mypath+'Excel_model_material_implications_energy_systems.xlsx', sheet_name = 'Matrices', \n",
    "                skiprows = 2, usecols = \"K:AG\", nrows = 10)\n",
    "M = M.rename(columns={'[g/kWh]':'tech'}).set_index('tech')\n",
    "# Ref = xlsread('Excel model - material implications energy systems','Matrices','L4:AG12') #reference included\n",
    "\n",
    "#  embodied emissions (GHG) per material [gCO2e/g]\n",
    "E = pd.read_excel(mypath+'Excel_model_material_implications_energy_systems.xlsx', sheet_name = 'Matrices', \n",
    "                skiprows = 2, usecols = \"AJ\", nrows = 22)\n",
    "#  water usage per material [l/kg]\n",
    "W = pd.read_excel(mypath+'Excel_model_material_implications_energy_systems.xlsx', sheet_name = 'Matrices', \n",
    "                skiprows = 2, usecols = \"AK\", nrows = 22)\n",
    "\n",
    "#  recycling rate in current supply per material [%]\n",
    "R = pd.read_excel(mypath+'Excel_model_material_implications_energy_systems.xlsx', sheet_name = 'Matrices', \n",
    "                skiprows = 2, usecols = \"AL\", nrows = 22)\n",
    "#  costs per material [â‚¬/kg]\n",
    "K = pd.read_excel(mypath+'Excel_model_material_implications_energy_systems.xlsx', sheet_name = 'Matrices', \n",
    "                skiprows = 2, usecols = \"AM\", nrows = 22)\n",
    "K = K/1000\n",
    "\n",
    "# Calculating all effects\n",
    "# E: emissions per energy technology [gCO2/kWh]\n",
    "# W: water usage per energy technology\n",
    "# R: recycling rate per energy technology \n",
    "# K: costs per energy technology \n",
    "for ef, ne in zip([E, W, R, K],['E', 'W', 'R', 'K'] ):\n",
    "    #  effect per energy technology e.g. [gCO2/kWh]\n",
    "    globals()['{}_tech'.format(ne)] = M.dot(ef.values)\n",
    "    globals()['{}_tech_sep'.format(ne)] = M.multiply(ef.T.values)\n",
    "    \n",
    "#     later add the index to C so the tech's names are used in calc\n",
    "    #  total factor of country e.g. embodied emissions [gCO2]\n",
    "    globals()['{}_country'.format(ne)] = C.dot(M[0:len(C.T)].values).dot(ef.values)\n",
    "    globals()['{}_country_sep'.format(ne)] = globals()['{}_tech_sep'.format(ne)][0:len(C.T)].multiply(C.T.values)\n",
    "\n",
    "    globals()['country_tech_{}'.format(ne)] = C.T.values*(globals()['{}_tech'.format(ne)][0:len(C.T)])\n",
    "    globals()['country_tech_{}'.format(ne)] = globals()['country_tech_{}'.format(ne)].T\n",
    "    "
   ]
  },
  {
   "cell_type": "markdown",
   "metadata": {},
   "source": [
    "# Load E+M data for all countries"
   ]
  },
  {
   "cell_type": "code",
   "execution_count": 1006,
   "metadata": {},
   "outputs": [],
   "source": [
    "# Df w all countries and scenarios\n",
    "dfC = pd.read_excel(mypath+'EnergyProjection.xlsx', sheet_name = 'All countries', \n",
    "                skiprows = 2, usecols = \"B:R\")\n",
    "#  material per energy technology [g/kWh]\n",
    "cM = pd.read_excel(mypath+'Excel_model_material_implications_energy_systems.xlsx', sheet_name = 'Matrices (country)', \n",
    "                skiprows = 2, usecols = \"R:AN\", nrows = 14)\n",
    "cM = cM.rename(columns={'[g/kWh]':'tech'}).set_index('tech')\n",
    "\n",
    "#  embodied emissions (GHG) per material [gCO2e/g]\n",
    "cE = pd.read_excel(mypath+'Excel_model_material_implications_energy_systems.xlsx', sheet_name = 'Matrices (country)', \n",
    "                skiprows = 2, usecols = \"AQ\", nrows = 22)\n",
    "#  water usage per material [l/kg]\n",
    "cW = pd.read_excel(mypath+'Excel_model_material_implications_energy_systems.xlsx', sheet_name = 'Matrices (country)', \n",
    "                skiprows = 2, usecols = \"AR\", nrows = 22)\n",
    "\n",
    "#  recycling rate in current supply per material [%]\n",
    "cR = pd.read_excel(mypath+'Excel_model_material_implications_energy_systems.xlsx', sheet_name = 'Matrices (country)', \n",
    "                skiprows = 2, usecols = \"AS\", nrows = 22)\n",
    "#  costs per material [â‚¬/kg]\n",
    "cK = pd.read_excel(mypath+'Excel_model_material_implications_energy_systems.xlsx', sheet_name = 'Matrices (country)', \n",
    "                skiprows = 2, usecols = \"AT\", nrows = 22)\n",
    "cK = cK/1000\n",
    "\n",
    "# Add employment and land use data"
   ]
  },
  {
   "cell_type": "code",
   "execution_count": 1007,
   "metadata": {},
   "outputs": [
    {
     "name": "stderr",
     "output_type": "stream",
     "text": [
      "C:\\Users\\KarlaC\\Anaconda3\\lib\\site-packages\\ipykernel_launcher.py:22: SettingWithCopyWarning:\n",
      "\n",
      "\n",
      "A value is trying to be set on a copy of a slice from a DataFrame.\n",
      "Try using .loc[row_indexer,col_indexer] = value instead\n",
      "\n",
      "See the caveats in the documentation: http://pandas.pydata.org/pandas-docs/stable/user_guide/indexing.html#returning-a-view-versus-a-copy\n",
      "\n"
     ]
    }
   ],
   "source": [
    "#  total factor of all countries e.g. embodied emissions [gCO2]\n",
    "#  df w all countries, years and scenarios\n",
    "dfC['Scenario'] = dfC['Scenario'].replace(np.nan, 'Baseline')\n",
    "dfC['Year'] = dfC['Year'].replace(np.nan,0).astype('int')\n",
    "\n",
    "# Ordering dfC columns for the same order as M\n",
    "coln = list(cM.index)\n",
    "\n",
    "for ef, ne in zip([cE, cW, cR, cK],['E', 'W', 'R', 'K'] ):\n",
    "    globals()['df{}_tech'.format(ne)] = cM.fillna(0).dot(cE.values)\n",
    "    globals()['df{}_tech_sep'.format(ne)]  = cM.fillna(0).multiply(cE.T.values)\n",
    "    \n",
    "#     'df{ne}_{country}_{scenario}_{year}_sep'\n",
    "    for c in dfC['Country'].unique():\n",
    "        for sc in dfC[dfC['Country']==c]['Scenario'].unique():\n",
    "            for y in dfC[(dfC['Country']==c)&(dfC['Scenario']==sc)]['Year'].unique():\n",
    "                globals()['df{0}_{1}_{2}_{3}_sep'.format(ne,c,sc[0:3],str(y))] = globals()['df{}_tech_sep'.format(ne)].reindex(index = coln).multiply(dfC[(dfC['Country']==c)&(dfC['Scenario']==sc)&(dfC['Year']==y)][coln].T.values) \n",
    "    #             print('df{0}_{1}_{2}_{3}_sep'.format(ne,c,sc[0:3],str(y)))\n",
    "\n",
    "#     'df{}_country'.format(ne) \n",
    "    globals()['df{}_country'.format(ne)]  = dfC[['Year','Scenario','Country']]\n",
    "    globals()['df{}_country'.format(ne)] ['value'] = 0\n",
    "\n",
    "#     'dfcountry_tech_{}'.format(ne)'\n",
    "    globals()['dfcountry_tech_{}'.format(ne)] = dfC.copy()\n",
    "    for col in globals()['dfcountry_tech_{}'.format(ne)].iloc[:,3:].columns:\n",
    "        globals()['dfcountry_tech_{}'.format(ne)][col] = 0\n",
    "\n",
    "#     'df{}_country'.format(ne) \n",
    "    for index, row in dfC[coln].iterrows():\n",
    "        val = pd.DataFrame(row).fillna(0).T.dot(cM.fillna(0)[0:len(dfC.iloc[:,3:].T)].values).dot(cE.values)\n",
    "        globals()['df{}_country'.format(ne)] .loc[index,'value'] = val.values[0]\n",
    "\n",
    "#     'dfcountry_tech_{}'.format(ne)'\n",
    "        valt = pd.DataFrame(row).fillna(0).values*(eg_E_tech)\n",
    "        for col in valt.T.columns:\n",
    "            globals()['dfcountry_tech_{}'.format(ne)].loc[index,col] = valt.T.loc[0,col]\n",
    "            "
   ]
  },
  {
   "cell_type": "code",
   "execution_count": 887,
   "metadata": {
    "scrolled": true
   },
   "outputs": [
    {
     "name": "stdout",
     "output_type": "stream",
     "text": [
      "egE_Uganda_Bas_2010_sep\n",
      "egE_Uganda_Sce_2040_sep\n",
      "egE_UK_Bas_2020_sep\n",
      "egE_UK_Con_2050_sep\n",
      "egE_UK_Sys_2050_sep\n",
      "egE_UK_Lea_2050_sep\n",
      "egE_UK_Ste_2050_sep\n",
      "egE_Kenya_Bas_0_sep\n"
     ]
    }
   ],
   "source": [
    "#Example for a single effect calculation\n",
    "# for c in dfC['Country'].unique():\n",
    "#     eg_E_tech = cM.fillna(0).dot(cE.values)\n",
    "#     eg_E_tech_sep = cM.fillna(0).multiply(cE.T.values)\n",
    "    \n",
    "#     for sc in dfC[dfC['Country']==c]['Scenario'].unique():\n",
    "#         for y in dfC[(dfC['Country']==c)&(dfC['Scenario']==sc)]['Year'].unique():\n",
    "#             globals()['egE_{0}_{1}_{2}_sep'.format(c,sc[0:3],str(y))] = eg_E_tech_sep.reindex(index = coln).multiply(dfC[(dfC['Country']==c)&(dfC['Scenario']==sc)&(dfC['Year']==y)][coln].T.values) \n",
    "#             print('egE_{0}_{1}_{2}_sep'.format(c,sc[0:3],str(y)))           \n",
    "            \n",
    "# egE_country = dfC[['Year','Scenario','Country']]\n",
    "# egE_country['value'] = 0\n",
    "\n",
    "# eg_country_tech_E = dfC.copy()\n",
    "# for col in eg_country_tech_E.iloc[:,3:].columns:\n",
    "#     eg_country_tech_E[col] = 0\n",
    "\n",
    "# for index, row in dfC[coln].iterrows():\n",
    "#     val = pd.DataFrame(row).fillna(0).T.dot(cM.fillna(0)[0:len(dfC.iloc[:,3:].T)].values).dot(cE.values)\n",
    "#     egE_country.loc[index,'value'] = val.values[0]\n",
    "    \n",
    "#     valt = pd.DataFrame(row).fillna(0).values*(eg_E_tech)\n",
    "#     for col in valt.T.columns:\n",
    "#         eg_country_tech_E.loc[index,col] = valt.T.loc[0,col]"
   ]
  },
  {
   "cell_type": "markdown",
   "metadata": {},
   "source": [
    "# Errors"
   ]
  },
  {
   "cell_type": "code",
   "execution_count": 321,
   "metadata": {},
   "outputs": [],
   "source": [
    "# country energy projection [kWh]\n",
    "e_C = pd.read_excel(mypath+'Excel_model_material_implications_energy_systems.xlsx', \n",
    "                    sheet_name = 'Matrices', \n",
    "                skiprows = 2, usecols = \"AQ:AW\", nrows = 1)\n",
    "# material per energy technology [g/kWh]\n",
    "e_M = pd.read_excel(mypath+'Excel_model_material_implications_energy_systems.xlsx', \n",
    "                    sheet_name = 'Matrices', \n",
    "                skiprows = 2, usecols = \"AY:BU\", nrows = 10)\n",
    "# embodied emissions (GHG) per material [gCO2e/g]\n",
    "e_E = pd.read_excel(mypath+'Excel_model_material_implications_energy_systems.xlsx', \n",
    "                    sheet_name = 'Matrices', \n",
    "                skiprows = 2, usecols = \"BX:BX\", nrows = 22)\n",
    "# water usage per material [l/kg]\n",
    "e_W = pd.read_excel(mypath+'Excel_model_material_implications_energy_systems.xlsx', \n",
    "                    sheet_name = 'Matrices', \n",
    "                skiprows = 2, usecols = \"BY:BY\", nrows = 22)\n",
    "# recycling rate in current supply per material [%]\n",
    "e_R = pd.read_excel(mypath+'Excel_model_material_implications_energy_systems.xlsx', \n",
    "                    sheet_name = 'Matrices', \n",
    "                skiprows = 2, usecols = \"BZ:BZ\", nrows = 22)\n",
    "# costs per material [â‚¬/kg]\n",
    "e_K = pd.read_excel(mypath+'Excel_model_material_implications_energy_systems.xlsx', \n",
    "                    sheet_name = 'Matrices', \n",
    "                skiprows = 2, usecols = \"CA:CA\", nrows = 22)\n",
    "e_K = e_K/1000\n",
    "\n",
    "for ef in [e_C, e_M, e_E, e_W, e_R, e_K]:\n",
    "    eco = ef.columns.values\n",
    "    ef.columns = [str(x).replace('.1','') for x in eco]\n",
    "e_M = e_M.rename(columns={'[g/kWh]':'tech'}).set_index('tech')\n",
    "\n",
    "# clean calculations trying .dot\n",
    "for ef, ne in zip([e_E, e_W, e_R, e_K],['E', 'W', 'R', 'K'] ):\n",
    "    #seperate errors per material per kWh for different impacts \n",
    "    globals()['em_'.format(ne)] = ((ef/globals()['{}'.format(ne)]).pow(2)).T\n",
    "    globals()['em_'.format(ne)].columns = e_cM.columns\n",
    "    globals()['em_'.format(ne)] = globals()['em_'.format(ne)].reset_index().drop(columns='index', axis = 1)\n",
    "    \n",
    "    t1 = pd.DataFrame([x+y for x in ((e_cM/cM).pow(2)).values for y in globals()['em_'.format(ne)].values]).pow(0.5)\n",
    "    t1.columns = globals()['{}_tech_sep'.format(ne)].columns\n",
    "    t1.index = e_M.index\n",
    "    \n",
    "#     e_E_tech_sep = E_tech_sep.*sqrt((e_M./M).^2+(e_E'./E').^2)\n",
    "    globals()['e_{}_tech_sep'.format(ne)] = globals()['{}_tech_sep'.format(ne)].mul(t1, fill_value=0)\n",
    "    globals()['e_{}_tot'.format(ne)] = globals()['e_{}_tech_sep'.format(ne)].T.sum()\n",
    "# Do I need to remove any rows with this? [0:len(C.T)]\n",
    "\n",
    "for ef, ne in zip([e_E, e_W, e_R, e_K],['E', 'W', 'R', 'K'] ):\n",
    "    #seperate errors per material per kWh for different impacts \n",
    "    globals()['em_'.format(ne)] = ((ef/globals()['{}'.format(ne)]).pow(2)).T\n",
    "    globals()['em_'.format(ne)].columns = e_M.columns\n",
    "    globals()['em_'.format(ne)] = globals()['em_'.format(ne)].reset_index().drop(columns='index', axis = 1)\n",
    "    \n",
    "    # add index of tech to t2, otherwise the calc gives error\n",
    "    tc = (e_C/C).T\n",
    "    t2 = pd.DataFrame([x+y+z for x in ((e_M[0:len(C.T)]/M[0:len(C.T)]).pow(2)).values for y in globals()['em_'.format(ne)].values for z in (tc.pow(2))]).pow(0.5)\n",
    "    t2.columns =  globals()['e_{}_tech_sep'.format(ne)].columns\n",
    "    t2.index = tc.index\n",
    "    \n",
    "    globals()['e_{}_country_sep'.format(ne)] = globals()['{}_country_sep'.format(ne)].mul(t2, fill_value=0)\n",
    "    globals()['e_{}c_tot'.format(ne)] = globals()['e_{}_country_sep'.format(ne)].T.sum()"
   ]
  },
  {
   "cell_type": "markdown",
   "metadata": {},
   "source": [
    "# Errors for all countries"
   ]
  },
  {
   "cell_type": "code",
   "execution_count": 1008,
   "metadata": {},
   "outputs": [],
   "source": [
    "# Error or all countries and scenarios\n",
    "e_dfC = pd.read_excel(mypath+'EnergyProjection.xlsx', sheet_name = 'All countries (e)', \n",
    "                skiprows = 2, usecols = \"B:R\")\n",
    "# material per energy technology [g/kWh]\n",
    "e_cM = pd.read_excel(mypath+'Excel_model_material_implications_energy_systems.xlsx', \n",
    "                    sheet_name = 'Matrices (country)', \n",
    "                skiprows = 2, usecols = \"BM:CI\", nrows = 14)\n",
    "# embodied emissions (GHG) per material [gCO2e/g]\n",
    "e_cE = pd.read_excel(mypath+'Excel_model_material_implications_energy_systems.xlsx', \n",
    "                    sheet_name = 'Matrices (country)', \n",
    "                skiprows = 2, usecols = \"CL\", nrows = 22)\n",
    "# water usage per material [l/kg]\n",
    "e_cW = pd.read_excel(mypath+'Excel_model_material_implications_energy_systems.xlsx', \n",
    "                    sheet_name = 'Matrices (country)', \n",
    "                skiprows = 2, usecols = \"CM\", nrows = 22)\n",
    "# recycling rate in current supply per material [%]\n",
    "e_cR = pd.read_excel(mypath+'Excel_model_material_implications_energy_systems.xlsx', \n",
    "                    sheet_name = 'Matrices (country)', \n",
    "                skiprows = 2, usecols = \"CN\", nrows = 22)\n",
    "# costs per material [â‚¬/kg]\n",
    "e_cK = pd.read_excel(mypath+'Excel_model_material_implications_energy_systems.xlsx', \n",
    "                    sheet_name = 'Matrices (country)', \n",
    "                skiprows = 2, usecols = \"CO\", nrows = 22)\n",
    "e_cK = e_cK/1000\n",
    "\n",
    "# e_dfC\n",
    "for ef in [ e_cM, e_cE, e_cW, e_cR, e_cK]:\n",
    "    eco = ef.columns.values\n",
    "    ef.columns = [str(x).replace('.1','') for x in eco]\n",
    "e_cM = e_cM.rename(columns={'[g/kWh]':'tech'}).set_index('tech')\n"
   ]
  },
  {
   "cell_type": "code",
   "execution_count": 1059,
   "metadata": {
    "scrolled": true
   },
   "outputs": [],
   "source": [
    "\n",
    "# Ordering dfC columns for the same order as M\n",
    "coln = list(cM.index)\n",
    "techs = ['Wind (Onshore)', 'Solar CSP', 'Solar PV', 'Hydro', 'Geothermal',\n",
    "       'Gas CCS', 'Oil', 'Gas', 'Coal', 'Wind (Offshore)', 'Biomass',\n",
    "       'Nuclear', 'BECCS', 'Hydrogen']\n",
    "mats = list(cM.columns)\n",
    "\n",
    "for ef, ne in zip([e_cE, e_cW, e_cR, e_cK],['E', 'W', 'R', 'K'] ):\n",
    "    #seperate errors per material per kWh for different impacts \n",
    "    globals()['em_'.format(ne)] = ((ef/globals()['{}'.format(ne)]).pow(2)).T\n",
    "    globals()['em_'.format(ne)].columns = e_cM.columns\n",
    "    globals()['em_'.format(ne)] = globals()['em_'.format(ne)].reset_index().drop(columns='index', axis = 1)\n",
    "    \n",
    "    t1 = pd.DataFrame([x+y for x in ((e_cM/cM).pow(2)).values for y in globals()['em_'.format(ne)].values]).pow(0.5)\n",
    "    t1.columns = globals()['df{}_tech_sep'.format(ne)].columns\n",
    "    t1.index = e_cM.index\n",
    "    \n",
    "#     e_E_tech_sep = E_tech_sep.*sqrt((e_M./M).^2+(e_E'./E').^2)\n",
    "    globals()['e_df{}_tech_sep'.format(ne)] = globals()['df{}_tech_sep'.format(ne)].mul(t1, fill_value=0)\n",
    "    globals()['e_df{}_tot'.format(ne)] = globals()['e_df{}_tech_sep'.format(ne)].T.sum()\n",
    "# Do I need to remove any rows with this? [0:len(C.T)]\n",
    "\n",
    "for ef, ne in zip([e_cE, e_cW, e_cR, e_cK],['E', 'W', 'R', 'K'] ):\n",
    "    #seperate errors per material per kWh for different impacts \n",
    "    globals()['em_'.format(ne)] = ((ef/globals()['{}'.format(ne)]).pow(2)).T\n",
    "    globals()['em_'.format(ne)].columns = e_cM.columns\n",
    "    globals()['em_'.format(ne)] = globals()['em_'.format(ne)].reset_index().drop(columns='index', axis = 1)\n",
    "    \n",
    "    globals()['e_df{0}_countries_sep'.format(ne)] = pd.DataFrame(columns =['Country','Year','Scenario','tech']+mats )\n",
    "    globals()['e_df{0}c_tot'.format(ne)] = pd.DataFrame(columns =['Country','Year','Scenario']+techs )\n",
    "    for c in dfC['Country'].unique():\n",
    "        for sc in dfC[dfC['Country']==c]['Scenario'].unique():\n",
    "            for y in dfC[(dfC['Country']==c)&(dfC['Scenario']==sc)]['Year'].unique():\n",
    "                # add index of tech to t2, otherwise the calc gives error\n",
    "                tc = (e_dfC[(e_dfC['Country']==c)&(e_dfC['Scenario']==sc)&(e_dfC['Year']==y)][coln]/dfC[(dfC['Country']==c)&(dfC['Scenario']==sc)&(dfC['Year']==y)])[coln].T\n",
    "                t2 = pd.DataFrame([x+y+z for x in ((e_cM/cM).pow(2)).values for y in globals()['em_'.format(ne)].values for z in (tc.pow(2))]).pow(0.5)\n",
    "                t2.columns =  globals()['e_{}_tech_sep'.format(ne)].columns\n",
    "                t2.index = tc.index\n",
    "                \n",
    "                news = pd.DataFrame(globals()['df{0}_{1}_{2}_{3}_sep'.format(ne,c,sc[0:3],str(y))].mul(t2, fill_value=0))\n",
    "                news = news.reset_index()\n",
    "                news['Country'] = c\n",
    "                news['Scenario'] = sc\n",
    "                news['Year'] = y\n",
    "                globals()['e_df{0}_countries_sep'.format(ne)] = globals()['e_df{0}_countries_sep'.format(ne)].append(news)\n",
    "                globals()['e_df{0}_countries_sep'.format(ne)] = globals()['e_df{0}_countries_sep'.format(ne)][['Country','Year','Scenario','tech']+mats]\n",
    "                \n",
    "                new = pd.DataFrame(globals()['e_df{0}_{1}_{2}_{3}_sep'.format(ne,c,sc[0:3],str(y))].T.sum()).T\n",
    "                new['Country'] = c\n",
    "                new['Scenario'] = sc\n",
    "                new['Year'] = y\n",
    "                globals()['e_df{0}c_tot'.format(ne)] = globals()['e_df{0}c_tot'.format(ne)].append(new)\n",
    "                globals()['e_df{0}c_tot'.format(ne)] =globals()['e_df{0}c_tot'.format(ne)][['Country','Year','Scenario']+techs]\n",
    "                "
   ]
  },
  {
   "cell_type": "markdown",
   "metadata": {},
   "source": [
    "# Employment and land-use"
   ]
  },
  {
   "cell_type": "code",
   "execution_count": 1134,
   "metadata": {},
   "outputs": [],
   "source": [
    "# Employment by stage [job-years/MW] Manuf and C&I and Dec, [jobs/MW] for O&M, [jobs/PJ] for fuel\n",
    "jobs = pd.read_excel(mypath+'Excel_model_material_implications_energy_systems.xlsx', \n",
    "                    sheet_name = 'Employment', \n",
    "                skiprows = 37, usecols = \"B:G,T\", nrows = 23)\n",
    "jobs.columns = ['tech', 'Manufacturing', 'Construction and Installation',\n",
    "       'Operation and Maintenance', 'Fuel', 'Decommissioning', 'Total']\n",
    "\n",
    "# In [jobs-lifetime/kWh]\n",
    "op_jobs = pd.read_excel(mypath+'Excel_model_material_implications_energy_systems.xlsx', \n",
    "                    sheet_name = 'Employment', \n",
    "                skiprows = 65, usecols = \"B:E\", nrows = 23)\n",
    "op_jobs.columns = ['tech','Capacity (MW)', 'kWh/lifetime','Operation and Maintenance']\n",
    "\n",
    "jobs = jobs.merge(op_jobs[['tech','Capacity (MW)','kWh/lifetime']], on = 'tech')\n",
    "# Ram2020 has Regional Employment multipliers that should be useful for country evaluations\n",
    "\n",
    "# Land required [km^2/1000 MW]\n",
    "land = pd.read_excel(mypath+'Excel_model_material_implications_energy_systems.xlsx', \n",
    "                    sheet_name = 'Employment', \n",
    "                skiprows = 19, usecols = \"B:C\", nrows = 14)\n",
    "land.columns = ['tech','land']"
   ]
  },
  {
   "cell_type": "code",
   "execution_count": 1136,
   "metadata": {
    "scrolled": true
   },
   "outputs": [],
   "source": [
    "jobs['Operation and Maintenance (jobs)'] = jobs['Capacity (MW)'] * jobs['Operation and Maintenance']"
   ]
  },
  {
   "cell_type": "code",
   "execution_count": 1137,
   "metadata": {},
   "outputs": [
    {
     "data": {
      "text/html": [
       "<div>\n",
       "<style scoped>\n",
       "    .dataframe tbody tr th:only-of-type {\n",
       "        vertical-align: middle;\n",
       "    }\n",
       "\n",
       "    .dataframe tbody tr th {\n",
       "        vertical-align: top;\n",
       "    }\n",
       "\n",
       "    .dataframe thead th {\n",
       "        text-align: right;\n",
       "    }\n",
       "</style>\n",
       "<table border=\"1\" class=\"dataframe\">\n",
       "  <thead>\n",
       "    <tr style=\"text-align: right;\">\n",
       "      <th></th>\n",
       "      <th>tech</th>\n",
       "      <th>Manufacturing</th>\n",
       "      <th>Construction and Installation</th>\n",
       "      <th>Operation and Maintenance</th>\n",
       "      <th>Fuel</th>\n",
       "      <th>Decommissioning</th>\n",
       "      <th>Total</th>\n",
       "      <th>Capacity (MW)</th>\n",
       "      <th>kWh/lifetime</th>\n",
       "      <th>Operation and Maintenance (jobs)</th>\n",
       "    </tr>\n",
       "  </thead>\n",
       "  <tbody>\n",
       "    <tr>\n",
       "      <td>0</td>\n",
       "      <td>Solar CSP</td>\n",
       "      <td>4.00</td>\n",
       "      <td>8.00</td>\n",
       "      <td>0.60</td>\n",
       "      <td>NaN</td>\n",
       "      <td>1.33</td>\n",
       "      <td>13.93</td>\n",
       "      <td>80.0</td>\n",
       "      <td>5.256000e+09</td>\n",
       "      <td>48.00</td>\n",
       "    </tr>\n",
       "    <tr>\n",
       "      <td>1</td>\n",
       "      <td>Solar PV (utility)</td>\n",
       "      <td>6.70</td>\n",
       "      <td>13.00</td>\n",
       "      <td>0.70</td>\n",
       "      <td>NaN</td>\n",
       "      <td>0.80</td>\n",
       "      <td>21.20</td>\n",
       "      <td>0.5</td>\n",
       "      <td>2.000000e+03</td>\n",
       "      <td>0.35</td>\n",
       "    </tr>\n",
       "    <tr>\n",
       "      <td>2</td>\n",
       "      <td>Solar PV (rooftop)</td>\n",
       "      <td>6.70</td>\n",
       "      <td>26.00</td>\n",
       "      <td>1.40</td>\n",
       "      <td>NaN</td>\n",
       "      <td>1.21</td>\n",
       "      <td>35.31</td>\n",
       "      <td>0.5</td>\n",
       "      <td>2.000000e+03</td>\n",
       "      <td>0.70</td>\n",
       "    </tr>\n",
       "    <tr>\n",
       "      <td>3</td>\n",
       "      <td>Hydro (Dam)</td>\n",
       "      <td>3.50</td>\n",
       "      <td>7.40</td>\n",
       "      <td>0.20</td>\n",
       "      <td>NaN</td>\n",
       "      <td>2.22</td>\n",
       "      <td>13.32</td>\n",
       "      <td>100.0</td>\n",
       "      <td>9.198000e+09</td>\n",
       "      <td>20.00</td>\n",
       "    </tr>\n",
       "    <tr>\n",
       "      <td>4</td>\n",
       "      <td>Hydro (RoR)</td>\n",
       "      <td>8.75</td>\n",
       "      <td>18.50</td>\n",
       "      <td>0.50</td>\n",
       "      <td>NaN</td>\n",
       "      <td>5.55</td>\n",
       "      <td>33.30</td>\n",
       "      <td>100.0</td>\n",
       "      <td>9.198000e+09</td>\n",
       "      <td>50.00</td>\n",
       "    </tr>\n",
       "    <tr>\n",
       "      <td>5</td>\n",
       "      <td>Geothermal</td>\n",
       "      <td>3.90</td>\n",
       "      <td>6.80</td>\n",
       "      <td>0.40</td>\n",
       "      <td>NaN</td>\n",
       "      <td>0.21</td>\n",
       "      <td>11.31</td>\n",
       "      <td>150.0</td>\n",
       "      <td>2.759400e+10</td>\n",
       "      <td>60.00</td>\n",
       "    </tr>\n",
       "    <tr>\n",
       "      <td>6</td>\n",
       "      <td>Gas CCS</td>\n",
       "      <td>NaN</td>\n",
       "      <td>NaN</td>\n",
       "      <td>NaN</td>\n",
       "      <td>NaN</td>\n",
       "      <td>NaN</td>\n",
       "      <td>0.00</td>\n",
       "      <td>340.0</td>\n",
       "      <td>6.125000e+10</td>\n",
       "      <td>NaN</td>\n",
       "    </tr>\n",
       "    <tr>\n",
       "      <td>7</td>\n",
       "      <td>Oil</td>\n",
       "      <td>NaN</td>\n",
       "      <td>NaN</td>\n",
       "      <td>NaN</td>\n",
       "      <td>NaN</td>\n",
       "      <td>NaN</td>\n",
       "      <td>0.00</td>\n",
       "      <td>1000.0</td>\n",
       "      <td>1.971000e+11</td>\n",
       "      <td>NaN</td>\n",
       "    </tr>\n",
       "    <tr>\n",
       "      <td>8</td>\n",
       "      <td>Gas (OCGT)</td>\n",
       "      <td>0.93</td>\n",
       "      <td>1.30</td>\n",
       "      <td>0.14</td>\n",
       "      <td>15.100</td>\n",
       "      <td>0.21</td>\n",
       "      <td>17.68</td>\n",
       "      <td>367.5</td>\n",
       "      <td>6.125000e+10</td>\n",
       "      <td>51.45</td>\n",
       "    </tr>\n",
       "    <tr>\n",
       "      <td>9</td>\n",
       "      <td>Gas (CCGT)</td>\n",
       "      <td>0.93</td>\n",
       "      <td>1.30</td>\n",
       "      <td>0.14</td>\n",
       "      <td>NaN</td>\n",
       "      <td>0.21</td>\n",
       "      <td>2.58</td>\n",
       "      <td>367.5</td>\n",
       "      <td>6.125000e+10</td>\n",
       "      <td>51.45</td>\n",
       "    </tr>\n",
       "    <tr>\n",
       "      <td>10</td>\n",
       "      <td>Coal</td>\n",
       "      <td>5.40</td>\n",
       "      <td>11.20</td>\n",
       "      <td>0.14</td>\n",
       "      <td>39.700</td>\n",
       "      <td>1.65</td>\n",
       "      <td>58.09</td>\n",
       "      <td>1000.0</td>\n",
       "      <td>1.314000e+11</td>\n",
       "      <td>140.00</td>\n",
       "    </tr>\n",
       "    <tr>\n",
       "      <td>11</td>\n",
       "      <td>Wind (Onshore)</td>\n",
       "      <td>4.70</td>\n",
       "      <td>3.20</td>\n",
       "      <td>0.30</td>\n",
       "      <td>NaN</td>\n",
       "      <td>0.72</td>\n",
       "      <td>8.92</td>\n",
       "      <td>2.0</td>\n",
       "      <td>8.760000e+07</td>\n",
       "      <td>0.60</td>\n",
       "    </tr>\n",
       "    <tr>\n",
       "      <td>12</td>\n",
       "      <td>Wind (Offshore)</td>\n",
       "      <td>15.60</td>\n",
       "      <td>8.00</td>\n",
       "      <td>0.20</td>\n",
       "      <td>NaN</td>\n",
       "      <td>2.99</td>\n",
       "      <td>26.79</td>\n",
       "      <td>5.0</td>\n",
       "      <td>2.737500e+08</td>\n",
       "      <td>1.00</td>\n",
       "    </tr>\n",
       "    <tr>\n",
       "      <td>13</td>\n",
       "      <td>Nuclear</td>\n",
       "      <td>1.30</td>\n",
       "      <td>11.80</td>\n",
       "      <td>0.60</td>\n",
       "      <td>0.001</td>\n",
       "      <td>0.95</td>\n",
       "      <td>13.70</td>\n",
       "      <td>984.0</td>\n",
       "      <td>4.758152e+11</td>\n",
       "      <td>590.40</td>\n",
       "    </tr>\n",
       "    <tr>\n",
       "      <td>14</td>\n",
       "      <td>Biomass</td>\n",
       "      <td>2.90</td>\n",
       "      <td>14.00</td>\n",
       "      <td>1.50</td>\n",
       "      <td>29.900</td>\n",
       "      <td>0.32</td>\n",
       "      <td>48.62</td>\n",
       "      <td>400.0</td>\n",
       "      <td>1.275456e+11</td>\n",
       "      <td>600.00</td>\n",
       "    </tr>\n",
       "    <tr>\n",
       "      <td>15</td>\n",
       "      <td>Biogas</td>\n",
       "      <td>2.90</td>\n",
       "      <td>14.00</td>\n",
       "      <td>2.25</td>\n",
       "      <td>29.900</td>\n",
       "      <td>0.32</td>\n",
       "      <td>49.37</td>\n",
       "      <td>400.0</td>\n",
       "      <td>1.275456e+11</td>\n",
       "      <td>900.00</td>\n",
       "    </tr>\n",
       "    <tr>\n",
       "      <td>16</td>\n",
       "      <td>BECCS</td>\n",
       "      <td>NaN</td>\n",
       "      <td>NaN</td>\n",
       "      <td>NaN</td>\n",
       "      <td>NaN</td>\n",
       "      <td>NaN</td>\n",
       "      <td>0.00</td>\n",
       "      <td>NaN</td>\n",
       "      <td>NaN</td>\n",
       "      <td>NaN</td>\n",
       "    </tr>\n",
       "    <tr>\n",
       "      <td>17</td>\n",
       "      <td>Hydrogen</td>\n",
       "      <td>1.86</td>\n",
       "      <td>2.60</td>\n",
       "      <td>0.28</td>\n",
       "      <td>NaN</td>\n",
       "      <td>0.21</td>\n",
       "      <td>4.95</td>\n",
       "      <td>NaN</td>\n",
       "      <td>NaN</td>\n",
       "      <td>NaN</td>\n",
       "    </tr>\n",
       "    <tr>\n",
       "      <td>18</td>\n",
       "      <td>Waste-to-energy</td>\n",
       "      <td>2.90</td>\n",
       "      <td>14.00</td>\n",
       "      <td>2.25</td>\n",
       "      <td>29.900</td>\n",
       "      <td>0.32</td>\n",
       "      <td>49.37</td>\n",
       "      <td>NaN</td>\n",
       "      <td>NaN</td>\n",
       "      <td>NaN</td>\n",
       "    </tr>\n",
       "    <tr>\n",
       "      <td>19</td>\n",
       "      <td>Storage Pumped Hydro</td>\n",
       "      <td>7.00</td>\n",
       "      <td>14.80</td>\n",
       "      <td>0.40</td>\n",
       "      <td>NaN</td>\n",
       "      <td>4.44</td>\n",
       "      <td>26.64</td>\n",
       "      <td>NaN</td>\n",
       "      <td>NaN</td>\n",
       "      <td>NaN</td>\n",
       "    </tr>\n",
       "    <tr>\n",
       "      <td>20</td>\n",
       "      <td>Storage Battery (large scale)</td>\n",
       "      <td>16.90</td>\n",
       "      <td>10.80</td>\n",
       "      <td>0.40</td>\n",
       "      <td>NaN</td>\n",
       "      <td>0.80</td>\n",
       "      <td>28.90</td>\n",
       "      <td>NaN</td>\n",
       "      <td>NaN</td>\n",
       "      <td>NaN</td>\n",
       "    </tr>\n",
       "    <tr>\n",
       "      <td>21</td>\n",
       "      <td>Storage Battery (prosumer)</td>\n",
       "      <td>16.90</td>\n",
       "      <td>21.60</td>\n",
       "      <td>0.80</td>\n",
       "      <td>NaN</td>\n",
       "      <td>1.21</td>\n",
       "      <td>40.51</td>\n",
       "      <td>NaN</td>\n",
       "      <td>NaN</td>\n",
       "      <td>NaN</td>\n",
       "    </tr>\n",
       "    <tr>\n",
       "      <td>22</td>\n",
       "      <td>Storage Gas</td>\n",
       "      <td>NaN</td>\n",
       "      <td>0.12</td>\n",
       "      <td>0.01</td>\n",
       "      <td>NaN</td>\n",
       "      <td>0.11</td>\n",
       "      <td>0.24</td>\n",
       "      <td>NaN</td>\n",
       "      <td>NaN</td>\n",
       "      <td>NaN</td>\n",
       "    </tr>\n",
       "  </tbody>\n",
       "</table>\n",
       "</div>"
      ],
      "text/plain": [
       "                             tech  Manufacturing  \\\n",
       "0                       Solar CSP           4.00   \n",
       "1              Solar PV (utility)           6.70   \n",
       "2              Solar PV (rooftop)           6.70   \n",
       "3                     Hydro (Dam)           3.50   \n",
       "4                     Hydro (RoR)           8.75   \n",
       "5                      Geothermal           3.90   \n",
       "6                         Gas CCS            NaN   \n",
       "7                             Oil            NaN   \n",
       "8                      Gas (OCGT)           0.93   \n",
       "9                      Gas (CCGT)           0.93   \n",
       "10                           Coal           5.40   \n",
       "11                 Wind (Onshore)           4.70   \n",
       "12                Wind (Offshore)          15.60   \n",
       "13                        Nuclear           1.30   \n",
       "14                        Biomass           2.90   \n",
       "15                         Biogas           2.90   \n",
       "16                          BECCS            NaN   \n",
       "17                       Hydrogen           1.86   \n",
       "18                Waste-to-energy           2.90   \n",
       "19           Storage Pumped Hydro           7.00   \n",
       "20  Storage Battery (large scale)          16.90   \n",
       "21     Storage Battery (prosumer)          16.90   \n",
       "22                    Storage Gas            NaN   \n",
       "\n",
       "    Construction and Installation  Operation and Maintenance    Fuel  \\\n",
       "0                            8.00                       0.60     NaN   \n",
       "1                           13.00                       0.70     NaN   \n",
       "2                           26.00                       1.40     NaN   \n",
       "3                            7.40                       0.20     NaN   \n",
       "4                           18.50                       0.50     NaN   \n",
       "5                            6.80                       0.40     NaN   \n",
       "6                             NaN                        NaN     NaN   \n",
       "7                             NaN                        NaN     NaN   \n",
       "8                            1.30                       0.14  15.100   \n",
       "9                            1.30                       0.14     NaN   \n",
       "10                          11.20                       0.14  39.700   \n",
       "11                           3.20                       0.30     NaN   \n",
       "12                           8.00                       0.20     NaN   \n",
       "13                          11.80                       0.60   0.001   \n",
       "14                          14.00                       1.50  29.900   \n",
       "15                          14.00                       2.25  29.900   \n",
       "16                            NaN                        NaN     NaN   \n",
       "17                           2.60                       0.28     NaN   \n",
       "18                          14.00                       2.25  29.900   \n",
       "19                          14.80                       0.40     NaN   \n",
       "20                          10.80                       0.40     NaN   \n",
       "21                          21.60                       0.80     NaN   \n",
       "22                           0.12                       0.01     NaN   \n",
       "\n",
       "    Decommissioning  Total  Capacity (MW)  kWh/lifetime  \\\n",
       "0              1.33  13.93           80.0  5.256000e+09   \n",
       "1              0.80  21.20            0.5  2.000000e+03   \n",
       "2              1.21  35.31            0.5  2.000000e+03   \n",
       "3              2.22  13.32          100.0  9.198000e+09   \n",
       "4              5.55  33.30          100.0  9.198000e+09   \n",
       "5              0.21  11.31          150.0  2.759400e+10   \n",
       "6               NaN   0.00          340.0  6.125000e+10   \n",
       "7               NaN   0.00         1000.0  1.971000e+11   \n",
       "8              0.21  17.68          367.5  6.125000e+10   \n",
       "9              0.21   2.58          367.5  6.125000e+10   \n",
       "10             1.65  58.09         1000.0  1.314000e+11   \n",
       "11             0.72   8.92            2.0  8.760000e+07   \n",
       "12             2.99  26.79            5.0  2.737500e+08   \n",
       "13             0.95  13.70          984.0  4.758152e+11   \n",
       "14             0.32  48.62          400.0  1.275456e+11   \n",
       "15             0.32  49.37          400.0  1.275456e+11   \n",
       "16              NaN   0.00            NaN           NaN   \n",
       "17             0.21   4.95            NaN           NaN   \n",
       "18             0.32  49.37            NaN           NaN   \n",
       "19             4.44  26.64            NaN           NaN   \n",
       "20             0.80  28.90            NaN           NaN   \n",
       "21             1.21  40.51            NaN           NaN   \n",
       "22             0.11   0.24            NaN           NaN   \n",
       "\n",
       "    Operation and Maintenance (jobs)  \n",
       "0                              48.00  \n",
       "1                               0.35  \n",
       "2                               0.70  \n",
       "3                              20.00  \n",
       "4                              50.00  \n",
       "5                              60.00  \n",
       "6                                NaN  \n",
       "7                                NaN  \n",
       "8                              51.45  \n",
       "9                              51.45  \n",
       "10                            140.00  \n",
       "11                              0.60  \n",
       "12                              1.00  \n",
       "13                            590.40  \n",
       "14                            600.00  \n",
       "15                            900.00  \n",
       "16                               NaN  \n",
       "17                               NaN  \n",
       "18                               NaN  \n",
       "19                               NaN  \n",
       "20                               NaN  \n",
       "21                               NaN  \n",
       "22                               NaN  "
      ]
     },
     "execution_count": 1137,
     "metadata": {},
     "output_type": "execute_result"
    }
   ],
   "source": [
    "jobs"
   ]
  },
  {
   "cell_type": "markdown",
   "metadata": {},
   "source": [
    "# Plots for single country values"
   ]
  },
  {
   "cell_type": "markdown",
   "metadata": {},
   "source": [
    "## Per kWh"
   ]
  },
  {
   "cell_type": "code",
   "execution_count": 616,
   "metadata": {
    "scrolled": true
   },
   "outputs": [],
   "source": [
    "#  per KWH\n",
    "colors = px.colors.qualitative.Alphabet\n",
    "\n",
    "figpath = \"C:/Users/KarlaC/Dropbox (Cambridge University)/CCG/Electricity and material demand model/Figs/\"\n",
    "\n",
    "labels = ['Embodied Material Emissions [gCO<sub>2</sub>/kWh]','Embodied Material Water Usage [L/kWh]',\n",
    "          'Material Costs [Euro‚cent/kWh]','Material Recycling Rate [g/kWh]']\n",
    "\n",
    "for ne, l in zip(['E', 'W', 'K', 'R'], labels):\n",
    "    fig = go.Figure()\n",
    "    \n",
    "    if ne == 'E' or ne == 'R':\n",
    "        data = globals()['{}_tech_sep'.format(ne)]\n",
    "        datae = pd.DataFrame(np.nan, index=np.arange(len(globals()['{}_tech_sep'.format(ne)])), \n",
    "                     columns=globals()['{}_tech_sep'.format(ne)].columns)\n",
    "        error = globals()['e_{}_tot'.format(ne)]\n",
    "        \n",
    "        datae.loc[datae.index,'Stainless Steel'] = error.values/2\n",
    "        datae.index = data.index\n",
    "    if ne == 'W':\n",
    "        data = globals()['{}_tech_sep'.format(ne)]/1000\n",
    "        datae = pd.DataFrame(np.nan, index=np.arange(len(globals()['{}_tech_sep'.format(ne)])), \n",
    "                     columns=globals()['{}_tech_sep'.format(ne)].columns)\n",
    "        error = globals()['e_{}_tot'.format(ne)]\n",
    "        datae.loc[datae.index,'Stainless Steel'] = error.values/2000\n",
    "        datae.index = data.index\n",
    "        \n",
    "    if ne == 'K':\n",
    "        data = globals()['{}_tech_sep'.format(ne)]*1000\n",
    "        datae = pd.DataFrame(np.nan, index=np.arange(len(globals()['{}_tech_sep'.format(ne)])), \n",
    "                     columns=globals()['{}_tech_sep'.format(ne)].columns)\n",
    "        error = globals()['e_{}_tot'.format(ne)]\n",
    "        datae.loc[datae.index,'Stainless Steel'] = error.values/0.002\n",
    "        datae.index = data.index\n",
    "                \n",
    "    for i, c in zip(data.columns, colors): \n",
    "#         print(i)\n",
    "        fig.add_trace(go.Bar(x = data[i], \n",
    "                             y = data.index,\n",
    "                             name = i, \n",
    "                             marker_color = c, orientation = 'h',\n",
    "                             error_x=dict(type='data', \n",
    "                                      array=datae[i])\n",
    "                            ))\n",
    "\n",
    "    fig.update_layout( xaxis_title =  l, \n",
    "                      template = 'simple_white+presentation', barmode='stack')\n",
    "\n",
    "    pio.write_image(fig, figpath+\"kWh_{}.pdf\".format(ne), width = 500, height = 450)\n",
    "    pio.write_image(fig, figpath+\"kWh_{}.eps\".format(ne), width = 500, height = 450)\n",
    "    plotly.offline.plot(fig, filename = figpath+\"kWh_{}.html\".format(ne), auto_open=False)\n",
    "#     fig.show()"
   ]
  },
  {
   "cell_type": "markdown",
   "metadata": {},
   "source": [
    "## For Country, all factors"
   ]
  },
  {
   "cell_type": "code",
   "execution_count": 559,
   "metadata": {},
   "outputs": [],
   "source": [
    "# for Country\n",
    "colors = px.colors.qualitative.Alphabet\n",
    "\n",
    "figpath = \"C:/Users/KarlaC/Dropbox (Cambridge University)/CCG/Electricity and material demand model/Figs/\"\n",
    "\n",
    "labels = ['Embodied Material Emissions [MtCO<sub>2</sub>]','Embodied Material Water Usage [L]',\n",
    "          'Material Costs [million Euro]','Material Recycling Rate [t]']\n",
    "\n",
    "for  ne, l in zip(['E', 'W', 'K', 'R'], labels):\n",
    "    fig = go.Figure()\n",
    "    \n",
    "    if ne == 'E':\n",
    "        data = globals()['{}_country_sep'.format(ne)]/1e12\n",
    "        datae = pd.DataFrame(np.nan, index=np.arange(len(globals()['{}_country_sep'.format(ne)])), \n",
    "                     columns=globals()['{}_country_sep'.format(ne)].columns)\n",
    "        error = globals()['e_{}c_tot'.format(ne)]\n",
    "        \n",
    "        datae.loc[datae.index,'Stainless Steel'] = error.values/1e12/2\n",
    "        datae.index = data.index\n",
    "    if ne == 'W':\n",
    "        data = globals()['{}_country_sep'.format(ne)]/1000\n",
    "        datae = pd.DataFrame(np.nan, index=np.arange(len(globals()['{}_country_sep'.format(ne)])), \n",
    "                     columns=globals()['{}_country_sep'.format(ne)].columns)\n",
    "        error = globals()['e_{}c_tot'.format(ne)]\n",
    "        datae.loc[datae.index,'Stainless Steel'] = error.values/1000/2\n",
    "        datae.index = data.index\n",
    "        \n",
    "    if ne == 'K'  or ne =='R':\n",
    "        data = globals()['{}_country_sep'.format(ne)]/1e6\n",
    "        datae = pd.DataFrame(np.nan, index=np.arange(len(globals()['{}_country_sep'.format(ne)])), \n",
    "                     columns=globals()['{}_country_sep'.format(ne)].columns)\n",
    "        error = globals()['e_{}c_tot'.format(ne)]\n",
    "        datae.loc[datae.index,'Stainless Steel'] = error.values/1e6/2\n",
    "        datae.index = data.index\n",
    "                \n",
    "    for i, c in zip(data.columns, colors): \n",
    "#         print(i)\n",
    "        fig.add_trace(go.Bar(x = data[i], \n",
    "                             y = data.index,\n",
    "                             name = i, \n",
    "                             marker_color = c, orientation = 'h',\n",
    "                             error_x=dict(type='data', \n",
    "                                      array=datae[i])\n",
    "                            ))\n",
    "\n",
    "    fig.update_layout( xaxis_title =  l, \n",
    "                      legend=dict(orientation=\"h\", yanchor=\"bottom\", \n",
    "#                                   traceorder=\"reversed\",\n",
    "                                   y=1.01,\n",
    "                                   xanchor=\"center\",\n",
    "                                   x=0.4),\n",
    "                                   template = 'simple_white+presentation', barmode='stack')\n",
    "\n",
    "    pio.write_image(fig, figpath+\"country_{}.pdf\".format(ne), width = 900, height = 550)\n",
    "    pio.write_image(fig, figpath+\"country_{}.eps\".format(ne), width = 900, height = 550)\n",
    "    plotly.offline.plot(fig, filename = figpath+\"country_{}.html\".format(ne), auto_open=False)\n",
    "#     fig.show()"
   ]
  },
  {
   "cell_type": "markdown",
   "metadata": {},
   "source": [
    "## Totals and percentages in country"
   ]
  },
  {
   "cell_type": "code",
   "execution_count": 615,
   "metadata": {
    "scrolled": true
   },
   "outputs": [],
   "source": [
    "#  Bar with totals and total percentages for Country\n",
    "colors = px.colors.qualitative.Alphabet\n",
    "\n",
    "figpath = \"C:/Users/KarlaC/Dropbox (Cambridge University)/CCG/Electricity and material demand model/Figs/\"\n",
    "\n",
    "labels = ['Total material mass accross all technologies for Uganda (%)',\n",
    "          'Total CO <sub>2</sub> emissions accross all technologies for Uganda (%)',\n",
    "          'Total material costs accross all technologies for Uganda [million Euro]']\n",
    "names = ['material_mass', 'total_emiss', 'total_mat']\n",
    "colu = ['pct','pct','value']\n",
    "\n",
    "# emissions per energy technology [gCO2/kWh]\n",
    "mat_country = C.T.values*M[0:len(C.T)]\n",
    "\n",
    "for l, n, co in zip( labels, names, colu):\n",
    "    fig = go.Figure()\n",
    "    if n == 'material_mass':\n",
    "        totaal = mat_country.sum().reset_index()\n",
    "        totaal = totaal.rename(columns = {'index':'Material', 0:'value'})\n",
    "       \n",
    "    if n == 'total_emiss':\n",
    "        totaal = E_country_sep.sum().reset_index()   \n",
    "        totaal = totaal.rename(columns = {'index':'Material', 0:'value'})\n",
    "        \n",
    "    if ne == 'total_mat':\n",
    "        totaal = K_country_sep.sum().reset_index()\n",
    "        totaal = totaal/1e6.rename(columns = {'index':'Material', 0:'value'})\n",
    "        \n",
    "    ts = totaal['value'].sum().round(2)\n",
    "    totaal.loc[totaal.index,'pct'] = totaal.loc[totaal.index,'value']/ts*100\n",
    "    tsdf = totaal[['Material','value']]\n",
    "    tsdf.loc[totaal.index,'value']=np.nan\n",
    "    tsdf.loc[totaal['Material']=='Stainless Steel','value']=ts\n",
    "    \n",
    "    for i, c in zip(totaal.Material.unique(), colors): \n",
    "#         print(i)\n",
    "        fig.add_trace(go.Bar(x = totaal[totaal['Material']==i][co], \n",
    "                             y = ['Total'],\n",
    "                             width=0.5,\n",
    "                             name = i ,\n",
    "                             marker_color = c, \n",
    "                             orientation = 'h',\n",
    "                             text = tsdf[totaal['Material']==i], textposition='auto'\n",
    "                                 ))\n",
    "\n",
    "    fig.update_layout( xaxis_title =  l, \n",
    "                      legend=dict(orientation=\"h\", yanchor=\"bottom\",\n",
    "#                                   traceorder=\"reversed\",\n",
    "                                    y=1.02,\n",
    "                                    xanchor=\"right\",\n",
    "                                    x=1),\n",
    "                                    template = 'simple_white+presentation', barmode='stack')\n",
    "\n",
    "\n",
    "#     fig.update_xaxes(range=[0,110])\n",
    "\n",
    "    pio.write_image(fig, figpath+\"country_{}.pdf\".format(n), width = 800, height = 500)\n",
    "    pio.write_image(fig, figpath+\"country_{}.eps\".format(n), width = 800, height = 500)\n",
    "    plotly.offline.plot(fig, filename = figpath+\"country_{}.html\".format(n), auto_open=False)\n",
    "#     fig.show()\n"
   ]
  },
  {
   "cell_type": "markdown",
   "metadata": {},
   "source": [
    "# Plots comparing countries/scenarios"
   ]
  },
  {
   "cell_type": "markdown",
   "metadata": {},
   "source": [
    "## Per kWh"
   ]
  },
  {
   "cell_type": "code",
   "execution_count": null,
   "metadata": {},
   "outputs": [],
   "source": [
    "#  per KWH\n",
    "colors = px.colors.qualitative.Alphabet\n",
    "\n",
    "figpath = \"C:/Users/KarlaC/Dropbox (Cambridge University)/CCG/Electricity and material demand model/Figs/\"\n",
    "\n",
    "labels = ['Embodied Material Emissions [gCO_2/kWh]','Embodied Material Water Usage [L/kWh]',\n",
    "          'Material Costs [Euro‚cent/kWh]','Material Recycling Rate [g/kWh]']\n",
    "\n",
    "for ne, l in zip(['E', 'W', 'K', 'R'], labels):\n",
    "    fig = go.Figure()\n",
    "    \n",
    "    if ne == 'E' or ne == 'R':\n",
    "        data = globals()['{}_tech_sep'.format(ne)]\n",
    "        datae = pd.DataFrame(np.nan, index=np.arange(len(globals()['{}_tech_sep'.format(ne)])), \n",
    "                     columns=globals()['{}_tech_sep'.format(ne)].columns)\n",
    "        error = globals()['e_{}_tot'.format(ne)]\n",
    "        \n",
    "        datae.loc[datae.index,'Stainless Steel'] = error.values/2\n",
    "        datae.index = data.index\n",
    "    if ne == 'W':\n",
    "        data = globals()['{}_tech_sep'.format(ne)]/1000\n",
    "        datae = pd.DataFrame(np.nan, index=np.arange(len(globals()['{}_tech_sep'.format(ne)])), \n",
    "                     columns=globals()['{}_tech_sep'.format(ne)].columns)\n",
    "        error = globals()['e_{}_tot'.format(ne)]\n",
    "        datae.loc[datae.index,'Stainless Steel'] = error.values/2000\n",
    "        datae.index = data.index\n",
    "        \n",
    "    if ne == 'K':\n",
    "        data = globals()['{}_tech_sep'.format(ne)]*1000\n",
    "        datae = pd.DataFrame(np.nan, index=np.arange(len(globals()['{}_tech_sep'.format(ne)])), \n",
    "                     columns=globals()['{}_tech_sep'.format(ne)].columns)\n",
    "        error = globals()['e_{}_tot'.format(ne)]\n",
    "        datae.loc[datae.index,'Stainless Steel'] = error.values/0.002\n",
    "        datae.index = data.index\n",
    "                \n",
    "    for i, c in zip(data.columns, colors): \n",
    "#         print(i)\n",
    "        fig.add_trace(go.Bar(x = data[i], \n",
    "                             y = data.index,\n",
    "                             name = i, \n",
    "                             marker_color = c, orientation = 'h',\n",
    "                             error_x=dict(type='data', \n",
    "                                      array=datae[i])\n",
    "                            ))\n",
    "\n",
    "    fig.update_layout( xaxis_title =  l, \n",
    "                      template = 'simple_white+presentation', barmode='stack')\n",
    "\n",
    "    pio.write_image(fig, figpath+\"kWh_{}.pdf\".format(ne), width = 500, height = 450)\n",
    "    pio.write_image(fig, figpath+\"kWh_{}.eps\".format(ne), width = 500, height = 450)\n",
    "    plotly.offline.plot(fig, filename = figpath+\"kWh_{}.html\".format(ne), auto_open=False)\n",
    "#     fig.show()"
   ]
  },
  {
   "cell_type": "markdown",
   "metadata": {},
   "source": [
    "## For Country, all factors"
   ]
  },
  {
   "cell_type": "code",
   "execution_count": 1061,
   "metadata": {},
   "outputs": [
    {
     "data": {
      "text/html": [
       "<div>\n",
       "<style scoped>\n",
       "    .dataframe tbody tr th:only-of-type {\n",
       "        vertical-align: middle;\n",
       "    }\n",
       "\n",
       "    .dataframe tbody tr th {\n",
       "        vertical-align: top;\n",
       "    }\n",
       "\n",
       "    .dataframe thead th {\n",
       "        text-align: right;\n",
       "    }\n",
       "</style>\n",
       "<table border=\"1\" class=\"dataframe\">\n",
       "  <thead>\n",
       "    <tr style=\"text-align: right;\">\n",
       "      <th></th>\n",
       "      <th>Country</th>\n",
       "      <th>Year</th>\n",
       "      <th>Scenario</th>\n",
       "      <th>Wind (Onshore)</th>\n",
       "      <th>Solar CSP</th>\n",
       "      <th>Solar PV</th>\n",
       "      <th>Hydro</th>\n",
       "      <th>Geothermal</th>\n",
       "      <th>Gas CCS</th>\n",
       "      <th>Oil</th>\n",
       "      <th>Gas</th>\n",
       "      <th>Coal</th>\n",
       "      <th>Wind (Offshore)</th>\n",
       "      <th>Biomass</th>\n",
       "      <th>Nuclear</th>\n",
       "      <th>BECCS</th>\n",
       "      <th>Hydrogen</th>\n",
       "    </tr>\n",
       "  </thead>\n",
       "  <tbody>\n",
       "    <tr>\n",
       "      <td>0</td>\n",
       "      <td>Uganda</td>\n",
       "      <td>2010</td>\n",
       "      <td>Baseline</td>\n",
       "      <td>1.437413e+08</td>\n",
       "      <td>0.0</td>\n",
       "      <td>0.000000e+00</td>\n",
       "      <td>2.123683e+09</td>\n",
       "      <td>2.761024e+08</td>\n",
       "      <td>0.0</td>\n",
       "      <td>2.831412e+07</td>\n",
       "      <td>3.313273e+08</td>\n",
       "      <td>0.0</td>\n",
       "      <td>0.000000e+00</td>\n",
       "      <td>0.000000e+00</td>\n",
       "      <td>0.000000e+00</td>\n",
       "      <td>0.0</td>\n",
       "      <td>0.0</td>\n",
       "    </tr>\n",
       "    <tr>\n",
       "      <td>0</td>\n",
       "      <td>Uganda</td>\n",
       "      <td>2040</td>\n",
       "      <td>Scenario 1</td>\n",
       "      <td>1.527308e+09</td>\n",
       "      <td>0.0</td>\n",
       "      <td>1.299859e+11</td>\n",
       "      <td>7.624525e+10</td>\n",
       "      <td>3.782600e+10</td>\n",
       "      <td>0.0</td>\n",
       "      <td>1.763147e+08</td>\n",
       "      <td>1.204823e+11</td>\n",
       "      <td>0.0</td>\n",
       "      <td>0.000000e+00</td>\n",
       "      <td>0.000000e+00</td>\n",
       "      <td>0.000000e+00</td>\n",
       "      <td>0.0</td>\n",
       "      <td>0.0</td>\n",
       "    </tr>\n",
       "    <tr>\n",
       "      <td>0</td>\n",
       "      <td>UK</td>\n",
       "      <td>2020</td>\n",
       "      <td>Baseline</td>\n",
       "      <td>5.533228e+11</td>\n",
       "      <td>0.0</td>\n",
       "      <td>7.776718e+11</td>\n",
       "      <td>0.000000e+00</td>\n",
       "      <td>0.000000e+00</td>\n",
       "      <td>0.0</td>\n",
       "      <td>0.000000e+00</td>\n",
       "      <td>1.742551e+12</td>\n",
       "      <td>0.0</td>\n",
       "      <td>7.602448e+11</td>\n",
       "      <td>7.671907e+10</td>\n",
       "      <td>2.777910e+10</td>\n",
       "      <td>0.0</td>\n",
       "      <td>0.0</td>\n",
       "    </tr>\n",
       "    <tr>\n",
       "      <td>0</td>\n",
       "      <td>UK</td>\n",
       "      <td>2050</td>\n",
       "      <td>Consumer Transformation</td>\n",
       "      <td>2.261000e+12</td>\n",
       "      <td>0.0</td>\n",
       "      <td>5.093266e+12</td>\n",
       "      <td>0.000000e+00</td>\n",
       "      <td>0.000000e+00</td>\n",
       "      <td>0.0</td>\n",
       "      <td>0.000000e+00</td>\n",
       "      <td>0.000000e+00</td>\n",
       "      <td>0.0</td>\n",
       "      <td>8.457837e+12</td>\n",
       "      <td>6.836884e+09</td>\n",
       "      <td>5.601098e+10</td>\n",
       "      <td>0.0</td>\n",
       "      <td>0.0</td>\n",
       "    </tr>\n",
       "    <tr>\n",
       "      <td>0</td>\n",
       "      <td>UK</td>\n",
       "      <td>2050</td>\n",
       "      <td>System Transformation</td>\n",
       "      <td>1.102981e+12</td>\n",
       "      <td>0.0</td>\n",
       "      <td>3.825273e+12</td>\n",
       "      <td>0.000000e+00</td>\n",
       "      <td>0.000000e+00</td>\n",
       "      <td>0.0</td>\n",
       "      <td>0.000000e+00</td>\n",
       "      <td>1.583587e+09</td>\n",
       "      <td>0.0</td>\n",
       "      <td>9.663987e+12</td>\n",
       "      <td>5.777277e+09</td>\n",
       "      <td>5.555380e+10</td>\n",
       "      <td>0.0</td>\n",
       "      <td>0.0</td>\n",
       "    </tr>\n",
       "    <tr>\n",
       "      <td>0</td>\n",
       "      <td>UK</td>\n",
       "      <td>2050</td>\n",
       "      <td>Leading the Way</td>\n",
       "      <td>2.656646e+12</td>\n",
       "      <td>0.0</td>\n",
       "      <td>6.350371e+12</td>\n",
       "      <td>0.000000e+00</td>\n",
       "      <td>0.000000e+00</td>\n",
       "      <td>0.0</td>\n",
       "      <td>0.000000e+00</td>\n",
       "      <td>2.985907e+08</td>\n",
       "      <td>0.0</td>\n",
       "      <td>1.107953e+13</td>\n",
       "      <td>9.243616e+09</td>\n",
       "      <td>2.437289e+10</td>\n",
       "      <td>0.0</td>\n",
       "      <td>0.0</td>\n",
       "    </tr>\n",
       "    <tr>\n",
       "      <td>0</td>\n",
       "      <td>UK</td>\n",
       "      <td>2050</td>\n",
       "      <td>Steady Progression</td>\n",
       "      <td>1.744892e+12</td>\n",
       "      <td>0.0</td>\n",
       "      <td>2.968153e+12</td>\n",
       "      <td>0.000000e+00</td>\n",
       "      <td>0.000000e+00</td>\n",
       "      <td>0.0</td>\n",
       "      <td>0.000000e+00</td>\n",
       "      <td>1.618518e+12</td>\n",
       "      <td>0.0</td>\n",
       "      <td>9.492444e+12</td>\n",
       "      <td>4.189731e+10</td>\n",
       "      <td>4.830173e+10</td>\n",
       "      <td>0.0</td>\n",
       "      <td>0.0</td>\n",
       "    </tr>\n",
       "    <tr>\n",
       "      <td>0</td>\n",
       "      <td>Kenya</td>\n",
       "      <td>0</td>\n",
       "      <td>Baseline</td>\n",
       "      <td>0.000000e+00</td>\n",
       "      <td>0.0</td>\n",
       "      <td>0.000000e+00</td>\n",
       "      <td>0.000000e+00</td>\n",
       "      <td>0.000000e+00</td>\n",
       "      <td>0.0</td>\n",
       "      <td>0.000000e+00</td>\n",
       "      <td>0.000000e+00</td>\n",
       "      <td>0.0</td>\n",
       "      <td>0.000000e+00</td>\n",
       "      <td>0.000000e+00</td>\n",
       "      <td>0.000000e+00</td>\n",
       "      <td>0.0</td>\n",
       "      <td>0.0</td>\n",
       "    </tr>\n",
       "  </tbody>\n",
       "</table>\n",
       "</div>"
      ],
      "text/plain": [
       "  Country  Year                 Scenario  Wind (Onshore)  Solar CSP  \\\n",
       "0  Uganda  2010                 Baseline    1.437413e+08        0.0   \n",
       "0  Uganda  2040               Scenario 1    1.527308e+09        0.0   \n",
       "0      UK  2020                 Baseline    5.533228e+11        0.0   \n",
       "0      UK  2050  Consumer Transformation    2.261000e+12        0.0   \n",
       "0      UK  2050    System Transformation    1.102981e+12        0.0   \n",
       "0      UK  2050          Leading the Way    2.656646e+12        0.0   \n",
       "0      UK  2050       Steady Progression    1.744892e+12        0.0   \n",
       "0   Kenya     0                 Baseline    0.000000e+00        0.0   \n",
       "\n",
       "       Solar PV         Hydro    Geothermal  Gas CCS           Oil  \\\n",
       "0  0.000000e+00  2.123683e+09  2.761024e+08      0.0  2.831412e+07   \n",
       "0  1.299859e+11  7.624525e+10  3.782600e+10      0.0  1.763147e+08   \n",
       "0  7.776718e+11  0.000000e+00  0.000000e+00      0.0  0.000000e+00   \n",
       "0  5.093266e+12  0.000000e+00  0.000000e+00      0.0  0.000000e+00   \n",
       "0  3.825273e+12  0.000000e+00  0.000000e+00      0.0  0.000000e+00   \n",
       "0  6.350371e+12  0.000000e+00  0.000000e+00      0.0  0.000000e+00   \n",
       "0  2.968153e+12  0.000000e+00  0.000000e+00      0.0  0.000000e+00   \n",
       "0  0.000000e+00  0.000000e+00  0.000000e+00      0.0  0.000000e+00   \n",
       "\n",
       "            Gas  Coal  Wind (Offshore)       Biomass       Nuclear  BECCS  \\\n",
       "0  3.313273e+08   0.0     0.000000e+00  0.000000e+00  0.000000e+00    0.0   \n",
       "0  1.204823e+11   0.0     0.000000e+00  0.000000e+00  0.000000e+00    0.0   \n",
       "0  1.742551e+12   0.0     7.602448e+11  7.671907e+10  2.777910e+10    0.0   \n",
       "0  0.000000e+00   0.0     8.457837e+12  6.836884e+09  5.601098e+10    0.0   \n",
       "0  1.583587e+09   0.0     9.663987e+12  5.777277e+09  5.555380e+10    0.0   \n",
       "0  2.985907e+08   0.0     1.107953e+13  9.243616e+09  2.437289e+10    0.0   \n",
       "0  1.618518e+12   0.0     9.492444e+12  4.189731e+10  4.830173e+10    0.0   \n",
       "0  0.000000e+00   0.0     0.000000e+00  0.000000e+00  0.000000e+00    0.0   \n",
       "\n",
       "   Hydrogen  \n",
       "0       0.0  \n",
       "0       0.0  \n",
       "0       0.0  \n",
       "0       0.0  \n",
       "0       0.0  \n",
       "0       0.0  \n",
       "0       0.0  \n",
       "0       0.0  "
      ]
     },
     "execution_count": 1061,
     "metadata": {},
     "output_type": "execute_result"
    }
   ],
   "source": [
    "e_dfEc_tot"
   ]
  },
  {
   "cell_type": "code",
   "execution_count": 1072,
   "metadata": {
    "scrolled": true
   },
   "outputs": [
    {
     "name": "stdout",
     "output_type": "stream",
     "text": [
      "Uganda\n",
      "Baseline 1\n",
      "Scenario 1 2\n",
      "UK\n",
      "Baseline 1\n",
      "Consumer Transformation 2\n",
      "System Transformation 3\n",
      "Leading the Way 4\n",
      "Steady Progression 5\n",
      "Kenya\n",
      "Baseline 1\n",
      "Uganda\n",
      "Baseline 1\n",
      "Scenario 1 2\n",
      "UK\n",
      "Baseline 1\n",
      "Consumer Transformation 2\n",
      "System Transformation 3\n",
      "Leading the Way 4\n",
      "Steady Progression 5\n",
      "Kenya\n",
      "Baseline 1\n",
      "Uganda\n",
      "Baseline 1\n",
      "Scenario 1 2\n",
      "UK\n",
      "Baseline 1\n",
      "Consumer Transformation 2\n",
      "System Transformation 3\n",
      "Leading the Way 4\n",
      "Steady Progression 5\n",
      "Kenya\n",
      "Baseline 1\n",
      "Uganda\n",
      "Baseline 1\n",
      "Scenario 1 2\n",
      "UK\n",
      "Baseline 1\n",
      "Consumer Transformation 2\n",
      "System Transformation 3\n",
      "Leading the Way 4\n",
      "Steady Progression 5\n",
      "Kenya\n",
      "Baseline 1\n"
     ]
    }
   ],
   "source": [
    "# for Country\n",
    "# make subplots for all scenario/year combos for each country\n",
    "# MISSING: ADD ERROR DATA\n",
    "# for ef, ne in zip([cE, cW, cR, cK],['E', 'W', 'R', 'K'] ):\n",
    "    \n",
    "colors = px.colors.qualitative.Alphabet\n",
    "\n",
    "figpath = \"C:/Users/KarlaC/Dropbox (Cambridge University)/CCG/Electricity and material demand model/Figs/Countries/\"\n",
    "\n",
    "labels = ['Embodied Material Emissions [MtCO<sub>2</sub>]','Embodied Material Water Usage [L]',\n",
    "          'Material Costs [million Euro]','Material Recycling Rate [t]']\n",
    "atechs = ['Wind (Onshore)', 'Solar CSP', 'Solar PV', 'Hydro', 'Geothermal',\n",
    "       'Gas CCS', 'Oil', 'Gas', 'Coal', 'Wind (Offshore)', 'Biomass',\n",
    "       'Nuclear', 'BECCS', 'Hydrogen']\n",
    "mats = list(cM.columns)\n",
    "# e_dfK_countries_sep\n",
    "# e_dfEc_tot\n",
    "\n",
    "# make list w names for plot titles\n",
    "for c in dfC['Country'].unique():\n",
    "    globals()['l_{}'.format(c)] = []\n",
    "    for sc, y in zip(dfC[dfC['Country']==c]['Scenario'],dfC[dfC['Country']==c]['Year']):\n",
    "        globals()['l_{}'.format(c)].append('{0} {1}'.format(y,sc))\n",
    "\n",
    "                \n",
    "for  ne, l in zip(['E', 'W', 'K', 'R'], labels):\n",
    "    #     'df{ne}_{country}_{scenario}_{year}_sep'\n",
    "    for c in dfC['Country'].unique():\n",
    "        fig = make_subplots(rows=len(dfC[dfC['Country']==c]['Scenario'].unique()), cols=1,\n",
    "                           subplot_titles=globals()['l_{}'.format(c)],\n",
    "                            x_title =  l, shared_xaxes = True\n",
    "                           )\n",
    "        print(c)\n",
    "        h = len(globals()['l_{}'.format(c)])*310\n",
    "        slegend = [True, False, False, False, False]\n",
    "        for sc, ns,sl in zip(dfC[dfC['Country']==c]['Scenario'].unique(),range(1,len(dfC[dfC['Country']==c]['Scenario'].unique())+1),slegend):\n",
    "            print(sc,ns)\n",
    "            for y in dfC[(dfC['Country']==c)&(dfC['Scenario']==sc)]['Year'].unique():\n",
    "#                 range(1,len(dfC[dfC['Country']==c]['Scenario'].unique())+1)\n",
    "#                 globals()['df{0}_{1}_{2}_{3}_sep'.format(ne,c,sc[0:3],str(y))] \n",
    "\n",
    "                    if ne == 'E':\n",
    "                        data = globals()['df{0}_{1}_{2}_{3}_sep'.format(ne,c,sc[0:3],str(y))] /1e12\n",
    "                        datae = pd.DataFrame(np.nan, \n",
    "                                             index=np.arange(len(globals()['df{0}_{1}_{2}_{3}_sep'.format(ne,c,sc[0:3],\n",
    "                                                                                                          str(y))])), \n",
    "                                     columns=globals()['df{0}_{1}_{2}_{3}_sep'.format(ne,c,sc[0:3],str(y))].columns)\n",
    "                #         ERROR\n",
    "                        error = globals()['e_df{}c_tot'.format(ne)]\n",
    "                        error = error[(error['Country']==c)&(error['Scenario']==sc)&(error['Year']==y)][atechs]\n",
    "                        datae.loc[datae.index,'Stainless Steel'] = error.values/1e12/2\n",
    "                        datae.index = data.index\n",
    "                    if ne == 'W':\n",
    "                        data = globals()['df{0}_{1}_{2}_{3}_sep'.format(ne,c,sc[0:3],str(y))] /1000\n",
    "                        datae = pd.DataFrame(np.nan, \n",
    "                                             index=np.arange(len(globals()['df{0}_{1}_{2}_{3}_sep'.format(ne,c,\n",
    "                                                                                                          sc[0:3],str(y))])), \n",
    "                                     columns=globals()['df{0}_{1}_{2}_{3}_sep'.format(ne,c,sc[0:3],str(y))].columns)\n",
    "#                         ERROR\n",
    "                        error = globals()['e_df{}c_tot'.format(ne)]\n",
    "                        error = error[(error['Country']==c)&(error['Scenario']==sc)&(error['Year']==y)][atechs]\n",
    "                        datae.loc[datae.index,'Stainless Steel'] = error.values/1000/2\n",
    "                        datae.index = data.index\n",
    "\n",
    "                    if ne == 'K'  or ne =='R':\n",
    "                        data = globals()['df{0}_{1}_{2}_{3}_sep'.format(ne,c,sc[0:3],str(y))] /1e6\n",
    "                        datae = pd.DataFrame(np.nan, \n",
    "                                             index=np.arange(len(globals()['df{0}_{1}_{2}_{3}_sep'.format(ne,c,\n",
    "                                                                                                          sc[0:3],str(y))])), \n",
    "                                     columns=globals()['df{0}_{1}_{2}_{3}_sep'.format(ne,c,sc[0:3],str(y))].columns)\n",
    "                #         ERROR\n",
    "                        error = globals()['e_df{}c_tot'.format(ne)]\n",
    "                        error = error[(error['Country']==c)&(error['Scenario']==sc)&(error['Year']==y)][atechs]\n",
    "                        datae.loc[datae.index,'Stainless Steel'] = error.values/1e6/2\n",
    "                        datae.index = data.index\n",
    "\n",
    "                    for i, cl in zip(data.columns, colors): \n",
    "                #         print(i)\n",
    "                        d = data.T.sum().reset_index()\n",
    "                        techs = d[d[0]>0]['tech']\n",
    "                        \n",
    "                        fig.add_trace(go.Bar(x = data.loc[techs][i], \n",
    "                                             y = data.loc[techs].index,\n",
    "                                             name = i, \n",
    "                                             marker_color = cl, orientation = 'h',\n",
    "                                             showlegend = sl,\n",
    "                                             error_x=dict(type='data', \n",
    "                                                      array=datae.loc[techs][i])\n",
    "                                            ),\n",
    "                                     row = ns, col = 1)\n",
    "\n",
    "                    fig.update_layout( \n",
    "#                         xaxis_title =  l, \n",
    "#                                       legend=dict(\n",
    "#                                                   orientation=\"h\", \n",
    "#                                                   yanchor=\"bottom\", \n",
    "#                 #                                   traceorder=\"reversed\",\n",
    "#                                                    y=1.01,\n",
    "#                                                    xanchor=\"center\",\n",
    "#                                                    x=0.4),\n",
    "                                      template = 'simple_white+presentation', barmode='stack')\n",
    "                    fig.update_layout(legend = dict(font = dict(size = 15)))\n",
    "                    \n",
    "\n",
    "        pio.write_image(fig, figpath+\"{0}_{1}.pdf\".format(c,ne), width = 900, height = h)\n",
    "        pio.write_image(fig, figpath+\"{0}_{1}.eps\".format(c,ne), width = 900, height = h)\n",
    "        plotly.offline.plot(fig, filename = figpath+\"{0}_{1}.html\".format(c,ne), auto_open=False)\n",
    "#         fig.show()"
   ]
  },
  {
   "cell_type": "markdown",
   "metadata": {},
   "source": [
    "## Totals and percentages in country"
   ]
  },
  {
   "cell_type": "code",
   "execution_count": null,
   "metadata": {},
   "outputs": [],
   "source": [
    "#  Bar with totals and total percentages for Country\n",
    "colors = px.colors.qualitative.Alphabet\n",
    "\n",
    "figpath = \"C:/Users/KarlaC/Dropbox (Cambridge University)/CCG/Electricity and material demand model/Figs/\"\n",
    "\n",
    "labels = ['Total material mass accross all technologies for Uganda (%)',\n",
    "          'Total CO <sub>2</sub> emissions accross all technologies for Uganda (%)',\n",
    "          'Total material costs accross all technologies for Uganda [million Euro]']\n",
    "names = ['material_mass', 'total_emiss', 'total_mat']\n",
    "colu = ['pct','pct','value']\n",
    "\n",
    "# emissions per energy technology [gCO2/kWh]\n",
    "mat_country = C.T.values*M[0:len(C.T)]\n",
    "\n",
    "for l, n, co in zip( labels, names, colu):\n",
    "    fig = go.Figure()\n",
    "    if n == 'material_mass':\n",
    "        totaal = mat_country.sum().reset_index()\n",
    "        totaal = totaal.rename(columns = {'index':'Material', 0:'value'})\n",
    "       \n",
    "    if n == 'total_emiss':\n",
    "        totaal = E_country_sep.sum().reset_index()   \n",
    "        totaal = totaal.rename(columns = {'index':'Material', 0:'value'})\n",
    "        \n",
    "    if ne == 'total_mat':\n",
    "        totaal = K_country_sep.sum().reset_index()\n",
    "        totaal = totaal/1e6.rename(columns = {'index':'Material', 0:'value'})\n",
    "        \n",
    "    ts = totaal['value'].sum().round(2)\n",
    "    totaal.loc[totaal.index,'pct'] = totaal.loc[totaal.index,'value']/ts*100\n",
    "    tsdf = totaal[['Material','value']]\n",
    "    tsdf.loc[totaal.index,'value']=np.nan\n",
    "    tsdf.loc[totaal['Material']=='Stainless Steel','value']=ts\n",
    "    \n",
    "    for i, c in zip(totaal.Material.unique(), colors): \n",
    "#         print(i)\n",
    "        fig.add_trace(go.Bar(x = totaal[totaal['Material']==i][co], \n",
    "                             y = ['Total'],\n",
    "                             width=0.5,\n",
    "                             name = i ,\n",
    "                             marker_color = c, \n",
    "                             orientation = 'h',\n",
    "                             text = tsdf[totaal['Material']==i], textposition='auto'\n",
    "                                 ))\n",
    "\n",
    "    fig.update_layout( xaxis_title =  l, \n",
    "                      legend=dict(orientation=\"h\", yanchor=\"bottom\",\n",
    "#                                   traceorder=\"reversed\",\n",
    "                                    y=1.02,\n",
    "                                    xanchor=\"right\",\n",
    "                                    x=1),\n",
    "                                    template = 'simple_white+presentation', barmode='stack')\n",
    "\n",
    "\n",
    "#     fig.update_xaxes(range=[0,110])\n",
    "\n",
    "    pio.write_image(fig, figpath+\"country_{}.pdf\".format(n), width = 800, height = 500)\n",
    "    pio.write_image(fig, figpath+\"country_{}.eps\".format(n), width = 800, height = 500)\n",
    "    plotly.offline.plot(fig, filename = figpath+\"country_{}.html\".format(n), auto_open=False)\n",
    "#     fig.show()"
   ]
  },
  {
   "cell_type": "code",
   "execution_count": null,
   "metadata": {},
   "outputs": [],
   "source": []
  },
  {
   "cell_type": "code",
   "execution_count": null,
   "metadata": {},
   "outputs": [],
   "source": []
  },
  {
   "cell_type": "markdown",
   "metadata": {},
   "source": [
    "# Plots for general values"
   ]
  },
  {
   "cell_type": "markdown",
   "metadata": {},
   "source": [
    "## Embodied vs use-phase"
   ]
  },
  {
   "cell_type": "code",
   "execution_count": 1103,
   "metadata": {},
   "outputs": [
    {
     "data": {
      "application/vnd.plotly.v1+json": {
       "config": {
        "plotlyServerURL": "https://plot.ly"
       },
       "data": [
        {
         "error_x": {
          "array": [
           [
            28.689724254125867
           ],
           [
            12.480948783633497
           ],
           [
            4.360048043243782
           ],
           [
            6.4094052914818995
           ],
           [
            38
           ],
           [
            160
           ],
           [
            85
           ],
           [
            187
           ],
           [
            3.2079259584091258
           ],
           [
            1.6574956007985886
           ],
           [
            0.7023769168568492
           ],
           [
            30
           ]
          ],
          "type": "data"
         },
         "marker": {
          "color": "rgb(229, 134, 6)"
         },
         "name": "Use-Phase",
         "orientation": "h",
         "type": "bar",
         "x": [
          8.575,
          19.523076923076925,
          20.675,
          23.400000000000002,
          28.7,
          53.68333333333334,
          70.84666666666666,
          88,
          190,
          492,
          732,
          1024
         ],
         "y": [
          "Wind (Offshore)",
          "Wind (Onshore)",
          "Hydro",
          "Nuclear",
          "Geothermal",
          "Solar CSP",
          "Solar PV",
          "Biomass",
          "Gas CCS",
          "Gas",
          "Oil",
          "Coal"
         ]
        },
        {
         "error_x": {
          "array": [
           null,
           null,
           null,
           null,
           null,
           null,
           null,
           null,
           null,
           null,
           null,
           null,
           null,
           null,
           5.073818842014789,
           14.30949470375844,
           24.02222791776321,
           1.3881914968667277,
           2.4364840189429082,
           1.083806481546417,
           0.03123248620087333,
           1.299475748033848,
           0.3307778298049546,
           5.15923688536582
          ],
          "type": "data"
         },
         "marker": {
          "color": "rgb(93, 105, 177)"
         },
         "name": "Embodied (materials)",
         "orientation": "h",
         "type": "bar",
         "x": [
          11.687298091976517,
          36.15317846270924,
          43.4517592,
          10.576158290833334,
          17.48815209,
          5.026645850204082,
          0.18254705733130389,
          10.916057604132654,
          1.3533414611872145,
          15.55141549789717
         ],
         "y": [
          "Wind (Onshore)",
          "Solar CSP",
          "Solar PV",
          "Hydro",
          "Geothermal",
          "Gas CCS",
          "Oil",
          "Gas",
          "Coal",
          "Wind (Offshore)"
         ]
        }
       ],
       "layout": {
        "barmode": "stack",
        "legend": {
         "orientation": "h",
         "y": -0.2
        },
        "template": {
         "data": {
          "bar": [
           {
            "error_x": {
             "color": "rgb(36,36,36)"
            },
            "error_y": {
             "color": "rgb(36,36,36)"
            },
            "marker": {
             "line": {
              "color": "white",
              "width": 0.5
             }
            },
            "type": "bar"
           }
          ],
          "barpolar": [
           {
            "marker": {
             "line": {
              "color": "white",
              "width": 0.5
             }
            },
            "type": "barpolar"
           }
          ],
          "carpet": [
           {
            "aaxis": {
             "endlinecolor": "rgb(36,36,36)",
             "gridcolor": "white",
             "linecolor": "white",
             "minorgridcolor": "white",
             "startlinecolor": "rgb(36,36,36)"
            },
            "baxis": {
             "endlinecolor": "rgb(36,36,36)",
             "gridcolor": "white",
             "linecolor": "white",
             "minorgridcolor": "white",
             "startlinecolor": "rgb(36,36,36)"
            },
            "type": "carpet"
           }
          ],
          "choropleth": [
           {
            "colorbar": {
             "outlinewidth": 10,
             "tickcolor": "rgb(36,36,36)",
             "ticklen": 8,
             "ticks": "outside",
             "tickwidth": 2
            },
            "type": "choropleth"
           }
          ],
          "contour": [
           {
            "colorbar": {
             "outlinewidth": 10,
             "tickcolor": "rgb(36,36,36)",
             "ticklen": 8,
             "ticks": "outside",
             "tickwidth": 2
            },
            "colorscale": [
             [
              0,
              "#440154"
             ],
             [
              0.1111111111111111,
              "#482878"
             ],
             [
              0.2222222222222222,
              "#3e4989"
             ],
             [
              0.3333333333333333,
              "#31688e"
             ],
             [
              0.4444444444444444,
              "#26828e"
             ],
             [
              0.5555555555555556,
              "#1f9e89"
             ],
             [
              0.6666666666666666,
              "#35b779"
             ],
             [
              0.7777777777777778,
              "#6ece58"
             ],
             [
              0.8888888888888888,
              "#b5de2b"
             ],
             [
              1,
              "#fde725"
             ]
            ],
            "type": "contour"
           }
          ],
          "contourcarpet": [
           {
            "colorbar": {
             "outlinewidth": 10,
             "tickcolor": "rgb(36,36,36)",
             "ticklen": 8,
             "ticks": "outside",
             "tickwidth": 2
            },
            "type": "contourcarpet"
           }
          ],
          "heatmap": [
           {
            "colorbar": {
             "outlinewidth": 10,
             "tickcolor": "rgb(36,36,36)",
             "ticklen": 8,
             "ticks": "outside",
             "tickwidth": 2
            },
            "colorscale": [
             [
              0,
              "#440154"
             ],
             [
              0.1111111111111111,
              "#482878"
             ],
             [
              0.2222222222222222,
              "#3e4989"
             ],
             [
              0.3333333333333333,
              "#31688e"
             ],
             [
              0.4444444444444444,
              "#26828e"
             ],
             [
              0.5555555555555556,
              "#1f9e89"
             ],
             [
              0.6666666666666666,
              "#35b779"
             ],
             [
              0.7777777777777778,
              "#6ece58"
             ],
             [
              0.8888888888888888,
              "#b5de2b"
             ],
             [
              1,
              "#fde725"
             ]
            ],
            "type": "heatmap"
           }
          ],
          "heatmapgl": [
           {
            "colorbar": {
             "outlinewidth": 10,
             "tickcolor": "rgb(36,36,36)",
             "ticklen": 8,
             "ticks": "outside",
             "tickwidth": 2
            },
            "colorscale": [
             [
              0,
              "#440154"
             ],
             [
              0.1111111111111111,
              "#482878"
             ],
             [
              0.2222222222222222,
              "#3e4989"
             ],
             [
              0.3333333333333333,
              "#31688e"
             ],
             [
              0.4444444444444444,
              "#26828e"
             ],
             [
              0.5555555555555556,
              "#1f9e89"
             ],
             [
              0.6666666666666666,
              "#35b779"
             ],
             [
              0.7777777777777778,
              "#6ece58"
             ],
             [
              0.8888888888888888,
              "#b5de2b"
             ],
             [
              1,
              "#fde725"
             ]
            ],
            "type": "heatmapgl"
           }
          ],
          "histogram": [
           {
            "marker": {
             "line": {
              "color": "white",
              "width": 0.6
             }
            },
            "type": "histogram"
           }
          ],
          "histogram2d": [
           {
            "colorbar": {
             "outlinewidth": 10,
             "tickcolor": "rgb(36,36,36)",
             "ticklen": 8,
             "ticks": "outside",
             "tickwidth": 2
            },
            "colorscale": [
             [
              0,
              "#440154"
             ],
             [
              0.1111111111111111,
              "#482878"
             ],
             [
              0.2222222222222222,
              "#3e4989"
             ],
             [
              0.3333333333333333,
              "#31688e"
             ],
             [
              0.4444444444444444,
              "#26828e"
             ],
             [
              0.5555555555555556,
              "#1f9e89"
             ],
             [
              0.6666666666666666,
              "#35b779"
             ],
             [
              0.7777777777777778,
              "#6ece58"
             ],
             [
              0.8888888888888888,
              "#b5de2b"
             ],
             [
              1,
              "#fde725"
             ]
            ],
            "type": "histogram2d"
           }
          ],
          "histogram2dcontour": [
           {
            "colorbar": {
             "outlinewidth": 10,
             "tickcolor": "rgb(36,36,36)",
             "ticklen": 8,
             "ticks": "outside",
             "tickwidth": 2
            },
            "colorscale": [
             [
              0,
              "#440154"
             ],
             [
              0.1111111111111111,
              "#482878"
             ],
             [
              0.2222222222222222,
              "#3e4989"
             ],
             [
              0.3333333333333333,
              "#31688e"
             ],
             [
              0.4444444444444444,
              "#26828e"
             ],
             [
              0.5555555555555556,
              "#1f9e89"
             ],
             [
              0.6666666666666666,
              "#35b779"
             ],
             [
              0.7777777777777778,
              "#6ece58"
             ],
             [
              0.8888888888888888,
              "#b5de2b"
             ],
             [
              1,
              "#fde725"
             ]
            ],
            "type": "histogram2dcontour"
           }
          ],
          "mesh3d": [
           {
            "colorbar": {
             "outlinewidth": 10,
             "tickcolor": "rgb(36,36,36)",
             "ticklen": 8,
             "ticks": "outside",
             "tickwidth": 2
            },
            "type": "mesh3d"
           }
          ],
          "parcoords": [
           {
            "line": {
             "colorbar": {
              "outlinewidth": 10,
              "tickcolor": "rgb(36,36,36)",
              "ticklen": 8,
              "ticks": "outside",
              "tickwidth": 2
             }
            },
            "type": "parcoords"
           }
          ],
          "pie": [
           {
            "automargin": true,
            "type": "pie"
           }
          ],
          "scatter": [
           {
            "line": {
             "width": 3
            },
            "marker": {
             "colorbar": {
              "outlinewidth": 10,
              "tickcolor": "rgb(36,36,36)",
              "ticklen": 8,
              "ticks": "outside",
              "tickwidth": 2
             },
             "size": 9
            },
            "type": "scatter"
           }
          ],
          "scatter3d": [
           {
            "line": {
             "colorbar": {
              "outlinewidth": 10,
              "tickcolor": "rgb(36,36,36)",
              "ticklen": 8,
              "ticks": "outside",
              "tickwidth": 2
             },
             "width": 3
            },
            "marker": {
             "colorbar": {
              "outlinewidth": 10,
              "tickcolor": "rgb(36,36,36)",
              "ticklen": 8,
              "ticks": "outside",
              "tickwidth": 2
             },
             "size": 9
            },
            "type": "scatter3d"
           }
          ],
          "scattercarpet": [
           {
            "marker": {
             "colorbar": {
              "outlinewidth": 10,
              "tickcolor": "rgb(36,36,36)",
              "ticklen": 8,
              "ticks": "outside",
              "tickwidth": 2
             }
            },
            "type": "scattercarpet"
           }
          ],
          "scattergeo": [
           {
            "line": {
             "width": 3
            },
            "marker": {
             "colorbar": {
              "outlinewidth": 10,
              "tickcolor": "rgb(36,36,36)",
              "ticklen": 8,
              "ticks": "outside",
              "tickwidth": 2
             },
             "size": 9
            },
            "type": "scattergeo"
           }
          ],
          "scattergl": [
           {
            "line": {
             "width": 3
            },
            "marker": {
             "colorbar": {
              "outlinewidth": 10,
              "tickcolor": "rgb(36,36,36)",
              "ticklen": 8,
              "ticks": "outside",
              "tickwidth": 2
             },
             "size": 9
            },
            "type": "scattergl"
           }
          ],
          "scattermapbox": [
           {
            "marker": {
             "colorbar": {
              "outlinewidth": 10,
              "tickcolor": "rgb(36,36,36)",
              "ticklen": 8,
              "ticks": "outside",
              "tickwidth": 2
             }
            },
            "type": "scattermapbox"
           }
          ],
          "scatterpolar": [
           {
            "line": {
             "width": 3
            },
            "marker": {
             "colorbar": {
              "outlinewidth": 10,
              "tickcolor": "rgb(36,36,36)",
              "ticklen": 8,
              "ticks": "outside",
              "tickwidth": 2
             },
             "size": 9
            },
            "type": "scatterpolar"
           }
          ],
          "scatterpolargl": [
           {
            "line": {
             "width": 3
            },
            "marker": {
             "colorbar": {
              "outlinewidth": 10,
              "tickcolor": "rgb(36,36,36)",
              "ticklen": 8,
              "ticks": "outside",
              "tickwidth": 2
             },
             "size": 9
            },
            "type": "scatterpolargl"
           }
          ],
          "scatterternary": [
           {
            "line": {
             "width": 3
            },
            "marker": {
             "colorbar": {
              "outlinewidth": 10,
              "tickcolor": "rgb(36,36,36)",
              "ticklen": 8,
              "ticks": "outside",
              "tickwidth": 2
             },
             "size": 9
            },
            "type": "scatterternary"
           }
          ],
          "surface": [
           {
            "colorbar": {
             "outlinewidth": 10,
             "tickcolor": "rgb(36,36,36)",
             "ticklen": 8,
             "ticks": "outside",
             "tickwidth": 2
            },
            "colorscale": [
             [
              0,
              "#440154"
             ],
             [
              0.1111111111111111,
              "#482878"
             ],
             [
              0.2222222222222222,
              "#3e4989"
             ],
             [
              0.3333333333333333,
              "#31688e"
             ],
             [
              0.4444444444444444,
              "#26828e"
             ],
             [
              0.5555555555555556,
              "#1f9e89"
             ],
             [
              0.6666666666666666,
              "#35b779"
             ],
             [
              0.7777777777777778,
              "#6ece58"
             ],
             [
              0.8888888888888888,
              "#b5de2b"
             ],
             [
              1,
              "#fde725"
             ]
            ],
            "type": "surface"
           }
          ],
          "table": [
           {
            "cells": {
             "fill": {
              "color": "rgb(237,237,237)"
             },
             "height": 30,
             "line": {
              "color": "white"
             }
            },
            "header": {
             "fill": {
              "color": "rgb(217,217,217)"
             },
             "height": 36,
             "line": {
              "color": "white"
             }
            },
            "type": "table"
           }
          ]
         },
         "layout": {
          "annotationdefaults": {
           "arrowhead": 0,
           "arrowwidth": 1
          },
          "coloraxis": {
           "colorbar": {
            "outlinewidth": 10,
            "tickcolor": "rgb(36,36,36)",
            "ticklen": 8,
            "ticks": "outside",
            "tickwidth": 2
           }
          },
          "colorscale": {
           "diverging": [
            [
             0,
             "rgb(103,0,31)"
            ],
            [
             0.1,
             "rgb(178,24,43)"
            ],
            [
             0.2,
             "rgb(214,96,77)"
            ],
            [
             0.3,
             "rgb(244,165,130)"
            ],
            [
             0.4,
             "rgb(253,219,199)"
            ],
            [
             0.5,
             "rgb(247,247,247)"
            ],
            [
             0.6,
             "rgb(209,229,240)"
            ],
            [
             0.7,
             "rgb(146,197,222)"
            ],
            [
             0.8,
             "rgb(67,147,195)"
            ],
            [
             0.9,
             "rgb(33,102,172)"
            ],
            [
             1,
             "rgb(5,48,97)"
            ]
           ],
           "sequential": [
            [
             0,
             "#440154"
            ],
            [
             0.1111111111111111,
             "#482878"
            ],
            [
             0.2222222222222222,
             "#3e4989"
            ],
            [
             0.3333333333333333,
             "#31688e"
            ],
            [
             0.4444444444444444,
             "#26828e"
            ],
            [
             0.5555555555555556,
             "#1f9e89"
            ],
            [
             0.6666666666666666,
             "#35b779"
            ],
            [
             0.7777777777777778,
             "#6ece58"
            ],
            [
             0.8888888888888888,
             "#b5de2b"
            ],
            [
             1,
             "#fde725"
            ]
           ],
           "sequentialminus": [
            [
             0,
             "#440154"
            ],
            [
             0.1111111111111111,
             "#482878"
            ],
            [
             0.2222222222222222,
             "#3e4989"
            ],
            [
             0.3333333333333333,
             "#31688e"
            ],
            [
             0.4444444444444444,
             "#26828e"
            ],
            [
             0.5555555555555556,
             "#1f9e89"
            ],
            [
             0.6666666666666666,
             "#35b779"
            ],
            [
             0.7777777777777778,
             "#6ece58"
            ],
            [
             0.8888888888888888,
             "#b5de2b"
            ],
            [
             1,
             "#fde725"
            ]
           ]
          },
          "colorway": [
           "#1F77B4",
           "#FF7F0E",
           "#2CA02C",
           "#D62728",
           "#9467BD",
           "#8C564B",
           "#E377C2",
           "#7F7F7F",
           "#BCBD22",
           "#17BECF"
          ],
          "font": {
           "color": "rgb(36,36,36)",
           "size": 18
          },
          "geo": {
           "bgcolor": "white",
           "lakecolor": "white",
           "landcolor": "white",
           "showlakes": true,
           "showland": true,
           "subunitcolor": "white"
          },
          "hoverlabel": {
           "align": "left"
          },
          "hovermode": "closest",
          "mapbox": {
           "style": "light"
          },
          "paper_bgcolor": "white",
          "plot_bgcolor": "white",
          "polar": {
           "angularaxis": {
            "gridcolor": "rgb(232,232,232)",
            "linecolor": "rgb(36,36,36)",
            "showgrid": false,
            "showline": true,
            "ticks": "outside"
           },
           "bgcolor": "white",
           "radialaxis": {
            "gridcolor": "rgb(232,232,232)",
            "linecolor": "rgb(36,36,36)",
            "showgrid": false,
            "showline": true,
            "ticks": "outside"
           }
          },
          "scene": {
           "xaxis": {
            "backgroundcolor": "white",
            "gridcolor": "rgb(232,232,232)",
            "gridwidth": 2,
            "linecolor": "rgb(36,36,36)",
            "showbackground": true,
            "showgrid": false,
            "showline": true,
            "ticks": "outside",
            "zeroline": false,
            "zerolinecolor": "rgb(36,36,36)"
           },
           "yaxis": {
            "backgroundcolor": "white",
            "gridcolor": "rgb(232,232,232)",
            "gridwidth": 2,
            "linecolor": "rgb(36,36,36)",
            "showbackground": true,
            "showgrid": false,
            "showline": true,
            "ticks": "outside",
            "zeroline": false,
            "zerolinecolor": "rgb(36,36,36)"
           },
           "zaxis": {
            "backgroundcolor": "white",
            "gridcolor": "rgb(232,232,232)",
            "gridwidth": 2,
            "linecolor": "rgb(36,36,36)",
            "showbackground": true,
            "showgrid": false,
            "showline": true,
            "ticks": "outside",
            "zeroline": false,
            "zerolinecolor": "rgb(36,36,36)"
           }
          },
          "shapedefaults": {
           "fillcolor": "black",
           "line": {
            "width": 0
           },
           "opacity": 0.3
          },
          "ternary": {
           "aaxis": {
            "gridcolor": "rgb(232,232,232)",
            "linecolor": "rgb(36,36,36)",
            "showgrid": false,
            "showline": true,
            "ticks": "outside"
           },
           "baxis": {
            "gridcolor": "rgb(232,232,232)",
            "linecolor": "rgb(36,36,36)",
            "showgrid": false,
            "showline": true,
            "ticks": "outside"
           },
           "bgcolor": "white",
           "caxis": {
            "gridcolor": "rgb(232,232,232)",
            "linecolor": "rgb(36,36,36)",
            "showgrid": false,
            "showline": true,
            "ticks": "outside"
           }
          },
          "title": {
           "x": 0.05
          },
          "xaxis": {
           "automargin": true,
           "gridcolor": "rgb(232,232,232)",
           "linecolor": "rgb(36,36,36)",
           "showgrid": false,
           "showline": true,
           "ticks": "outside",
           "title": {
            "standoff": 15
           },
           "zeroline": false,
           "zerolinecolor": "rgb(36,36,36)"
          },
          "yaxis": {
           "automargin": true,
           "gridcolor": "rgb(232,232,232)",
           "linecolor": "rgb(36,36,36)",
           "showgrid": false,
           "showline": true,
           "ticks": "outside",
           "title": {
            "standoff": 15
           },
           "zeroline": false,
           "zerolinecolor": "rgb(36,36,36)"
          }
         }
        },
        "xaxis": {
         "title": {
          "text": "Emissions per kWh [gCO<sub>2</sub>/kWh]"
         }
        }
       }
      },
      "text/html": [
       "<div>\n",
       "        \n",
       "        \n",
       "            <div id=\"8431fcd5-60ff-4078-8945-fbbbd44e6e37\" class=\"plotly-graph-div\" style=\"height:525px; width:100%;\"></div>\n",
       "            <script type=\"text/javascript\">\n",
       "                require([\"plotly\"], function(Plotly) {\n",
       "                    window.PLOTLYENV=window.PLOTLYENV || {};\n",
       "                    \n",
       "                if (document.getElementById(\"8431fcd5-60ff-4078-8945-fbbbd44e6e37\")) {\n",
       "                    Plotly.newPlot(\n",
       "                        '8431fcd5-60ff-4078-8945-fbbbd44e6e37',\n",
       "                        [{\"error_x\": {\"array\": [[28.689724254125867], [12.480948783633497], [4.360048043243782], [6.4094052914818995], [38.0], [160.0], [85.0], [187.0], [3.2079259584091258], [1.6574956007985886], [0.7023769168568492], [30.0]], \"type\": \"data\"}, \"marker\": {\"color\": \"rgb(229, 134, 6)\"}, \"name\": \"Use-Phase\", \"orientation\": \"h\", \"type\": \"bar\", \"x\": [8.575, 19.523076923076925, 20.675, 23.400000000000002, 28.7, 53.68333333333334, 70.84666666666666, 88.0, 190.0, 492.0, 732.0, 1024.0], \"y\": [\"Wind (Offshore)\", \"Wind (Onshore)\", \"Hydro\", \"Nuclear\", \"Geothermal\", \"Solar CSP\", \"Solar PV\", \"Biomass\", \"Gas CCS\", \"Gas\", \"Oil\", \"Coal\"]}, {\"error_x\": {\"array\": [null, null, null, null, null, null, null, null, null, null, null, null, null, null, 5.073818842014789, 14.30949470375844, 24.02222791776321, 1.3881914968667277, 2.4364840189429082, 1.083806481546417, 0.03123248620087333, 1.299475748033848, 0.3307778298049546, 5.15923688536582], \"type\": \"data\"}, \"marker\": {\"color\": \"rgb(93, 105, 177)\"}, \"name\": \"Embodied (materials)\", \"orientation\": \"h\", \"type\": \"bar\", \"x\": [11.687298091976517, 36.15317846270924, 43.4517592, 10.576158290833334, 17.48815209, 5.026645850204082, 0.18254705733130389, 10.916057604132654, 1.3533414611872145, 15.55141549789717], \"y\": [\"Wind (Onshore)\", \"Solar CSP\", \"Solar PV\", \"Hydro\", \"Geothermal\", \"Gas CCS\", \"Oil\", \"Gas\", \"Coal\", \"Wind (Offshore)\"]}],\n",
       "                        {\"barmode\": \"stack\", \"legend\": {\"orientation\": \"h\", \"y\": -0.2}, \"template\": {\"data\": {\"bar\": [{\"error_x\": {\"color\": \"rgb(36,36,36)\"}, \"error_y\": {\"color\": \"rgb(36,36,36)\"}, \"marker\": {\"line\": {\"color\": \"white\", \"width\": 0.5}}, \"type\": \"bar\"}], \"barpolar\": [{\"marker\": {\"line\": {\"color\": \"white\", \"width\": 0.5}}, \"type\": \"barpolar\"}], \"carpet\": [{\"aaxis\": {\"endlinecolor\": \"rgb(36,36,36)\", \"gridcolor\": \"white\", \"linecolor\": \"white\", \"minorgridcolor\": \"white\", \"startlinecolor\": \"rgb(36,36,36)\"}, \"baxis\": {\"endlinecolor\": \"rgb(36,36,36)\", \"gridcolor\": \"white\", \"linecolor\": \"white\", \"minorgridcolor\": \"white\", \"startlinecolor\": \"rgb(36,36,36)\"}, \"type\": \"carpet\"}], \"choropleth\": [{\"colorbar\": {\"outlinewidth\": 10, \"tickcolor\": \"rgb(36,36,36)\", \"ticklen\": 8, \"ticks\": \"outside\", \"tickwidth\": 2}, \"type\": \"choropleth\"}], \"contour\": [{\"colorbar\": {\"outlinewidth\": 10, \"tickcolor\": \"rgb(36,36,36)\", \"ticklen\": 8, \"ticks\": \"outside\", \"tickwidth\": 2}, \"colorscale\": [[0.0, \"#440154\"], [0.1111111111111111, \"#482878\"], [0.2222222222222222, \"#3e4989\"], [0.3333333333333333, \"#31688e\"], [0.4444444444444444, \"#26828e\"], [0.5555555555555556, \"#1f9e89\"], [0.6666666666666666, \"#35b779\"], [0.7777777777777778, \"#6ece58\"], [0.8888888888888888, \"#b5de2b\"], [1.0, \"#fde725\"]], \"type\": \"contour\"}], \"contourcarpet\": [{\"colorbar\": {\"outlinewidth\": 10, \"tickcolor\": \"rgb(36,36,36)\", \"ticklen\": 8, \"ticks\": \"outside\", \"tickwidth\": 2}, \"type\": \"contourcarpet\"}], \"heatmap\": [{\"colorbar\": {\"outlinewidth\": 10, \"tickcolor\": \"rgb(36,36,36)\", \"ticklen\": 8, \"ticks\": \"outside\", \"tickwidth\": 2}, \"colorscale\": [[0.0, \"#440154\"], [0.1111111111111111, \"#482878\"], [0.2222222222222222, \"#3e4989\"], [0.3333333333333333, \"#31688e\"], [0.4444444444444444, \"#26828e\"], [0.5555555555555556, \"#1f9e89\"], [0.6666666666666666, \"#35b779\"], [0.7777777777777778, \"#6ece58\"], [0.8888888888888888, \"#b5de2b\"], [1.0, \"#fde725\"]], \"type\": \"heatmap\"}], \"heatmapgl\": [{\"colorbar\": {\"outlinewidth\": 10, \"tickcolor\": \"rgb(36,36,36)\", \"ticklen\": 8, \"ticks\": \"outside\", \"tickwidth\": 2}, \"colorscale\": [[0.0, \"#440154\"], [0.1111111111111111, \"#482878\"], [0.2222222222222222, \"#3e4989\"], [0.3333333333333333, \"#31688e\"], [0.4444444444444444, \"#26828e\"], [0.5555555555555556, \"#1f9e89\"], [0.6666666666666666, \"#35b779\"], [0.7777777777777778, \"#6ece58\"], [0.8888888888888888, \"#b5de2b\"], [1.0, \"#fde725\"]], \"type\": \"heatmapgl\"}], \"histogram\": [{\"marker\": {\"line\": {\"color\": \"white\", \"width\": 0.6}}, \"type\": \"histogram\"}], \"histogram2d\": [{\"colorbar\": {\"outlinewidth\": 10, \"tickcolor\": \"rgb(36,36,36)\", \"ticklen\": 8, \"ticks\": \"outside\", \"tickwidth\": 2}, \"colorscale\": [[0.0, \"#440154\"], [0.1111111111111111, \"#482878\"], [0.2222222222222222, \"#3e4989\"], [0.3333333333333333, \"#31688e\"], [0.4444444444444444, \"#26828e\"], [0.5555555555555556, \"#1f9e89\"], [0.6666666666666666, \"#35b779\"], [0.7777777777777778, \"#6ece58\"], [0.8888888888888888, \"#b5de2b\"], [1.0, \"#fde725\"]], \"type\": \"histogram2d\"}], \"histogram2dcontour\": [{\"colorbar\": {\"outlinewidth\": 10, \"tickcolor\": \"rgb(36,36,36)\", \"ticklen\": 8, \"ticks\": \"outside\", \"tickwidth\": 2}, \"colorscale\": [[0.0, \"#440154\"], [0.1111111111111111, \"#482878\"], [0.2222222222222222, \"#3e4989\"], [0.3333333333333333, \"#31688e\"], [0.4444444444444444, \"#26828e\"], [0.5555555555555556, \"#1f9e89\"], [0.6666666666666666, \"#35b779\"], [0.7777777777777778, \"#6ece58\"], [0.8888888888888888, \"#b5de2b\"], [1.0, \"#fde725\"]], \"type\": \"histogram2dcontour\"}], \"mesh3d\": [{\"colorbar\": {\"outlinewidth\": 10, \"tickcolor\": \"rgb(36,36,36)\", \"ticklen\": 8, \"ticks\": \"outside\", \"tickwidth\": 2}, \"type\": \"mesh3d\"}], \"parcoords\": [{\"line\": {\"colorbar\": {\"outlinewidth\": 10, \"tickcolor\": \"rgb(36,36,36)\", \"ticklen\": 8, \"ticks\": \"outside\", \"tickwidth\": 2}}, \"type\": \"parcoords\"}], \"pie\": [{\"automargin\": true, \"type\": \"pie\"}], \"scatter\": [{\"line\": {\"width\": 3}, \"marker\": {\"colorbar\": {\"outlinewidth\": 10, \"tickcolor\": \"rgb(36,36,36)\", \"ticklen\": 8, \"ticks\": \"outside\", \"tickwidth\": 2}, \"size\": 9}, \"type\": \"scatter\"}], \"scatter3d\": [{\"line\": {\"colorbar\": {\"outlinewidth\": 10, \"tickcolor\": \"rgb(36,36,36)\", \"ticklen\": 8, \"ticks\": \"outside\", \"tickwidth\": 2}, \"width\": 3}, \"marker\": {\"colorbar\": {\"outlinewidth\": 10, \"tickcolor\": \"rgb(36,36,36)\", \"ticklen\": 8, \"ticks\": \"outside\", \"tickwidth\": 2}, \"size\": 9}, \"type\": \"scatter3d\"}], \"scattercarpet\": [{\"marker\": {\"colorbar\": {\"outlinewidth\": 10, \"tickcolor\": \"rgb(36,36,36)\", \"ticklen\": 8, \"ticks\": \"outside\", \"tickwidth\": 2}}, \"type\": \"scattercarpet\"}], \"scattergeo\": [{\"line\": {\"width\": 3}, \"marker\": {\"colorbar\": {\"outlinewidth\": 10, \"tickcolor\": \"rgb(36,36,36)\", \"ticklen\": 8, \"ticks\": \"outside\", \"tickwidth\": 2}, \"size\": 9}, \"type\": \"scattergeo\"}], \"scattergl\": [{\"line\": {\"width\": 3}, \"marker\": {\"colorbar\": {\"outlinewidth\": 10, \"tickcolor\": \"rgb(36,36,36)\", \"ticklen\": 8, \"ticks\": \"outside\", \"tickwidth\": 2}, \"size\": 9}, \"type\": \"scattergl\"}], \"scattermapbox\": [{\"marker\": {\"colorbar\": {\"outlinewidth\": 10, \"tickcolor\": \"rgb(36,36,36)\", \"ticklen\": 8, \"ticks\": \"outside\", \"tickwidth\": 2}}, \"type\": \"scattermapbox\"}], \"scatterpolar\": [{\"line\": {\"width\": 3}, \"marker\": {\"colorbar\": {\"outlinewidth\": 10, \"tickcolor\": \"rgb(36,36,36)\", \"ticklen\": 8, \"ticks\": \"outside\", \"tickwidth\": 2}, \"size\": 9}, \"type\": \"scatterpolar\"}], \"scatterpolargl\": [{\"line\": {\"width\": 3}, \"marker\": {\"colorbar\": {\"outlinewidth\": 10, \"tickcolor\": \"rgb(36,36,36)\", \"ticklen\": 8, \"ticks\": \"outside\", \"tickwidth\": 2}, \"size\": 9}, \"type\": \"scatterpolargl\"}], \"scatterternary\": [{\"line\": {\"width\": 3}, \"marker\": {\"colorbar\": {\"outlinewidth\": 10, \"tickcolor\": \"rgb(36,36,36)\", \"ticklen\": 8, \"ticks\": \"outside\", \"tickwidth\": 2}, \"size\": 9}, \"type\": \"scatterternary\"}], \"surface\": [{\"colorbar\": {\"outlinewidth\": 10, \"tickcolor\": \"rgb(36,36,36)\", \"ticklen\": 8, \"ticks\": \"outside\", \"tickwidth\": 2}, \"colorscale\": [[0.0, \"#440154\"], [0.1111111111111111, \"#482878\"], [0.2222222222222222, \"#3e4989\"], [0.3333333333333333, \"#31688e\"], [0.4444444444444444, \"#26828e\"], [0.5555555555555556, \"#1f9e89\"], [0.6666666666666666, \"#35b779\"], [0.7777777777777778, \"#6ece58\"], [0.8888888888888888, \"#b5de2b\"], [1.0, \"#fde725\"]], \"type\": \"surface\"}], \"table\": [{\"cells\": {\"fill\": {\"color\": \"rgb(237,237,237)\"}, \"height\": 30, \"line\": {\"color\": \"white\"}}, \"header\": {\"fill\": {\"color\": \"rgb(217,217,217)\"}, \"height\": 36, \"line\": {\"color\": \"white\"}}, \"type\": \"table\"}]}, \"layout\": {\"annotationdefaults\": {\"arrowhead\": 0, \"arrowwidth\": 1}, \"coloraxis\": {\"colorbar\": {\"outlinewidth\": 10, \"tickcolor\": \"rgb(36,36,36)\", \"ticklen\": 8, \"ticks\": \"outside\", \"tickwidth\": 2}}, \"colorscale\": {\"diverging\": [[0.0, \"rgb(103,0,31)\"], [0.1, \"rgb(178,24,43)\"], [0.2, \"rgb(214,96,77)\"], [0.3, \"rgb(244,165,130)\"], [0.4, \"rgb(253,219,199)\"], [0.5, \"rgb(247,247,247)\"], [0.6, \"rgb(209,229,240)\"], [0.7, \"rgb(146,197,222)\"], [0.8, \"rgb(67,147,195)\"], [0.9, \"rgb(33,102,172)\"], [1.0, \"rgb(5,48,97)\"]], \"sequential\": [[0.0, \"#440154\"], [0.1111111111111111, \"#482878\"], [0.2222222222222222, \"#3e4989\"], [0.3333333333333333, \"#31688e\"], [0.4444444444444444, \"#26828e\"], [0.5555555555555556, \"#1f9e89\"], [0.6666666666666666, \"#35b779\"], [0.7777777777777778, \"#6ece58\"], [0.8888888888888888, \"#b5de2b\"], [1.0, \"#fde725\"]], \"sequentialminus\": [[0.0, \"#440154\"], [0.1111111111111111, \"#482878\"], [0.2222222222222222, \"#3e4989\"], [0.3333333333333333, \"#31688e\"], [0.4444444444444444, \"#26828e\"], [0.5555555555555556, \"#1f9e89\"], [0.6666666666666666, \"#35b779\"], [0.7777777777777778, \"#6ece58\"], [0.8888888888888888, \"#b5de2b\"], [1.0, \"#fde725\"]]}, \"colorway\": [\"#1F77B4\", \"#FF7F0E\", \"#2CA02C\", \"#D62728\", \"#9467BD\", \"#8C564B\", \"#E377C2\", \"#7F7F7F\", \"#BCBD22\", \"#17BECF\"], \"font\": {\"color\": \"rgb(36,36,36)\", \"size\": 18}, \"geo\": {\"bgcolor\": \"white\", \"lakecolor\": \"white\", \"landcolor\": \"white\", \"showlakes\": true, \"showland\": true, \"subunitcolor\": \"white\"}, \"hoverlabel\": {\"align\": \"left\"}, \"hovermode\": \"closest\", \"mapbox\": {\"style\": \"light\"}, \"paper_bgcolor\": \"white\", \"plot_bgcolor\": \"white\", \"polar\": {\"angularaxis\": {\"gridcolor\": \"rgb(232,232,232)\", \"linecolor\": \"rgb(36,36,36)\", \"showgrid\": false, \"showline\": true, \"ticks\": \"outside\"}, \"bgcolor\": \"white\", \"radialaxis\": {\"gridcolor\": \"rgb(232,232,232)\", \"linecolor\": \"rgb(36,36,36)\", \"showgrid\": false, \"showline\": true, \"ticks\": \"outside\"}}, \"scene\": {\"xaxis\": {\"backgroundcolor\": \"white\", \"gridcolor\": \"rgb(232,232,232)\", \"gridwidth\": 2, \"linecolor\": \"rgb(36,36,36)\", \"showbackground\": true, \"showgrid\": false, \"showline\": true, \"ticks\": \"outside\", \"zeroline\": false, \"zerolinecolor\": \"rgb(36,36,36)\"}, \"yaxis\": {\"backgroundcolor\": \"white\", \"gridcolor\": \"rgb(232,232,232)\", \"gridwidth\": 2, \"linecolor\": \"rgb(36,36,36)\", \"showbackground\": true, \"showgrid\": false, \"showline\": true, \"ticks\": \"outside\", \"zeroline\": false, \"zerolinecolor\": \"rgb(36,36,36)\"}, \"zaxis\": {\"backgroundcolor\": \"white\", \"gridcolor\": \"rgb(232,232,232)\", \"gridwidth\": 2, \"linecolor\": \"rgb(36,36,36)\", \"showbackground\": true, \"showgrid\": false, \"showline\": true, \"ticks\": \"outside\", \"zeroline\": false, \"zerolinecolor\": \"rgb(36,36,36)\"}}, \"shapedefaults\": {\"fillcolor\": \"black\", \"line\": {\"width\": 0}, \"opacity\": 0.3}, \"ternary\": {\"aaxis\": {\"gridcolor\": \"rgb(232,232,232)\", \"linecolor\": \"rgb(36,36,36)\", \"showgrid\": false, \"showline\": true, \"ticks\": \"outside\"}, \"baxis\": {\"gridcolor\": \"rgb(232,232,232)\", \"linecolor\": \"rgb(36,36,36)\", \"showgrid\": false, \"showline\": true, \"ticks\": \"outside\"}, \"bgcolor\": \"white\", \"caxis\": {\"gridcolor\": \"rgb(232,232,232)\", \"linecolor\": \"rgb(36,36,36)\", \"showgrid\": false, \"showline\": true, \"ticks\": \"outside\"}}, \"title\": {\"x\": 0.05}, \"xaxis\": {\"automargin\": true, \"gridcolor\": \"rgb(232,232,232)\", \"linecolor\": \"rgb(36,36,36)\", \"showgrid\": false, \"showline\": true, \"ticks\": \"outside\", \"title\": {\"standoff\": 15}, \"zeroline\": false, \"zerolinecolor\": \"rgb(36,36,36)\"}, \"yaxis\": {\"automargin\": true, \"gridcolor\": \"rgb(232,232,232)\", \"linecolor\": \"rgb(36,36,36)\", \"showgrid\": false, \"showline\": true, \"ticks\": \"outside\", \"title\": {\"standoff\": 15}, \"zeroline\": false, \"zerolinecolor\": \"rgb(36,36,36)\"}}}, \"xaxis\": {\"title\": {\"text\": \"Emissions per kWh [gCO<sub>2</sub>/kWh]\"}}},\n",
       "                        {\"responsive\": true}\n",
       "                    ).then(function(){\n",
       "                            \n",
       "var gd = document.getElementById('8431fcd5-60ff-4078-8945-fbbbd44e6e37');\n",
       "var x = new MutationObserver(function (mutations, observer) {{\n",
       "        var display = window.getComputedStyle(gd).display;\n",
       "        if (!display || display === 'none') {{\n",
       "            console.log([gd, 'removed!']);\n",
       "            Plotly.purge(gd);\n",
       "            observer.disconnect();\n",
       "        }}\n",
       "}});\n",
       "\n",
       "// Listen for the removal of the full notebook cells\n",
       "var notebookContainer = gd.closest('#notebook-container');\n",
       "if (notebookContainer) {{\n",
       "    x.observe(notebookContainer, {childList: true});\n",
       "}}\n",
       "\n",
       "// Listen for the clearing of the current output cell\n",
       "var outputEl = gd.closest('.output');\n",
       "if (outputEl) {{\n",
       "    x.observe(outputEl, {childList: true});\n",
       "}}\n",
       "\n",
       "                        })\n",
       "                };\n",
       "                });\n",
       "            </script>\n",
       "        </div>"
      ]
     },
     "metadata": {},
     "output_type": "display_data"
    }
   ],
   "source": [
    "# Embodied vs use phase\n",
    "\n",
    "figpath = \"C:/Users/KarlaC/Dropbox (Cambridge University)/CCG/Electricity and material demand model/Figs/\"\n",
    "\n",
    "EU = pd.read_excel(mypath+'Excel_model_material_implications_energy_systems.xlsx', sheet_name = 'Graph', \n",
    "                skiprows = 44, usecols = \"B,T:V\", nrows = 15)\n",
    "EU.rename(columns = {'Unnamed: 1':'tech'}, inplace = True)\n",
    "EU = EU[EU['tech']!= 'Wind']\n",
    "\n",
    "EE_u = pd.read_excel(mypath+'Excel_model_material_implications_energy_systems.xlsx', \n",
    "                   sheet_name = 'Graph', \n",
    "                skiprows = 63, usecols = \"B:C\", nrows = 15)\n",
    "EE_u.rename(columns = {'Unnamed: 1':'tech'}, inplace = True)\n",
    "\n",
    "# EE is the same as e_E_tot\n",
    "\n",
    "colors = px.colors.qualitative.Vivid\n",
    "\n",
    "df = [EU,E_tech]\n",
    "dnames = ['EU','E_tech']\n",
    "\n",
    "datae_u = EU[['tech','STANDARD ERROR']].rename(columns = {'STANDARD ERROR':'error'})\n",
    "datae_u = datae_u[~datae_u['tech'].isin(['Hydrogen','BECCS'])]\n",
    "datae_e = datae.append(e_E_tot.reset_index().rename(columns = {0:'error'}))\n",
    "datae_e = datae_e[~datae_e['tech'].isin(['Hydrogen','BECCS'])]\n",
    "\n",
    "# sorting data based on use phase\n",
    "\n",
    "fig = go.Figure()\n",
    "for d, dn, c in zip(df, dnames, colors[0:2]): \n",
    "    if dn == 'EU': \n",
    "        d = EU.sort_values(by = 'AVERAGE', ascending = True)\n",
    "        d = d[~d['tech'].isin(['Hydrogen','BECCS'])]\n",
    "        fig.add_trace(go.Bar(x = d.AVERAGE, \n",
    "                             y = d.tech,\n",
    "                             name = 'Use-Phase',\n",
    "                             marker_color = c, \n",
    "                             orientation = 'h',\n",
    "                             error_x=dict(type='data', \n",
    "                                      array=datae_u[['error']])\n",
    "                                 ))\n",
    "    if dn == 'E_tech': \n",
    "        d = E_tech.reset_index().rename(columns = {0:'energy'})\n",
    "        d = d[~d['tech'].isin(['Hydrogen','BECCS'])]\n",
    "        fig.add_trace(go.Bar(x = d.energy, \n",
    "                             y = d.tech,\n",
    "                             name = 'Embodied (materials)' ,\n",
    "                             marker_color = c, \n",
    "                             orientation = 'h',\n",
    "                             error_x=dict(type='data', \n",
    "                                      array=datae_e['error'])\n",
    "                                 ))\n",
    "fig.update_layout(xaxis_title =  'Emissions per kWh [gCO<sub>2</sub>/kWh]', \n",
    "                  template = 'simple_white+presentation', barmode='stack',\n",
    "                  legend=dict(orientation=\"h\", y=-0.2))\n",
    "\n",
    "pio.write_image(fig, figpath+\"embodied_direct_CO2.pdf\", width = 900, height = 700)\n",
    "pio.write_image(fig, figpath+\"embodied_direct_CO2.eps\", width = 900, height = 700)\n",
    "plotly.offline.plot(fig, filename = figpath+\"embodied_direct_CO2.html\", auto_open=False)\n",
    "fig.show()"
   ]
  },
  {
   "cell_type": "markdown",
   "metadata": {},
   "source": [
    "## General - Embodied, water and costs"
   ]
  },
  {
   "cell_type": "code",
   "execution_count": 613,
   "metadata": {},
   "outputs": [],
   "source": [
    "# Embodied, water and costs\n",
    "\n",
    "colors = px.colors.qualitative.Alphabet\n",
    "\n",
    "figpath = \"C:/Users/KarlaC/Dropbox (Cambridge University)/CCG/Electricity and material demand model/Figs/\"\n",
    "\n",
    "labels = ['Embodied Material Emissions [gCO<sub>2</sub>/kWh]','Water Usage [L/kWh]',\n",
    "         'Costs [Euro cent/kWh]','Recycling Rate [g/kWh]']\n",
    "\n",
    "for  ne, l in zip(['E', 'W', 'K', 'R'], labels):\n",
    "    fig = go.Figure()\n",
    "    \n",
    "    if ne == 'E' or ne =='R':\n",
    "        data = globals()['{}_tech_sep'.format(ne)]\n",
    "        datae = pd.DataFrame(np.nan, index=np.arange(len(globals()['{}_tech_sep'.format(ne)])), \n",
    "                     columns=globals()['{}_tech_sep'.format(ne)].columns)\n",
    "        error = globals()['e_{}_tot'.format(ne)]\n",
    "        \n",
    "        datae.loc[datae.index,'Stainless Steel'] = error.values/2\n",
    "        datae.index = data.index\n",
    "    if ne == 'W':\n",
    "        data = globals()['{}_tech_sep'.format(ne)]/1000\n",
    "        datae = pd.DataFrame(np.nan, index=np.arange(len(globals()['{}_tech_sep'.format(ne)])), \n",
    "                     columns=globals()['{}_tech_sep'.format(ne)].columns)\n",
    "        error = globals()['e_{}_tot'.format(ne)]\n",
    "        datae.loc[datae.index,'Stainless Steel'] = error.values/1000/2\n",
    "        datae.index = data.index\n",
    "        \n",
    "    if ne == 'K':\n",
    "        data = globals()['{}_tech_sep'.format(ne)]*1000\n",
    "        datae = pd.DataFrame(np.nan, index=np.arange(len(globals()['{}_tech_sep'.format(ne)])), \n",
    "                     columns=globals()['{}_tech_sep'.format(ne)].columns)\n",
    "        error = globals()['e_{}_tot'.format(ne)]\n",
    "        datae.loc[datae.index,'Stainless Steel'] = error.values*1000/2\n",
    "        datae.index = data.index\n",
    "                \n",
    "    for i, c in zip(data.columns, colors): \n",
    "#         print(i)\n",
    "        fig.add_trace(go.Bar(x = data[i], \n",
    "                             y = data.index,\n",
    "                             name = i, \n",
    "                             marker_color = c, orientation = 'h',\n",
    "                             error_x=dict(type='data', \n",
    "                                      array=datae[i])\n",
    "                            ))\n",
    "\n",
    "    fig.update_layout( xaxis_title =  l, \n",
    "                      legend=dict(orientation=\"h\", yanchor=\"bottom\", \n",
    "#                                   traceorder=\"reversed\",\n",
    "                                   y=1.01,\n",
    "                                   xanchor=\"center\",\n",
    "                                   x=0.4),\n",
    "                                   template = 'simple_white+presentation', barmode='stack')\n",
    "\n",
    "    pio.write_image(fig, figpath+\"general_{}.pdf\".format(ne), width = 1000, height = 700)\n",
    "    pio.write_image(fig, figpath+\"general_{}.eps\".format(ne), width = 1000, height = 700)\n",
    "    plotly.offline.plot(fig, filename = figpath+\"general_{}.html\".format(ne), auto_open=False)\n",
    "#     fig.show()"
   ]
  },
  {
   "cell_type": "markdown",
   "metadata": {},
   "source": [
    "## General - Materials per kWh and embodied-material-emissions per kWh"
   ]
  },
  {
   "cell_type": "code",
   "execution_count": 614,
   "metadata": {
    "scrolled": true
   },
   "outputs": [],
   "source": [
    "## Materials per kWh and embodied-material-emissions per kWh\n",
    "colors = px.colors.qualitative.Alphabet\n",
    "\n",
    "figpath = \"C:/Users/KarlaC/Dropbox (Cambridge University)/CCG/Electricity and material demand model/Figs/\"\n",
    "\n",
    "labels = ['Materials [g/kWh]','Embodied Material Emissions [gCO<sub>2</sub>/kWh]']\n",
    "\n",
    "for  ne, l in zip(['Mat','Em'], labels):\n",
    "    fig = go.Figure()\n",
    "    \n",
    "    if ne == 'Mat':\n",
    "        data = M# /1e12 this would be for Mtonne\n",
    "        datae = pd.DataFrame(np.nan, index=np.arange(len(M)), \n",
    "                     columns=M.columns)\n",
    "        error = e_M.T.sum()         \n",
    "        datae.loc[datae.index,'Stainless Steel'] = error/2 #/1e12 this would be for Mtonne\n",
    "        datae.index = data.index\n",
    "#         the Mat error needs checking\n",
    "        \n",
    "    if ne == 'Em':\n",
    "        data = E_tech_sep# /1e12 this would be for Mtonne\n",
    "        datae = pd.DataFrame(np.nan, index=np.arange(len(E_tech_sep)), \n",
    "                     columns=E_tech_sep.columns)\n",
    "        error = e_E_tech_sep.T.sum()\n",
    "        datae.loc[datae.index,'Stainless Steel'] = error/2\n",
    "        datae.index = data.index\n",
    "            \n",
    "    data = data.sort_values(by = 'tech')\n",
    "    for i, c in zip(data.columns, colors): \n",
    "        fig.add_trace(go.Bar(x = data[i], \n",
    "                             y = data.index,\n",
    "                             name = i, \n",
    "                             marker_color = c, orientation = 'h',\n",
    "                             error_x=dict(type='data', \n",
    "                                      array=datae[i])\n",
    "                            ))\n",
    "\n",
    "    fig.update_layout( xaxis_title =  l, \n",
    "                      legend=dict(orientation=\"h\", yanchor=\"bottom\", \n",
    "#                                   traceorder=\"reversed\",\n",
    "                                   y=1.01,\n",
    "                                   xanchor=\"center\",\n",
    "                                   x=0.4),\n",
    "                                   template = 'simple_white+presentation', barmode='stack')\n",
    "    \n",
    "    pio.write_image(fig, figpath+\"general_{}.pdf\".format(ne), width = 1000, height = 600)\n",
    "    pio.write_image(fig, figpath+\"general_{}.eps\".format(ne), width = 1000, height = 600)\n",
    "    plotly.offline.plot(fig, filename = figpath+\"general_{}.html\".format(ne), auto_open=False)\n",
    "#     fig.show()"
   ]
  },
  {
   "cell_type": "markdown",
   "metadata": {},
   "source": [
    "## General - Bars with total percentage of grams for materials and total percentage of CO2 for materials"
   ]
  },
  {
   "cell_type": "code",
   "execution_count": 608,
   "metadata": {},
   "outputs": [],
   "source": [
    "## Bar with total percentage of material mass and total CO2 for materials general\n",
    "\n",
    "colors = px.colors.qualitative.Alphabet\n",
    "\n",
    "figpath = \"C:/Users/KarlaC/Dropbox (Cambridge University)/CCG/Electricity and material demand model/Figs/\"\n",
    "\n",
    "labels = ['Total material mass accross all technologies (%)',\n",
    "          'Total CO<sub>2</sub> emissions accross all technologies (%)']\n",
    "names = ['material_mass', 'total_emiss']\n",
    "colu = ['pct','pct']\n",
    "\n",
    "for l, n, co in zip( labels, names, colu):\n",
    "    fig = go.Figure()\n",
    "    if n == 'material_mass':\n",
    "        totaal = M.sum().reset_index()\n",
    "        totaal = totaal.rename(columns = {'index':'Material', 0:'value'})\n",
    "       \n",
    "    if n == 'total_emiss':\n",
    "        totaal = E_tech_sep.sum().reset_index()   \n",
    "        totaal = totaal.rename(columns = {'index':'Material', 0:'value'})\n",
    "        \n",
    "        \n",
    "    ts = totaal['value'].sum().round(2)\n",
    "    totaal.loc[totaal.index,'pct'] = totaal.loc[totaal.index,'value']/ts*100\n",
    "    tsdf = totaal[['Material','value']]\n",
    "    tsdf.loc[totaal.index,'value']=np.nan\n",
    "    tsdf.loc[totaal['Material']=='Stainless Steel','value']=ts\n",
    "    \n",
    "    for i, c in zip(totaal.Material.unique(), colors): \n",
    "#         print(i)\n",
    "        fig.add_trace(go.Bar(x = totaal[totaal['Material']==i][co], \n",
    "                             y = ['Total'],\n",
    "                             width=0.5,\n",
    "                             name = i ,\n",
    "                             marker_color = c, \n",
    "                             orientation = 'h',\n",
    "                             text = tsdf[totaal['Material']==i], textposition='auto'\n",
    "                                 ))\n",
    "\n",
    "    fig.update_layout( xaxis_title =  l, \n",
    "                      legend=dict(orientation=\"h\", yanchor=\"bottom\",\n",
    "#                                   traceorder=\"reversed\",\n",
    "                                    y=1.02,\n",
    "                                    xanchor=\"right\",\n",
    "                                    x=1),\n",
    "                                    template = 'simple_white+presentation', barmode='stack')\n",
    "\n",
    "#     fig.update_xaxes(range=[0,110])\n",
    "\n",
    "    pio.write_image(fig, figpath+\"general_{}.pdf\".format(n), width = 800, height = 500)\n",
    "    pio.write_image(fig, figpath+\"general_{}.eps\".format(n), width = 800, height = 500)\n",
    "    plotly.offline.plot(fig, filename = figpath+\"general_{}.html\".format(n), auto_open=False)\n",
    "#     fig.show()"
   ]
  }
 ],
 "metadata": {
  "kernelspec": {
   "display_name": "Python 3",
   "language": "python",
   "name": "python3"
  },
  "language_info": {
   "codemirror_mode": {
    "name": "ipython",
    "version": 3
   },
   "file_extension": ".py",
   "mimetype": "text/x-python",
   "name": "python",
   "nbconvert_exporter": "python",
   "pygments_lexer": "ipython3",
   "version": "3.6.9"
  },
  "toc": {
   "base_numbering": 1,
   "nav_menu": {},
   "number_sections": true,
   "sideBar": true,
   "skip_h1_title": false,
   "title_cell": "Table of Contents",
   "title_sidebar": "Contents",
   "toc_cell": false,
   "toc_position": {
    "height": "calc(100% - 180px)",
    "left": "10px",
    "top": "150px",
    "width": "226px"
   },
   "toc_section_display": true,
   "toc_window_display": true
  }
 },
 "nbformat": 4,
 "nbformat_minor": 2
}
