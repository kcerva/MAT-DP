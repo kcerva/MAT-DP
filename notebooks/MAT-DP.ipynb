{
 "cells": [
  {
   "cell_type": "code",
   "execution_count": 1,
   "metadata": {
    "scrolled": true
   },
   "outputs": [],
   "source": [
    "import matplotlib.pyplot as plt\n",
    "import pandas as pd\n",
    "import numpy as np\n",
    "# import seaborn as sns\n",
    "import plotly\n",
    "import plotly_express as px\n",
    "# import plotly.plotly as py\n",
    "from plotly import tools\n",
    "from plotly.offline import plot\n",
    "import plotly.graph_objs as go\n",
    "import plotly.io as pio\n",
    "from os import listdir\n",
    "from os.path import isfile, join\n",
    "from pathlib import Path\n",
    "from os import listdir\n",
    "from os.path import isfile, join\n",
    "import country_converter as coco\n",
    "from plotly.subplots import make_subplots\n",
    "import ipywidgets as widgets\n",
    "import os\n",
    "import glob\n",
    "import matplotlib.pyplot as plt\n",
    "# from floweaver import *\n",
    "# %matplotlib inline\n",
    "\n",
    "# from IPython.display import display\n",
    "# from ipysankeywidget import SankeyWidget\n"
   ]
  },
  {
   "cell_type": "code",
   "execution_count": 2,
   "metadata": {},
   "outputs": [],
   "source": [
    "# Setting working directory\n",
    "os.chdir ('C:\\\\Users\\\\KarlaC\\\\MAT-DP\\\\')"
   ]
  },
  {
   "cell_type": "code",
   "execution_count": 3,
   "metadata": {},
   "outputs": [],
   "source": [
    "# Make folders for figures\n",
    "if not os.path.exists('figures'):\n",
    "    os.makedirs('figures')\n",
    "    \n",
    "if not os.path.exists('figures\\countries'):\n",
    "    os.makedirs('figures\\countries')\n",
    "if not os.path.exists('outputs'):\n",
    "    os.makedirs('outputs')"
   ]
  },
  {
   "cell_type": "markdown",
   "metadata": {},
   "source": [
    "# Load E+M data"
   ]
  },
  {
   "cell_type": "code",
   "execution_count": 9,
   "metadata": {},
   "outputs": [],
   "source": [
    "# Define matrices and load data\n",
    "# country energy projection [kWh]\n",
    "C = pd.read_excel(r'data/Excel_model_material_implications_energy_systems.xlsx', sheet_name = 'Matrices', \n",
    "                skiprows = 2, usecols = \"C:I\", nrows = 1)\n",
    "#  material per energy technology [g/kWh]\n",
    "M = pd.read_excel(r'data/Excel_model_material_implications_energy_systems.xlsx', sheet_name = 'Matrices', \n",
    "                skiprows = 2, usecols = \"K:AG\", nrows = 10)\n",
    "M = M.rename(columns={'[g/kWh]':'tech'}).set_index('tech')\n",
    "\n",
    "#  embodied emissions (GHG) per material [gCO2e/g]\n",
    "E = pd.read_excel(r'data/Excel_model_material_implications_energy_systems.xlsx', sheet_name = 'Matrices', \n",
    "                skiprows = 2, usecols = \"AJ\", nrows = 22)\n",
    "#  water usage per material [l/kg]\n",
    "W = pd.read_excel(r'data/Excel_model_material_implications_energy_systems.xlsx', sheet_name = 'Matrices', \n",
    "                skiprows = 2, usecols = \"AK\", nrows = 22)\n",
    "\n",
    "#  recycling rate in current supply per material [%]\n",
    "R = pd.read_excel(r'data/Excel_model_material_implications_energy_systems.xlsx', sheet_name = 'Matrices', \n",
    "                skiprows = 2, usecols = \"AL\", nrows = 22)\n",
    "#  costs per material [â‚¬/kg]\n",
    "K = pd.read_excel(r'data/Excel_model_material_implications_energy_systems.xlsx', sheet_name = 'Matrices', \n",
    "                skiprows = 2, usecols = \"AM\", nrows = 22)\n",
    "K = K/1000\n",
    "\n",
    "# Calculating all effects\n",
    "# E: emissions per energy technology [gCO2/kWh]\n",
    "# W: water usage per energy technology\n",
    "# R: recycling rate per energy technology \n",
    "# K: costs per energy technology \n",
    "for ef, ne in zip([E, W, R, K],['E', 'W', 'R', 'K'] ):\n",
    "    #  effect per energy technology e.g. [gCO2/kWh]\n",
    "    globals()['{}_tech'.format(ne)] = M.dot(ef.values)\n",
    "    globals()['{}_tech_sep'.format(ne)] = M.multiply(ef.T.values)\n",
    "    \n",
    "#     improve later: add the index to C so the tech's names are used in calc\n",
    "    #  total factor of country e.g. embodied emissions [gCO2]\n",
    "    globals()['{}_country'.format(ne)] = C.dot(M[0:len(C.T)].values).dot(ef.values)\n",
    "    globals()['{}_country_sep'.format(ne)] = globals()['{}_tech_sep'.format(ne)][0:len(C.T)].multiply(C.T.values)\n",
    "\n",
    "    globals()['country_tech_{}'.format(ne)] = C.T.values*(globals()['{}_tech'.format(ne)][0:len(C.T)])\n",
    "    globals()['country_tech_{}'.format(ne)] = globals()['country_tech_{}'.format(ne)].T\n",
    "    "
   ]
  },
  {
   "cell_type": "markdown",
   "metadata": {},
   "source": [
    "# Load E+M data for all countries"
   ]
  },
  {
   "cell_type": "code",
   "execution_count": 5,
   "metadata": {},
   "outputs": [],
   "source": [
    "# Df w all countries and scenarios\n",
    "dfC = pd.read_excel(r'data/EnergyProjection.xlsx', sheet_name = 'All countries', \n",
    "                skiprows = 2, usecols = \"B:R\")\n",
    "#  material per energy technology [g/kWh]\n",
    "cM = pd.read_excel(r'data/Excel_model_material_implications_energy_systems.xlsx', sheet_name = 'Matrices (country)', \n",
    "                skiprows = 2, usecols = \"R:AN\", nrows = 15)\n",
    "cM = cM.rename(columns={'[g/kWh]':'tech'}).set_index('tech')\n",
    "\n",
    "#  embodied emissions (GHG) per material [gCO2e/g]\n",
    "cE = pd.read_excel(r'data/Excel_model_material_implications_energy_systems.xlsx', sheet_name = 'Matrices (country)', \n",
    "                skiprows = 2, usecols = \"AQ\", nrows = 22)\n",
    "#  water usage per material [l/kg]\n",
    "cW = pd.read_excel(r'data/Excel_model_material_implications_energy_systems.xlsx', sheet_name = 'Matrices (country)', \n",
    "                skiprows = 2, usecols = \"AR\", nrows = 22)\n",
    "\n",
    "#  recycling rate in current supply per material [%]\n",
    "cR = pd.read_excel(r'data/Excel_model_material_implications_energy_systems.xlsx', sheet_name = 'Matrices (country)', \n",
    "                skiprows = 2, usecols = \"AS\", nrows = 22)\n",
    "#  costs per material [â‚¬/kg]\n",
    "cK = pd.read_excel(r'data/Excel_model_material_implications_energy_systems.xlsx', sheet_name = 'Matrices (country)', \n",
    "                skiprows = 2, usecols = \"AT\", nrows = 22)\n",
    "cK = cK/1000\n",
    "\n",
    "#  total factor of all countries e.g. embodied emissions [gCO2]\n",
    "#  df w all countries, years and scenarios\n",
    "dfC['Scenario'] = dfC['Scenario'].replace(np.nan, 'Baseline')\n",
    "dfC['Year'] = dfC['Year'].replace(np.nan,0).astype('int')\n",
    "\n",
    "# Ordering dfC columns for the same order as M\n",
    "coln = list(cM.index)"
   ]
  },
  {
   "cell_type": "code",
   "execution_count": 10,
   "metadata": {},
   "outputs": [
    {
     "name": "stderr",
     "output_type": "stream",
     "text": [
      "C:\\Users\\KarlaC\\Anaconda3\\lib\\site-packages\\ipykernel_launcher.py:45: SettingWithCopyWarning:\n",
      "\n",
      "\n",
      "A value is trying to be set on a copy of a slice from a DataFrame.\n",
      "Try using .loc[row_indexer,col_indexer] = value instead\n",
      "\n",
      "See the caveats in the documentation: http://pandas.pydata.org/pandas-docs/stable/user_guide/indexing.html#returning-a-view-versus-a-copy\n",
      "\n"
     ]
    }
   ],
   "source": [
    "# Df w TEMBA results\n",
    "shnames = ['results_ref','results_1.5deg','results_2.0deg']\n",
    "power = ['Power Generation (Aggregate)','Power Generation Capacity (Aggregate)','New power generation capacity (Aggregate)']\n",
    "upow = ['PJ','GW','GW']\n",
    "results = pd.DataFrame(columns = ['variable', 'scenario', 'country', 'parameter', '2015', '2016', '2017',\n",
    "                                   '2018', '2019', '2020', '2021', '2022', '2023', '2024', '2025', '2026',\n",
    "                                   '2027', '2028', '2029', '2030', '2031', '2032', '2033', '2034', '2035',\n",
    "                                   '2036', '2037', '2038', '2039', '2040', '2041', '2042', '2043', '2044',\n",
    "                                   '2045', '2046', '2047', '2048', '2049', '2050', '2051', '2052', '2053',\n",
    "                                   '2054', '2055', '2056', '2057', '2058', '2059', '2060', '2061', '2062',\n",
    "                                   '2063', '2064', '2065']\n",
    "                      )\n",
    "for sn in shnames:\n",
    "    globals()[sn] = pd.read_csv(r'data/{}.csv'.format(sn))\n",
    "    globals()[sn] = globals()[sn].drop(columns ='Unnamed: 0')\n",
    "    globals()[sn] = globals()[sn][globals()[sn]['parameter'].isin(power)]\n",
    "    results = results.append(globals()[sn])\n",
    "\n",
    "dtech = pd.DataFrame(list(zip(['Wind (Onshore)', 'Wind (Offshore)', 'Solar CSP', 'Solar PV', \n",
    "                             'Hydro', 'Geothermal','Gas CCS', 'Oil', \n",
    "                             'Gas', 'Coal', 'Biomass','Nuclear',\n",
    "                             'BECCS', 'Hydrogen','Coal CCS'],\n",
    "                            ['Wind','Wind','Solar CSP', 'Solar PV',\n",
    "                             'Hydro','Geothermal','Gas with ccs', 'Oil',\n",
    "                             'Gas','Coal','Biomass','Nuclear',\n",
    "                             'Biomass with ccs', 'Hydrogen' ,'Coal with ccs'])),\n",
    "                     columns = ['tech','variable']\n",
    "                    )\n",
    "\n",
    "dtech = dtech.set_index('variable')['tech'].to_dict()\n",
    "results['tech']= results['variable'].map(dtech)\n",
    "\n",
    "# 'power_trade' include as non-country embodied emissions\n",
    "\n",
    "results_df = pd.melt(results.drop(columns = 'variable'), \n",
    "                     id_vars = ['tech', 'scenario','country','parameter'], \n",
    "                     var_name = 'Year', value_name = 'Value')\n",
    "\n",
    "results_piv = pd.pivot_table(results_df, values = 'Value', \n",
    "                                      index = ['Year', 'scenario', 'country','parameter'], \n",
    "                                      columns = 'tech', aggfunc=np.sum)\n",
    "results_piv = results_piv.reset_index()\n",
    "\n",
    "generation_df = results_df[results_df['parameter']== 'Power Generation (Aggregate)']\n",
    "generation_df['Value'] = [x*277778000 for x in generation_df['Value']]\n",
    "generation_piv = pd.pivot_table(generation_df, values = 'Value', \n",
    "                                      index = ['Year', 'scenario', 'country','parameter'], \n",
    "                                      columns = 'tech', aggfunc=np.sum)\n",
    "generation_piv = generation_piv.reset_index()\n",
    "\n",
    "generation_piv = generation_piv.drop(columns = 'parameter')\n",
    "generation_piv.rename(columns ={'scenario':'Scenario','country':'Country'}, inplace = True)\n",
    "\n",
    "\n"
   ]
  },
  {
   "cell_type": "markdown",
   "metadata": {},
   "source": [
    "## Appending Uganda, UK and TEMBA data"
   ]
  },
  {
   "cell_type": "code",
   "execution_count": 7,
   "metadata": {
    "scrolled": true
   },
   "outputs": [
    {
     "name": "stderr",
     "output_type": "stream",
     "text": [
      "C:\\Users\\KarlaC\\Anaconda3\\lib\\site-packages\\pandas\\core\\frame.py:7123: FutureWarning:\n",
      "\n",
      "Sorting because non-concatenation axis is not aligned. A future version\n",
      "of pandas will change to not sort by default.\n",
      "\n",
      "To accept the future behavior, pass 'sort=False'.\n",
      "\n",
      "To retain the current behavior and silence the warning, pass 'sort=True'.\n",
      "\n",
      "\n"
     ]
    }
   ],
   "source": [
    "dfC['Coal CCS'] = 0\n",
    "dfC = dfC.append(generation_piv)\n",
    "dfC = dfC[['Year', 'Scenario', 'Country', 'Wind (Onshore)', 'Wind (Offshore)',\n",
    "       'Solar CSP', 'Solar PV', 'Hydro', 'Oil', 'Gas CCS', 'Gas', 'Nuclear',\n",
    "       'Geothermal', 'Coal', 'Coal CCS', 'Biomass', 'BECCS', 'Hydrogen']]"
   ]
  },
  {
   "cell_type": "markdown",
   "metadata": {},
   "source": [
    "## Calculating mass of materials for all countries"
   ]
  },
  {
   "cell_type": "code",
   "execution_count": 110,
   "metadata": {},
   "outputs": [],
   "source": [
    "mat_country = pd.DataFrame(columns = ['Year', 'Scenario', 'Country','tech',\n",
    "                                      'Aluminium', 'Bentonite', 'Carbon Fiber', 'Cast Iron', 'Cement',\n",
    "                                      'Ceramics', 'Concrete', 'Copper', 'Epoxy', 'EVA ', 'Fibre Glass',\n",
    "                                      'Glass', 'Lubricant', 'Non-Ferrous Metal', 'Paint', 'Plastic', 'PVC',\n",
    "                                      'Resin', 'Sand', 'Silicon', 'Steel', 'Stainless Steel'] )\n",
    "coln = [ 'Wind (Onshore)', 'Wind (Offshore)',\n",
    "       'Solar CSP', 'Solar PV', 'Hydro', 'Oil', 'Gas CCS', 'Gas', 'Nuclear',\n",
    "       'Geothermal', 'Coal', 'Biomass', 'BECCS', 'Hydrogen', 'Coal CCS']\n",
    "# [coln]\n",
    "for c in dfC['Country'].unique():\n",
    "    for sc in dfC[dfC['Country']==c]['Scenario'].unique():\n",
    "        for y in dfC[(dfC['Country']==c)&(dfC['Scenario']==sc)]['Year'].unique():\n",
    "            mat_c = dfC[(dfC['Country']==c)&(dfC['Scenario']==sc)&(dfC['Year']==y)][coln].\\\n",
    "                        T.values*cM\n",
    "#         mat_c = mat_c.sum().reset_index()\n",
    "        mat_c['Country'] = c\n",
    "        mat_c['Year'] = y\n",
    "        mat_c['Scenario'] = sc\n",
    "        mat_country = mat_country.append(mat_c.reset_index())\n",
    "#     val = pd.DataFrame(row).fillna(0).T.dot(cM.fillna(0)[0:len(dfC.iloc[:,3:].T)].values).dot(cE.values)\n",
    "mat_country = mat_country[['Year', 'Scenario', 'Country', 'tech',\n",
    "                           'Aluminium', 'Bentonite', 'Carbon Fiber', 'Cast Iron', 'Cement',\n",
    "                           'Ceramics', 'Concrete', 'Copper', 'Epoxy', 'EVA ', 'Fibre Glass',\n",
    "                           'Glass', 'Lubricant', 'Non-Ferrous Metal', 'Paint', 'Plastic', 'PVC',\n",
    "                           'Resin', 'Sand', 'Silicon', 'Steel', 'Stainless Steel']]\n",
    "mat_country.to_csv(r'outputs/massmat_bytech_bycountry.csv',index=False)\n"
   ]
  },
  {
   "cell_type": "markdown",
   "metadata": {},
   "source": [
    "## Calculating E,W, K, R for all countries"
   ]
  },
  {
   "cell_type": "code",
   "execution_count": 198,
   "metadata": {},
   "outputs": [
    {
     "name": "stderr",
     "output_type": "stream",
     "text": [
      "C:\\Users\\KarlaC\\Anaconda3\\lib\\site-packages\\pandas\\core\\frame.py:7123: FutureWarning:\n",
      "\n",
      "Sorting because non-concatenation axis is not aligned. A future version\n",
      "of pandas will change to not sort by default.\n",
      "\n",
      "To accept the future behavior, pass 'sort=False'.\n",
      "\n",
      "To retain the current behavior and silence the warning, pass 'sort=True'.\n",
      "\n",
      "\n"
     ]
    },
    {
     "ename": "KeyboardInterrupt",
     "evalue": "",
     "output_type": "error",
     "traceback": [
      "\u001b[1;31m---------------------------------------------------------------------------\u001b[0m",
      "\u001b[1;31mKeyboardInterrupt\u001b[0m                         Traceback (most recent call last)",
      "\u001b[1;32m<ipython-input-198-6fa3363b5c6f>\u001b[0m in \u001b[0;36m<module>\u001b[1;34m\u001b[0m\n\u001b[0;32m     24\u001b[0m                 \u001b[0mdf_sep\u001b[0m\u001b[1;33m[\u001b[0m\u001b[1;34m'Scenario'\u001b[0m\u001b[1;33m]\u001b[0m \u001b[1;33m=\u001b[0m \u001b[0msc\u001b[0m\u001b[1;33m\u001b[0m\u001b[1;33m\u001b[0m\u001b[0m\n\u001b[0;32m     25\u001b[0m                 \u001b[0mdf_sep\u001b[0m\u001b[1;33m[\u001b[0m\u001b[1;34m'Year'\u001b[0m\u001b[1;33m]\u001b[0m \u001b[1;33m=\u001b[0m \u001b[0my\u001b[0m\u001b[1;33m\u001b[0m\u001b[1;33m\u001b[0m\u001b[0m\n\u001b[1;32m---> 26\u001b[1;33m                 \u001b[0mglobals\u001b[0m\u001b[1;33m(\u001b[0m\u001b[1;33m)\u001b[0m\u001b[1;33m[\u001b[0m\u001b[1;34m'df{}c_tech_sep'\u001b[0m\u001b[1;33m.\u001b[0m\u001b[0mformat\u001b[0m\u001b[1;33m(\u001b[0m\u001b[0mne\u001b[0m\u001b[1;33m)\u001b[0m\u001b[1;33m]\u001b[0m \u001b[1;33m=\u001b[0m \u001b[0mglobals\u001b[0m\u001b[1;33m(\u001b[0m\u001b[1;33m)\u001b[0m\u001b[1;33m[\u001b[0m\u001b[1;34m'df{}c_tech_sep'\u001b[0m\u001b[1;33m.\u001b[0m\u001b[0mformat\u001b[0m\u001b[1;33m(\u001b[0m\u001b[0mne\u001b[0m\u001b[1;33m)\u001b[0m\u001b[1;33m]\u001b[0m\u001b[1;33m.\u001b[0m\u001b[0mappend\u001b[0m\u001b[1;33m(\u001b[0m\u001b[0mdf_sep\u001b[0m\u001b[1;33m)\u001b[0m\u001b[1;33m\u001b[0m\u001b[1;33m\u001b[0m\u001b[0m\n\u001b[0m\u001b[0;32m     27\u001b[0m     \u001b[0mglobals\u001b[0m\u001b[1;33m(\u001b[0m\u001b[1;33m)\u001b[0m\u001b[1;33m[\u001b[0m\u001b[1;34m'df{}c_tech_sep'\u001b[0m\u001b[1;33m.\u001b[0m\u001b[0mformat\u001b[0m\u001b[1;33m(\u001b[0m\u001b[0mne\u001b[0m\u001b[1;33m)\u001b[0m\u001b[1;33m]\u001b[0m\u001b[1;33m.\u001b[0m\u001b[0mto_csv\u001b[0m\u001b[1;33m(\u001b[0m\u001b[1;34mr'outputs/{}_matbytech_bycountry.csv'\u001b[0m\u001b[1;33m.\u001b[0m\u001b[0mformat\u001b[0m\u001b[1;33m(\u001b[0m\u001b[0mne\u001b[0m\u001b[1;33m)\u001b[0m\u001b[1;33m)\u001b[0m\u001b[1;33m\u001b[0m\u001b[1;33m\u001b[0m\u001b[0m\n\u001b[0;32m     28\u001b[0m     \u001b[1;31m#             print('df{0}_{1}_{2}_{3}_sep'.format(ne,c,sc[0:3],str(y)))\u001b[0m\u001b[1;33m\u001b[0m\u001b[1;33m\u001b[0m\u001b[1;33m\u001b[0m\u001b[0m\n",
      "\u001b[1;32m~\\Anaconda3\\lib\\site-packages\\pandas\\core\\frame.py\u001b[0m in \u001b[0;36mappend\u001b[1;34m(self, other, ignore_index, verify_integrity, sort)\u001b[0m\n\u001b[0;32m   7121\u001b[0m             \u001b[0mignore_index\u001b[0m\u001b[1;33m=\u001b[0m\u001b[0mignore_index\u001b[0m\u001b[1;33m,\u001b[0m\u001b[1;33m\u001b[0m\u001b[1;33m\u001b[0m\u001b[0m\n\u001b[0;32m   7122\u001b[0m             \u001b[0mverify_integrity\u001b[0m\u001b[1;33m=\u001b[0m\u001b[0mverify_integrity\u001b[0m\u001b[1;33m,\u001b[0m\u001b[1;33m\u001b[0m\u001b[1;33m\u001b[0m\u001b[0m\n\u001b[1;32m-> 7123\u001b[1;33m             \u001b[0msort\u001b[0m\u001b[1;33m=\u001b[0m\u001b[0msort\u001b[0m\u001b[1;33m,\u001b[0m\u001b[1;33m\u001b[0m\u001b[1;33m\u001b[0m\u001b[0m\n\u001b[0m\u001b[0;32m   7124\u001b[0m         )\n\u001b[0;32m   7125\u001b[0m \u001b[1;33m\u001b[0m\u001b[0m\n",
      "\u001b[1;32m~\\Anaconda3\\lib\\site-packages\\pandas\\core\\reshape\\concat.py\u001b[0m in \u001b[0;36mconcat\u001b[1;34m(objs, axis, join, join_axes, ignore_index, keys, levels, names, verify_integrity, sort, copy)\u001b[0m\n\u001b[0;32m    253\u001b[0m         \u001b[0mverify_integrity\u001b[0m\u001b[1;33m=\u001b[0m\u001b[0mverify_integrity\u001b[0m\u001b[1;33m,\u001b[0m\u001b[1;33m\u001b[0m\u001b[1;33m\u001b[0m\u001b[0m\n\u001b[0;32m    254\u001b[0m         \u001b[0mcopy\u001b[0m\u001b[1;33m=\u001b[0m\u001b[0mcopy\u001b[0m\u001b[1;33m,\u001b[0m\u001b[1;33m\u001b[0m\u001b[1;33m\u001b[0m\u001b[0m\n\u001b[1;32m--> 255\u001b[1;33m         \u001b[0msort\u001b[0m\u001b[1;33m=\u001b[0m\u001b[0msort\u001b[0m\u001b[1;33m,\u001b[0m\u001b[1;33m\u001b[0m\u001b[1;33m\u001b[0m\u001b[0m\n\u001b[0m\u001b[0;32m    256\u001b[0m     )\n\u001b[0;32m    257\u001b[0m \u001b[1;33m\u001b[0m\u001b[0m\n",
      "\u001b[1;32m~\\Anaconda3\\lib\\site-packages\\pandas\\core\\reshape\\concat.py\u001b[0m in \u001b[0;36m__init__\u001b[1;34m(self, objs, axis, join, join_axes, keys, levels, names, ignore_index, verify_integrity, copy, sort)\u001b[0m\n\u001b[0;32m    333\u001b[0m \u001b[1;33m\u001b[0m\u001b[0m\n\u001b[0;32m    334\u001b[0m             \u001b[1;31m# consolidate\u001b[0m\u001b[1;33m\u001b[0m\u001b[1;33m\u001b[0m\u001b[1;33m\u001b[0m\u001b[0m\n\u001b[1;32m--> 335\u001b[1;33m             \u001b[0mobj\u001b[0m\u001b[1;33m.\u001b[0m\u001b[0m_consolidate\u001b[0m\u001b[1;33m(\u001b[0m\u001b[0minplace\u001b[0m\u001b[1;33m=\u001b[0m\u001b[1;32mTrue\u001b[0m\u001b[1;33m)\u001b[0m\u001b[1;33m\u001b[0m\u001b[1;33m\u001b[0m\u001b[0m\n\u001b[0m\u001b[0;32m    336\u001b[0m             \u001b[0mndims\u001b[0m\u001b[1;33m.\u001b[0m\u001b[0madd\u001b[0m\u001b[1;33m(\u001b[0m\u001b[0mobj\u001b[0m\u001b[1;33m.\u001b[0m\u001b[0mndim\u001b[0m\u001b[1;33m)\u001b[0m\u001b[1;33m\u001b[0m\u001b[1;33m\u001b[0m\u001b[0m\n\u001b[0;32m    337\u001b[0m \u001b[1;33m\u001b[0m\u001b[0m\n",
      "\u001b[1;32m~\\Anaconda3\\lib\\site-packages\\pandas\\core\\generic.py\u001b[0m in \u001b[0;36m_consolidate\u001b[1;34m(self, inplace)\u001b[0m\n\u001b[0;32m   5268\u001b[0m         \u001b[0minplace\u001b[0m \u001b[1;33m=\u001b[0m \u001b[0mvalidate_bool_kwarg\u001b[0m\u001b[1;33m(\u001b[0m\u001b[0minplace\u001b[0m\u001b[1;33m,\u001b[0m \u001b[1;34m\"inplace\"\u001b[0m\u001b[1;33m)\u001b[0m\u001b[1;33m\u001b[0m\u001b[1;33m\u001b[0m\u001b[0m\n\u001b[0;32m   5269\u001b[0m         \u001b[1;32mif\u001b[0m \u001b[0minplace\u001b[0m\u001b[1;33m:\u001b[0m\u001b[1;33m\u001b[0m\u001b[1;33m\u001b[0m\u001b[0m\n\u001b[1;32m-> 5270\u001b[1;33m             \u001b[0mself\u001b[0m\u001b[1;33m.\u001b[0m\u001b[0m_consolidate_inplace\u001b[0m\u001b[1;33m(\u001b[0m\u001b[1;33m)\u001b[0m\u001b[1;33m\u001b[0m\u001b[1;33m\u001b[0m\u001b[0m\n\u001b[0m\u001b[0;32m   5271\u001b[0m         \u001b[1;32melse\u001b[0m\u001b[1;33m:\u001b[0m\u001b[1;33m\u001b[0m\u001b[1;33m\u001b[0m\u001b[0m\n\u001b[0;32m   5272\u001b[0m             \u001b[0mf\u001b[0m \u001b[1;33m=\u001b[0m \u001b[1;32mlambda\u001b[0m\u001b[1;33m:\u001b[0m \u001b[0mself\u001b[0m\u001b[1;33m.\u001b[0m\u001b[0m_data\u001b[0m\u001b[1;33m.\u001b[0m\u001b[0mconsolidate\u001b[0m\u001b[1;33m(\u001b[0m\u001b[1;33m)\u001b[0m\u001b[1;33m\u001b[0m\u001b[1;33m\u001b[0m\u001b[0m\n",
      "\u001b[1;32m~\\Anaconda3\\lib\\site-packages\\pandas\\core\\generic.py\u001b[0m in \u001b[0;36m_consolidate_inplace\u001b[1;34m(self)\u001b[0m\n\u001b[0;32m   5250\u001b[0m             \u001b[0mself\u001b[0m\u001b[1;33m.\u001b[0m\u001b[0m_data\u001b[0m \u001b[1;33m=\u001b[0m \u001b[0mself\u001b[0m\u001b[1;33m.\u001b[0m\u001b[0m_data\u001b[0m\u001b[1;33m.\u001b[0m\u001b[0mconsolidate\u001b[0m\u001b[1;33m(\u001b[0m\u001b[1;33m)\u001b[0m\u001b[1;33m\u001b[0m\u001b[1;33m\u001b[0m\u001b[0m\n\u001b[0;32m   5251\u001b[0m \u001b[1;33m\u001b[0m\u001b[0m\n\u001b[1;32m-> 5252\u001b[1;33m         \u001b[0mself\u001b[0m\u001b[1;33m.\u001b[0m\u001b[0m_protect_consolidate\u001b[0m\u001b[1;33m(\u001b[0m\u001b[0mf\u001b[0m\u001b[1;33m)\u001b[0m\u001b[1;33m\u001b[0m\u001b[1;33m\u001b[0m\u001b[0m\n\u001b[0m\u001b[0;32m   5253\u001b[0m \u001b[1;33m\u001b[0m\u001b[0m\n\u001b[0;32m   5254\u001b[0m     \u001b[1;32mdef\u001b[0m \u001b[0m_consolidate\u001b[0m\u001b[1;33m(\u001b[0m\u001b[0mself\u001b[0m\u001b[1;33m,\u001b[0m \u001b[0minplace\u001b[0m\u001b[1;33m=\u001b[0m\u001b[1;32mFalse\u001b[0m\u001b[1;33m)\u001b[0m\u001b[1;33m:\u001b[0m\u001b[1;33m\u001b[0m\u001b[1;33m\u001b[0m\u001b[0m\n",
      "\u001b[1;32m~\\Anaconda3\\lib\\site-packages\\pandas\\core\\generic.py\u001b[0m in \u001b[0;36m_protect_consolidate\u001b[1;34m(self, f)\u001b[0m\n\u001b[0;32m   5239\u001b[0m         \"\"\"\n\u001b[0;32m   5240\u001b[0m         \u001b[0mblocks_before\u001b[0m \u001b[1;33m=\u001b[0m \u001b[0mlen\u001b[0m\u001b[1;33m(\u001b[0m\u001b[0mself\u001b[0m\u001b[1;33m.\u001b[0m\u001b[0m_data\u001b[0m\u001b[1;33m.\u001b[0m\u001b[0mblocks\u001b[0m\u001b[1;33m)\u001b[0m\u001b[1;33m\u001b[0m\u001b[1;33m\u001b[0m\u001b[0m\n\u001b[1;32m-> 5241\u001b[1;33m         \u001b[0mresult\u001b[0m \u001b[1;33m=\u001b[0m \u001b[0mf\u001b[0m\u001b[1;33m(\u001b[0m\u001b[1;33m)\u001b[0m\u001b[1;33m\u001b[0m\u001b[1;33m\u001b[0m\u001b[0m\n\u001b[0m\u001b[0;32m   5242\u001b[0m         \u001b[1;32mif\u001b[0m \u001b[0mlen\u001b[0m\u001b[1;33m(\u001b[0m\u001b[0mself\u001b[0m\u001b[1;33m.\u001b[0m\u001b[0m_data\u001b[0m\u001b[1;33m.\u001b[0m\u001b[0mblocks\u001b[0m\u001b[1;33m)\u001b[0m \u001b[1;33m!=\u001b[0m \u001b[0mblocks_before\u001b[0m\u001b[1;33m:\u001b[0m\u001b[1;33m\u001b[0m\u001b[1;33m\u001b[0m\u001b[0m\n\u001b[0;32m   5243\u001b[0m             \u001b[0mself\u001b[0m\u001b[1;33m.\u001b[0m\u001b[0m_clear_item_cache\u001b[0m\u001b[1;33m(\u001b[0m\u001b[1;33m)\u001b[0m\u001b[1;33m\u001b[0m\u001b[1;33m\u001b[0m\u001b[0m\n",
      "\u001b[1;32m~\\Anaconda3\\lib\\site-packages\\pandas\\core\\generic.py\u001b[0m in \u001b[0;36mf\u001b[1;34m()\u001b[0m\n\u001b[0;32m   5248\u001b[0m \u001b[1;33m\u001b[0m\u001b[0m\n\u001b[0;32m   5249\u001b[0m         \u001b[1;32mdef\u001b[0m \u001b[0mf\u001b[0m\u001b[1;33m(\u001b[0m\u001b[1;33m)\u001b[0m\u001b[1;33m:\u001b[0m\u001b[1;33m\u001b[0m\u001b[1;33m\u001b[0m\u001b[0m\n\u001b[1;32m-> 5250\u001b[1;33m             \u001b[0mself\u001b[0m\u001b[1;33m.\u001b[0m\u001b[0m_data\u001b[0m \u001b[1;33m=\u001b[0m \u001b[0mself\u001b[0m\u001b[1;33m.\u001b[0m\u001b[0m_data\u001b[0m\u001b[1;33m.\u001b[0m\u001b[0mconsolidate\u001b[0m\u001b[1;33m(\u001b[0m\u001b[1;33m)\u001b[0m\u001b[1;33m\u001b[0m\u001b[1;33m\u001b[0m\u001b[0m\n\u001b[0m\u001b[0;32m   5251\u001b[0m \u001b[1;33m\u001b[0m\u001b[0m\n\u001b[0;32m   5252\u001b[0m         \u001b[0mself\u001b[0m\u001b[1;33m.\u001b[0m\u001b[0m_protect_consolidate\u001b[0m\u001b[1;33m(\u001b[0m\u001b[0mf\u001b[0m\u001b[1;33m)\u001b[0m\u001b[1;33m\u001b[0m\u001b[1;33m\u001b[0m\u001b[0m\n",
      "\u001b[1;32m~\\Anaconda3\\lib\\site-packages\\pandas\\core\\internals\\managers.py\u001b[0m in \u001b[0;36mconsolidate\u001b[1;34m(self)\u001b[0m\n\u001b[0;32m    930\u001b[0m         \u001b[0mbm\u001b[0m \u001b[1;33m=\u001b[0m \u001b[0mself\u001b[0m\u001b[1;33m.\u001b[0m\u001b[0m__class__\u001b[0m\u001b[1;33m(\u001b[0m\u001b[0mself\u001b[0m\u001b[1;33m.\u001b[0m\u001b[0mblocks\u001b[0m\u001b[1;33m,\u001b[0m \u001b[0mself\u001b[0m\u001b[1;33m.\u001b[0m\u001b[0maxes\u001b[0m\u001b[1;33m)\u001b[0m\u001b[1;33m\u001b[0m\u001b[1;33m\u001b[0m\u001b[0m\n\u001b[0;32m    931\u001b[0m         \u001b[0mbm\u001b[0m\u001b[1;33m.\u001b[0m\u001b[0m_is_consolidated\u001b[0m \u001b[1;33m=\u001b[0m \u001b[1;32mFalse\u001b[0m\u001b[1;33m\u001b[0m\u001b[1;33m\u001b[0m\u001b[0m\n\u001b[1;32m--> 932\u001b[1;33m         \u001b[0mbm\u001b[0m\u001b[1;33m.\u001b[0m\u001b[0m_consolidate_inplace\u001b[0m\u001b[1;33m(\u001b[0m\u001b[1;33m)\u001b[0m\u001b[1;33m\u001b[0m\u001b[1;33m\u001b[0m\u001b[0m\n\u001b[0m\u001b[0;32m    933\u001b[0m         \u001b[1;32mreturn\u001b[0m \u001b[0mbm\u001b[0m\u001b[1;33m\u001b[0m\u001b[1;33m\u001b[0m\u001b[0m\n\u001b[0;32m    934\u001b[0m \u001b[1;33m\u001b[0m\u001b[0m\n",
      "\u001b[1;32m~\\Anaconda3\\lib\\site-packages\\pandas\\core\\internals\\managers.py\u001b[0m in \u001b[0;36m_consolidate_inplace\u001b[1;34m(self)\u001b[0m\n\u001b[0;32m    935\u001b[0m     \u001b[1;32mdef\u001b[0m \u001b[0m_consolidate_inplace\u001b[0m\u001b[1;33m(\u001b[0m\u001b[0mself\u001b[0m\u001b[1;33m)\u001b[0m\u001b[1;33m:\u001b[0m\u001b[1;33m\u001b[0m\u001b[1;33m\u001b[0m\u001b[0m\n\u001b[0;32m    936\u001b[0m         \u001b[1;32mif\u001b[0m \u001b[1;32mnot\u001b[0m \u001b[0mself\u001b[0m\u001b[1;33m.\u001b[0m\u001b[0mis_consolidated\u001b[0m\u001b[1;33m(\u001b[0m\u001b[1;33m)\u001b[0m\u001b[1;33m:\u001b[0m\u001b[1;33m\u001b[0m\u001b[1;33m\u001b[0m\u001b[0m\n\u001b[1;32m--> 937\u001b[1;33m             \u001b[0mself\u001b[0m\u001b[1;33m.\u001b[0m\u001b[0mblocks\u001b[0m \u001b[1;33m=\u001b[0m \u001b[0mtuple\u001b[0m\u001b[1;33m(\u001b[0m\u001b[0m_consolidate\u001b[0m\u001b[1;33m(\u001b[0m\u001b[0mself\u001b[0m\u001b[1;33m.\u001b[0m\u001b[0mblocks\u001b[0m\u001b[1;33m)\u001b[0m\u001b[1;33m)\u001b[0m\u001b[1;33m\u001b[0m\u001b[1;33m\u001b[0m\u001b[0m\n\u001b[0m\u001b[0;32m    938\u001b[0m             \u001b[0mself\u001b[0m\u001b[1;33m.\u001b[0m\u001b[0m_is_consolidated\u001b[0m \u001b[1;33m=\u001b[0m \u001b[1;32mTrue\u001b[0m\u001b[1;33m\u001b[0m\u001b[1;33m\u001b[0m\u001b[0m\n\u001b[0;32m    939\u001b[0m             \u001b[0mself\u001b[0m\u001b[1;33m.\u001b[0m\u001b[0m_known_consolidated\u001b[0m \u001b[1;33m=\u001b[0m \u001b[1;32mTrue\u001b[0m\u001b[1;33m\u001b[0m\u001b[1;33m\u001b[0m\u001b[0m\n",
      "\u001b[1;32m~\\Anaconda3\\lib\\site-packages\\pandas\\core\\internals\\managers.py\u001b[0m in \u001b[0;36m_consolidate\u001b[1;34m(blocks)\u001b[0m\n\u001b[0;32m   1911\u001b[0m     \u001b[1;32mfor\u001b[0m \u001b[1;33m(\u001b[0m\u001b[0m_can_consolidate\u001b[0m\u001b[1;33m,\u001b[0m \u001b[0mdtype\u001b[0m\u001b[1;33m)\u001b[0m\u001b[1;33m,\u001b[0m \u001b[0mgroup_blocks\u001b[0m \u001b[1;32min\u001b[0m \u001b[0mgrouper\u001b[0m\u001b[1;33m:\u001b[0m\u001b[1;33m\u001b[0m\u001b[1;33m\u001b[0m\u001b[0m\n\u001b[0;32m   1912\u001b[0m         merged_blocks = _merge_blocks(\n\u001b[1;32m-> 1913\u001b[1;33m             \u001b[0mlist\u001b[0m\u001b[1;33m(\u001b[0m\u001b[0mgroup_blocks\u001b[0m\u001b[1;33m)\u001b[0m\u001b[1;33m,\u001b[0m \u001b[0mdtype\u001b[0m\u001b[1;33m=\u001b[0m\u001b[0mdtype\u001b[0m\u001b[1;33m,\u001b[0m \u001b[0m_can_consolidate\u001b[0m\u001b[1;33m=\u001b[0m\u001b[0m_can_consolidate\u001b[0m\u001b[1;33m\u001b[0m\u001b[1;33m\u001b[0m\u001b[0m\n\u001b[0m\u001b[0;32m   1914\u001b[0m         )\n\u001b[0;32m   1915\u001b[0m         \u001b[0mnew_blocks\u001b[0m \u001b[1;33m=\u001b[0m \u001b[0m_extend_blocks\u001b[0m\u001b[1;33m(\u001b[0m\u001b[0mmerged_blocks\u001b[0m\u001b[1;33m,\u001b[0m \u001b[0mnew_blocks\u001b[0m\u001b[1;33m)\u001b[0m\u001b[1;33m\u001b[0m\u001b[1;33m\u001b[0m\u001b[0m\n",
      "\u001b[1;32m~\\Anaconda3\\lib\\site-packages\\pandas\\core\\internals\\blocks.py\u001b[0m in \u001b[0;36m_merge_blocks\u001b[1;34m(blocks, dtype, _can_consolidate)\u001b[0m\n\u001b[0;32m   3318\u001b[0m         \u001b[1;31m# combination of those slices is a slice, too.\u001b[0m\u001b[1;33m\u001b[0m\u001b[1;33m\u001b[0m\u001b[1;33m\u001b[0m\u001b[0m\n\u001b[0;32m   3319\u001b[0m         \u001b[0mnew_mgr_locs\u001b[0m \u001b[1;33m=\u001b[0m \u001b[0mnp\u001b[0m\u001b[1;33m.\u001b[0m\u001b[0mconcatenate\u001b[0m\u001b[1;33m(\u001b[0m\u001b[1;33m[\u001b[0m\u001b[0mb\u001b[0m\u001b[1;33m.\u001b[0m\u001b[0mmgr_locs\u001b[0m\u001b[1;33m.\u001b[0m\u001b[0mas_array\u001b[0m \u001b[1;32mfor\u001b[0m \u001b[0mb\u001b[0m \u001b[1;32min\u001b[0m \u001b[0mblocks\u001b[0m\u001b[1;33m]\u001b[0m\u001b[1;33m)\u001b[0m\u001b[1;33m\u001b[0m\u001b[1;33m\u001b[0m\u001b[0m\n\u001b[1;32m-> 3320\u001b[1;33m         \u001b[0mnew_values\u001b[0m \u001b[1;33m=\u001b[0m \u001b[0mnp\u001b[0m\u001b[1;33m.\u001b[0m\u001b[0mvstack\u001b[0m\u001b[1;33m(\u001b[0m\u001b[1;33m[\u001b[0m\u001b[0mb\u001b[0m\u001b[1;33m.\u001b[0m\u001b[0mvalues\u001b[0m \u001b[1;32mfor\u001b[0m \u001b[0mb\u001b[0m \u001b[1;32min\u001b[0m \u001b[0mblocks\u001b[0m\u001b[1;33m]\u001b[0m\u001b[1;33m)\u001b[0m\u001b[1;33m\u001b[0m\u001b[1;33m\u001b[0m\u001b[0m\n\u001b[0m\u001b[0;32m   3321\u001b[0m \u001b[1;33m\u001b[0m\u001b[0m\n\u001b[0;32m   3322\u001b[0m         \u001b[0margsort\u001b[0m \u001b[1;33m=\u001b[0m \u001b[0mnp\u001b[0m\u001b[1;33m.\u001b[0m\u001b[0margsort\u001b[0m\u001b[1;33m(\u001b[0m\u001b[0mnew_mgr_locs\u001b[0m\u001b[1;33m)\u001b[0m\u001b[1;33m\u001b[0m\u001b[1;33m\u001b[0m\u001b[0m\n",
      "\u001b[1;32m~\\Anaconda3\\lib\\site-packages\\numpy\\core\\shape_base.py\u001b[0m in \u001b[0;36mvstack\u001b[1;34m(tup)\u001b[0m\n\u001b[0;32m    281\u001b[0m     \"\"\"\n\u001b[0;32m    282\u001b[0m     \u001b[0m_warn_for_nonsequence\u001b[0m\u001b[1;33m(\u001b[0m\u001b[0mtup\u001b[0m\u001b[1;33m)\u001b[0m\u001b[1;33m\u001b[0m\u001b[1;33m\u001b[0m\u001b[0m\n\u001b[1;32m--> 283\u001b[1;33m     \u001b[1;32mreturn\u001b[0m \u001b[0m_nx\u001b[0m\u001b[1;33m.\u001b[0m\u001b[0mconcatenate\u001b[0m\u001b[1;33m(\u001b[0m\u001b[1;33m[\u001b[0m\u001b[0matleast_2d\u001b[0m\u001b[1;33m(\u001b[0m\u001b[0m_m\u001b[0m\u001b[1;33m)\u001b[0m \u001b[1;32mfor\u001b[0m \u001b[0m_m\u001b[0m \u001b[1;32min\u001b[0m \u001b[0mtup\u001b[0m\u001b[1;33m]\u001b[0m\u001b[1;33m,\u001b[0m \u001b[1;36m0\u001b[0m\u001b[1;33m)\u001b[0m\u001b[1;33m\u001b[0m\u001b[1;33m\u001b[0m\u001b[0m\n\u001b[0m\u001b[0;32m    284\u001b[0m \u001b[1;33m\u001b[0m\u001b[0m\n\u001b[0;32m    285\u001b[0m \u001b[1;33m\u001b[0m\u001b[0m\n",
      "\u001b[1;31mKeyboardInterrupt\u001b[0m: "
     ]
    }
   ],
   "source": [
    "# Calculating and transforming country data\n",
    "techcols = ['tech','Country','Scenario','Year','Aluminium', 'Bentonite', 'Carbon Fiber',\n",
    "            'Cast Iron', 'Cement','Ceramics', 'Concrete','Copper', 'Epoxy', 'EVA ', 'Fibre Glass',\n",
    "            'Glass', 'Lubricant', 'Non-Ferrous Metal', 'Paint', 'Plastic', 'PVC','Resin', 'Sand',\n",
    "            'Silicon', 'Steel', 'Stainless Steel']\n",
    "for ef, ne in zip([cE, cW, cR, cK],['E', 'W', 'R', 'K'] ):\n",
    "    globals()['df{}_tech'.format(ne)] = cM.fillna(0).dot(cE.values)\n",
    "    globals()['df{}_tech_sep'.format(ne)]  = cM.fillna(0).multiply(cE.T.values)\n",
    "    globals()['df{}c_tech_sep'.format(ne)] = pd.DataFrame(columns = techcols)\n",
    "#     'df{ne}_{country}_{scenario}_{year}_sep'\n",
    "    for c in dfC['Country'].unique():\n",
    "        for sc in dfC[dfC['Country']==c]['Scenario'].unique():\n",
    "            for y in dfC[(dfC['Country']==c)&(dfC['Scenario']==sc)]['Year'].unique():\n",
    "                df_sep = globals()['df{}_tech_sep'.format(ne)].reindex(index = coln).\\\n",
    "                                                    multiply(dfC[(dfC['Country']==c)&\\\n",
    "                                                                 (dfC['Scenario']==sc)&\\\n",
    "                                                                 (dfC['Year']==y)][coln].T.values) \n",
    "                df_sep = df_sep.reset_index()\n",
    "                df_sep['Country'] = c\n",
    "                df_sep['Scenario'] = sc\n",
    "                df_sep['Year'] = y\n",
    "#                 df_sep used to be called globals()['df{0}_{1}_{2}_{3}_sep'.format(ne,c,sc[0:3],str(y))]\n",
    "                globals()['df{}c_tech_sep'.format(ne)] = globals()['df{}c_tech_sep'.format(ne)].append(df_sep)\n",
    "    globals()['df{}c_tech_sep'.format(ne)] = globals()['df{}c_tech_sep'.format(ne)][techcols]\n",
    "    globals()['df{}c_tech_sep'.format(ne)].to_csv(r'outputs/{}_matbytech_bycountry.csv'.format(ne))\n",
    "\n",
    "#     'df{}_country'.format(ne) \n",
    "    globals()['df{}_country'.format(ne)] = dfC[['Year','Scenario','Country']]\n",
    "    globals()['df{}_country'.format(ne)] ['value'] = 0\n",
    "\n",
    "#     'dfcountry_tech_{}'.format(ne)'\n",
    "    globals()['dfcountry_tech_{}'.format(ne)] = dfC.copy()\n",
    "    for col in globals()['dfcountry_tech_{}'.format(ne)].iloc[:,3:].columns:\n",
    "        globals()['dfcountry_tech_{}'.format(ne)][col] = 0\n",
    "\n",
    "#     'df{}_country'.format(ne) \n",
    "    for index, row in dfC[coln].iterrows():\n",
    "        val = pd.DataFrame(row).fillna(0).T.dot(cM.fillna(0)[0:len(dfC.iloc[:,3:].T)].values).dot(cE.values)\n",
    "        globals()['df{}_country'.format(ne)].loc[index,'value'] = val.values[0]\n",
    "\n",
    "#     'dfcountry_tech_{}'.format(ne)'\n",
    "        valt = pd.DataFrame(row).fillna(0).values*(globals()['df{}_tech'.format(ne)])\n",
    "        for col in valt.T.columns:\n",
    "            globals()['dfcountry_tech_{}'.format(ne)].loc[index,col] = valt.T.loc[0,col]\n",
    "    \n",
    "    globals()['df{}_country'.format(ne)].to_csv(r'outputs/df{}_total_bycountry.csv'.format(ne))\n",
    "    globals()['dfcountry_tech_{}'.format(ne)].to_csv(r'outputs/df{}_tech_bycountry.csv'.format(ne))\n",
    "            "
   ]
  },
  {
   "cell_type": "code",
   "execution_count": 108,
   "metadata": {},
   "outputs": [],
   "source": [
    "# Socio-economic parameters\n",
    "tecec_df = pd.read_excel(r'data/technoeconomic_params.xlsx')\n",
    "\n",
    "lf_df = tecec_df[['Technology','Load factor']].drop([0])\n",
    "\n",
    "sec_techs = ['Diesel (centralised)', 'Diesel 1 kW system (decentralised)',\n",
    "           'HFO', 'OCGT', 'CCGT', 'CCGT - CCS', 'Supercritical coal',\n",
    "           'Coal + CCS', 'Hydro (large scale)', 'Hydro (small scale)',\n",
    "           'Hydro (med. scale)', 'Biomass', 'Biomass (CHP small)',\n",
    "           'Biomass CCS', 'Nuclear', 'Geothermal', 'Wind onshore',\n",
    "           'Wind offshore', 'Solar PV (centr.)', 'Solar PV (decentralised)',\n",
    "           'Solar PV with battery', 'Solar CSP', 'Solar CSP with storage']\n",
    "o_techs = ['Diesel', 'Diesel',\n",
    "           'Oil', 'Gas', 'Gas', 'Gas CCS', 'Coal',\n",
    "           'Coal CCS', 'Hydro', 'Hydro',\n",
    "           'Hydro', 'Biomass', 'Biomass',\n",
    "           'Biomass CCS', 'Nuclear', 'Geothermal', 'Wind (Onshore)',\n",
    "           'Wind (Offshore)', 'Solar PV', 'Solar PV',\n",
    "           'Solar PV', 'Solar CSP', 'Solar CSP']\n",
    "lf_d = pd.DataFrame(list(zip(sec_techs,o_techs)), columns = ['Technology','tech'])\n",
    "\n",
    "lf_d = lf_d.set_index('Technology')['tech'].to_dict()\n",
    "lf_df['tech']= lf_df['Technology'].map(lf_d)\n",
    "lf_df = lf_df[['tech','Technology','Load factor']]\n",
    "lf_df.loc[lf_df['Load factor']=='Varies','Load factor'] = 0\n",
    "\n",
    "lf_df['Load factor'] = lf_df['Load factor'].astype('int')\n",
    "\n",
    "# Completing Wind values with data from the UK\n",
    "# Source: https://www.renewableuk.com/page/UKWEDExplained\n",
    "lf_df.loc[lf_df['tech']=='Wind (Onshore)','Load factor'] = 26.62\n",
    "lf_df.loc[lf_df['tech']=='Wind (Offshore)','Load factor'] = 38.86\n",
    "lf_df.loc[lf_df['tech']=='Wind (Offshore)','Load factor'] = 58.4 # new build offshore wind (2023/24/25) is 58.4%\n",
    "\n",
    "# Averaging load factors (improve this when technologies are more specific)\n",
    "lf_df = (lf_df[['tech','Load factor']].groupby(['tech'], as_index = False).agg('mean'))\n",
    "lf_df.to_csv(r'outputs/load_factors.csv')\n"
   ]
  },
  {
   "cell_type": "markdown",
   "metadata": {},
   "source": [
    "# Errors"
   ]
  },
  {
   "cell_type": "code",
   "execution_count": 189,
   "metadata": {},
   "outputs": [],
   "source": [
    "# country energy projection [kWh]\n",
    "e_C = pd.read_excel(r'data/Excel_model_material_implications_energy_systems.xlsx', \n",
    "                    sheet_name = 'Matrices', \n",
    "                skiprows = 2, usecols = \"AQ:AW\", nrows = 1)\n",
    "# material per energy technology [g/kWh]\n",
    "e_M = pd.read_excel(r'data/Excel_model_material_implications_energy_systems.xlsx', \n",
    "                    sheet_name = 'Matrices', \n",
    "                skiprows = 2, usecols = \"AY:BU\", nrows = 10)\n",
    "# embodied emissions (GHG) per material [gCO2e/g]\n",
    "e_E = pd.read_excel(r'data/Excel_model_material_implications_energy_systems.xlsx', \n",
    "                    sheet_name = 'Matrices', \n",
    "                skiprows = 2, usecols = \"BX:BX\", nrows = 22)\n",
    "# water usage per material [l/kg]\n",
    "e_W = pd.read_excel(r'data/Excel_model_material_implications_energy_systems.xlsx', \n",
    "                    sheet_name = 'Matrices', \n",
    "                skiprows = 2, usecols = \"BY:BY\", nrows = 22)\n",
    "# recycling rate in current supply per material [%]\n",
    "e_R = pd.read_excel(r'data/Excel_model_material_implications_energy_systems.xlsx', \n",
    "                    sheet_name = 'Matrices', \n",
    "                skiprows = 2, usecols = \"BZ:BZ\", nrows = 22)\n",
    "# costs per material [â‚¬/kg]\n",
    "e_K = pd.read_excel(r'data/Excel_model_material_implications_energy_systems.xlsx', \n",
    "                    sheet_name = 'Matrices', \n",
    "                skiprows = 2, usecols = \"CA:CA\", nrows = 22)\n",
    "e_K = e_K/1000\n",
    "\n",
    "for ef in [e_C, e_M, e_E, e_W, e_R, e_K]:\n",
    "    eco = ef.columns.values\n",
    "    ef.columns = [str(x).replace('.1','') for x in eco]\n",
    "e_M = e_M.rename(columns={'[g/kWh]':'tech'}).set_index('tech')"
   ]
  },
  {
   "cell_type": "markdown",
   "metadata": {},
   "source": [
    "# Errors for all countries"
   ]
  },
  {
   "cell_type": "code",
   "execution_count": 191,
   "metadata": {},
   "outputs": [],
   "source": [
    "# Error or all countries and scenarios\n",
    "e_dfC = pd.read_excel(r'data/EnergyProjection.xlsx', sheet_name = 'All countries (e)', \n",
    "                skiprows = 2, usecols = \"B:R\")\n",
    "# material per energy technology [g/kWh]\n",
    "e_cM = pd.read_excel(r'data/Excel_model_material_implications_energy_systems.xlsx', \n",
    "                    sheet_name = 'Matrices (country)', \n",
    "                skiprows = 2, usecols = \"BM:CI\", nrows = 15)\n",
    "# embodied emissions (GHG) per material [gCO2e/g]\n",
    "e_cE = pd.read_excel(r'data/Excel_model_material_implications_energy_systems.xlsx', \n",
    "                    sheet_name = 'Matrices (country)', \n",
    "                skiprows = 2, usecols = \"CL\", nrows = 22)\n",
    "# water usage per material [l/kg]\n",
    "e_cW = pd.read_excel(r'data/Excel_model_material_implications_energy_systems.xlsx', \n",
    "                    sheet_name = 'Matrices (country)', \n",
    "                skiprows = 2, usecols = \"CM\", nrows = 22)\n",
    "# recycling rate in current supply per material [%]\n",
    "e_cR = pd.read_excel(r'data/Excel_model_material_implications_energy_systems.xlsx', \n",
    "                    sheet_name = 'Matrices (country)', \n",
    "                skiprows = 2, usecols = \"CN\", nrows = 22)\n",
    "# costs per material [â‚¬/kg]\n",
    "e_cK = pd.read_excel(r'data/Excel_model_material_implications_energy_systems.xlsx', \n",
    "                    sheet_name = 'Matrices (country)', \n",
    "                skiprows = 2, usecols = \"CO\", nrows = 22)\n",
    "e_cK = e_cK/1000\n",
    "\n",
    "# e_dfC\n",
    "for ef in [ e_cM, e_cE, e_cW, e_cR, e_cK]:\n",
    "    eco = ef.columns.values\n",
    "    ef.columns = [str(x).replace('.1','') for x in eco]\n",
    "e_cM = e_cM.rename(columns={'[g/kWh]':'tech'}).set_index('tech')\n"
   ]
  },
  {
   "cell_type": "markdown",
   "metadata": {},
   "source": [
    "## Temba errors"
   ]
  },
  {
   "cell_type": "code",
   "execution_count": null,
   "metadata": {},
   "outputs": [],
   "source": [
    "egeneration_df = generation_df\n",
    "egeneration_df['Value'] = [x*0.2 for x in egeneration_df['Value']]\n",
    "egeneration_piv = pd.pivot_table(egeneration_df, values = 'Value', \n",
    "                                      index = ['Year', 'scenario', 'country','parameter'], \n",
    "                                      columns = 'tech', aggfunc=np.sum)\n",
    "egeneration_piv = egeneration_piv.reset_index()\n",
    "\n",
    "egeneration_piv = egeneration_piv.drop(columns = 'parameter')\n",
    "egeneration_piv.rename(columns ={'scenario':'Scenario','country':'Country'}, inplace = True)\n",
    "\n",
    "e_dfC['Coal CCS'] = 0\n",
    "e_dfC = dfC.append(egeneration_piv)\n",
    "e_dfC = dfC[['Year', 'Scenario', 'Country', 'Wind (Onshore)', 'Wind (Offshore)',\n",
    "       'Solar CSP', 'Solar PV', 'Hydro', 'Oil', 'Gas CCS', 'Gas', 'Nuclear',\n",
    "       'Geothermal', 'Coal', 'Coal CCS', 'Biomass', 'BECCS', 'Hydrogen']]"
   ]
  },
  {
   "cell_type": "markdown",
   "metadata": {},
   "source": [
    "## Error calculations"
   ]
  },
  {
   "cell_type": "code",
   "execution_count": 27,
   "metadata": {
    "scrolled": true
   },
   "outputs": [],
   "source": [
    "# clean calculations trying .dot\n",
    "for ef, ne in zip([e_E, e_W, e_R, e_K],['E', 'W', 'R', 'K'] ):\n",
    "    #seperate errors per material per kWh for different impacts \n",
    "    globals()['em_'.format(ne)] = ((ef/globals()['{}'.format(ne)]).pow(2)).T\n",
    "    globals()['em_'.format(ne)].columns = e_cM.columns\n",
    "    globals()['em_'.format(ne)] = globals()['em_'.format(ne)].reset_index().drop(columns='index', axis = 1)\n",
    "    \n",
    "    t1 = pd.DataFrame([x+y for x in ((e_cM/cM).pow(2)).values for y in globals()['em_'.format(ne)].values]).pow(0.5)\n",
    "    t1.columns = globals()['{}_tech_sep'.format(ne)].columns\n",
    "    t1.index = e_cM.index\n",
    "    \n",
    "#     e_E_tech_sep = E_tech_sep.*sqrt((e_M./M).^2+(e_E'./E').^2)\n",
    "    globals()['e_{}_tech_sep'.format(ne)] = globals()['{}_tech_sep'.format(ne)].mul(t1, fill_value=0)\n",
    "    globals()['e_{}_tot'.format(ne)] = globals()['e_{}_tech_sep'.format(ne)].T.sum()\n",
    "# Do I need to remove any rows with this? [0:len(C.T)]\n",
    "\n",
    "for ef, ne in zip([e_E, e_W, e_R, e_K],['E', 'W', 'R', 'K'] ):\n",
    "    #seperate errors per material per kWh for different impacts \n",
    "    globals()['em_'.format(ne)] = ((ef/globals()['{}'.format(ne)]).pow(2)).T\n",
    "    globals()['em_'.format(ne)].columns = e_M.columns\n",
    "    globals()['em_'.format(ne)] = globals()['em_'.format(ne)].reset_index().drop(columns='index', axis = 1)\n",
    "    \n",
    "    # add index of tech to t2, otherwise the calc gives error\n",
    "    tc = (e_C/C).T\n",
    "    t2 = pd.DataFrame([x+y+z for x in ((e_M[0:len(C.T)]/M[0:len(C.T)]).pow(2)).values for y in globals()['em_'.format(ne)].values for z in (tc.pow(2))]).pow(0.5)\n",
    "    t2.columns =  globals()['e_{}_tech_sep'.format(ne)].columns\n",
    "    t2.index = tc.index\n",
    "    \n",
    "    globals()['e_{}_country_sep'.format(ne)] = globals()['{}_country_sep'.format(ne)].mul(t2, fill_value=0)\n",
    "    globals()['e_{}c_tot'.format(ne)] = globals()['e_{}_country_sep'.format(ne)].T.sum()"
   ]
  },
  {
   "cell_type": "code",
   "execution_count": 155,
   "metadata": {
    "scrolled": true
   },
   "outputs": [
    {
     "name": "stdout",
     "output_type": "stream",
     "text": [
      "Uganda Baseline 2010\n",
      "Uganda Scenario 1 2040\n",
      "UK Baseline 2020\n",
      "UK Consumer Transformation 2050\n",
      "UK System Transformation 2050\n",
      "UK Leading the Way 2050\n",
      "UK Steady Progression 2050\n",
      "Kenya Baseline 0\n",
      "Uganda Baseline 2010\n",
      "Uganda Scenario 1 2040\n",
      "UK Baseline 2020\n",
      "UK Consumer Transformation 2050\n",
      "UK System Transformation 2050\n",
      "UK Leading the Way 2050\n",
      "UK Steady Progression 2050\n",
      "Kenya Baseline 0\n",
      "Uganda Baseline 2010\n",
      "Uganda Scenario 1 2040\n",
      "UK Baseline 2020\n",
      "UK Consumer Transformation 2050\n",
      "UK System Transformation 2050\n",
      "UK Leading the Way 2050\n",
      "UK Steady Progression 2050\n",
      "Kenya Baseline 0\n",
      "Uganda Baseline 2010\n",
      "Uganda Scenario 1 2040\n",
      "UK Baseline 2020\n",
      "UK Consumer Transformation 2050\n",
      "UK System Transformation 2050\n",
      "UK Leading the Way 2050\n",
      "UK Steady Progression 2050\n",
      "Kenya Baseline 0\n"
     ]
    }
   ],
   "source": [
    "\n",
    "# Ordering dfC columns for the same order as M\n",
    "coln = list(cM.index)\n",
    "techs = ['Wind (Onshore)', 'Solar CSP', 'Solar PV', 'Hydro', 'Geothermal',\n",
    "       'Gas CCS', 'Oil', 'Gas', 'Coal', 'Wind (Offshore)', 'Biomass',\n",
    "       'Nuclear', 'BECCS', 'Hydrogen', 'Coal CCS']\n",
    "mats = list(cM.columns)\n",
    "\n",
    "for ef, ne in zip([e_cE, e_cW, e_cR, e_cK],['E', 'W', 'R', 'K'] ):\n",
    "    #seperate errors per material per kWh for different impacts \n",
    "    globals()['em_'.format(ne)] = ((ef/globals()['{}'.format(ne)]).pow(2)).T\n",
    "    globals()['em_'.format(ne)].columns = e_cM.columns\n",
    "    globals()['em_'.format(ne)] = globals()['em_'.format(ne)].reset_index().drop(columns='index', axis = 1)\n",
    "    \n",
    "    t1 = pd.DataFrame([x+y for x in ((e_cM/cM).pow(2)).values for y in globals()['em_'.format(ne)].values]).pow(0.5)\n",
    "    t1.columns = globals()['df{}_tech_sep'.format(ne)].columns\n",
    "    t1.index = e_cM.index\n",
    "    \n",
    "#     e_E_tech_sep = E_tech_sep.*sqrt((e_M./M).^2+(e_E'./E').^2)\n",
    "    globals()['e_df{}_tech_sep'.format(ne)] = globals()['df{}_tech_sep'.format(ne)].mul(t1, fill_value=0)\n",
    "    globals()['e_df{}_tot'.format(ne)] = globals()['e_df{}_tech_sep'.format(ne)].T.sum()\n",
    "# Do I need to remove any rows with this? [0:len(C.T)]\n",
    "\n",
    "for ef, ne in zip([e_cE, e_cW, e_cR, e_cK],['E', 'W', 'R', 'K'] ):\n",
    "    #seperate errors per material per kWh for different impacts \n",
    "    globals()['em_'.format(ne)] = ((ef/globals()['{}'.format(ne)]).pow(2)).T\n",
    "    globals()['em_'.format(ne)].columns = e_cM.columns\n",
    "    globals()['em_'.format(ne)] = globals()['em_'.format(ne)].reset_index().drop(columns='index', axis = 1)\n",
    "    \n",
    "    globals()['e_df{0}_countries_sep'.format(ne)] = pd.DataFrame(columns =['Country','Year',\n",
    "                                                                           'Scenario','tech']+mats )\n",
    "    globals()['e_df{0}c_tot'.format(ne)] = pd.DataFrame(columns =['Country','Year','Scenario']+techs )\n",
    "    for c in dfC['Country'].unique():\n",
    "        for sc in dfC[dfC['Country']==c]['Scenario'].unique():\n",
    "            for y in dfC[(dfC['Country']==c)&(dfC['Scenario']==sc)]['Year'].unique():\n",
    "#                 print(c, sc, y)\n",
    "                # add index of tech to t2, otherwise the calc gives error\n",
    "                tc = (e_dfC[(e_dfC['Country']==c)&\\\n",
    "                            (e_dfC['Scenario']==sc)&\\\n",
    "                            (e_dfC['Year']==y)][coln]/dfC[(dfC['Country']==c)&(dfC['Scenario']==sc)&\\\n",
    "                                                          (dfC['Year']==y)])[coln].T\n",
    "                t2 = pd.DataFrame([x+y+z \n",
    "                                   for x \n",
    "                                   in ((e_cM/cM).pow(2)).values \n",
    "                                   for y \n",
    "                                   in globals()['em_'.format(ne)].values for z in (tc.pow(2))]).pow(0.5)\n",
    "                t2.columns =  globals()['e_{}_tech_sep'.format(ne)].columns\n",
    "                t2.index = tc.index\n",
    "                \n",
    "#                 news = pd.DataFrame(globals()['df{0}_{1}_{2}_{3}_sep'.format(ne,c,sc[0:3],str(y))].mul(t2, fill_value=0))\n",
    "                news = globals()['df{}c_tech_sep'.format(ne)]\n",
    "                news = news[(news['Country']==c)&(news['Scenario']==sc)&(news['Year']==y)]\n",
    "                news = news.drop(columns=['Country','Scenario','Year']).set_index('tech').mul(t2, fill_value=0)\n",
    "                news = news.reset_index()\n",
    "                news['Country'] = c\n",
    "                news['Scenario'] = sc\n",
    "                news['Year'] = y\n",
    "                globals()['e_df{0}_countries_sep'.format(ne)] = globals()['e_df{0}_countries_sep'.format(ne)].append(news)\n",
    "                globals()['e_df{0}_countries_sep'.format(ne)] = globals()['e_df{0}_countries_sep'.format(ne)][['Country',\n",
    "                                                                                                               'Year',\n",
    "                                                                                                               'Scenario',\n",
    "                                                                                                               'tech']+mats]\n",
    "                globals()['e_df{0}_countries_sep'.format(ne)].to_csv(r'outputs/errors{}_bymat_bycountry.csv'.format(ne))\n",
    "                \n",
    "#                 new = pd.DataFrame(globals()['df{0}_{1}_{2}_{3}_sep'.format(ne,c,sc[0:3],str(y))].mul(t2, fill_value=0))\n",
    "                new = globals()['df{}c_tech_sep'.format(ne)]\n",
    "                new = new[(new['Country']==c)&(news['Scenario']==sc)&(news['Year']==y)]\n",
    "                new = new.drop(columns=['Country','Scenario','Year']).set_index('tech').mul(t2, fill_value=0)\n",
    "                new = new.T.sum().reset_index().set_index('tech').T\n",
    "                new['Country'] = c\n",
    "                new['Scenario'] = sc\n",
    "                new['Year'] = y\n",
    "                globals()['e_df{0}c_tot'.format(ne)] = globals()['e_df{0}c_tot'.format(ne)].append(new)\n",
    "                globals()['e_df{0}c_tot'.format(ne)] =globals()['e_df{0}c_tot'.format(ne)][['Country',\n",
    "                                                                                            'Year',\n",
    "                                                                                            'Scenario']+techs]\n",
    "                globals()['e_df{0}c_tot'.format(ne)].to_csv(r'outputs/errors{}_total_bycountry.csv'.format(ne))\n",
    "                \n",
    "                \n",
    "                "
   ]
  },
  {
   "cell_type": "markdown",
   "metadata": {},
   "source": [
    "# Employment and land-use"
   ]
  },
  {
   "cell_type": "code",
   "execution_count": 194,
   "metadata": {},
   "outputs": [],
   "source": [
    "# Employment by stage [job-years/MW] Manuf and C&I and Dec, [jobs/MW] for O&M, [jobs/PJ] for fuel\n",
    "jobs = pd.read_excel(r'data/Excel_model_material_implications_energy_systems.xlsx', \n",
    "                    sheet_name = 'Employment', \n",
    "                skiprows = 37, usecols = \"B:G,T\", nrows = 23)\n",
    "jobs.columns = ['tech', 'Manufacturing', 'Construction and Installation',\n",
    "       'Operation and Maintenance', 'Fuel', 'Decommissioning', 'Total']\n",
    "jobs['tech_specific'] = jobs['tech']\n",
    "\n",
    "# In [jobs-lifetime/kWh]\n",
    "op_jobs = pd.read_excel(r'data/Excel_model_material_implications_energy_systems.xlsx', \n",
    "                    sheet_name = 'Employment', \n",
    "                skiprows = 65, usecols = \"B:G\", nrows = 23)\n",
    "op_jobs.columns = ['tech','Capacity (MW)', 'kWh/lifetime', 'Load factor','Lifetime','Operation and Maintenance']\n",
    "\n",
    "# country_jobs = jobs.merge(op_jobs[['tech','Capacity (MW)','kWh/lifetime']], on = 'tech')\n",
    "# Ram2020 has Regional Employment multipliers that should be useful for country evaluations\n",
    "\n",
    "# Land required [km^2/1000 MW]\n",
    "land = pd.read_excel(r'data/Excel_model_material_implications_energy_systems.xlsx', \n",
    "                    sheet_name = 'Employment', \n",
    "                skiprows = 19, usecols = \"B:C\", nrows = 15)\n",
    "land.columns = ['tech','land']\n",
    "\n",
    "# country_jobs['Operation and Maintenance (jobs)'] = country_jobs['Capacity (MW)'] * country_jobs['Operation and Maintenance']\n",
    "\n",
    "# Mapping specific techs to general tech names\n",
    "tech_u = ['Solar CSP', 'Solar PV', 'Solar PV',\n",
    "       'Hydro', 'Hydro', 'Geothermal', 'Gas CCS', 'Oil',\n",
    "       'Gas', 'Gas', 'Coal', 'Wind (Onshore)',\n",
    "       'Wind (Offshore)', 'Nuclear', 'Biomass', 'Biogas', 'BECCS',\n",
    "       'Hydrogen', 'Waste-to-energy', 'Storage',\n",
    "       'Storage', 'Storage',\n",
    "       'Storage',\n",
    "          'Storage', 'Power to Heat', 'Methanation', 'Steam Turbine']\n",
    "tech_sp = ['Solar CSP', 'Solar PV (utility)', 'Solar PV (rooftop)',\n",
    "       'Hydro (Dam)', 'Hydro (RoR)', 'Geothermal', 'Gas CCS', 'Oil',\n",
    "       'Gas (OCGT)', 'Gas (CCGT)', 'Coal', 'Wind (Onshore)',\n",
    "       'Wind (Offshore)', 'Nuclear', 'Biomass', 'Biogas', 'BECCS',\n",
    "       'Hydrogen', 'Waste-to-energy', 'Storage Pumped Hydro',\n",
    "       'Storage Battery (large scale)', 'Storage Battery (prosumer)',\n",
    "       'Storage Gas', \n",
    "        'Storage Adiabatic Compressed Air Energy', 'Power to Heat (PtH)', 'Methanation', 'Steam Turbine (ST)']\n",
    "\n",
    "techd = pd.DataFrame(list(zip(tech_u,tech_sp)), columns = ['tech','tech_specific'])\n",
    "techd = techd.set_index('tech_specific')['tech'].to_dict() \n",
    "\n",
    "jobs['tech'] = jobs['tech_specific'].map(techd)\n",
    "\n",
    "# Averaging jobs by tech\n",
    "jobs_m = pd.melt(jobs.drop(columns = 'Total'), \n",
    "                     id_vars = ['tech_specific','tech'], \n",
    "                     var_name = 'Type', value_name = 'Value')\n",
    "av_jobs = jobs_m.groupby(['tech','Type']).mean().reset_index()\n",
    "\n",
    "jobs_piv = pd.pivot_table(av_jobs, values = 'Value', \n",
    "                          index = ['tech'], \n",
    "                          columns = 'Type', \n",
    "                          aggfunc=np.sum)\n",
    "jobs_piv.to_csv(r'outputs/jobs_piv.csv')"
   ]
  },
  {
   "cell_type": "markdown",
   "metadata": {},
   "source": [
    "## Employment calculations using multipliers"
   ]
  },
  {
   "cell_type": "code",
   "execution_count": 39,
   "metadata": {},
   "outputs": [],
   "source": [
    "# Regional multipliers\n",
    "job_regfact = pd.read_excel(r'data/1-s2.0-S0040162518314112-mmc1.xlsx', \n",
    "                                sheet_name = 'Regional Factors', skiprows = 1,\n",
    "                                usecols = \"A:I\", nrows = 10)\n",
    "job_regfact = job_regfact.rename(columns = {'Unnamed: 0':'Region'})\n",
    "job_regfact['Multiplier_name'] = 'Regional_factor'\n",
    "\n",
    "job_expfac = pd.read_excel(r'data/1-s2.0-S0040162518314112-mmc1.xlsx', \n",
    "                                sheet_name = 'Import-Export Shares', skiprows = 1,\n",
    "                                usecols = \"A:I\", nrows = 10)\n",
    "job_expfac = job_expfac.rename(columns = {'Unnamed: 0':'Region'})\n",
    "job_expfac['Multiplier_name'] = 'Export_factor'\n",
    "\n",
    "job_multipliers = pd.DataFrame(columns = ['Region', 2015, 2020, 2025, \n",
    "                                          2030, 2035, 2040, 2045, 2050, 'Multiplier_name'] )\n",
    "for df in [job_regfact,job_expfac]:\n",
    "    job_multipliers = job_multipliers.append(df)\n",
    "    \n",
    "job_multipliers_m = pd.melt(job_multipliers.reset_index(), \n",
    "                     id_vars = ['Region','Multiplier_name'], \n",
    "                     var_name = 'Year', value_name = 'Value')\n",
    "\n",
    "job_multipliers_piv = pd.pivot_table(job_multipliers_m, values = 'Value', \n",
    "                          index = ['Region','Year'], \n",
    "                          columns = 'Multiplier_name', \n",
    "                          aggfunc=np.sum).reset_index()\n"
   ]
  },
  {
   "cell_type": "code",
   "execution_count": 138,
   "metadata": {},
   "outputs": [
    {
     "name": "stdout",
     "output_type": "stream",
     "text": [
      "Europe\n",
      "Europe\n",
      "Eurasia\n",
      "Eurasia\n",
      "MENA\n",
      "MENA\n",
      "Sub-Saharan Africa\n",
      "Sub-Saharan Africa\n",
      "SAARC\n",
      "SAARC\n",
      "Northeast Asia\n",
      "Northeast Asia\n",
      "Southeast Asia\n",
      "Southeast Asia\n",
      "North America\n",
      "North America\n",
      "South America\n",
      "South America\n"
     ]
    }
   ],
   "source": [
    "#  Filling in multipliers for missing years\n",
    "\n",
    "job_multipliers_pred = pd.DataFrame(columns = job_multipliers_m.columns)\n",
    "for r in job_multipliers_m[(job_multipliers_m['Region'].notnull())&\\\n",
    "                           (job_multipliers_m['Region']!='Global')]['Region'].unique():\n",
    "    for m in job_multipliers_m['Multiplier_name'].unique():\n",
    "        print(r)\n",
    "        x = job_multipliers_m[(job_multipliers_m['Year']!= 'index')&\\\n",
    "                              (job_multipliers_m['Region']== r)&\\\n",
    "                              (job_multipliers_m['Multiplier_name']== m)]['Year'].astype(str).astype(int)\n",
    "        \n",
    "        y = job_multipliers_m[(job_multipliers_m['Year']!= 'index')&\\\n",
    "                              (job_multipliers_m['Region']== r)&\\\n",
    "                              (job_multipliers_m['Multiplier_name']== m)]['Value'].values\n",
    "\n",
    "        # fit function\n",
    "        z = np.polyfit(x, y, 2)\n",
    "        f = np.poly1d(z)\n",
    "\n",
    "        # calculate new x's and y's\n",
    "        x_new = list(range(2015, 2066))\n",
    "        y_new = f(x_new)\n",
    "        \n",
    "        m1 = pd.DataFrame(list(zip(x_new,y_new)), columns = ['Year','Value'])\n",
    "        m1['Multiplier_name'] = m\n",
    "        m1['Region'] = r      \n",
    "        \n",
    "        if (r == 'Europe' or r == 'Southeast Asia') and m == 'Export_factor':\n",
    "            xx = job_multipliers_m[(job_multipliers_m['Region']== r)&\\\n",
    "                                  (job_multipliers_m['Multiplier_name']== m)&\\\n",
    "                                  (job_multipliers_m['Year']== 2020)]['Value'].values[0]\n",
    "            m1.loc[m1['Year']<2035, 'Value'] = xx\n",
    "            \n",
    "            xx2 = job_multipliers_m[(job_multipliers_m['Region']== r)&\\\n",
    "                                  (job_multipliers_m['Multiplier_name']== m)&\\\n",
    "                                  (job_multipliers_m['Year']== 2035)]['Value'].values[0]\n",
    "            m1.loc[m1['Year']>=2035, 'Value'] = xx2\n",
    "        \n",
    "        if r == 'North America' and m == 'Export_factor':\n",
    "            xx0 = job_multipliers_m[(job_multipliers_m['Region']== r)&\\\n",
    "                                  (job_multipliers_m['Multiplier_name']== m)&\\\n",
    "                                  (job_multipliers_m['Year']== 2015)]['Value'].values[0]\n",
    "            m1.loc[m1['Year']<2020, 'Value'] = xx0\n",
    "            \n",
    "            xx = job_multipliers_m[(job_multipliers_m['Region']== r)&\\\n",
    "                                  (job_multipliers_m['Multiplier_name']== m)&\\\n",
    "                                  (job_multipliers_m['Year']== 2020)]['Value'].values[0]\n",
    "            m1.loc[m1[(m1['Year']<2035)&(m1['Year']>=2020)].index, 'Value'] = xx\n",
    "            \n",
    "            xx2 = job_multipliers_m[(job_multipliers_m['Region']== r)&\\\n",
    "                                  (job_multipliers_m['Multiplier_name']== m)&\\\n",
    "                                  (job_multipliers_m['Year']== 2035)]['Value'].values[0]\n",
    "            m1.loc[m1['Year']>=2035, 'Value'] = xx2\n",
    "            \n",
    "        if r == 'SAARC' and m == 'Export_factor':\n",
    "            xx = job_multipliers_m[(job_multipliers_m['Region']== r)&\\\n",
    "                                  (job_multipliers_m['Multiplier_name']== m)&\\\n",
    "                                  (job_multipliers_m['Year']== 2030)]['Value'].values[0]\n",
    "            m1.loc[m1['Year']>=2030, 'Value'] = xx\n",
    "            \n",
    "        if r == 'Northeast Asia' and m == 'Regional_factor':\n",
    "            xx = job_multipliers_m[(job_multipliers_m['Region']== r)&\\\n",
    "                                  (job_multipliers_m['Multiplier_name']== m)&\\\n",
    "                                  (job_multipliers_m['Year']== 2040)]['Value'].values[0]\n",
    "            m1.loc[m1['Year']>=2035, 'Value'] = xx\n",
    "            \n",
    "        if r == 'South America' and m == 'Export_factor':\n",
    "            xx = job_multipliers_m[(job_multipliers_m['Region']== r)&\\\n",
    "                                  (job_multipliers_m['Multiplier_name']== m)&\\\n",
    "                                  (job_multipliers_m['Year']== 2040)]['Value'].values[0]\n",
    "            m1.loc[m1['Year']>=2040, 'Value'] = xx\n",
    "            \n",
    "        if (r == 'Southeast Asia' or r == 'South America' or r == 'Eurasia' or\\\n",
    "            r == 'MENA' or r == 'Sub-Saharan Africa' or r == 'SAARC') and m == 'Regional_factor':\n",
    "            xx = job_multipliers_m[(job_multipliers_m['Region']== r)&\\\n",
    "                                  (job_multipliers_m['Multiplier_name']== m)&\\\n",
    "                                  (job_multipliers_m['Year']== 2050)]['Value'].values[0]\n",
    "            m1.loc[m1['Year']>2050, 'Value'] = xx\n",
    "            \n",
    "        job_multipliers_pred = job_multipliers_pred.append(m1) \n",
    "        \n",
    "#         If graphs are needed\n",
    "#         print(m)\n",
    "#         plt.plot(x,y,'o', x_new, y_new, m1['Year'],m1['Value'])\n",
    "#         plt.xlim([2014, 2066 ])\n",
    "#         plt.show()\n",
    "        \n",
    "job_multipliers_pred_piv = pd.pivot_table(job_multipliers_pred, values = 'Value', \n",
    "                          index = ['Region','Year'], \n",
    "                          columns = 'Multiplier_name', \n",
    "                          aggfunc=np.sum).reset_index()\n",
    "\n",
    "job_multipliers_pred_piv.to_csv(r'outputs/job_multipliers.csv')  \n",
    "\n",
    "        "
   ]
  },
  {
   "cell_type": "code",
   "execution_count": 40,
   "metadata": {},
   "outputs": [],
   "source": [
    "# This is for technologies (not regions)\n",
    "job_decfactC = pd.read_excel(r'data/1-s2.0-S0040162518314112-mmc1.xlsx', \n",
    "                                sheet_name = 'Decline Factors', skiprows = 1,\n",
    "                                usecols = \"A,K:R\", nrows = 25)\n",
    "job_decfactC.columns = ['tech_spec',2015,2020,2025,2030,2035,2040,2045,2050]\n",
    "job_decfactC['Multiplier_name'] = 'Capex_declinefactor'\n",
    "\n",
    "job_decfactO = pd.read_excel(r'data/1-s2.0-S0040162518314112-mmc1.xlsx', \n",
    "                                sheet_name = 'Decline Factors', skiprows = 30,\n",
    "                                usecols = \"A,K:R\", nrows = 25)\n",
    "job_decfactO.columns = ['tech_spec',2015,2020,2025,2030,2035,2040,2045,2050]\n",
    "job_decfactO['Multiplier_name'] = 'Opex_declinefactor'\n",
    "job_decfact = job_decfactC.append(job_decfactO)\n",
    "\n",
    "tech_o = ['Wind onshore', 'Wind offshore', 'PV Utility-scale', 'PV rooftop',\n",
    "       'Biomass', 'Hydro Dam', 'Hydro RoR', 'Geothermal', 'CSP',\n",
    "       'CHP Biogas', 'Waste-to-energy', 'Methanation',\n",
    "       'Coal PP (Hard Coal)', 'Nuclear PP', 'OCGT', 'CCGT',\n",
    "       'Steam Turbine (ST)', 'Power to Heat (PtH) ',\n",
    "       'Internal Combustion Engine (ICE)', 'Gas Storage',\n",
    "       'Power to Gas (PtG)', 'Battery Storage large-scale',\n",
    "       'Battery Storage prosumer', 'Pumped Hydro Storage (PHS)',\n",
    "       'Adiabatic Compressed Air Energy Storage (A-CAES)',\n",
    "       'PV Utility scale', 'PV roof top']\n",
    "\n",
    "tech_sp = ['Wind (Onshore)', 'Wind (Offshore)', 'Solar PV (utility)', 'Solar PV (rooftop)',\n",
    "       'Biomass', 'Hydro (Dam)', 'Hydro (RoR)', 'Geothermal', 'Solar CSP',\n",
    "       'Biogas', 'Waste-to-energy', 'Methanation',\n",
    "       'Coal', 'Nuclear', 'Gas (OCGT)', 'Gas (CCGT)',\n",
    "       'Steam Turbine (ST)', 'Power to Heat (PtH)',\n",
    "       'Internal Combustion Engine (ICE)', 'Storage Gas',\n",
    "       'Power to Gas (PtG)', 'Storage Battery (large-scale)',\n",
    "       'Storage Battery (prosumer)', 'Storage Pumped Hydro',\n",
    "       'Storage Adiabatic Compressed Air Energy',\n",
    "       'Solar PV (utility)', 'Solar PV (rooftop)']\n",
    "\n",
    "techd2 = pd.DataFrame(list(zip(tech_o,tech_sp)), columns = ['tech_specific','tech_spec'])\n",
    "techd2 = techd2.set_index('tech_specific')['tech_spec'].to_dict()\n",
    "\n",
    "job_decfact['tech_specific'] = job_decfact['tech_spec'].map(techd2)\n",
    "job_decfact['tech'] = job_decfact['tech_specific'].map(techd)\n",
    "\n",
    "job_decfact= job_decfact.drop(columns = ['tech_spec']).set_index('tech')\n",
    "\n",
    "job_decfact_m = pd.melt(job_decfact.reset_index(), \n",
    "                     id_vars = ['tech','tech_specific','Multiplier_name'], \n",
    "                     var_name = 'Year', value_name = 'Value')\n",
    "\n",
    "job_decfact_piv = pd.pivot_table(job_decfact_m, values = 'Value', \n",
    "                          index = ['tech','tech_specific','Year'], \n",
    "                          columns = 'Multiplier_name', \n",
    "                          aggfunc=np.sum).reset_index()\n"
   ]
  },
  {
   "cell_type": "code",
   "execution_count": 152,
   "metadata": {
    "scrolled": true
   },
   "outputs": [
    {
     "name": "stdout",
     "output_type": "stream",
     "text": [
      "Wind (Onshore)\n",
      "Wind (Onshore)\n",
      "Wind (Offshore)\n",
      "Wind (Offshore)\n",
      "Solar PV (utility)\n",
      "Solar PV (utility)\n",
      "Solar PV (rooftop)\n",
      "Solar PV (rooftop)\n",
      "Biomass\n",
      "Biomass\n",
      "Hydro (Dam)\n",
      "Hydro (Dam)\n",
      "Hydro (RoR)\n",
      "Hydro (RoR)\n",
      "Geothermal\n",
      "Geothermal\n",
      "Solar CSP\n",
      "Solar CSP\n",
      "Biogas\n",
      "Biogas\n",
      "Waste-to-energy\n",
      "Waste-to-energy\n",
      "Methanation\n",
      "Methanation\n",
      "Coal\n",
      "Coal\n",
      "Nuclear\n",
      "Nuclear\n",
      "Gas (OCGT)\n",
      "Gas (OCGT)\n",
      "Gas (CCGT)\n",
      "Gas (CCGT)\n",
      "Steam Turbine (ST)\n",
      "Steam Turbine (ST)\n",
      "Power to Heat (PtH)\n",
      "Power to Heat (PtH)\n",
      "Internal Combustion Engine (ICE)\n",
      "Internal Combustion Engine (ICE)\n",
      "Storage Gas\n",
      "Storage Gas\n",
      "Power to Gas (PtG)\n",
      "Power to Gas (PtG)\n",
      "Storage Battery (large-scale)\n",
      "Storage Battery (large-scale)\n",
      "Storage Battery (prosumer)\n",
      "Storage Battery (prosumer)\n",
      "Storage Pumped Hydro\n",
      "Storage Pumped Hydro\n",
      "Storage Adiabatic Compressed Air Energy\n",
      "Storage Adiabatic Compressed Air Energy\n"
     ]
    }
   ],
   "source": [
    "#  Filling in declining factors for missing years\n",
    "job_decfact_pred = pd.DataFrame(columns = job_decfact_m.columns)\n",
    "for t in job_decfact_m[job_decfact_m['tech_specific'].notnull()]['tech_specific'].unique():\n",
    "    for m in job_decfact_m['Multiplier_name'].unique():\n",
    "        print(t)\n",
    "        x = job_decfact_m[(job_decfact_m['tech_specific']== t)&\\\n",
    "                           (job_decfact_m['Multiplier_name']== m)]['Year'].astype(str).astype(int)\n",
    "        \n",
    "        y = job_decfact_m[(job_decfact_m['tech_specific']== t)&\\\n",
    "                           (job_decfact_m['Multiplier_name']== m)]['Value'].values\n",
    "        if not x.empty:\n",
    "            if t == 'Storage Battery (prosumer)' and m == 'Opex_declinefactor':\n",
    "                # fit function\n",
    "                z = np.polyfit(x, y, 2)\n",
    "                f = np.poly1d(z)\n",
    "            \n",
    "            # fit function\n",
    "            z = np.polyfit(x, y, 3)\n",
    "            f = np.poly1d(z)\n",
    "\n",
    "            # calculate new x's and y's\n",
    "            x_new = list(range(2015, 2051))\n",
    "            y_new = f(x_new)\n",
    "            m1 = pd.DataFrame(list(zip(x_new,y_new)), columns = ['Year','Value'])\n",
    "            m1['Multiplier_name'] = m\n",
    "            m1['tech_specific'] = t\n",
    "            m1['tech'] = job_decfact_m[(job_decfact_m['tech_specific']== t)]['tech'].values[0]\n",
    "            \n",
    "#             Adding 2050 onwards values\n",
    "            x_new2 = list(range(2051, 2066))\n",
    "            m2 = pd.DataFrame(x_new2, columns = ['Year'])\n",
    "            m2['Value'] = job_decfact_m[(job_decfact_m['tech_specific']== t)&\\\n",
    "                           (job_decfact_m['Multiplier_name']== m)&\\\n",
    "                                 (job_decfact_m['Year']== 2050)]['Value'].values[0]\n",
    "            m2['Multiplier_name'] = m\n",
    "            m2['tech_specific'] = t\n",
    "            m2['tech'] = job_decfact_m[(job_decfact_m['tech_specific']== t)]['tech'].values[0]\n",
    "            m1 = m1.append(m2)\n",
    "                        \n",
    "#             Fixing defined intervals\n",
    "            if t == 'Nuclear' and (m == 'Capex_declinefactor' or m == 'Opex_declinefactor'):\n",
    "#                 xx0 = job_multipliers_m[(job_decfact_m['tech_specific']== t)&\\\n",
    "#                                   (job_decfact_m['Multiplier_name']== m)&\\\n",
    "#                                   (job_decfact_m['Year']== 2015)]['Value'].values[0]\n",
    "#                 m1.loc[m1['Year']<2020, 'Value'] = xx0\n",
    "\n",
    "                xx = job_decfact_m[(job_decfact_m['tech_specific']== t)&\\\n",
    "                                      (job_decfact_m['Multiplier_name']== m)&\\\n",
    "                                      (job_decfact_m['Year']== 2020)]['Value'].values[0]\n",
    "                m1.loc[m1[(m1['Year']<2030)&(m1['Year']>=2020)].index, 'Value'] = xx\n",
    "                \n",
    "                xx1 = job_decfact_m[(job_decfact_m['tech_specific']== t)&\\\n",
    "                                      (job_decfact_m['Multiplier_name']== m)&\\\n",
    "                                      (job_decfact_m['Year']== 2030)]['Value'].values[0]\n",
    "                m1.loc[m1[(m1['Year']<2040)&(m1['Year']>=2030)].index, 'Value'] = xx1\n",
    "                \n",
    "                xx2 = job_decfact_m[(job_decfact_m['tech_specific']== t)&\\\n",
    "                                      (job_decfact_m['Multiplier_name']== m)&\\\n",
    "                                      (job_decfact_m['Year']== 2040)]['Value'].values[0]\n",
    "                m1.loc[m1[(m1['Year']<2050)&(m1['Year']>=2040)].index, 'Value'] = xx2\n",
    "                \n",
    "                xx3 = job_decfact_m[(job_decfact_m['tech_specific']== t)&\\\n",
    "                                      (job_decfact_m['Multiplier_name']== m)&\\\n",
    "                                      (job_decfact_m['Year']== 2050)]['Value'].values[0]\n",
    "                m1.loc[m1['Year']>=2050, 'Value'] = xx3\n",
    "            \n",
    "            if t == 'Power to Heat (PtH)' and (m == 'Capex_declinefactor' or m == 'Opex_declinefactor'):\n",
    "            \n",
    "                xx = job_decfact_m[(job_decfact_m['tech_specific']== t)&\\\n",
    "                                      (job_decfact_m['Multiplier_name']== m)&\\\n",
    "                                      (job_decfact_m['Year']== 2025)]['Value'].values[0]\n",
    "                m1.loc[m1[(m1['Year']<2035)&(m1['Year']>=2025)].index, 'Value'] = xx\n",
    "                \n",
    "                xx3 = job_decfact_m[(job_decfact_m['tech_specific']== t)&\\\n",
    "                                      (job_decfact_m['Multiplier_name']== m)&\\\n",
    "                                      (job_decfact_m['Year']== 2035)]['Value'].values[0]\n",
    "                m1.loc[m1['Year']>=2035, 'Value'] = xx3\n",
    "            \n",
    "            job_decfact_pred = job_decfact_pred.append(m1)\n",
    "            \n",
    "#         If graphs are needed\n",
    "#             print(m)\n",
    "#             plt.plot(x,y,'o', x_new, y_new, m1['Year'],m1['Value'])\n",
    "#             plt.xlim([2014, 2066 ])\n",
    "#             plt.show()\n",
    "            \n",
    "# FUTURE WORK: Fix storage curves to match values better --> if Storage is needed\n",
    "\n",
    "job_decfact_pred_piv = pd.pivot_table(job_decfact_pred, values = 'Value', \n",
    "                          index = ['tech','tech_specific','Year'], \n",
    "                          columns = 'Multiplier_name', \n",
    "                          aggfunc=np.sum).reset_index()\n",
    "\n",
    "job_decfact_pred_piv.to_csv(r'outputs/job_DeclineFact.csv')"
   ]
  },
  {
   "cell_type": "code",
   "execution_count": null,
   "metadata": {},
   "outputs": [],
   "source": [
    "### Read files again from here if needed\n"
   ]
  },
  {
   "cell_type": "code",
   "execution_count": null,
   "metadata": {},
   "outputs": [],
   "source": [
    "# Adding country names and regions \n",
    "\n",
    "# Namibia NM in TEMBA, NA in ISO2\n",
    "results_df.loc[results_df['country']=='NM','country']='NA'\n",
    "temba_codes = list(results_df['country'].unique())\n",
    "standard_names = coco.convert(names=temba_codes, to='name_short')\n",
    "iso3_codes = coco.convert(names=temba_codes, to='ISO3', not_found=None)\n",
    "\n",
    "ts_d = pd.DataFrame(list(zip(temba_codes,standard_names)), columns = ['country','Country'])\n",
    "ts_d = ts_d.set_index('country')['Country'].to_dict()\n",
    "\n",
    "ti3_d = pd.DataFrame(list(zip(temba_codes,iso3_codes)), columns = ['country','ISO3'])\n",
    "ti3_d = ti3_d.set_index('country')['ISO3'].to_dict()\n",
    "\n",
    "\n",
    "nmresults_df = results_df\n",
    "nmresults_df['ISO3'] = nmresults_df['country'].map(ti3_d)\n",
    "nmresults_df['Country'] = nmresults_df['country'].map(ts_d)\n",
    "\n",
    "# Adding Ramm's country classifications\n",
    "cclassif = pd.read_csv(r'data/UNSD — Methodology.csv', \n",
    "                       usecols = ['ISO-alpha2 Code', 'ISO-alpha3 Code','Country or Area',\n",
    "                                  'Ramm_region', 'Ramm_region2','Ramm_region3'])\n",
    "cclassif.rename(columns = {'ISO-alpha2 Code':'country', 'ISO-alpha3 Code':'ISO3'}, inplace = True)\n",
    "\n",
    "rr1_d = cclassif[cclassif['Ramm_region'].notnull()][['ISO3',\n",
    "                                                     'Ramm_region']].set_index('ISO3')['Ramm_region'].to_dict()\n",
    "rr2_d = cclassif[cclassif['Ramm_region2'].notnull()][['ISO3',\n",
    "                                                     'Ramm_region2']].set_index('ISO3')['Ramm_region2'].to_dict()\n",
    "rr3_d = cclassif[cclassif['Ramm_region3'].notnull()][['ISO3',\n",
    "                                                     'Ramm_region3']].set_index('ISO3')['Ramm_region3'].to_dict()\n",
    "\n",
    "# since the regions are not a one-to-one match, I need to group the country data by \n",
    "#  regions and then perform the employment opertation on them for totals. \n",
    "# Country employment values can use averages of regions.\n",
    "nmresults_df['Ramm_region'] = nmresults_df['ISO3'].map(rr1_d)\n",
    "nmresults_df['Ramm_region2'] = nmresults_df['ISO3'].map(rr2_d)\n",
    "nmresults_df['Ramm_region3'] = nmresults_df['ISO3'].map(rr3_d)\n"
   ]
  },
  {
   "cell_type": "code",
   "execution_count": null,
   "metadata": {},
   "outputs": [],
   "source": [
    "# From Ram2020\n",
    "# Manuf jobs (local) = Installed Capacity * EF (Manufacturing)*decline factor of the technology*\n",
    "#              local manufacturing factor*regional employment multiplier\n",
    "# Manuf jobs (export) = Exported Capacity * EF (Manufacturing)*decline factor of the technology*\n",
    "#              *regional employment multiplier\n",
    "# C&I jobs = Installed Capacity * EF (C&I)*decline factor of the technology*regional multiplier\n",
    "# O&M jobs = Installed Capacity * EF (O&M)*decline factor of the technology*regional multiplier\n",
    "# Fuel = Electricty Generation*EF (Fuel)/Efficiency of technology*regional multiplier\n",
    "# Transmission jobs = Investments in Grids*EF (Grids)*regional multiplier\n",
    "# Decommisioning jobs = Decommisioned Capacity*EF (Decommissioning)*regional employment multiplier"
   ]
  },
  {
   "cell_type": "code",
   "execution_count": 251,
   "metadata": {},
   "outputs": [],
   "source": [
    "# Calculation of employment based on new capacity and multipliers \n",
    "cap = ['Power Generation Capacity (Aggregate)','New power generation capacity (Aggregate)']\n",
    "employment_df = nmresults_df[nmresults_df['parameter'].isin(cap)]\n",
    "employment_df = employment_df.drop(columns = ['Ramm_region2',\n",
    "                                              'Ramm_region3']).rename(columns = {'Ramm_region':'Region',\n",
    "                                                                                'Value':'Capacity'})\n",
    "\n",
    "# power = ['Power Generation Capacity (Aggregate)','New power generation capacity (Aggregate)']\n",
    "# upow = ['GW','GW']"
   ]
  },
  {
   "cell_type": "code",
   "execution_count": 252,
   "metadata": {},
   "outputs": [],
   "source": [
    "# Using multipliers\n",
    "\n",
    "# For now only using Ramm_region since data is mostly for SSA\n",
    "employment_df['Year'] = employment_df['Year'].astype('int')\n",
    "job_multipliers_pred_piv['Year'] = job_multipliers_pred_piv['Year'].astype('int')\n",
    "job_decfact_pred_piv['Year'] = job_decfact_pred_piv['Year'].astype('int')\n",
    "\n",
    "employment_df = employment_df.merge(jobs_piv.reset_index()[['tech','Construction and Installation', \n",
    "                                                            'Decommissioning', 'Fuel','Manufacturing', \n",
    "                                                            'Operation and Maintenance']], on = 'tech')\n",
    "employment_df = employment_df.merge(job_multipliers_pred_piv, on = ['Region','Year'])\n",
    "employment_df = employment_df.merge(job_decfact_pred_piv.groupby(['tech','Year']).mean().reset_index(), \n",
    "                                    on = ['tech','Year'])"
   ]
  },
  {
   "cell_type": "code",
   "execution_count": 254,
   "metadata": {},
   "outputs": [],
   "source": [
    "for j in [ 'Construction and Installation', 'Manufacturing']:\n",
    "#     ,'Decommissioning', 'Fuel' 'Operation and Maintenance']:\n",
    "    if j =='Manufacturing':\n",
    "        employment_df['{} (local jobs)'.format(j)] = [x*1000*y*z*(1-a)*b\n",
    "                                                    for x, y, z, a, b\n",
    "                                                    in zip(employment_df['Capacity'],\n",
    "                                                           employment_df['{}'.format(j)],\n",
    "                                                           employment_df['Capex_declinefactor'],\n",
    "                                                           employment_df['Export_factor'],\n",
    "                                                           employment_df['Regional_factor'])]\n",
    "        employment_df['{} (external jobs)'.format(j)] = [x*1000*y*z*a*b\n",
    "                                                    for x, y, z, a,b\n",
    "                                                    in zip(employment_df['Capacity'],\n",
    "                                                           employment_df['{}'.format(j)],\n",
    "                                                           employment_df['Capex_declinefactor'],\n",
    "                                                           employment_df['Export_factor'],\n",
    "                                                           employment_df['Regional_factor'])]\n",
    "    if j =='Construction and Installation':\n",
    "        employment_df['{} (jobs)'.format(j)] = [x*1000*y*z*b\n",
    "                                                    for x, y,z,b\n",
    "                                                    in zip(employment_df['Capacity'],\n",
    "                                                           employment_df['{}'.format(j)],\n",
    "                                                           employment_df['Capex_declinefactor'],\n",
    "                                                           employment_df['Regional_factor'])]\n",
    "#         O&M jobs need cumulative capacity\n",
    "# Fuel jobs need primary energy generation\n",
    "# Decommissioning jobs need decommissioned capacity"
   ]
  },
  {
   "cell_type": "code",
   "execution_count": 256,
   "metadata": {},
   "outputs": [],
   "source": [
    "jobs_forplot = pd.melt(employment_df, \n",
    "                     id_vars = ['tech','scenario','country','ISO3','Country','Year','parameter'],\n",
    "                        value_vars = ['Capacity','Construction and Installation (jobs)',\n",
    "                                       'Manufacturing (local jobs)', 'Manufacturing (external jobs)'],\n",
    "                     var_name = 'Indicator', value_name = 'Value')\n",
    "jobs_forplot.to_csv(r'outputs/jobs_forplot.csv')\n",
    "\n",
    "# the values from this df will include new jobs from new power generation and \"old jobs\" from existing capcity. \n",
    "# In plots, ignore old jobs, because those would now be only \"fuel\" and decommissioning that are not in the data yet"
   ]
  },
  {
   "cell_type": "markdown",
   "metadata": {},
   "source": [
    "# Plots for single country values"
   ]
  },
  {
   "cell_type": "markdown",
   "metadata": {},
   "source": [
    "## Per kWh"
   ]
  },
  {
   "cell_type": "code",
   "execution_count": 616,
   "metadata": {
    "scrolled": true
   },
   "outputs": [],
   "source": [
    "#  per KWH\n",
    "colors = px.colors.qualitative.Alphabet\n",
    "\n",
    "labels = ['Embodied Material Emissions [gCO<sub>2</sub>/kWh]','Embodied Material Water Usage [L/kWh]',\n",
    "          'Material Costs [Euro‚cent/kWh]','Material Recycling Rate [g/kWh]']\n",
    "\n",
    "for ne, l in zip(['E', 'W', 'K', 'R'], labels):\n",
    "    fig = go.Figure()\n",
    "    \n",
    "    if ne == 'E' or ne == 'R':\n",
    "        data = globals()['{}_tech_sep'.format(ne)]\n",
    "        datae = pd.DataFrame(np.nan, index=np.arange(len(globals()['{}_tech_sep'.format(ne)])), \n",
    "                     columns=globals()['{}_tech_sep'.format(ne)].columns)\n",
    "        error = globals()['e_{}_tot'.format(ne)]\n",
    "        \n",
    "        datae.loc[datae.index,'Stainless Steel'] = error.values/2\n",
    "        datae.index = data.index\n",
    "    if ne == 'W':\n",
    "        data = globals()['{}_tech_sep'.format(ne)]/1000\n",
    "        datae = pd.DataFrame(np.nan, index=np.arange(len(globals()['{}_tech_sep'.format(ne)])), \n",
    "                     columns=globals()['{}_tech_sep'.format(ne)].columns)\n",
    "        error = globals()['e_{}_tot'.format(ne)]\n",
    "        datae.loc[datae.index,'Stainless Steel'] = error.values/2000\n",
    "        datae.index = data.index\n",
    "        \n",
    "    if ne == 'K':\n",
    "        data = globals()['{}_tech_sep'.format(ne)]*1000\n",
    "        datae = pd.DataFrame(np.nan, index=np.arange(len(globals()['{}_tech_sep'.format(ne)])), \n",
    "                     columns=globals()['{}_tech_sep'.format(ne)].columns)\n",
    "        error = globals()['e_{}_tot'.format(ne)]\n",
    "        datae.loc[datae.index,'Stainless Steel'] = error.values/0.002\n",
    "        datae.index = data.index\n",
    "                \n",
    "    for i, c in zip(data.columns, colors): \n",
    "#         print(i)\n",
    "        fig.add_trace(go.Bar(x = data[i], \n",
    "                             y = data.index,\n",
    "                             name = i, \n",
    "                             marker_color = c, orientation = 'h',\n",
    "                             error_x=dict(type='data', \n",
    "                                      array=datae[i])\n",
    "                            ))\n",
    "\n",
    "    fig.update_layout( xaxis_title =  l, \n",
    "                      template = 'simple_white+presentation', barmode='stack')\n",
    "\n",
    "    pio.write_image(fig, r'figures/kWh_{}.pdf'.format(ne), width = 500, height = 450)\n",
    "    pio.write_image(fig, r'figures/kWh_{}.eps'.format(ne), width = 500, height = 450)\n",
    "#     plotly.offline.plot(fig, filename = r'figures/kWh_{}.html'.format(ne), auto_open=False)\n",
    "#     fig.show()"
   ]
  },
  {
   "cell_type": "markdown",
   "metadata": {},
   "source": [
    "## For Country, all factors"
   ]
  },
  {
   "cell_type": "code",
   "execution_count": 559,
   "metadata": {},
   "outputs": [],
   "source": [
    "# for Country\n",
    "colors = px.colors.qualitative.Alphabet\n",
    "\n",
    "labels = ['Embodied Material Emissions [MtCO<sub>2</sub>]','Embodied Material Water Usage [L]',\n",
    "          'Material Costs [million Euro]','Material Recycling Rate [t]']\n",
    "\n",
    "for  ne, l in zip(['E', 'W', 'K', 'R'], labels):\n",
    "    fig = go.Figure()\n",
    "    \n",
    "    if ne == 'E':\n",
    "        data = globals()['{}_country_sep'.format(ne)]/1e12\n",
    "        datae = pd.DataFrame(np.nan, index=np.arange(len(globals()['{}_country_sep'.format(ne)])), \n",
    "                     columns=globals()['{}_country_sep'.format(ne)].columns)\n",
    "        error = globals()['e_{}c_tot'.format(ne)]\n",
    "        \n",
    "        datae.loc[datae.index,'Stainless Steel'] = error.values/1e12/2\n",
    "        datae.index = data.index\n",
    "    if ne == 'W':\n",
    "        data = globals()['{}_country_sep'.format(ne)]/1000\n",
    "        datae = pd.DataFrame(np.nan, index=np.arange(len(globals()['{}_country_sep'.format(ne)])), \n",
    "                     columns=globals()['{}_country_sep'.format(ne)].columns)\n",
    "        error = globals()['e_{}c_tot'.format(ne)]\n",
    "        datae.loc[datae.index,'Stainless Steel'] = error.values/1000/2\n",
    "        datae.index = data.index\n",
    "        \n",
    "    if ne == 'K'  or ne =='R':\n",
    "        data = globals()['{}_country_sep'.format(ne)]/1e6\n",
    "        datae = pd.DataFrame(np.nan, index=np.arange(len(globals()['{}_country_sep'.format(ne)])), \n",
    "                     columns=globals()['{}_country_sep'.format(ne)].columns)\n",
    "        error = globals()['e_{}c_tot'.format(ne)]\n",
    "        datae.loc[datae.index,'Stainless Steel'] = error.values/1e6/2\n",
    "        datae.index = data.index\n",
    "                \n",
    "    for i, c in zip(data.columns, colors): \n",
    "#         print(i)\n",
    "        fig.add_trace(go.Bar(x = data[i], \n",
    "                             y = data.index,\n",
    "                             name = i, \n",
    "                             marker_color = c, orientation = 'h',\n",
    "                             error_x=dict(type='data', \n",
    "                                      array=datae[i])\n",
    "                            ))\n",
    "\n",
    "    fig.update_layout( xaxis_title =  l, \n",
    "                      legend=dict(orientation=\"h\", yanchor=\"bottom\", \n",
    "#                                   traceorder=\"reversed\",\n",
    "                                   y=1.01,\n",
    "                                   xanchor=\"center\",\n",
    "                                   x=0.4),\n",
    "                                   template = 'simple_white+presentation', barmode='stack')\n",
    "\n",
    "    pio.write_image(fig, r'figures/country_{}.pdf'.format(ne), width = 900, height = 550)\n",
    "    pio.write_image(fig, r'figures/country_{}.eps'.format(ne), width = 900, height = 550)\n",
    "#     plotly.offline.plot(fig, filename = r'figures/country_{}.html'.format(ne), auto_open=False)\n",
    "#     fig.show()"
   ]
  },
  {
   "cell_type": "markdown",
   "metadata": {},
   "source": [
    "## Totals and percentages in country"
   ]
  },
  {
   "cell_type": "code",
   "execution_count": 615,
   "metadata": {
    "scrolled": true
   },
   "outputs": [],
   "source": [
    "#  Bar with totals and total percentages for Country\n",
    "colors = px.colors.qualitative.Alphabet\n",
    "\n",
    "labels = ['Total material mass accross all technologies for Uganda (%)',\n",
    "          'Total CO <sub>2</sub> emissions accross all technologies for Uganda (%)',\n",
    "          'Total material costs accross all technologies for Uganda [million Euro]']\n",
    "names = ['material_mass', 'total_emiss', 'total_mat']\n",
    "colu = ['pct','pct','value']\n",
    "\n",
    "# emissions per energy technology [gCO2/kWh]\n",
    "mat_country = C.T.values*M[0:len(C.T)]\n",
    "\n",
    "for l, n, co in zip( labels, names, colu):\n",
    "    fig = go.Figure()\n",
    "    if n == 'material_mass':\n",
    "        totaal = mat_country.sum().reset_index()\n",
    "        totaal = totaal.rename(columns = {'index':'Material', 0:'value'})\n",
    "       \n",
    "    if n == 'total_emiss':\n",
    "        totaal = E_country_sep.sum().reset_index()   \n",
    "        totaal = totaal.rename(columns = {'index':'Material', 0:'value'})\n",
    "        \n",
    "    if ne == 'total_mat':\n",
    "        totaal = K_country_sep.sum().reset_index()\n",
    "        totaal = totaal/1e6.rename(columns = {'index':'Material', 0:'value'})\n",
    "        \n",
    "    ts = totaal['value'].sum().round(2)\n",
    "    totaal.loc[totaal.index,'pct'] = totaal.loc[totaal.index,'value']/ts*100\n",
    "    tsdf = totaal[['Material','value']]\n",
    "    tsdf.loc[totaal.index,'value']=np.nan\n",
    "    tsdf.loc[totaal['Material']=='Stainless Steel','value']=ts\n",
    "    \n",
    "    for i, c in zip(totaal.Material.unique(), colors): \n",
    "#         print(i)\n",
    "        fig.add_trace(go.Bar(x = totaal[totaal['Material']==i][co], \n",
    "                             y = ['Total'],\n",
    "                             width=0.5,\n",
    "                             name = i ,\n",
    "                             marker_color = c, \n",
    "                             orientation = 'h',\n",
    "                             text = tsdf[totaal['Material']==i], textposition='auto'\n",
    "                                 ))\n",
    "\n",
    "    fig.update_layout( xaxis_title =  l, \n",
    "                      legend=dict(orientation=\"h\", yanchor=\"bottom\",\n",
    "#                                   traceorder=\"reversed\",\n",
    "                                    y=1.02,\n",
    "                                    xanchor=\"right\",\n",
    "                                    x=1),\n",
    "                                    template = 'simple_white+presentation', barmode='stack')\n",
    "\n",
    "\n",
    "#     fig.update_xaxes(range=[0,110])\n",
    "\n",
    "    pio.write_image(fig, r'figures/country_{}.pdf'.format(n), width = 800, height = 500)\n",
    "    pio.write_image(fig, r'figures/country_{}.eps'.format(n), width = 800, height = 500)\n",
    "#     plotly.offline.plot(fig, filename = r'figures/country_{}.html'.format(n), auto_open=False)\n",
    "#     fig.show()\n"
   ]
  },
  {
   "cell_type": "markdown",
   "metadata": {},
   "source": [
    "# Plots comparing countries/scenarios"
   ]
  },
  {
   "cell_type": "markdown",
   "metadata": {},
   "source": [
    "## Per kWh"
   ]
  },
  {
   "cell_type": "code",
   "execution_count": null,
   "metadata": {},
   "outputs": [],
   "source": [
    "#  per KWH\n",
    "colors = px.colors.qualitative.Alphabet\n",
    "\n",
    "labels = ['Embodied Material Emissions [gCO_2/kWh]','Embodied Material Water Usage [L/kWh]',\n",
    "          'Material Costs [Euro‚cent/kWh]','Material Recycling Rate [g/kWh]']\n",
    "\n",
    "for ne, l in zip(['E', 'W', 'K', 'R'], labels):\n",
    "    fig = go.Figure()\n",
    "    \n",
    "    if ne == 'E' or ne == 'R':\n",
    "        data = globals()['{}_tech_sep'.format(ne)]\n",
    "        datae = pd.DataFrame(np.nan, index=np.arange(len(globals()['{}_tech_sep'.format(ne)])), \n",
    "                     columns=globals()['{}_tech_sep'.format(ne)].columns)\n",
    "        error = globals()['e_{}_tot'.format(ne)]\n",
    "        \n",
    "        datae.loc[datae.index,'Stainless Steel'] = error.values/2\n",
    "        datae.index = data.index\n",
    "    if ne == 'W':\n",
    "        data = globals()['{}_tech_sep'.format(ne)]/1000\n",
    "        datae = pd.DataFrame(np.nan, index=np.arange(len(globals()['{}_tech_sep'.format(ne)])), \n",
    "                     columns=globals()['{}_tech_sep'.format(ne)].columns)\n",
    "        error = globals()['e_{}_tot'.format(ne)]\n",
    "        datae.loc[datae.index,'Stainless Steel'] = error.values/2000\n",
    "        datae.index = data.index\n",
    "        \n",
    "    if ne == 'K':\n",
    "        data = globals()['{}_tech_sep'.format(ne)]*1000\n",
    "        datae = pd.DataFrame(np.nan, index=np.arange(len(globals()['{}_tech_sep'.format(ne)])), \n",
    "                     columns=globals()['{}_tech_sep'.format(ne)].columns)\n",
    "        error = globals()['e_{}_tot'.format(ne)]\n",
    "        datae.loc[datae.index,'Stainless Steel'] = error.values/0.002\n",
    "        datae.index = data.index\n",
    "                \n",
    "    for i, c in zip(data.columns, colors): \n",
    "#         print(i)\n",
    "        fig.add_trace(go.Bar(x = data[i], \n",
    "                             y = data.index,\n",
    "                             name = i, \n",
    "                             marker_color = c, orientation = 'h',\n",
    "                             error_x=dict(type='data', \n",
    "                                      array=datae[i])\n",
    "                            ))\n",
    "\n",
    "    fig.update_layout( xaxis_title =  l, \n",
    "                      template = 'simple_white+presentation', barmode='stack')\n",
    "\n",
    "    pio.write_image(fig, r'figures/kWh_{}.pdf'.format(ne), width = 500, height = 450)\n",
    "    pio.write_image(fig, r'figures/kWh_{}.eps'.format(ne), width = 500, height = 450)\n",
    "#     plotly.offline.plot(fig, filename = r'figures/kWh_{}.html'.format(ne), auto_open=False)\n",
    "#     fig.show()"
   ]
  },
  {
   "cell_type": "markdown",
   "metadata": {},
   "source": [
    "## For Country, all factors"
   ]
  },
  {
   "cell_type": "code",
   "execution_count": 202,
   "metadata": {
    "scrolled": true
   },
   "outputs": [
    {
     "name": "stdout",
     "output_type": "stream",
     "text": [
      "Uganda\n",
      "Baseline 1\n"
     ]
    },
    {
     "ename": "KeyError",
     "evalue": "\"['Coal CCS'] not in index\"",
     "output_type": "error",
     "traceback": [
      "\u001b[1;31m---------------------------------------------------------------------------\u001b[0m",
      "\u001b[1;31mKeyError\u001b[0m                                  Traceback (most recent call last)",
      "\u001b[1;32m<ipython-input-202-953fe5998b35>\u001b[0m in \u001b[0;36m<module>\u001b[1;34m\u001b[0m\n\u001b[0;32m     52\u001b[0m                 \u001b[1;31m#         ERROR\u001b[0m\u001b[1;33m\u001b[0m\u001b[1;33m\u001b[0m\u001b[1;33m\u001b[0m\u001b[0m\n\u001b[0;32m     53\u001b[0m                         \u001b[0merror\u001b[0m \u001b[1;33m=\u001b[0m \u001b[0mglobals\u001b[0m\u001b[1;33m(\u001b[0m\u001b[1;33m)\u001b[0m\u001b[1;33m[\u001b[0m\u001b[1;34m'e_df{}c_tot'\u001b[0m\u001b[1;33m.\u001b[0m\u001b[0mformat\u001b[0m\u001b[1;33m(\u001b[0m\u001b[0mne\u001b[0m\u001b[1;33m)\u001b[0m\u001b[1;33m]\u001b[0m\u001b[1;33m\u001b[0m\u001b[1;33m\u001b[0m\u001b[0m\n\u001b[1;32m---> 54\u001b[1;33m                         \u001b[0merror\u001b[0m \u001b[1;33m=\u001b[0m \u001b[0merror\u001b[0m\u001b[1;33m[\u001b[0m\u001b[1;33m(\u001b[0m\u001b[0merror\u001b[0m\u001b[1;33m[\u001b[0m\u001b[1;34m'Country'\u001b[0m\u001b[1;33m]\u001b[0m\u001b[1;33m==\u001b[0m\u001b[0mc\u001b[0m\u001b[1;33m)\u001b[0m\u001b[1;33m&\u001b[0m\u001b[1;33m(\u001b[0m\u001b[0merror\u001b[0m\u001b[1;33m[\u001b[0m\u001b[1;34m'Scenario'\u001b[0m\u001b[1;33m]\u001b[0m\u001b[1;33m==\u001b[0m\u001b[0msc\u001b[0m\u001b[1;33m)\u001b[0m\u001b[1;33m&\u001b[0m\u001b[1;33m(\u001b[0m\u001b[0merror\u001b[0m\u001b[1;33m[\u001b[0m\u001b[1;34m'Year'\u001b[0m\u001b[1;33m]\u001b[0m\u001b[1;33m==\u001b[0m\u001b[0my\u001b[0m\u001b[1;33m)\u001b[0m\u001b[1;33m]\u001b[0m\u001b[1;33m[\u001b[0m\u001b[0matechs\u001b[0m\u001b[1;33m]\u001b[0m\u001b[1;33m\u001b[0m\u001b[1;33m\u001b[0m\u001b[0m\n\u001b[0m\u001b[0;32m     55\u001b[0m                         \u001b[0mdatae\u001b[0m\u001b[1;33m.\u001b[0m\u001b[0mloc\u001b[0m\u001b[1;33m[\u001b[0m\u001b[0mdatae\u001b[0m\u001b[1;33m.\u001b[0m\u001b[0mindex\u001b[0m\u001b[1;33m,\u001b[0m\u001b[1;34m'Stainless Steel'\u001b[0m\u001b[1;33m]\u001b[0m \u001b[1;33m=\u001b[0m \u001b[0merror\u001b[0m\u001b[1;33m.\u001b[0m\u001b[0mvalues\u001b[0m\u001b[1;33m/\u001b[0m\u001b[1;36m1e12\u001b[0m\u001b[1;33m/\u001b[0m\u001b[1;36m2\u001b[0m\u001b[1;33m\u001b[0m\u001b[1;33m\u001b[0m\u001b[0m\n\u001b[0;32m     56\u001b[0m                         \u001b[0mdatae\u001b[0m\u001b[1;33m.\u001b[0m\u001b[0mindex\u001b[0m \u001b[1;33m=\u001b[0m \u001b[0mdata\u001b[0m\u001b[1;33m.\u001b[0m\u001b[0mindex\u001b[0m\u001b[1;33m\u001b[0m\u001b[1;33m\u001b[0m\u001b[0m\n",
      "\u001b[1;32m~\\Anaconda3\\lib\\site-packages\\pandas\\core\\frame.py\u001b[0m in \u001b[0;36m__getitem__\u001b[1;34m(self, key)\u001b[0m\n\u001b[0;32m   2984\u001b[0m             \u001b[1;32mif\u001b[0m \u001b[0mis_iterator\u001b[0m\u001b[1;33m(\u001b[0m\u001b[0mkey\u001b[0m\u001b[1;33m)\u001b[0m\u001b[1;33m:\u001b[0m\u001b[1;33m\u001b[0m\u001b[1;33m\u001b[0m\u001b[0m\n\u001b[0;32m   2985\u001b[0m                 \u001b[0mkey\u001b[0m \u001b[1;33m=\u001b[0m \u001b[0mlist\u001b[0m\u001b[1;33m(\u001b[0m\u001b[0mkey\u001b[0m\u001b[1;33m)\u001b[0m\u001b[1;33m\u001b[0m\u001b[1;33m\u001b[0m\u001b[0m\n\u001b[1;32m-> 2986\u001b[1;33m             \u001b[0mindexer\u001b[0m \u001b[1;33m=\u001b[0m \u001b[0mself\u001b[0m\u001b[1;33m.\u001b[0m\u001b[0mloc\u001b[0m\u001b[1;33m.\u001b[0m\u001b[0m_convert_to_indexer\u001b[0m\u001b[1;33m(\u001b[0m\u001b[0mkey\u001b[0m\u001b[1;33m,\u001b[0m \u001b[0maxis\u001b[0m\u001b[1;33m=\u001b[0m\u001b[1;36m1\u001b[0m\u001b[1;33m,\u001b[0m \u001b[0mraise_missing\u001b[0m\u001b[1;33m=\u001b[0m\u001b[1;32mTrue\u001b[0m\u001b[1;33m)\u001b[0m\u001b[1;33m\u001b[0m\u001b[1;33m\u001b[0m\u001b[0m\n\u001b[0m\u001b[0;32m   2987\u001b[0m \u001b[1;33m\u001b[0m\u001b[0m\n\u001b[0;32m   2988\u001b[0m         \u001b[1;31m# take() does not accept boolean indexers\u001b[0m\u001b[1;33m\u001b[0m\u001b[1;33m\u001b[0m\u001b[1;33m\u001b[0m\u001b[0m\n",
      "\u001b[1;32m~\\Anaconda3\\lib\\site-packages\\pandas\\core\\indexing.py\u001b[0m in \u001b[0;36m_convert_to_indexer\u001b[1;34m(self, obj, axis, is_setter, raise_missing)\u001b[0m\n\u001b[0;32m   1283\u001b[0m                 \u001b[1;31m# When setting, missing keys are not allowed, even with .loc:\u001b[0m\u001b[1;33m\u001b[0m\u001b[1;33m\u001b[0m\u001b[1;33m\u001b[0m\u001b[0m\n\u001b[0;32m   1284\u001b[0m                 \u001b[0mkwargs\u001b[0m \u001b[1;33m=\u001b[0m \u001b[1;33m{\u001b[0m\u001b[1;34m\"raise_missing\"\u001b[0m\u001b[1;33m:\u001b[0m \u001b[1;32mTrue\u001b[0m \u001b[1;32mif\u001b[0m \u001b[0mis_setter\u001b[0m \u001b[1;32melse\u001b[0m \u001b[0mraise_missing\u001b[0m\u001b[1;33m}\u001b[0m\u001b[1;33m\u001b[0m\u001b[1;33m\u001b[0m\u001b[0m\n\u001b[1;32m-> 1285\u001b[1;33m                 \u001b[1;32mreturn\u001b[0m \u001b[0mself\u001b[0m\u001b[1;33m.\u001b[0m\u001b[0m_get_listlike_indexer\u001b[0m\u001b[1;33m(\u001b[0m\u001b[0mobj\u001b[0m\u001b[1;33m,\u001b[0m \u001b[0maxis\u001b[0m\u001b[1;33m,\u001b[0m \u001b[1;33m**\u001b[0m\u001b[0mkwargs\u001b[0m\u001b[1;33m)\u001b[0m\u001b[1;33m[\u001b[0m\u001b[1;36m1\u001b[0m\u001b[1;33m]\u001b[0m\u001b[1;33m\u001b[0m\u001b[1;33m\u001b[0m\u001b[0m\n\u001b[0m\u001b[0;32m   1286\u001b[0m         \u001b[1;32melse\u001b[0m\u001b[1;33m:\u001b[0m\u001b[1;33m\u001b[0m\u001b[1;33m\u001b[0m\u001b[0m\n\u001b[0;32m   1287\u001b[0m             \u001b[1;32mtry\u001b[0m\u001b[1;33m:\u001b[0m\u001b[1;33m\u001b[0m\u001b[1;33m\u001b[0m\u001b[0m\n",
      "\u001b[1;32m~\\Anaconda3\\lib\\site-packages\\pandas\\core\\indexing.py\u001b[0m in \u001b[0;36m_get_listlike_indexer\u001b[1;34m(self, key, axis, raise_missing)\u001b[0m\n\u001b[0;32m   1090\u001b[0m \u001b[1;33m\u001b[0m\u001b[0m\n\u001b[0;32m   1091\u001b[0m         self._validate_read_indexer(\n\u001b[1;32m-> 1092\u001b[1;33m             \u001b[0mkeyarr\u001b[0m\u001b[1;33m,\u001b[0m \u001b[0mindexer\u001b[0m\u001b[1;33m,\u001b[0m \u001b[0mo\u001b[0m\u001b[1;33m.\u001b[0m\u001b[0m_get_axis_number\u001b[0m\u001b[1;33m(\u001b[0m\u001b[0maxis\u001b[0m\u001b[1;33m)\u001b[0m\u001b[1;33m,\u001b[0m \u001b[0mraise_missing\u001b[0m\u001b[1;33m=\u001b[0m\u001b[0mraise_missing\u001b[0m\u001b[1;33m\u001b[0m\u001b[1;33m\u001b[0m\u001b[0m\n\u001b[0m\u001b[0;32m   1093\u001b[0m         )\n\u001b[0;32m   1094\u001b[0m         \u001b[1;32mreturn\u001b[0m \u001b[0mkeyarr\u001b[0m\u001b[1;33m,\u001b[0m \u001b[0mindexer\u001b[0m\u001b[1;33m\u001b[0m\u001b[1;33m\u001b[0m\u001b[0m\n",
      "\u001b[1;32m~\\Anaconda3\\lib\\site-packages\\pandas\\core\\indexing.py\u001b[0m in \u001b[0;36m_validate_read_indexer\u001b[1;34m(self, key, indexer, axis, raise_missing)\u001b[0m\n\u001b[0;32m   1183\u001b[0m             \u001b[1;32mif\u001b[0m \u001b[1;32mnot\u001b[0m \u001b[1;33m(\u001b[0m\u001b[0mself\u001b[0m\u001b[1;33m.\u001b[0m\u001b[0mname\u001b[0m \u001b[1;33m==\u001b[0m \u001b[1;34m\"loc\"\u001b[0m \u001b[1;32mand\u001b[0m \u001b[1;32mnot\u001b[0m \u001b[0mraise_missing\u001b[0m\u001b[1;33m)\u001b[0m\u001b[1;33m:\u001b[0m\u001b[1;33m\u001b[0m\u001b[1;33m\u001b[0m\u001b[0m\n\u001b[0;32m   1184\u001b[0m                 \u001b[0mnot_found\u001b[0m \u001b[1;33m=\u001b[0m \u001b[0mlist\u001b[0m\u001b[1;33m(\u001b[0m\u001b[0mset\u001b[0m\u001b[1;33m(\u001b[0m\u001b[0mkey\u001b[0m\u001b[1;33m)\u001b[0m \u001b[1;33m-\u001b[0m \u001b[0mset\u001b[0m\u001b[1;33m(\u001b[0m\u001b[0max\u001b[0m\u001b[1;33m)\u001b[0m\u001b[1;33m)\u001b[0m\u001b[1;33m\u001b[0m\u001b[1;33m\u001b[0m\u001b[0m\n\u001b[1;32m-> 1185\u001b[1;33m                 \u001b[1;32mraise\u001b[0m \u001b[0mKeyError\u001b[0m\u001b[1;33m(\u001b[0m\u001b[1;34m\"{} not in index\"\u001b[0m\u001b[1;33m.\u001b[0m\u001b[0mformat\u001b[0m\u001b[1;33m(\u001b[0m\u001b[0mnot_found\u001b[0m\u001b[1;33m)\u001b[0m\u001b[1;33m)\u001b[0m\u001b[1;33m\u001b[0m\u001b[1;33m\u001b[0m\u001b[0m\n\u001b[0m\u001b[0;32m   1186\u001b[0m \u001b[1;33m\u001b[0m\u001b[0m\n\u001b[0;32m   1187\u001b[0m             \u001b[1;31m# we skip the warning on Categorical/Interval\u001b[0m\u001b[1;33m\u001b[0m\u001b[1;33m\u001b[0m\u001b[1;33m\u001b[0m\u001b[0m\n",
      "\u001b[1;31mKeyError\u001b[0m: \"['Coal CCS'] not in index\""
     ]
    }
   ],
   "source": [
    "# for Country\n",
    "# make subplots for all scenario/year combos for each country\n",
    "# MISSING: ADD ERROR DATA\n",
    "# for ef, ne in zip([cE, cW, cR, cK],['E', 'W', 'R', 'K'] ):\n",
    "    \n",
    "colors = px.colors.qualitative.Alphabet\n",
    "\n",
    "labels = ['Embodied Material Emissions [MtCO<sub>2</sub>]','Embodied Material Water Usage [L]',\n",
    "          'Material Costs [million Euro]','Material Recycling Rate [t]']\n",
    "atechs = ['Wind (Onshore)', 'Solar CSP', 'Solar PV', 'Hydro', 'Geothermal',\n",
    "       'Gas CCS', 'Oil', 'Gas', 'Coal', 'Wind (Offshore)', 'Biomass',\n",
    "       'Nuclear', 'BECCS', 'Hydrogen','Coal CCS']\n",
    "mats = list(cM.columns)\n",
    "# e_dfK_countries_sep\n",
    "# e_dfEc_tot\n",
    "\n",
    "# make list w names for plot titles\n",
    "for c in dfC['Country'].unique():\n",
    "    globals()['l_{}'.format(c)] = []\n",
    "    for sc, y in zip(dfC[dfC['Country']==c]['Scenario'],dfC[dfC['Country']==c]['Year']):\n",
    "        globals()['l_{}'.format(c)].append('{0} {1}'.format(y,sc))\n",
    "\n",
    "for  ne, l in zip(['E', 'W', 'K', 'R'], labels):\n",
    "    #     'df{ne}_{country}_{scenario}_{year}_sep'\n",
    "    for c in dfC['Country'].unique():\n",
    "        fig = make_subplots(rows=len(dfC[dfC['Country']==c]['Scenario'].unique()), cols=1,\n",
    "                           subplot_titles=globals()['l_{}'.format(c)],\n",
    "                            x_title =  l, shared_xaxes = True\n",
    "                           )\n",
    "        print(c)\n",
    "        h = len(globals()['l_{}'.format(c)])*330\n",
    "        slegend = [True, False, False, False, False]\n",
    "        for sc, ns,sl in zip(dfC[dfC['Country']==c]['Scenario'].unique(),range(1,len(dfC[dfC['Country']==c]['Scenario'].unique())+1),slegend):\n",
    "            print(sc,ns)\n",
    "            for y in dfC[(dfC['Country']==c)&(dfC['Scenario']==sc)]['Year'].unique():\n",
    "#                 range(1,len(dfC[dfC['Country']==c]['Scenario'].unique())+1)\n",
    "#                 globals()['df{0}_{1}_{2}_{3}_sep'.format(ne,c,sc[0:3],str(y))] \n",
    "\n",
    "                    if ne == 'E':\n",
    "#                         data = globals()['df{0}_{1}_{2}_{3}_sep'.format(ne,c,sc[0:3],str(y))] /1e12\n",
    "                        data = globals()['df{}c_tech_sep'.format(ne)]\n",
    "                        data = data[(data['Country']==c)&(data['Scenario']==sc)&(data['Year']==y)]\n",
    "                        data=data.drop(columns=['Country','Year','Scenario']).set_index('tech')\n",
    "                        data = data/1e12\n",
    "                        datae = pd.DataFrame(np.nan, \n",
    "#                                              index=np.arange(len(globals()['df{0}_{1}_{2}_{3}_sep'.format(ne,c,sc[0:3],\n",
    "#                                                                                                           str(y))])), \n",
    "                                             index=np.arange(len(data)), \n",
    "#                                      columns=globals()['df{0}_{1}_{2}_{3}_sep'.format(ne,c,sc[0:3],str(y))].columns\n",
    "                                             columns=data.columns\n",
    "                                            )\n",
    "                #         ERROR\n",
    "                        error = globals()['e_df{}c_tot'.format(ne)]\n",
    "                        error = error[(error['Country']==c)&(error['Scenario']==sc)&(error['Year']==y)][atechs]\n",
    "                        datae.loc[datae.index,'Stainless Steel'] = error.values/1e12/2\n",
    "                        datae.index = data.index\n",
    "                    if ne == 'W':\n",
    "#                         data = globals()['df{0}_{1}_{2}_{3}_sep'.format(ne,c,sc[0:3],str(y))] /1000\n",
    "                        data = globals()['df{}c_tech_sep'.format(ne)]\n",
    "                        data = data[(data['Country']==c)&(data['Scenario']==sc)&(data['Year']==y)]\n",
    "                        data=data.drop(columns=['Country','Year','Scenario']).set_index('tech')\n",
    "                        data = data/1000\n",
    "                        datae = pd.DataFrame(np.nan, \n",
    "                                             index=np.arange(len(data)), \n",
    "                                     columns=data.columns)\n",
    "#                         ERROR\n",
    "                        error = globals()['e_df{}c_tot'.format(ne)]\n",
    "                        error = error[(error['Country']==c)&(error['Scenario']==sc)&(error['Year']==y)][atechs]\n",
    "                        datae.loc[datae.index,'Stainless Steel'] = error.values/1000/2\n",
    "                        datae.index = data.index\n",
    "\n",
    "                    if ne == 'K'  or ne =='R':\n",
    "#                         data = globals()['df{0}_{1}_{2}_{3}_sep'.format(ne,c,sc[0:3],str(y))] /1e6\n",
    "                        data = globals()['df{}c_tech_sep'.format(ne)]\n",
    "                        data = data[(data['Country']==c)&(data['Scenario']==sc)&(data['Year']==y)]\n",
    "                        data=data.drop(columns=['Country','Year','Scenario']).set_index('tech')\n",
    "                        data = data/1e6\n",
    "                        datae = pd.DataFrame(np.nan, \n",
    "                                             index=np.arange(len(data)), \n",
    "                                     columns=data.columns)\n",
    "                #         ERROR\n",
    "                        error = globals()['e_df{}c_tot'.format(ne)]\n",
    "                        error = error[(error['Country']==c)&(error['Scenario']==sc)&(error['Year']==y)][atechs]\n",
    "                        datae.loc[datae.index,'Stainless Steel'] = error.values/1e6/2\n",
    "                        datae.index = data.index\n",
    "\n",
    "                    for i, cl in zip(data.columns, colors): \n",
    "                        d = data.T.sum().reset_index()\n",
    "                        techs = d[d[0]>0]['tech']\n",
    "                        \n",
    "                        fig.add_trace(go.Bar(x = data.loc[techs][i], \n",
    "                                             y = data.loc[techs].index,\n",
    "                                             name = i, \n",
    "                                             marker_color = cl, orientation = 'h',\n",
    "                                             showlegend = sl,\n",
    "                                             error_x=dict(type='data', \n",
    "                                                      array=datae.loc[techs][i])\n",
    "                                            ),\n",
    "                                     row = ns, col = 1)\n",
    "\n",
    "                    fig.update_layout( \n",
    "                                      template = 'simple_white+presentation', barmode='stack')\n",
    "                    fig.update_layout(legend = dict(font = dict(size = 15)))\n",
    "                    \n",
    "\n",
    "        pio.write_image(fig, r'figures/countries/{0}_{1}.pdf'.format(c,ne), width = 900, height = h)\n",
    "        pio.write_image(fig, r'figures/countries/{0}_{1}.eps'.format(c,ne), width = 900, height = h)\n",
    "#         plotly.offline.plot(fig, filename = r'figures/countries/{0}_{1}.html'.format(c,ne), auto_open=False)\n",
    "#         fig.show()"
   ]
  },
  {
   "cell_type": "markdown",
   "metadata": {},
   "source": [
    "## Totals and percentages in country"
   ]
  },
  {
   "cell_type": "code",
   "execution_count": null,
   "metadata": {},
   "outputs": [],
   "source": [
    "#  Bar with totals and total percentages for Country\n",
    "colors = px.colors.qualitative.Alphabet\n",
    "\n",
    "labels = ['Total material mass accross all technologies for Uganda (%)',\n",
    "          'Total CO <sub>2</sub> emissions accross all technologies for Uganda (%)',\n",
    "          'Total material costs accross all technologies for Uganda [million Euro]']\n",
    "names = ['material_mass', 'total_emiss', 'total_mat']\n",
    "colu = ['pct','pct','value']\n",
    "\n",
    "# emissions per energy technology [gCO2/kWh]\n",
    "mat_country = C.T.values*M[0:len(C.T)]\n",
    "\n",
    "for l, n, co in zip( labels, names, colu):\n",
    "    fig = go.Figure()\n",
    "    if n == 'material_mass':\n",
    "        totaal = mat_country.sum().reset_index()\n",
    "        totaal = totaal.rename(columns = {'index':'Material', 0:'value'})\n",
    "       \n",
    "    if n == 'total_emiss':\n",
    "        totaal = E_country_sep.sum().reset_index()   \n",
    "        totaal = totaal.rename(columns = {'index':'Material', 0:'value'})\n",
    "        \n",
    "    if ne == 'total_mat':\n",
    "        totaal = K_country_sep.sum().reset_index()\n",
    "        totaal = totaal/1e6.rename(columns = {'index':'Material', 0:'value'})\n",
    "        \n",
    "    ts = totaal['value'].sum().round(2)\n",
    "    totaal.loc[totaal.index,'pct'] = totaal.loc[totaal.index,'value']/ts*100\n",
    "    tsdf = totaal[['Material','value']]\n",
    "    tsdf.loc[totaal.index,'value']=np.nan\n",
    "    tsdf.loc[totaal['Material']=='Stainless Steel','value']=ts\n",
    "    \n",
    "    for i, c in zip(totaal.Material.unique(), colors): \n",
    "#         print(i)\n",
    "        fig.add_trace(go.Bar(x = totaal[totaal['Material']==i][co], \n",
    "                             y = ['Total'],\n",
    "                             width=0.5,\n",
    "                             name = i ,\n",
    "                             marker_color = c, \n",
    "                             orientation = 'h',\n",
    "                             text = tsdf[totaal['Material']==i], textposition='auto'\n",
    "                                 ))\n",
    "\n",
    "    fig.update_layout( xaxis_title =  l, \n",
    "                      legend=dict(orientation=\"h\", yanchor=\"bottom\",\n",
    "                                    y=1.02,\n",
    "                                    xanchor=\"right\",\n",
    "                                    x=1),\n",
    "                                    template = 'simple_white+presentation', barmode='stack')\n",
    "\n",
    "\n",
    "    pio.write_image(fig, r'figures/country_{}.pdf'.format(n), width = 800, height = 500)\n",
    "    pio.write_image(fig, r'figures/country_{}.eps'.format(n), width = 800, height = 500)\n",
    "#     plotly.offline.plot(fig, filename = r'figures/country_{}.html'.format(n), auto_open=False)\n",
    "#     fig.show()"
   ]
  },
  {
   "cell_type": "markdown",
   "metadata": {},
   "source": [
    "## Employment and tech"
   ]
  },
  {
   "cell_type": "code",
   "execution_count": null,
   "metadata": {},
   "outputs": [],
   "source": [
    "# year in x axis, jobs in y per type\n",
    "jobs_forplot = pd.read_csv(r'outputs/jobs_forplot.csv')"
   ]
  },
  {
   "cell_type": "code",
   "execution_count": 282,
   "metadata": {
    "scrolled": true
   },
   "outputs": [
    {
     "name": "stdout",
     "output_type": "stream",
     "text": [
      "Angola Reference\n",
      "Angola 1.5deg\n",
      "Angola 2.0deg\n",
      "Burkina Faso Reference\n",
      "Burkina Faso 1.5deg\n",
      "Burkina Faso 2.0deg\n",
      "Burundi Reference\n",
      "Burundi 1.5deg\n",
      "Burundi 2.0deg\n",
      "Benin Reference\n",
      "Benin 1.5deg\n",
      "Benin 2.0deg\n",
      "Botswana Reference\n",
      "Botswana 1.5deg\n",
      "Botswana 2.0deg\n",
      "DR Congo Reference\n",
      "DR Congo 1.5deg\n",
      "DR Congo 2.0deg\n",
      "Central African Republic Reference\n",
      "Central African Republic 1.5deg\n",
      "Central African Republic 2.0deg\n",
      "Congo Republic Reference\n",
      "Congo Republic 1.5deg\n",
      "Congo Republic 2.0deg\n",
      "Cote d'Ivoire Reference\n",
      "Cote d'Ivoire 1.5deg\n",
      "Cote d'Ivoire 2.0deg\n",
      "Cameroon Reference\n",
      "Cameroon 1.5deg\n",
      "Cameroon 2.0deg\n",
      "Djibouti Reference\n",
      "Djibouti 1.5deg\n",
      "Djibouti 2.0deg\n",
      "Eritrea Reference\n",
      "Eritrea 1.5deg\n",
      "Eritrea 2.0deg\n",
      "Ethiopia Reference\n",
      "Ethiopia 1.5deg\n",
      "Ethiopia 2.0deg\n",
      "Gabon Reference\n",
      "Gabon 1.5deg\n",
      "Gabon 2.0deg\n",
      "Ghana Reference\n",
      "Ghana 1.5deg\n",
      "Ghana 2.0deg\n",
      "Gambia Reference\n",
      "Gambia 1.5deg\n",
      "Gambia 2.0deg\n",
      "Guinea Reference\n",
      "Guinea 1.5deg\n",
      "Guinea 2.0deg\n",
      "Equatorial Guinea Reference\n",
      "Equatorial Guinea 1.5deg\n",
      "Equatorial Guinea 2.0deg\n",
      "Guinea-Bissau Reference\n",
      "Guinea-Bissau 1.5deg\n",
      "Guinea-Bissau 2.0deg\n",
      "Kenya Reference\n",
      "Kenya 1.5deg\n",
      "Kenya 2.0deg\n",
      "Liberia Reference\n",
      "Liberia 1.5deg\n",
      "Liberia 2.0deg\n",
      "Lesotho Reference\n",
      "Lesotho 1.5deg\n",
      "Lesotho 2.0deg\n",
      "Mali Reference\n",
      "Mali 1.5deg\n",
      "Mali 2.0deg\n",
      "Mauritania Reference\n",
      "Mauritania 1.5deg\n",
      "Mauritania 2.0deg\n",
      "Malawi Reference\n",
      "Malawi 1.5deg\n",
      "Malawi 2.0deg\n",
      "Mozambique Reference\n",
      "Mozambique 1.5deg\n",
      "Mozambique 2.0deg\n",
      "Niger Reference\n",
      "Niger 1.5deg\n",
      "Niger 2.0deg\n",
      "Nigeria Reference\n",
      "Nigeria 1.5deg\n",
      "Nigeria 2.0deg\n",
      "Namibia Reference\n",
      "Namibia 1.5deg\n",
      "Namibia 2.0deg\n",
      "Rwanda Reference\n",
      "Rwanda 1.5deg\n",
      "Rwanda 2.0deg\n",
      "Sierra Leone Reference\n",
      "Sierra Leone 1.5deg\n",
      "Sierra Leone 2.0deg\n",
      "Senegal Reference\n",
      "Senegal 1.5deg\n",
      "Senegal 2.0deg\n",
      "Somalia Reference\n",
      "Somalia 1.5deg\n",
      "Somalia 2.0deg\n",
      "South Sudan Reference\n",
      "South Sudan 1.5deg\n",
      "South Sudan 2.0deg\n",
      "Eswatini Reference\n",
      "Eswatini 1.5deg\n",
      "Eswatini 2.0deg\n",
      "Chad Reference\n",
      "Chad 1.5deg\n",
      "Chad 2.0deg\n",
      "Togo Reference\n",
      "Togo 1.5deg\n",
      "Togo 2.0deg\n",
      "Tanzania Reference\n",
      "Tanzania 1.5deg\n",
      "Tanzania 2.0deg\n",
      "Uganda Reference\n",
      "Uganda 1.5deg\n",
      "Uganda 2.0deg\n",
      "South Africa Reference\n",
      "South Africa 1.5deg\n",
      "South Africa 2.0deg\n",
      "Zambia Reference\n",
      "Zambia 1.5deg\n",
      "Zambia 2.0deg\n",
      "Zimbabwe Reference\n",
      "Zimbabwe 1.5deg\n",
      "Zimbabwe 2.0deg\n",
      "Algeria Reference\n",
      "Algeria 1.5deg\n",
      "Algeria 2.0deg\n",
      "Egypt Reference\n",
      "Egypt 1.5deg\n",
      "Egypt 2.0deg\n",
      "Libya Reference\n",
      "Libya 1.5deg\n",
      "Libya 2.0deg\n",
      "Morocco Reference\n",
      "Morocco 1.5deg\n",
      "Morocco 2.0deg\n",
      "Sudan Reference\n",
      "Sudan 1.5deg\n",
      "Sudan 2.0deg\n",
      "Tunisia Reference\n",
      "Tunisia 1.5deg\n",
      "Tunisia 2.0deg\n"
     ]
    }
   ],
   "source": [
    "colors = px.colors.qualitative.Vivid\n",
    "\n",
    "for c in jobs_forplot['Country'].unique():\n",
    "    for sc in jobs_forplot[jobs_forplot['Country']==c]['scenario'].unique():\n",
    "    \n",
    "        data = jobs_forplot[(jobs_forplot['Country']==c)&\\\n",
    "                            (jobs_forplot['scenario']==sc)&\\\n",
    "                            (jobs_forplot['parameter']=='New power generation capacity (Aggregate)')&\\\n",
    "                            (jobs_forplot['Indicator']!='Capacity')]\n",
    "        data = data[data['Value']>0]\n",
    "        if not data.empty:\n",
    "            fig = go.Figure()\n",
    "#             print(c, sc)\n",
    "            for t, co  in zip(data['tech'].unique(), colors):\n",
    "                for i, d in zip(data['Indicator'].unique(),['solid','dash','dot']):# ('circle','square','diamond')):\n",
    "                    fig.add_trace(go.Scatter(x = data[(data['tech']==t)&(data['Indicator']==i)].Year, \n",
    "                                             y = data[(data['tech']==t)&(data['Indicator']==i)].Value,\n",
    "                                             mode = 'lines',\n",
    "                                             name = '{}- {}'.format(t,i) ,\n",
    "#                                              marker = dict(symbol=m),\n",
    "#                                              marker_color = co,\n",
    "                                             line = dict(dash = d),\n",
    "                                             line_color = co,\n",
    "                                             stackgroup='one')\n",
    "                                 )\n",
    "            fig.update_layout(xaxis_title = 'Year', yaxis_title = 'Number of jobs',\n",
    "                              template = 'simple_white+presentation',\n",
    "#                               barmode='stack'\n",
    "                             )\n",
    "#             fig.show()            \n",
    "            pio.write_image(fig, r'figures/countries/{0}_{1}_employment.pdf'.format(c,sc[:3]), width = 1500, height = 1000)\n",
    "            pio.write_image(fig, r'figures/countries/{0}_{1}_employment.eps'.format(c,sc[:3]), width = 1500, height = 1000)"
   ]
  },
  {
   "cell_type": "markdown",
   "metadata": {},
   "source": [
    "# Plots for general values"
   ]
  },
  {
   "cell_type": "markdown",
   "metadata": {},
   "source": [
    "## Embodied vs use-phase"
   ]
  },
  {
   "cell_type": "code",
   "execution_count": 1103,
   "metadata": {},
   "outputs": [
    {
     "data": {
      "application/vnd.plotly.v1+json": {
       "config": {
        "plotlyServerURL": "https://plot.ly"
       },
       "data": [
        {
         "error_x": {
          "array": [
           [
            28.689724254125867
           ],
           [
            12.480948783633497
           ],
           [
            4.360048043243782
           ],
           [
            6.4094052914818995
           ],
           [
            38
           ],
           [
            160
           ],
           [
            85
           ],
           [
            187
           ],
           [
            3.2079259584091258
           ],
           [
            1.6574956007985886
           ],
           [
            0.7023769168568492
           ],
           [
            30
           ]
          ],
          "type": "data"
         },
         "marker": {
          "color": "rgb(229, 134, 6)"
         },
         "name": "Use-Phase",
         "orientation": "h",
         "type": "bar",
         "x": [
          8.575,
          19.523076923076925,
          20.675,
          23.400000000000002,
          28.7,
          53.68333333333334,
          70.84666666666666,
          88,
          190,
          492,
          732,
          1024
         ],
         "y": [
          "Wind (Offshore)",
          "Wind (Onshore)",
          "Hydro",
          "Nuclear",
          "Geothermal",
          "Solar CSP",
          "Solar PV",
          "Biomass",
          "Gas CCS",
          "Gas",
          "Oil",
          "Coal"
         ]
        },
        {
         "error_x": {
          "array": [
           null,
           null,
           null,
           null,
           null,
           null,
           null,
           null,
           null,
           null,
           null,
           null,
           null,
           null,
           5.073818842014789,
           14.30949470375844,
           24.02222791776321,
           1.3881914968667277,
           2.4364840189429082,
           1.083806481546417,
           0.03123248620087333,
           1.299475748033848,
           0.3307778298049546,
           5.15923688536582
          ],
          "type": "data"
         },
         "marker": {
          "color": "rgb(93, 105, 177)"
         },
         "name": "Embodied (materials)",
         "orientation": "h",
         "type": "bar",
         "x": [
          11.687298091976517,
          36.15317846270924,
          43.4517592,
          10.576158290833334,
          17.48815209,
          5.026645850204082,
          0.18254705733130389,
          10.916057604132654,
          1.3533414611872145,
          15.55141549789717
         ],
         "y": [
          "Wind (Onshore)",
          "Solar CSP",
          "Solar PV",
          "Hydro",
          "Geothermal",
          "Gas CCS",
          "Oil",
          "Gas",
          "Coal",
          "Wind (Offshore)"
         ]
        }
       ],
       "layout": {
        "barmode": "stack",
        "legend": {
         "orientation": "h",
         "y": -0.2
        },
        "template": {
         "data": {
          "bar": [
           {
            "error_x": {
             "color": "rgb(36,36,36)"
            },
            "error_y": {
             "color": "rgb(36,36,36)"
            },
            "marker": {
             "line": {
              "color": "white",
              "width": 0.5
             }
            },
            "type": "bar"
           }
          ],
          "barpolar": [
           {
            "marker": {
             "line": {
              "color": "white",
              "width": 0.5
             }
            },
            "type": "barpolar"
           }
          ],
          "carpet": [
           {
            "aaxis": {
             "endlinecolor": "rgb(36,36,36)",
             "gridcolor": "white",
             "linecolor": "white",
             "minorgridcolor": "white",
             "startlinecolor": "rgb(36,36,36)"
            },
            "baxis": {
             "endlinecolor": "rgb(36,36,36)",
             "gridcolor": "white",
             "linecolor": "white",
             "minorgridcolor": "white",
             "startlinecolor": "rgb(36,36,36)"
            },
            "type": "carpet"
           }
          ],
          "choropleth": [
           {
            "colorbar": {
             "outlinewidth": 10,
             "tickcolor": "rgb(36,36,36)",
             "ticklen": 8,
             "ticks": "outside",
             "tickwidth": 2
            },
            "type": "choropleth"
           }
          ],
          "contour": [
           {
            "colorbar": {
             "outlinewidth": 10,
             "tickcolor": "rgb(36,36,36)",
             "ticklen": 8,
             "ticks": "outside",
             "tickwidth": 2
            },
            "colorscale": [
             [
              0,
              "#440154"
             ],
             [
              0.1111111111111111,
              "#482878"
             ],
             [
              0.2222222222222222,
              "#3e4989"
             ],
             [
              0.3333333333333333,
              "#31688e"
             ],
             [
              0.4444444444444444,
              "#26828e"
             ],
             [
              0.5555555555555556,
              "#1f9e89"
             ],
             [
              0.6666666666666666,
              "#35b779"
             ],
             [
              0.7777777777777778,
              "#6ece58"
             ],
             [
              0.8888888888888888,
              "#b5de2b"
             ],
             [
              1,
              "#fde725"
             ]
            ],
            "type": "contour"
           }
          ],
          "contourcarpet": [
           {
            "colorbar": {
             "outlinewidth": 10,
             "tickcolor": "rgb(36,36,36)",
             "ticklen": 8,
             "ticks": "outside",
             "tickwidth": 2
            },
            "type": "contourcarpet"
           }
          ],
          "heatmap": [
           {
            "colorbar": {
             "outlinewidth": 10,
             "tickcolor": "rgb(36,36,36)",
             "ticklen": 8,
             "ticks": "outside",
             "tickwidth": 2
            },
            "colorscale": [
             [
              0,
              "#440154"
             ],
             [
              0.1111111111111111,
              "#482878"
             ],
             [
              0.2222222222222222,
              "#3e4989"
             ],
             [
              0.3333333333333333,
              "#31688e"
             ],
             [
              0.4444444444444444,
              "#26828e"
             ],
             [
              0.5555555555555556,
              "#1f9e89"
             ],
             [
              0.6666666666666666,
              "#35b779"
             ],
             [
              0.7777777777777778,
              "#6ece58"
             ],
             [
              0.8888888888888888,
              "#b5de2b"
             ],
             [
              1,
              "#fde725"
             ]
            ],
            "type": "heatmap"
           }
          ],
          "heatmapgl": [
           {
            "colorbar": {
             "outlinewidth": 10,
             "tickcolor": "rgb(36,36,36)",
             "ticklen": 8,
             "ticks": "outside",
             "tickwidth": 2
            },
            "colorscale": [
             [
              0,
              "#440154"
             ],
             [
              0.1111111111111111,
              "#482878"
             ],
             [
              0.2222222222222222,
              "#3e4989"
             ],
             [
              0.3333333333333333,
              "#31688e"
             ],
             [
              0.4444444444444444,
              "#26828e"
             ],
             [
              0.5555555555555556,
              "#1f9e89"
             ],
             [
              0.6666666666666666,
              "#35b779"
             ],
             [
              0.7777777777777778,
              "#6ece58"
             ],
             [
              0.8888888888888888,
              "#b5de2b"
             ],
             [
              1,
              "#fde725"
             ]
            ],
            "type": "heatmapgl"
           }
          ],
          "histogram": [
           {
            "marker": {
             "line": {
              "color": "white",
              "width": 0.6
             }
            },
            "type": "histogram"
           }
          ],
          "histogram2d": [
           {
            "colorbar": {
             "outlinewidth": 10,
             "tickcolor": "rgb(36,36,36)",
             "ticklen": 8,
             "ticks": "outside",
             "tickwidth": 2
            },
            "colorscale": [
             [
              0,
              "#440154"
             ],
             [
              0.1111111111111111,
              "#482878"
             ],
             [
              0.2222222222222222,
              "#3e4989"
             ],
             [
              0.3333333333333333,
              "#31688e"
             ],
             [
              0.4444444444444444,
              "#26828e"
             ],
             [
              0.5555555555555556,
              "#1f9e89"
             ],
             [
              0.6666666666666666,
              "#35b779"
             ],
             [
              0.7777777777777778,
              "#6ece58"
             ],
             [
              0.8888888888888888,
              "#b5de2b"
             ],
             [
              1,
              "#fde725"
             ]
            ],
            "type": "histogram2d"
           }
          ],
          "histogram2dcontour": [
           {
            "colorbar": {
             "outlinewidth": 10,
             "tickcolor": "rgb(36,36,36)",
             "ticklen": 8,
             "ticks": "outside",
             "tickwidth": 2
            },
            "colorscale": [
             [
              0,
              "#440154"
             ],
             [
              0.1111111111111111,
              "#482878"
             ],
             [
              0.2222222222222222,
              "#3e4989"
             ],
             [
              0.3333333333333333,
              "#31688e"
             ],
             [
              0.4444444444444444,
              "#26828e"
             ],
             [
              0.5555555555555556,
              "#1f9e89"
             ],
             [
              0.6666666666666666,
              "#35b779"
             ],
             [
              0.7777777777777778,
              "#6ece58"
             ],
             [
              0.8888888888888888,
              "#b5de2b"
             ],
             [
              1,
              "#fde725"
             ]
            ],
            "type": "histogram2dcontour"
           }
          ],
          "mesh3d": [
           {
            "colorbar": {
             "outlinewidth": 10,
             "tickcolor": "rgb(36,36,36)",
             "ticklen": 8,
             "ticks": "outside",
             "tickwidth": 2
            },
            "type": "mesh3d"
           }
          ],
          "parcoords": [
           {
            "line": {
             "colorbar": {
              "outlinewidth": 10,
              "tickcolor": "rgb(36,36,36)",
              "ticklen": 8,
              "ticks": "outside",
              "tickwidth": 2
             }
            },
            "type": "parcoords"
           }
          ],
          "pie": [
           {
            "automargin": true,
            "type": "pie"
           }
          ],
          "scatter": [
           {
            "line": {
             "width": 3
            },
            "marker": {
             "colorbar": {
              "outlinewidth": 10,
              "tickcolor": "rgb(36,36,36)",
              "ticklen": 8,
              "ticks": "outside",
              "tickwidth": 2
             },
             "size": 9
            },
            "type": "scatter"
           }
          ],
          "scatter3d": [
           {
            "line": {
             "colorbar": {
              "outlinewidth": 10,
              "tickcolor": "rgb(36,36,36)",
              "ticklen": 8,
              "ticks": "outside",
              "tickwidth": 2
             },
             "width": 3
            },
            "marker": {
             "colorbar": {
              "outlinewidth": 10,
              "tickcolor": "rgb(36,36,36)",
              "ticklen": 8,
              "ticks": "outside",
              "tickwidth": 2
             },
             "size": 9
            },
            "type": "scatter3d"
           }
          ],
          "scattercarpet": [
           {
            "marker": {
             "colorbar": {
              "outlinewidth": 10,
              "tickcolor": "rgb(36,36,36)",
              "ticklen": 8,
              "ticks": "outside",
              "tickwidth": 2
             }
            },
            "type": "scattercarpet"
           }
          ],
          "scattergeo": [
           {
            "line": {
             "width": 3
            },
            "marker": {
             "colorbar": {
              "outlinewidth": 10,
              "tickcolor": "rgb(36,36,36)",
              "ticklen": 8,
              "ticks": "outside",
              "tickwidth": 2
             },
             "size": 9
            },
            "type": "scattergeo"
           }
          ],
          "scattergl": [
           {
            "line": {
             "width": 3
            },
            "marker": {
             "colorbar": {
              "outlinewidth": 10,
              "tickcolor": "rgb(36,36,36)",
              "ticklen": 8,
              "ticks": "outside",
              "tickwidth": 2
             },
             "size": 9
            },
            "type": "scattergl"
           }
          ],
          "scattermapbox": [
           {
            "marker": {
             "colorbar": {
              "outlinewidth": 10,
              "tickcolor": "rgb(36,36,36)",
              "ticklen": 8,
              "ticks": "outside",
              "tickwidth": 2
             }
            },
            "type": "scattermapbox"
           }
          ],
          "scatterpolar": [
           {
            "line": {
             "width": 3
            },
            "marker": {
             "colorbar": {
              "outlinewidth": 10,
              "tickcolor": "rgb(36,36,36)",
              "ticklen": 8,
              "ticks": "outside",
              "tickwidth": 2
             },
             "size": 9
            },
            "type": "scatterpolar"
           }
          ],
          "scatterpolargl": [
           {
            "line": {
             "width": 3
            },
            "marker": {
             "colorbar": {
              "outlinewidth": 10,
              "tickcolor": "rgb(36,36,36)",
              "ticklen": 8,
              "ticks": "outside",
              "tickwidth": 2
             },
             "size": 9
            },
            "type": "scatterpolargl"
           }
          ],
          "scatterternary": [
           {
            "line": {
             "width": 3
            },
            "marker": {
             "colorbar": {
              "outlinewidth": 10,
              "tickcolor": "rgb(36,36,36)",
              "ticklen": 8,
              "ticks": "outside",
              "tickwidth": 2
             },
             "size": 9
            },
            "type": "scatterternary"
           }
          ],
          "surface": [
           {
            "colorbar": {
             "outlinewidth": 10,
             "tickcolor": "rgb(36,36,36)",
             "ticklen": 8,
             "ticks": "outside",
             "tickwidth": 2
            },
            "colorscale": [
             [
              0,
              "#440154"
             ],
             [
              0.1111111111111111,
              "#482878"
             ],
             [
              0.2222222222222222,
              "#3e4989"
             ],
             [
              0.3333333333333333,
              "#31688e"
             ],
             [
              0.4444444444444444,
              "#26828e"
             ],
             [
              0.5555555555555556,
              "#1f9e89"
             ],
             [
              0.6666666666666666,
              "#35b779"
             ],
             [
              0.7777777777777778,
              "#6ece58"
             ],
             [
              0.8888888888888888,
              "#b5de2b"
             ],
             [
              1,
              "#fde725"
             ]
            ],
            "type": "surface"
           }
          ],
          "table": [
           {
            "cells": {
             "fill": {
              "color": "rgb(237,237,237)"
             },
             "height": 30,
             "line": {
              "color": "white"
             }
            },
            "header": {
             "fill": {
              "color": "rgb(217,217,217)"
             },
             "height": 36,
             "line": {
              "color": "white"
             }
            },
            "type": "table"
           }
          ]
         },
         "layout": {
          "annotationdefaults": {
           "arrowhead": 0,
           "arrowwidth": 1
          },
          "coloraxis": {
           "colorbar": {
            "outlinewidth": 10,
            "tickcolor": "rgb(36,36,36)",
            "ticklen": 8,
            "ticks": "outside",
            "tickwidth": 2
           }
          },
          "colorscale": {
           "diverging": [
            [
             0,
             "rgb(103,0,31)"
            ],
            [
             0.1,
             "rgb(178,24,43)"
            ],
            [
             0.2,
             "rgb(214,96,77)"
            ],
            [
             0.3,
             "rgb(244,165,130)"
            ],
            [
             0.4,
             "rgb(253,219,199)"
            ],
            [
             0.5,
             "rgb(247,247,247)"
            ],
            [
             0.6,
             "rgb(209,229,240)"
            ],
            [
             0.7,
             "rgb(146,197,222)"
            ],
            [
             0.8,
             "rgb(67,147,195)"
            ],
            [
             0.9,
             "rgb(33,102,172)"
            ],
            [
             1,
             "rgb(5,48,97)"
            ]
           ],
           "sequential": [
            [
             0,
             "#440154"
            ],
            [
             0.1111111111111111,
             "#482878"
            ],
            [
             0.2222222222222222,
             "#3e4989"
            ],
            [
             0.3333333333333333,
             "#31688e"
            ],
            [
             0.4444444444444444,
             "#26828e"
            ],
            [
             0.5555555555555556,
             "#1f9e89"
            ],
            [
             0.6666666666666666,
             "#35b779"
            ],
            [
             0.7777777777777778,
             "#6ece58"
            ],
            [
             0.8888888888888888,
             "#b5de2b"
            ],
            [
             1,
             "#fde725"
            ]
           ],
           "sequentialminus": [
            [
             0,
             "#440154"
            ],
            [
             0.1111111111111111,
             "#482878"
            ],
            [
             0.2222222222222222,
             "#3e4989"
            ],
            [
             0.3333333333333333,
             "#31688e"
            ],
            [
             0.4444444444444444,
             "#26828e"
            ],
            [
             0.5555555555555556,
             "#1f9e89"
            ],
            [
             0.6666666666666666,
             "#35b779"
            ],
            [
             0.7777777777777778,
             "#6ece58"
            ],
            [
             0.8888888888888888,
             "#b5de2b"
            ],
            [
             1,
             "#fde725"
            ]
           ]
          },
          "colorway": [
           "#1F77B4",
           "#FF7F0E",
           "#2CA02C",
           "#D62728",
           "#9467BD",
           "#8C564B",
           "#E377C2",
           "#7F7F7F",
           "#BCBD22",
           "#17BECF"
          ],
          "font": {
           "color": "rgb(36,36,36)",
           "size": 18
          },
          "geo": {
           "bgcolor": "white",
           "lakecolor": "white",
           "landcolor": "white",
           "showlakes": true,
           "showland": true,
           "subunitcolor": "white"
          },
          "hoverlabel": {
           "align": "left"
          },
          "hovermode": "closest",
          "mapbox": {
           "style": "light"
          },
          "paper_bgcolor": "white",
          "plot_bgcolor": "white",
          "polar": {
           "angularaxis": {
            "gridcolor": "rgb(232,232,232)",
            "linecolor": "rgb(36,36,36)",
            "showgrid": false,
            "showline": true,
            "ticks": "outside"
           },
           "bgcolor": "white",
           "radialaxis": {
            "gridcolor": "rgb(232,232,232)",
            "linecolor": "rgb(36,36,36)",
            "showgrid": false,
            "showline": true,
            "ticks": "outside"
           }
          },
          "scene": {
           "xaxis": {
            "backgroundcolor": "white",
            "gridcolor": "rgb(232,232,232)",
            "gridwidth": 2,
            "linecolor": "rgb(36,36,36)",
            "showbackground": true,
            "showgrid": false,
            "showline": true,
            "ticks": "outside",
            "zeroline": false,
            "zerolinecolor": "rgb(36,36,36)"
           },
           "yaxis": {
            "backgroundcolor": "white",
            "gridcolor": "rgb(232,232,232)",
            "gridwidth": 2,
            "linecolor": "rgb(36,36,36)",
            "showbackground": true,
            "showgrid": false,
            "showline": true,
            "ticks": "outside",
            "zeroline": false,
            "zerolinecolor": "rgb(36,36,36)"
           },
           "zaxis": {
            "backgroundcolor": "white",
            "gridcolor": "rgb(232,232,232)",
            "gridwidth": 2,
            "linecolor": "rgb(36,36,36)",
            "showbackground": true,
            "showgrid": false,
            "showline": true,
            "ticks": "outside",
            "zeroline": false,
            "zerolinecolor": "rgb(36,36,36)"
           }
          },
          "shapedefaults": {
           "fillcolor": "black",
           "line": {
            "width": 0
           },
           "opacity": 0.3
          },
          "ternary": {
           "aaxis": {
            "gridcolor": "rgb(232,232,232)",
            "linecolor": "rgb(36,36,36)",
            "showgrid": false,
            "showline": true,
            "ticks": "outside"
           },
           "baxis": {
            "gridcolor": "rgb(232,232,232)",
            "linecolor": "rgb(36,36,36)",
            "showgrid": false,
            "showline": true,
            "ticks": "outside"
           },
           "bgcolor": "white",
           "caxis": {
            "gridcolor": "rgb(232,232,232)",
            "linecolor": "rgb(36,36,36)",
            "showgrid": false,
            "showline": true,
            "ticks": "outside"
           }
          },
          "title": {
           "x": 0.05
          },
          "xaxis": {
           "automargin": true,
           "gridcolor": "rgb(232,232,232)",
           "linecolor": "rgb(36,36,36)",
           "showgrid": false,
           "showline": true,
           "ticks": "outside",
           "title": {
            "standoff": 15
           },
           "zeroline": false,
           "zerolinecolor": "rgb(36,36,36)"
          },
          "yaxis": {
           "automargin": true,
           "gridcolor": "rgb(232,232,232)",
           "linecolor": "rgb(36,36,36)",
           "showgrid": false,
           "showline": true,
           "ticks": "outside",
           "title": {
            "standoff": 15
           },
           "zeroline": false,
           "zerolinecolor": "rgb(36,36,36)"
          }
         }
        },
        "xaxis": {
         "title": {
          "text": "Emissions per kWh [gCO<sub>2</sub>/kWh]"
         }
        }
       }
      },
      "text/html": [
       "<div>\n",
       "        \n",
       "        \n",
       "            <div id=\"8431fcd5-60ff-4078-8945-fbbbd44e6e37\" class=\"plotly-graph-div\" style=\"height:525px; width:100%;\"></div>\n",
       "            <script type=\"text/javascript\">\n",
       "                require([\"plotly\"], function(Plotly) {\n",
       "                    window.PLOTLYENV=window.PLOTLYENV || {};\n",
       "                    \n",
       "                if (document.getElementById(\"8431fcd5-60ff-4078-8945-fbbbd44e6e37\")) {\n",
       "                    Plotly.newPlot(\n",
       "                        '8431fcd5-60ff-4078-8945-fbbbd44e6e37',\n",
       "                        [{\"error_x\": {\"array\": [[28.689724254125867], [12.480948783633497], [4.360048043243782], [6.4094052914818995], [38.0], [160.0], [85.0], [187.0], [3.2079259584091258], [1.6574956007985886], [0.7023769168568492], [30.0]], \"type\": \"data\"}, \"marker\": {\"color\": \"rgb(229, 134, 6)\"}, \"name\": \"Use-Phase\", \"orientation\": \"h\", \"type\": \"bar\", \"x\": [8.575, 19.523076923076925, 20.675, 23.400000000000002, 28.7, 53.68333333333334, 70.84666666666666, 88.0, 190.0, 492.0, 732.0, 1024.0], \"y\": [\"Wind (Offshore)\", \"Wind (Onshore)\", \"Hydro\", \"Nuclear\", \"Geothermal\", \"Solar CSP\", \"Solar PV\", \"Biomass\", \"Gas CCS\", \"Gas\", \"Oil\", \"Coal\"]}, {\"error_x\": {\"array\": [null, null, null, null, null, null, null, null, null, null, null, null, null, null, 5.073818842014789, 14.30949470375844, 24.02222791776321, 1.3881914968667277, 2.4364840189429082, 1.083806481546417, 0.03123248620087333, 1.299475748033848, 0.3307778298049546, 5.15923688536582], \"type\": \"data\"}, \"marker\": {\"color\": \"rgb(93, 105, 177)\"}, \"name\": \"Embodied (materials)\", \"orientation\": \"h\", \"type\": \"bar\", \"x\": [11.687298091976517, 36.15317846270924, 43.4517592, 10.576158290833334, 17.48815209, 5.026645850204082, 0.18254705733130389, 10.916057604132654, 1.3533414611872145, 15.55141549789717], \"y\": [\"Wind (Onshore)\", \"Solar CSP\", \"Solar PV\", \"Hydro\", \"Geothermal\", \"Gas CCS\", \"Oil\", \"Gas\", \"Coal\", \"Wind (Offshore)\"]}],\n",
       "                        {\"barmode\": \"stack\", \"legend\": {\"orientation\": \"h\", \"y\": -0.2}, \"template\": {\"data\": {\"bar\": [{\"error_x\": {\"color\": \"rgb(36,36,36)\"}, \"error_y\": {\"color\": \"rgb(36,36,36)\"}, \"marker\": {\"line\": {\"color\": \"white\", \"width\": 0.5}}, \"type\": \"bar\"}], \"barpolar\": [{\"marker\": {\"line\": {\"color\": \"white\", \"width\": 0.5}}, \"type\": \"barpolar\"}], \"carpet\": [{\"aaxis\": {\"endlinecolor\": \"rgb(36,36,36)\", \"gridcolor\": \"white\", \"linecolor\": \"white\", \"minorgridcolor\": \"white\", \"startlinecolor\": \"rgb(36,36,36)\"}, \"baxis\": {\"endlinecolor\": \"rgb(36,36,36)\", \"gridcolor\": \"white\", \"linecolor\": \"white\", \"minorgridcolor\": \"white\", \"startlinecolor\": \"rgb(36,36,36)\"}, \"type\": \"carpet\"}], \"choropleth\": [{\"colorbar\": {\"outlinewidth\": 10, \"tickcolor\": \"rgb(36,36,36)\", \"ticklen\": 8, \"ticks\": \"outside\", \"tickwidth\": 2}, \"type\": \"choropleth\"}], \"contour\": [{\"colorbar\": {\"outlinewidth\": 10, \"tickcolor\": \"rgb(36,36,36)\", \"ticklen\": 8, \"ticks\": \"outside\", \"tickwidth\": 2}, \"colorscale\": [[0.0, \"#440154\"], [0.1111111111111111, \"#482878\"], [0.2222222222222222, \"#3e4989\"], [0.3333333333333333, \"#31688e\"], [0.4444444444444444, \"#26828e\"], [0.5555555555555556, \"#1f9e89\"], [0.6666666666666666, \"#35b779\"], [0.7777777777777778, \"#6ece58\"], [0.8888888888888888, \"#b5de2b\"], [1.0, \"#fde725\"]], \"type\": \"contour\"}], \"contourcarpet\": [{\"colorbar\": {\"outlinewidth\": 10, \"tickcolor\": \"rgb(36,36,36)\", \"ticklen\": 8, \"ticks\": \"outside\", \"tickwidth\": 2}, \"type\": \"contourcarpet\"}], \"heatmap\": [{\"colorbar\": {\"outlinewidth\": 10, \"tickcolor\": \"rgb(36,36,36)\", \"ticklen\": 8, \"ticks\": \"outside\", \"tickwidth\": 2}, \"colorscale\": [[0.0, \"#440154\"], [0.1111111111111111, \"#482878\"], [0.2222222222222222, \"#3e4989\"], [0.3333333333333333, \"#31688e\"], [0.4444444444444444, \"#26828e\"], [0.5555555555555556, \"#1f9e89\"], [0.6666666666666666, \"#35b779\"], [0.7777777777777778, \"#6ece58\"], [0.8888888888888888, \"#b5de2b\"], [1.0, \"#fde725\"]], \"type\": \"heatmap\"}], \"heatmapgl\": [{\"colorbar\": {\"outlinewidth\": 10, \"tickcolor\": \"rgb(36,36,36)\", \"ticklen\": 8, \"ticks\": \"outside\", \"tickwidth\": 2}, \"colorscale\": [[0.0, \"#440154\"], [0.1111111111111111, \"#482878\"], [0.2222222222222222, \"#3e4989\"], [0.3333333333333333, \"#31688e\"], [0.4444444444444444, \"#26828e\"], [0.5555555555555556, \"#1f9e89\"], [0.6666666666666666, \"#35b779\"], [0.7777777777777778, \"#6ece58\"], [0.8888888888888888, \"#b5de2b\"], [1.0, \"#fde725\"]], \"type\": \"heatmapgl\"}], \"histogram\": [{\"marker\": {\"line\": {\"color\": \"white\", \"width\": 0.6}}, \"type\": \"histogram\"}], \"histogram2d\": [{\"colorbar\": {\"outlinewidth\": 10, \"tickcolor\": \"rgb(36,36,36)\", \"ticklen\": 8, \"ticks\": \"outside\", \"tickwidth\": 2}, \"colorscale\": [[0.0, \"#440154\"], [0.1111111111111111, \"#482878\"], [0.2222222222222222, \"#3e4989\"], [0.3333333333333333, \"#31688e\"], [0.4444444444444444, \"#26828e\"], [0.5555555555555556, \"#1f9e89\"], [0.6666666666666666, \"#35b779\"], [0.7777777777777778, \"#6ece58\"], [0.8888888888888888, \"#b5de2b\"], [1.0, \"#fde725\"]], \"type\": \"histogram2d\"}], \"histogram2dcontour\": [{\"colorbar\": {\"outlinewidth\": 10, \"tickcolor\": \"rgb(36,36,36)\", \"ticklen\": 8, \"ticks\": \"outside\", \"tickwidth\": 2}, \"colorscale\": [[0.0, \"#440154\"], [0.1111111111111111, \"#482878\"], [0.2222222222222222, \"#3e4989\"], [0.3333333333333333, \"#31688e\"], [0.4444444444444444, \"#26828e\"], [0.5555555555555556, \"#1f9e89\"], [0.6666666666666666, \"#35b779\"], [0.7777777777777778, \"#6ece58\"], [0.8888888888888888, \"#b5de2b\"], [1.0, \"#fde725\"]], \"type\": \"histogram2dcontour\"}], \"mesh3d\": [{\"colorbar\": {\"outlinewidth\": 10, \"tickcolor\": \"rgb(36,36,36)\", \"ticklen\": 8, \"ticks\": \"outside\", \"tickwidth\": 2}, \"type\": \"mesh3d\"}], \"parcoords\": [{\"line\": {\"colorbar\": {\"outlinewidth\": 10, \"tickcolor\": \"rgb(36,36,36)\", \"ticklen\": 8, \"ticks\": \"outside\", \"tickwidth\": 2}}, \"type\": \"parcoords\"}], \"pie\": [{\"automargin\": true, \"type\": \"pie\"}], \"scatter\": [{\"line\": {\"width\": 3}, \"marker\": {\"colorbar\": {\"outlinewidth\": 10, \"tickcolor\": \"rgb(36,36,36)\", \"ticklen\": 8, \"ticks\": \"outside\", \"tickwidth\": 2}, \"size\": 9}, \"type\": \"scatter\"}], \"scatter3d\": [{\"line\": {\"colorbar\": {\"outlinewidth\": 10, \"tickcolor\": \"rgb(36,36,36)\", \"ticklen\": 8, \"ticks\": \"outside\", \"tickwidth\": 2}, \"width\": 3}, \"marker\": {\"colorbar\": {\"outlinewidth\": 10, \"tickcolor\": \"rgb(36,36,36)\", \"ticklen\": 8, \"ticks\": \"outside\", \"tickwidth\": 2}, \"size\": 9}, \"type\": \"scatter3d\"}], \"scattercarpet\": [{\"marker\": {\"colorbar\": {\"outlinewidth\": 10, \"tickcolor\": \"rgb(36,36,36)\", \"ticklen\": 8, \"ticks\": \"outside\", \"tickwidth\": 2}}, \"type\": \"scattercarpet\"}], \"scattergeo\": [{\"line\": {\"width\": 3}, \"marker\": {\"colorbar\": {\"outlinewidth\": 10, \"tickcolor\": \"rgb(36,36,36)\", \"ticklen\": 8, \"ticks\": \"outside\", \"tickwidth\": 2}, \"size\": 9}, \"type\": \"scattergeo\"}], \"scattergl\": [{\"line\": {\"width\": 3}, \"marker\": {\"colorbar\": {\"outlinewidth\": 10, \"tickcolor\": \"rgb(36,36,36)\", \"ticklen\": 8, \"ticks\": \"outside\", \"tickwidth\": 2}, \"size\": 9}, \"type\": \"scattergl\"}], \"scattermapbox\": [{\"marker\": {\"colorbar\": {\"outlinewidth\": 10, \"tickcolor\": \"rgb(36,36,36)\", \"ticklen\": 8, \"ticks\": \"outside\", \"tickwidth\": 2}}, \"type\": \"scattermapbox\"}], \"scatterpolar\": [{\"line\": {\"width\": 3}, \"marker\": {\"colorbar\": {\"outlinewidth\": 10, \"tickcolor\": \"rgb(36,36,36)\", \"ticklen\": 8, \"ticks\": \"outside\", \"tickwidth\": 2}, \"size\": 9}, \"type\": \"scatterpolar\"}], \"scatterpolargl\": [{\"line\": {\"width\": 3}, \"marker\": {\"colorbar\": {\"outlinewidth\": 10, \"tickcolor\": \"rgb(36,36,36)\", \"ticklen\": 8, \"ticks\": \"outside\", \"tickwidth\": 2}, \"size\": 9}, \"type\": \"scatterpolargl\"}], \"scatterternary\": [{\"line\": {\"width\": 3}, \"marker\": {\"colorbar\": {\"outlinewidth\": 10, \"tickcolor\": \"rgb(36,36,36)\", \"ticklen\": 8, \"ticks\": \"outside\", \"tickwidth\": 2}, \"size\": 9}, \"type\": \"scatterternary\"}], \"surface\": [{\"colorbar\": {\"outlinewidth\": 10, \"tickcolor\": \"rgb(36,36,36)\", \"ticklen\": 8, \"ticks\": \"outside\", \"tickwidth\": 2}, \"colorscale\": [[0.0, \"#440154\"], [0.1111111111111111, \"#482878\"], [0.2222222222222222, \"#3e4989\"], [0.3333333333333333, \"#31688e\"], [0.4444444444444444, \"#26828e\"], [0.5555555555555556, \"#1f9e89\"], [0.6666666666666666, \"#35b779\"], [0.7777777777777778, \"#6ece58\"], [0.8888888888888888, \"#b5de2b\"], [1.0, \"#fde725\"]], \"type\": \"surface\"}], \"table\": [{\"cells\": {\"fill\": {\"color\": \"rgb(237,237,237)\"}, \"height\": 30, \"line\": {\"color\": \"white\"}}, \"header\": {\"fill\": {\"color\": \"rgb(217,217,217)\"}, \"height\": 36, \"line\": {\"color\": \"white\"}}, \"type\": \"table\"}]}, \"layout\": {\"annotationdefaults\": {\"arrowhead\": 0, \"arrowwidth\": 1}, \"coloraxis\": {\"colorbar\": {\"outlinewidth\": 10, \"tickcolor\": \"rgb(36,36,36)\", \"ticklen\": 8, \"ticks\": \"outside\", \"tickwidth\": 2}}, \"colorscale\": {\"diverging\": [[0.0, \"rgb(103,0,31)\"], [0.1, \"rgb(178,24,43)\"], [0.2, \"rgb(214,96,77)\"], [0.3, \"rgb(244,165,130)\"], [0.4, \"rgb(253,219,199)\"], [0.5, \"rgb(247,247,247)\"], [0.6, \"rgb(209,229,240)\"], [0.7, \"rgb(146,197,222)\"], [0.8, \"rgb(67,147,195)\"], [0.9, \"rgb(33,102,172)\"], [1.0, \"rgb(5,48,97)\"]], \"sequential\": [[0.0, \"#440154\"], [0.1111111111111111, \"#482878\"], [0.2222222222222222, \"#3e4989\"], [0.3333333333333333, \"#31688e\"], [0.4444444444444444, \"#26828e\"], [0.5555555555555556, \"#1f9e89\"], [0.6666666666666666, \"#35b779\"], [0.7777777777777778, \"#6ece58\"], [0.8888888888888888, \"#b5de2b\"], [1.0, \"#fde725\"]], \"sequentialminus\": [[0.0, \"#440154\"], [0.1111111111111111, \"#482878\"], [0.2222222222222222, \"#3e4989\"], [0.3333333333333333, \"#31688e\"], [0.4444444444444444, \"#26828e\"], [0.5555555555555556, \"#1f9e89\"], [0.6666666666666666, \"#35b779\"], [0.7777777777777778, \"#6ece58\"], [0.8888888888888888, \"#b5de2b\"], [1.0, \"#fde725\"]]}, \"colorway\": [\"#1F77B4\", \"#FF7F0E\", \"#2CA02C\", \"#D62728\", \"#9467BD\", \"#8C564B\", \"#E377C2\", \"#7F7F7F\", \"#BCBD22\", \"#17BECF\"], \"font\": {\"color\": \"rgb(36,36,36)\", \"size\": 18}, \"geo\": {\"bgcolor\": \"white\", \"lakecolor\": \"white\", \"landcolor\": \"white\", \"showlakes\": true, \"showland\": true, \"subunitcolor\": \"white\"}, \"hoverlabel\": {\"align\": \"left\"}, \"hovermode\": \"closest\", \"mapbox\": {\"style\": \"light\"}, \"paper_bgcolor\": \"white\", \"plot_bgcolor\": \"white\", \"polar\": {\"angularaxis\": {\"gridcolor\": \"rgb(232,232,232)\", \"linecolor\": \"rgb(36,36,36)\", \"showgrid\": false, \"showline\": true, \"ticks\": \"outside\"}, \"bgcolor\": \"white\", \"radialaxis\": {\"gridcolor\": \"rgb(232,232,232)\", \"linecolor\": \"rgb(36,36,36)\", \"showgrid\": false, \"showline\": true, \"ticks\": \"outside\"}}, \"scene\": {\"xaxis\": {\"backgroundcolor\": \"white\", \"gridcolor\": \"rgb(232,232,232)\", \"gridwidth\": 2, \"linecolor\": \"rgb(36,36,36)\", \"showbackground\": true, \"showgrid\": false, \"showline\": true, \"ticks\": \"outside\", \"zeroline\": false, \"zerolinecolor\": \"rgb(36,36,36)\"}, \"yaxis\": {\"backgroundcolor\": \"white\", \"gridcolor\": \"rgb(232,232,232)\", \"gridwidth\": 2, \"linecolor\": \"rgb(36,36,36)\", \"showbackground\": true, \"showgrid\": false, \"showline\": true, \"ticks\": \"outside\", \"zeroline\": false, \"zerolinecolor\": \"rgb(36,36,36)\"}, \"zaxis\": {\"backgroundcolor\": \"white\", \"gridcolor\": \"rgb(232,232,232)\", \"gridwidth\": 2, \"linecolor\": \"rgb(36,36,36)\", \"showbackground\": true, \"showgrid\": false, \"showline\": true, \"ticks\": \"outside\", \"zeroline\": false, \"zerolinecolor\": \"rgb(36,36,36)\"}}, \"shapedefaults\": {\"fillcolor\": \"black\", \"line\": {\"width\": 0}, \"opacity\": 0.3}, \"ternary\": {\"aaxis\": {\"gridcolor\": \"rgb(232,232,232)\", \"linecolor\": \"rgb(36,36,36)\", \"showgrid\": false, \"showline\": true, \"ticks\": \"outside\"}, \"baxis\": {\"gridcolor\": \"rgb(232,232,232)\", \"linecolor\": \"rgb(36,36,36)\", \"showgrid\": false, \"showline\": true, \"ticks\": \"outside\"}, \"bgcolor\": \"white\", \"caxis\": {\"gridcolor\": \"rgb(232,232,232)\", \"linecolor\": \"rgb(36,36,36)\", \"showgrid\": false, \"showline\": true, \"ticks\": \"outside\"}}, \"title\": {\"x\": 0.05}, \"xaxis\": {\"automargin\": true, \"gridcolor\": \"rgb(232,232,232)\", \"linecolor\": \"rgb(36,36,36)\", \"showgrid\": false, \"showline\": true, \"ticks\": \"outside\", \"title\": {\"standoff\": 15}, \"zeroline\": false, \"zerolinecolor\": \"rgb(36,36,36)\"}, \"yaxis\": {\"automargin\": true, \"gridcolor\": \"rgb(232,232,232)\", \"linecolor\": \"rgb(36,36,36)\", \"showgrid\": false, \"showline\": true, \"ticks\": \"outside\", \"title\": {\"standoff\": 15}, \"zeroline\": false, \"zerolinecolor\": \"rgb(36,36,36)\"}}}, \"xaxis\": {\"title\": {\"text\": \"Emissions per kWh [gCO<sub>2</sub>/kWh]\"}}},\n",
       "                        {\"responsive\": true}\n",
       "                    ).then(function(){\n",
       "                            \n",
       "var gd = document.getElementById('8431fcd5-60ff-4078-8945-fbbbd44e6e37');\n",
       "var x = new MutationObserver(function (mutations, observer) {{\n",
       "        var display = window.getComputedStyle(gd).display;\n",
       "        if (!display || display === 'none') {{\n",
       "            console.log([gd, 'removed!']);\n",
       "            Plotly.purge(gd);\n",
       "            observer.disconnect();\n",
       "        }}\n",
       "}});\n",
       "\n",
       "// Listen for the removal of the full notebook cells\n",
       "var notebookContainer = gd.closest('#notebook-container');\n",
       "if (notebookContainer) {{\n",
       "    x.observe(notebookContainer, {childList: true});\n",
       "}}\n",
       "\n",
       "// Listen for the clearing of the current output cell\n",
       "var outputEl = gd.closest('.output');\n",
       "if (outputEl) {{\n",
       "    x.observe(outputEl, {childList: true});\n",
       "}}\n",
       "\n",
       "                        })\n",
       "                };\n",
       "                });\n",
       "            </script>\n",
       "        </div>"
      ]
     },
     "metadata": {},
     "output_type": "display_data"
    }
   ],
   "source": [
    "# Embodied vs use phase\n",
    "\n",
    "EU = pd.read_excel(mypath+'Excel_model_material_implications_energy_systems.xlsx', sheet_name = 'Graph', \n",
    "                skiprows = 44, usecols = \"B,T:V\", nrows = 15)\n",
    "EU.rename(columns = {'Unnamed: 1':'tech'}, inplace = True)\n",
    "EU = EU[EU['tech']!= 'Wind']\n",
    "\n",
    "EE_u = pd.read_excel(mypath+'Excel_model_material_implications_energy_systems.xlsx', \n",
    "                   sheet_name = 'Graph', \n",
    "                skiprows = 63, usecols = \"B:C\", nrows = 15)\n",
    "EE_u.rename(columns = {'Unnamed: 1':'tech'}, inplace = True)\n",
    "\n",
    "# EE is the same as e_E_tot\n",
    "\n",
    "colors = px.colors.qualitative.Vivid\n",
    "\n",
    "df = [EU,E_tech]\n",
    "dnames = ['EU','E_tech']\n",
    "\n",
    "datae_u = EU[['tech','STANDARD ERROR']].rename(columns = {'STANDARD ERROR':'error'})\n",
    "datae_u = datae_u[~datae_u['tech'].isin(['Hydrogen','BECCS','Coal CCS'])]\n",
    "datae_e = datae.append(e_E_tot.reset_index().rename(columns = {0:'error'}))\n",
    "datae_e = datae_e[~datae_e['tech'].isin(['Hydrogen','BECCS','Coal CCS'])]\n",
    "\n",
    "# sorting data based on use phase\n",
    "\n",
    "fig = go.Figure()\n",
    "for d, dn, c in zip(df, dnames, colors[0:2]): \n",
    "    if dn == 'EU': \n",
    "        d = EU.sort_values(by = 'AVERAGE', ascending = True)\n",
    "        d = d[~d['tech'].isin(['Hydrogen','BECCS','Coal CCS'])]\n",
    "        fig.add_trace(go.Bar(x = d.AVERAGE, \n",
    "                             y = d.tech,\n",
    "                             name = 'Use-Phase',\n",
    "                             marker_color = c, \n",
    "                             orientation = 'h',\n",
    "                             error_x=dict(type='data', \n",
    "                                      array=datae_u[['error']])\n",
    "                                 ))\n",
    "    if dn == 'E_tech': \n",
    "        d = E_tech.reset_index().rename(columns = {0:'energy'})\n",
    "        d = d[~d['tech'].isin(['Hydrogen','BECCS','Coal CCS'])]\n",
    "        fig.add_trace(go.Bar(x = d.energy, \n",
    "                             y = d.tech,\n",
    "                             name = 'Embodied (materials)' ,\n",
    "                             marker_color = c, \n",
    "                             orientation = 'h',\n",
    "                             error_x=dict(type='data', \n",
    "                                      array=datae_e['error'])\n",
    "                                 ))\n",
    "fig.update_layout(xaxis_title =  'Emissions per kWh [gCO<sub>2</sub>/kWh]', \n",
    "                  template = 'simple_white+presentation', barmode='stack',\n",
    "                  legend=dict(orientation=\"h\", y=-0.2))\n",
    "\n",
    "pio.write_image(fig, r'figures/embodied_direct_CO2.pdf', width = 900, height = 700)\n",
    "pio.write_image(fig, r'figures/embodied_direct_CO2.eps', width = 900, height = 700)\n",
    "# plotly.offline.plot(fig, filename = r'figures/embodied_direct_CO2.html', auto_open=False)\n",
    "fig.show()"
   ]
  },
  {
   "cell_type": "markdown",
   "metadata": {},
   "source": [
    "## General - Embodied, water and costs"
   ]
  },
  {
   "cell_type": "code",
   "execution_count": 613,
   "metadata": {},
   "outputs": [],
   "source": [
    "# Embodied, water and costs\n",
    "\n",
    "colors = px.colors.qualitative.Alphabet\n",
    "\n",
    "labels = ['Embodied Material Emissions [gCO<sub>2</sub>/kWh]','Water Usage [L/kWh]',\n",
    "         'Costs [Euro cent/kWh]','Recycling Rate [g/kWh]']\n",
    "\n",
    "for  ne, l in zip(['E', 'W', 'K', 'R'], labels):\n",
    "    fig = go.Figure()\n",
    "    \n",
    "    if ne == 'E' or ne =='R':\n",
    "        data = globals()['{}_tech_sep'.format(ne)]\n",
    "        datae = pd.DataFrame(np.nan, index=np.arange(len(globals()['{}_tech_sep'.format(ne)])), \n",
    "                     columns=globals()['{}_tech_sep'.format(ne)].columns)\n",
    "        error = globals()['e_{}_tot'.format(ne)]\n",
    "        \n",
    "        datae.loc[datae.index,'Stainless Steel'] = error.values/2\n",
    "        datae.index = data.index\n",
    "    if ne == 'W':\n",
    "        data = globals()['{}_tech_sep'.format(ne)]/1000\n",
    "        datae = pd.DataFrame(np.nan, index=np.arange(len(globals()['{}_tech_sep'.format(ne)])), \n",
    "                     columns=globals()['{}_tech_sep'.format(ne)].columns)\n",
    "        error = globals()['e_{}_tot'.format(ne)]\n",
    "        datae.loc[datae.index,'Stainless Steel'] = error.values/1000/2\n",
    "        datae.index = data.index\n",
    "        \n",
    "    if ne == 'K':\n",
    "        data = globals()['{}_tech_sep'.format(ne)]*1000\n",
    "        datae = pd.DataFrame(np.nan, index=np.arange(len(globals()['{}_tech_sep'.format(ne)])), \n",
    "                     columns=globals()['{}_tech_sep'.format(ne)].columns)\n",
    "        error = globals()['e_{}_tot'.format(ne)]\n",
    "        datae.loc[datae.index,'Stainless Steel'] = error.values*1000/2\n",
    "        datae.index = data.index\n",
    "                \n",
    "    for i, c in zip(data.columns, colors): \n",
    "#         print(i)\n",
    "        fig.add_trace(go.Bar(x = data[i], \n",
    "                             y = data.index,\n",
    "                             name = i, \n",
    "                             marker_color = c, orientation = 'h',\n",
    "                             error_x=dict(type='data', \n",
    "                                      array=datae[i])\n",
    "                            ))\n",
    "\n",
    "    fig.update_layout( xaxis_title =  l, \n",
    "                      legend=dict(orientation=\"h\", yanchor=\"bottom\", \n",
    "#                                   traceorder=\"reversed\",\n",
    "                                   y=1.01,\n",
    "                                   xanchor=\"center\",\n",
    "                                   x=0.4),\n",
    "                                   template = 'simple_white+presentation', barmode='stack')\n",
    "\n",
    "    pio.write_image(fig, r'figures/general_{}.pdf'.format(ne), width = 1000, height = 700)\n",
    "    pio.write_image(fig, r'figures/general_{}.eps'.format(ne), width = 1000, height = 700)\n",
    "#     plotly.offline.plot(fig, filename = r'figures/general_{}.html'.format(ne), auto_open=False)\n",
    "#     fig.show()"
   ]
  },
  {
   "cell_type": "markdown",
   "metadata": {},
   "source": [
    "## General - Materials per kWh and embodied-material-emissions per kWh"
   ]
  },
  {
   "cell_type": "code",
   "execution_count": 614,
   "metadata": {
    "scrolled": true
   },
   "outputs": [],
   "source": [
    "## Materials per kWh and embodied-material-emissions per kWh\n",
    "colors = px.colors.qualitative.Alphabet\n",
    "\n",
    "labels = ['Materials [g/kWh]','Embodied Material Emissions [gCO<sub>2</sub>/kWh]']\n",
    "\n",
    "for  ne, l in zip(['Mat','Em'], labels):\n",
    "    fig = go.Figure()\n",
    "    \n",
    "    if ne == 'Mat':\n",
    "        data = M# /1e12 this would be for Mtonne\n",
    "        datae = pd.DataFrame(np.nan, index=np.arange(len(M)), \n",
    "                     columns=M.columns)\n",
    "        error = e_M.T.sum()         \n",
    "        datae.loc[datae.index,'Stainless Steel'] = error/2 #/1e12 this would be for Mtonne\n",
    "        datae.index = data.index\n",
    "#         the Mat error needs checking\n",
    "        \n",
    "    if ne == 'Em':\n",
    "        data = E_tech_sep# /1e12 this would be for Mtonne\n",
    "        datae = pd.DataFrame(np.nan, index=np.arange(len(E_tech_sep)), \n",
    "                     columns=E_tech_sep.columns)\n",
    "        error = e_E_tech_sep.T.sum()\n",
    "        datae.loc[datae.index,'Stainless Steel'] = error/2\n",
    "        datae.index = data.index\n",
    "            \n",
    "    data = data.sort_values(by = 'tech')\n",
    "    for i, c in zip(data.columns, colors): \n",
    "        fig.add_trace(go.Bar(x = data[i], \n",
    "                             y = data.index,\n",
    "                             name = i, \n",
    "                             marker_color = c, orientation = 'h',\n",
    "                             error_x=dict(type='data', \n",
    "                                      array=datae[i])\n",
    "                            ))\n",
    "\n",
    "    fig.update_layout( xaxis_title =  l, \n",
    "                      legend=dict(orientation=\"h\", yanchor=\"bottom\", \n",
    "#                                   traceorder=\"reversed\",\n",
    "                                   y=1.01,\n",
    "                                   xanchor=\"center\",\n",
    "                                   x=0.4),\n",
    "                                   template = 'simple_white+presentation', barmode='stack')\n",
    "    \n",
    "    pio.write_image(fig, r'figures/general_{}.pdf'.format(ne), width = 1000, height = 600)\n",
    "    pio.write_image(fig, r'figures/general_{}.eps'.format(ne), width = 1000, height = 600)\n",
    "#     plotly.offline.plot(fig, filename = r'figures/general_{}.html'.format(ne), auto_open=False)\n",
    "#     fig.show()"
   ]
  },
  {
   "cell_type": "markdown",
   "metadata": {},
   "source": [
    "## General - Bars with total percentage of grams for materials and total percentage of CO2 for materials"
   ]
  },
  {
   "cell_type": "code",
   "execution_count": 608,
   "metadata": {},
   "outputs": [],
   "source": [
    "## Bar with total percentage of material mass and total CO2 for materials general\n",
    "\n",
    "colors = px.colors.qualitative.Alphabet\n",
    "\n",
    "labels = ['Total material mass accross all technologies (%)',\n",
    "          'Total CO<sub>2</sub> emissions accross all technologies (%)']\n",
    "names = ['material_mass', 'total_emiss']\n",
    "colu = ['pct','pct']\n",
    "\n",
    "for l, n, co in zip( labels, names, colu):\n",
    "    fig = go.Figure()\n",
    "    if n == 'material_mass':\n",
    "        totaal = M.sum().reset_index()\n",
    "        totaal = totaal.rename(columns = {'index':'Material', 0:'value'})\n",
    "       \n",
    "    if n == 'total_emiss':\n",
    "        totaal = E_tech_sep.sum().reset_index()   \n",
    "        totaal = totaal.rename(columns = {'index':'Material', 0:'value'})\n",
    "        \n",
    "        \n",
    "    ts = totaal['value'].sum().round(2)\n",
    "    totaal.loc[totaal.index,'pct'] = totaal.loc[totaal.index,'value']/ts*100\n",
    "    tsdf = totaal[['Material','value']]\n",
    "    tsdf.loc[totaal.index,'value']=np.nan\n",
    "    tsdf.loc[totaal['Material']=='Stainless Steel','value']=ts\n",
    "    \n",
    "    for i, c in zip(totaal.Material.unique(), colors): \n",
    "#         print(i)\n",
    "        fig.add_trace(go.Bar(x = totaal[totaal['Material']==i][co], \n",
    "                             y = ['Total'],\n",
    "                             width=0.5,\n",
    "                             name = i ,\n",
    "                             marker_color = c, \n",
    "                             orientation = 'h',\n",
    "                             text = tsdf[totaal['Material']==i], textposition='auto'\n",
    "                                 ))\n",
    "\n",
    "    fig.update_layout( xaxis_title =  l, \n",
    "                      legend=dict(orientation=\"h\", yanchor=\"bottom\",\n",
    "#                                   traceorder=\"reversed\",\n",
    "                                    y=1.02,\n",
    "                                    xanchor=\"right\",\n",
    "                                    x=1),\n",
    "                                    template = 'simple_white+presentation', barmode='stack')\n",
    "\n",
    "#     fig.update_xaxes(range=[0,110])\n",
    "\n",
    "    pio.write_image(fig, r'figures/general_{}.pdf'.format(n), width = 800, height = 500)\n",
    "    pio.write_image(fig, r'figures/general_{}.eps'.format(n), width = 800, height = 500)\n",
    "#     plotly.offline.plot(fig, filename = r'figures/general_{}.html'.format(n), auto_open=False)\n",
    "#     fig.show()"
   ]
  }
 ],
 "metadata": {
  "kernelspec": {
   "display_name": "Python 3",
   "language": "python",
   "name": "python3"
  },
  "language_info": {
   "codemirror_mode": {
    "name": "ipython",
    "version": 3
   },
   "file_extension": ".py",
   "mimetype": "text/x-python",
   "name": "python",
   "nbconvert_exporter": "python",
   "pygments_lexer": "ipython3",
   "version": "3.6.9"
  },
  "toc": {
   "base_numbering": 1,
   "nav_menu": {},
   "number_sections": true,
   "sideBar": true,
   "skip_h1_title": false,
   "title_cell": "Table of Contents",
   "title_sidebar": "Contents",
   "toc_cell": false,
   "toc_position": {
    "height": "calc(100% - 180px)",
    "left": "10px",
    "top": "150px",
    "width": "301.302px"
   },
   "toc_section_display": true,
   "toc_window_display": true
  }
 },
 "nbformat": 4,
 "nbformat_minor": 2
}
