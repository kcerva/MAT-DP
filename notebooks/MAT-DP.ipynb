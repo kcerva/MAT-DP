{
 "cells": [
  {
   "cell_type": "code",
   "execution_count": 4,
   "metadata": {},
   "outputs": [],
   "source": [
    "import matplotlib.pyplot as plt\n",
    "import pandas as pd\n",
    "import numpy as np\n",
    "# import seaborn as sns\n",
    "import plotly\n",
    "import plotly_express as px\n",
    "# import plotly.plotly as py\n",
    "from plotly import tools\n",
    "from plotly.offline import plot\n",
    "import plotly.graph_objs as go\n",
    "# import matplotlib.patches as mpatches\n",
    "# from shapely.geometry import Polygon\n",
    "# import geopandas\n",
    "# import geoplot\n",
    "import plotly.io as pio\n",
    "from os import listdir\n",
    "from os.path import isfile, join\n",
    "from pathlib import Path\n",
    "from os import listdir\n",
    "from os.path import isfile, join\n",
    "# import country_converter as coco\n",
    "# import scipy\n",
    "# from scipy.optimize import curve_fit\n",
    "from plotly.subplots import make_subplots\n",
    "import ipywidgets as widgets\n",
    "# import statsmodels.formula.api as smf\n",
    "# import statsmodels.api as sm\n",
    "# from patsy import dmatrices\n",
    "\n",
    "# import spacy\n",
    "\n",
    "%matplotlib inline"
   ]
  },
  {
   "cell_type": "markdown",
   "metadata": {},
   "source": [
    "# Load E+M data"
   ]
  },
  {
   "cell_type": "code",
   "execution_count": 15,
   "metadata": {},
   "outputs": [],
   "source": [
    "# CHECK THE DATA TAKEN HERE IS THE RIGHT ONE AFTER THE CHANGES. SAME FOR EXCEL FILE.\n",
    "\n",
    "# Define matrices and load data\n",
    "# country energy projection [kWh]\n",
    "mypath = \"C:/Users/KarlaC/Dropbox (Cambridge University)/CCG/Electricity and material demand model/\"\n",
    "C = pd.read_excel(mypath+'Excel_model_material_implications_energy_systems.xlsx', sheet_name = 'Matrices', \n",
    "                skiprows = 2, usecols = \"C:I\", nrows = 1)\n",
    "#  material per energy technology [g/kWh]\n",
    "M = pd.read_excel(mypath+'Excel_model_material_implications_energy_systems.xlsx', sheet_name = 'Matrices', \n",
    "                skiprows = 2, usecols = \"K:AG\", nrows = 10)\n",
    "M = M.rename(columns={'[g/kWh]':'tech'}).set_index('tech')\n",
    "# Ref = xlsread('Excel model - material implications energy systems','Matrices','L4:AG12') #reference included\n",
    "\n",
    "#  embodied emissions (GHG) per material [gCO2e/g]\n",
    "E = pd.read_excel(mypath+'Excel_model_material_implications_energy_systems.xlsx', sheet_name = 'Matrices', \n",
    "                skiprows = 2, usecols = \"AJ\", nrows = 22)\n",
    "#  water usage per material [l/kg]\n",
    "W = pd.read_excel(mypath+'Excel_model_material_implications_energy_systems.xlsx', sheet_name = 'Matrices', \n",
    "                skiprows = 2, usecols = \"AK\", nrows = 22)\n",
    "\n",
    "#  recycling rate in current supply per material [%]\n",
    "R = pd.read_excel(mypath+'Excel_model_material_implications_energy_systems.xlsx', sheet_name = 'Matrices', \n",
    "                skiprows = 2, usecols = \"AL\", nrows = 22)\n",
    "#  costs per material [â‚¬/kg]\n",
    "K = pd.read_excel(mypath+'Excel_model_material_implications_energy_systems.xlsx', sheet_name = 'Matrices', \n",
    "                skiprows = 2, usecols = \"AM\", nrows = 22)\n",
    "K = K/1000\n",
    "\n",
    "# Calculating all effects\n",
    "# E: emissions per energy technology [gCO2/kWh]\n",
    "# W: water usage per energy technology\n",
    "# R: recycling rate per energy technology \n",
    "# K: costs per energy technology \n",
    "for ef, ne in zip([E, W, R, K],['E', 'W', 'R', 'K'] ):\n",
    "    #  effect per energy technology e.g. [gCO2/kWh]\n",
    "    globals()['{}_tech'.format(ne)] = M.dot(ef.values)\n",
    "    globals()['{}_tech_sep'.format(ne)] = M.multiply(ef.T.values)\n",
    "    \n",
    "#     later add the index to C so the tech's names are used in calc\n",
    "    #  total factor of country e.g. embodied emissions [gCO2]\n",
    "    globals()['{}_country'.format(ne)] = C.dot(M[0:len(C.T)].values).dot(ef.values)\n",
    "    globals()['{}_country_sep'.format(ne)] = globals()['{}_tech_sep'.format(ne)][0:len(C.T)].multiply(C.T.values)\n",
    "\n",
    "    globals()['country_tech_{}'.format(ne)] = C.T.values*(globals()['{}_tech'.format(ne)][0:len(C.T)])\n",
    "    globals()['country_tech_{}'.format(ne)] = globals()['country_tech_{}'.format(ne)].T\n",
    "    "
   ]
  },
  {
   "cell_type": "markdown",
   "metadata": {},
   "source": [
    "# Load E+M data for all countries"
   ]
  },
  {
   "cell_type": "code",
   "execution_count": 16,
   "metadata": {},
   "outputs": [
    {
     "name": "stderr",
     "output_type": "stream",
     "text": [
      "C:\\Users\\KarlaC\\Anaconda3\\lib\\site-packages\\ipykernel_launcher.py:48: SettingWithCopyWarning:\n",
      "\n",
      "\n",
      "A value is trying to be set on a copy of a slice from a DataFrame.\n",
      "Try using .loc[row_indexer,col_indexer] = value instead\n",
      "\n",
      "See the caveats in the documentation: http://pandas.pydata.org/pandas-docs/stable/user_guide/indexing.html#returning-a-view-versus-a-copy\n",
      "\n",
      "C:\\Users\\KarlaC\\Anaconda3\\lib\\site-packages\\pandas\\core\\indexing.py:494: SettingWithCopyWarning:\n",
      "\n",
      "\n",
      "A value is trying to be set on a copy of a slice from a DataFrame.\n",
      "Try using .loc[row_indexer,col_indexer] = value instead\n",
      "\n",
      "See the caveats in the documentation: http://pandas.pydata.org/pandas-docs/stable/user_guide/indexing.html#returning-a-view-versus-a-copy\n",
      "\n"
     ]
    }
   ],
   "source": [
    "# Df w all countries and scenarios\n",
    "mypath = \"C:/Users/KarlaC/Dropbox (Cambridge University)/CCG/Electricity and material demand model/\"\n",
    "dfC = pd.read_excel(mypath+'EnergyProjection.xlsx', sheet_name = 'All countries', \n",
    "                skiprows = 2, usecols = \"B:R\")\n",
    "#  material per energy technology [g/kWh]\n",
    "cM = pd.read_excel(mypath+'Excel_model_material_implications_energy_systems.xlsx', sheet_name = 'Matrices (country)', \n",
    "                skiprows = 2, usecols = \"R:AN\", nrows = 14)\n",
    "cM = cM.rename(columns={'[g/kWh]':'tech'}).set_index('tech')\n",
    "\n",
    "#  embodied emissions (GHG) per material [gCO2e/g]\n",
    "cE = pd.read_excel(mypath+'Excel_model_material_implications_energy_systems.xlsx', sheet_name = 'Matrices (country)', \n",
    "                skiprows = 2, usecols = \"AQ\", nrows = 22)\n",
    "#  water usage per material [l/kg]\n",
    "cW = pd.read_excel(mypath+'Excel_model_material_implications_energy_systems.xlsx', sheet_name = 'Matrices (country)', \n",
    "                skiprows = 2, usecols = \"AR\", nrows = 22)\n",
    "\n",
    "#  recycling rate in current supply per material [%]\n",
    "cR = pd.read_excel(mypath+'Excel_model_material_implications_energy_systems.xlsx', sheet_name = 'Matrices (country)', \n",
    "                skiprows = 2, usecols = \"AS\", nrows = 22)\n",
    "#  costs per material [â‚¬/kg]\n",
    "cK = pd.read_excel(mypath+'Excel_model_material_implications_energy_systems.xlsx', sheet_name = 'Matrices (country)', \n",
    "                skiprows = 2, usecols = \"AT\", nrows = 22)\n",
    "cK = cK/1000\n",
    "\n",
    "# Add employment and land use data\n",
    "\n",
    "#  total factor of all countries e.g. embodied emissions [gCO2]\n",
    "#  df w all countries, years and scenarios\n",
    "dfC['Scenario'] = dfC['Scenario'].replace(np.nan, 'Baseline')\n",
    "dfC['Year'] = dfC['Year'].replace(np.nan,0).astype('int')\n",
    "\n",
    "# Ordering dfC columns for the same order as M\n",
    "coln = list(cM.index)\n",
    "\n",
    "for ef, ne in zip([cE, cW, cR, cK],['E', 'W', 'R', 'K'] ):\n",
    "    globals()['df{}_tech'.format(ne)] = cM.fillna(0).dot(cE.values)\n",
    "    globals()['df{}_tech_sep'.format(ne)]  = cM.fillna(0).multiply(cE.T.values)\n",
    "    \n",
    "#     'df{ne}_{country}_{scenario}_{year}_sep'\n",
    "    for c in dfC['Country'].unique():\n",
    "        for sc in dfC[dfC['Country']==c]['Scenario'].unique():\n",
    "            for y in dfC[(dfC['Country']==c)&(dfC['Scenario']==sc)]['Year'].unique():\n",
    "                globals()['df{0}_{1}_{2}_{3}_sep'.format(ne,c,sc[0:3],str(y))] = globals()['df{}_tech_sep'.format(ne)].reindex(index = coln).multiply(dfC[(dfC['Country']==c)&(dfC['Scenario']==sc)&(dfC['Year']==y)][coln].T.values) \n",
    "    #             print('df{0}_{1}_{2}_{3}_sep'.format(ne,c,sc[0:3],str(y)))\n",
    "\n",
    "#     'df{}_country'.format(ne) \n",
    "    globals()['df{}_country'.format(ne)]  = dfC[['Year','Scenario','Country']]\n",
    "    globals()['df{}_country'.format(ne)] ['value'] = 0\n",
    "\n",
    "#     'dfcountry_tech_{}'.format(ne)'\n",
    "    globals()['dfcountry_tech_{}'.format(ne)] = dfC.copy()\n",
    "    for col in globals()['dfcountry_tech_{}'.format(ne)].iloc[:,3:].columns:\n",
    "        globals()['dfcountry_tech_{}'.format(ne)][col] = 0\n",
    "\n",
    "#     'df{}_country'.format(ne) \n",
    "    for index, row in dfC[coln].iterrows():\n",
    "        val = pd.DataFrame(row).fillna(0).T.dot(cM.fillna(0)[0:len(dfC.iloc[:,3:].T)].values).dot(cE.values)\n",
    "        globals()['df{}_country'.format(ne)].loc[index,'value'] = val.values[0]\n",
    "\n",
    "#     'dfcountry_tech_{}'.format(ne)'\n",
    "        valt = pd.DataFrame(row).fillna(0).values*(globals()['df{}_tech'.format(ne)])\n",
    "        for col in valt.T.columns:\n",
    "            globals()['dfcountry_tech_{}'.format(ne)].loc[index,col] = valt.T.loc[0,col]\n",
    "            "
   ]
  },
  {
   "cell_type": "code",
   "execution_count": 44,
   "metadata": {},
   "outputs": [
    {
     "data": {
      "text/plain": [
       "Index(['Wind (Onshore)', 'Solar CSP', 'Solar PV', 'Hydro', 'Geothermal',\n",
       "       'Gas CCS', 'Oil', 'Gas', 'Coal', 'Wind (Offshore)', 'Biomass',\n",
       "       'Nuclear', 'BECCS', 'Hydrogen'],\n",
       "      dtype='object', name='tech')"
      ]
     },
     "execution_count": 44,
     "metadata": {},
     "output_type": "execute_result"
    }
   ],
   "source": [
    "cM.index"
   ]
  },
  {
   "cell_type": "code",
   "execution_count": 7,
   "metadata": {},
   "outputs": [],
   "source": [
    "# Df w TEMBA results\n",
    "tpath = \"C:/Users/KarlaC/Dropbox (Cambridge University)/CCG/Electricity system projections/African countries/TEMBA_results_v0.1.3/\"\n",
    "shnames = ['results_ref','results_1.5deg','results_2.0deg']\n",
    "power = ['Power Generation (Aggregate)','Power Generation Capacity (Aggregate)','New power generation capacity (Aggregate)']\n",
    "upow = ['PJ','GW','GW']\n",
    "results = pd.DataFrame(columns = ['variable', 'scenario', 'country', 'parameter', '2015', '2016', '2017',\n",
    "       '2018', '2019', '2020', '2021', '2022', '2023', '2024', '2025', '2026',\n",
    "       '2027', '2028', '2029', '2030', '2031', '2032', '2033', '2034', '2035',\n",
    "       '2036', '2037', '2038', '2039', '2040', '2041', '2042', '2043', '2044',\n",
    "       '2045', '2046', '2047', '2048', '2049', '2050', '2051', '2052', '2053',\n",
    "       '2054', '2055', '2056', '2057', '2058', '2059', '2060', '2061', '2062',\n",
    "       '2063', '2064', '2065'])\n",
    "for sn in shnames:\n",
    "    globals()[sn] = pd.read_csv(tpath+'{}.csv'.format(sn))\n",
    "    globals()[sn] = globals()[sn].drop(columns ='Unnamed: 0')\n",
    "    globals()[sn] = globals()[sn][globals()[sn]['parameter'].isin(power)]\n",
    "    results = results.append(globals()[sn])\n",
    "\n",
    "dtech = pd.DataFrame(list(zip(['Wind (Onshore)', 'Wind (Offshore)', 'Solar CSP', 'Solar PV', \n",
    "             'Hydro', 'Geothermal','Gas CCS', 'Oil', \n",
    "             'Gas', 'Coal', 'Biomass','Nuclear',\n",
    "             'BECCS', 'Hydrogen','Coal CCS'],\n",
    "            ['Wind','Wind','Solar CSP', 'Solar PV',\n",
    "             'Hydro','Geothermal','Gas with ccs', 'Oil',\n",
    "             'Gas','Coal','Biomass','Nuclear',\n",
    "             'Biomass with ccs', 'Hydrogen' ,'Coal with ccs'])), columns = ['tech','variable'])\n",
    "\n",
    "dtech = dtech.set_index('variable')['tech'].to_dict()\n",
    "results['tech']= results['variable'].map(dtech)\n",
    "\n",
    "# 'power_trade' include as non-country embodied emissions\n",
    "\n",
    "results_df = pd.melt(results.drop(columns = 'variable'), \n",
    "                     id_vars = ['tech', 'scenario','country','parameter'], \n",
    "                     var_name = 'Year', value_name = 'Value')\n",
    "\n",
    "results_piv = pd.pivot_table(results_df, values = 'Value', \n",
    "                                      index = ['Year', 'scenario', 'country','parameter'], \n",
    "                                      columns = 'tech', aggfunc=np.sum)\n",
    "results_piv = results_piv.reset_index()\n",
    "results_piv\n"
   ]
  },
  {
   "cell_type": "code",
   "execution_count": 34,
   "metadata": {},
   "outputs": [
    {
     "data": {
      "text/plain": [
       "array(['New power generation capacity (Aggregate)',\n",
       "       'Power Generation (Aggregate)',\n",
       "       'Power Generation Capacity (Aggregate)'], dtype=object)"
      ]
     },
     "execution_count": 34,
     "metadata": {},
     "output_type": "execute_result"
    }
   ],
   "source": [
    "results_ref['parameter'].unique()"
   ]
  },
  {
   "cell_type": "code",
   "execution_count": 31,
   "metadata": {},
   "outputs": [
    {
     "data": {
      "text/html": [
       "<div>\n",
       "<style scoped>\n",
       "    .dataframe tbody tr th:only-of-type {\n",
       "        vertical-align: middle;\n",
       "    }\n",
       "\n",
       "    .dataframe tbody tr th {\n",
       "        vertical-align: top;\n",
       "    }\n",
       "\n",
       "    .dataframe thead th {\n",
       "        text-align: right;\n",
       "    }\n",
       "</style>\n",
       "<table border=\"1\" class=\"dataframe\">\n",
       "  <thead>\n",
       "    <tr style=\"text-align: right;\">\n",
       "      <th>tech</th>\n",
       "      <th>Year</th>\n",
       "      <th>scenario</th>\n",
       "      <th>country</th>\n",
       "      <th>parameter</th>\n",
       "      <th>BECCS</th>\n",
       "      <th>Biomass</th>\n",
       "      <th>Coal</th>\n",
       "      <th>Coal CCS</th>\n",
       "      <th>Gas</th>\n",
       "      <th>Gas CCS</th>\n",
       "      <th>Geothermal</th>\n",
       "      <th>Hydro</th>\n",
       "      <th>Nuclear</th>\n",
       "      <th>Oil</th>\n",
       "      <th>Solar CSP</th>\n",
       "      <th>Solar PV</th>\n",
       "      <th>Wind (Offshore)</th>\n",
       "    </tr>\n",
       "  </thead>\n",
       "  <tbody>\n",
       "    <tr>\n",
       "      <td>0</td>\n",
       "      <td>2015</td>\n",
       "      <td>1.5deg</td>\n",
       "      <td>AO</td>\n",
       "      <td>New power generation capacity (Aggregate)</td>\n",
       "      <td>0.0</td>\n",
       "      <td>0.00</td>\n",
       "      <td>0.000</td>\n",
       "      <td>0.0</td>\n",
       "      <td>0.000</td>\n",
       "      <td>0.0</td>\n",
       "      <td>0.0</td>\n",
       "      <td>0.000</td>\n",
       "      <td>0.0</td>\n",
       "      <td>0.000</td>\n",
       "      <td>0.0</td>\n",
       "      <td>0.001</td>\n",
       "      <td>0.000</td>\n",
       "    </tr>\n",
       "    <tr>\n",
       "      <td>1</td>\n",
       "      <td>2015</td>\n",
       "      <td>1.5deg</td>\n",
       "      <td>AO</td>\n",
       "      <td>Power Generation (Aggregate)</td>\n",
       "      <td>0.0</td>\n",
       "      <td>0.00</td>\n",
       "      <td>0.000</td>\n",
       "      <td>0.0</td>\n",
       "      <td>2.150</td>\n",
       "      <td>0.0</td>\n",
       "      <td>0.0</td>\n",
       "      <td>13.060</td>\n",
       "      <td>0.0</td>\n",
       "      <td>19.170</td>\n",
       "      <td>0.0</td>\n",
       "      <td>0.070</td>\n",
       "      <td>0.000</td>\n",
       "    </tr>\n",
       "    <tr>\n",
       "      <td>2</td>\n",
       "      <td>2015</td>\n",
       "      <td>1.5deg</td>\n",
       "      <td>AO</td>\n",
       "      <td>Power Generation Capacity (Aggregate)</td>\n",
       "      <td>0.0</td>\n",
       "      <td>0.00</td>\n",
       "      <td>0.000</td>\n",
       "      <td>0.0</td>\n",
       "      <td>0.085</td>\n",
       "      <td>0.0</td>\n",
       "      <td>0.0</td>\n",
       "      <td>0.887</td>\n",
       "      <td>0.0</td>\n",
       "      <td>1.083</td>\n",
       "      <td>0.0</td>\n",
       "      <td>0.013</td>\n",
       "      <td>0.000</td>\n",
       "    </tr>\n",
       "    <tr>\n",
       "      <td>3</td>\n",
       "      <td>2015</td>\n",
       "      <td>1.5deg</td>\n",
       "      <td>BF</td>\n",
       "      <td>New power generation capacity (Aggregate)</td>\n",
       "      <td>0.0</td>\n",
       "      <td>0.00</td>\n",
       "      <td>0.000</td>\n",
       "      <td>0.0</td>\n",
       "      <td>0.000</td>\n",
       "      <td>0.0</td>\n",
       "      <td>0.0</td>\n",
       "      <td>0.000</td>\n",
       "      <td>0.0</td>\n",
       "      <td>0.000</td>\n",
       "      <td>0.0</td>\n",
       "      <td>0.000</td>\n",
       "      <td>0.000</td>\n",
       "    </tr>\n",
       "    <tr>\n",
       "      <td>4</td>\n",
       "      <td>2015</td>\n",
       "      <td>1.5deg</td>\n",
       "      <td>BF</td>\n",
       "      <td>Power Generation (Aggregate)</td>\n",
       "      <td>0.0</td>\n",
       "      <td>0.04</td>\n",
       "      <td>0.000</td>\n",
       "      <td>0.0</td>\n",
       "      <td>0.000</td>\n",
       "      <td>0.0</td>\n",
       "      <td>0.0</td>\n",
       "      <td>0.190</td>\n",
       "      <td>0.0</td>\n",
       "      <td>7.400</td>\n",
       "      <td>0.0</td>\n",
       "      <td>0.040</td>\n",
       "      <td>0.000</td>\n",
       "    </tr>\n",
       "    <tr>\n",
       "      <td>...</td>\n",
       "      <td>...</td>\n",
       "      <td>...</td>\n",
       "      <td>...</td>\n",
       "      <td>...</td>\n",
       "      <td>...</td>\n",
       "      <td>...</td>\n",
       "      <td>...</td>\n",
       "      <td>...</td>\n",
       "      <td>...</td>\n",
       "      <td>...</td>\n",
       "      <td>...</td>\n",
       "      <td>...</td>\n",
       "      <td>...</td>\n",
       "      <td>...</td>\n",
       "      <td>...</td>\n",
       "      <td>...</td>\n",
       "      <td>...</td>\n",
       "    </tr>\n",
       "    <tr>\n",
       "      <td>22027</td>\n",
       "      <td>2065</td>\n",
       "      <td>Reference</td>\n",
       "      <td>ZM</td>\n",
       "      <td>Power Generation (Aggregate)</td>\n",
       "      <td>0.0</td>\n",
       "      <td>0.00</td>\n",
       "      <td>75.550</td>\n",
       "      <td>0.0</td>\n",
       "      <td>0.000</td>\n",
       "      <td>0.0</td>\n",
       "      <td>0.0</td>\n",
       "      <td>81.360</td>\n",
       "      <td>0.0</td>\n",
       "      <td>0.000</td>\n",
       "      <td>0.0</td>\n",
       "      <td>262.640</td>\n",
       "      <td>270.030</td>\n",
       "    </tr>\n",
       "    <tr>\n",
       "      <td>22028</td>\n",
       "      <td>2065</td>\n",
       "      <td>Reference</td>\n",
       "      <td>ZM</td>\n",
       "      <td>Power Generation Capacity (Aggregate)</td>\n",
       "      <td>0.0</td>\n",
       "      <td>0.00</td>\n",
       "      <td>8.365</td>\n",
       "      <td>0.0</td>\n",
       "      <td>0.000</td>\n",
       "      <td>0.0</td>\n",
       "      <td>0.0</td>\n",
       "      <td>5.585</td>\n",
       "      <td>0.0</td>\n",
       "      <td>0.000</td>\n",
       "      <td>0.0</td>\n",
       "      <td>40.327</td>\n",
       "      <td>28.781</td>\n",
       "    </tr>\n",
       "    <tr>\n",
       "      <td>22029</td>\n",
       "      <td>2065</td>\n",
       "      <td>Reference</td>\n",
       "      <td>ZW</td>\n",
       "      <td>New power generation capacity (Aggregate)</td>\n",
       "      <td>0.0</td>\n",
       "      <td>0.00</td>\n",
       "      <td>0.050</td>\n",
       "      <td>0.0</td>\n",
       "      <td>0.000</td>\n",
       "      <td>0.0</td>\n",
       "      <td>0.0</td>\n",
       "      <td>0.000</td>\n",
       "      <td>0.0</td>\n",
       "      <td>0.000</td>\n",
       "      <td>0.0</td>\n",
       "      <td>3.500</td>\n",
       "      <td>0.000</td>\n",
       "    </tr>\n",
       "    <tr>\n",
       "      <td>22030</td>\n",
       "      <td>2065</td>\n",
       "      <td>Reference</td>\n",
       "      <td>ZW</td>\n",
       "      <td>Power Generation (Aggregate)</td>\n",
       "      <td>0.0</td>\n",
       "      <td>0.00</td>\n",
       "      <td>145.090</td>\n",
       "      <td>0.0</td>\n",
       "      <td>0.000</td>\n",
       "      <td>0.0</td>\n",
       "      <td>0.0</td>\n",
       "      <td>31.730</td>\n",
       "      <td>0.0</td>\n",
       "      <td>0.000</td>\n",
       "      <td>0.0</td>\n",
       "      <td>206.460</td>\n",
       "      <td>0.000</td>\n",
       "    </tr>\n",
       "    <tr>\n",
       "      <td>22031</td>\n",
       "      <td>2065</td>\n",
       "      <td>Reference</td>\n",
       "      <td>ZW</td>\n",
       "      <td>Power Generation Capacity (Aggregate)</td>\n",
       "      <td>0.0</td>\n",
       "      <td>0.00</td>\n",
       "      <td>6.702</td>\n",
       "      <td>0.0</td>\n",
       "      <td>0.000</td>\n",
       "      <td>0.0</td>\n",
       "      <td>0.0</td>\n",
       "      <td>2.134</td>\n",
       "      <td>0.0</td>\n",
       "      <td>0.000</td>\n",
       "      <td>0.0</td>\n",
       "      <td>28.192</td>\n",
       "      <td>0.000</td>\n",
       "    </tr>\n",
       "  </tbody>\n",
       "</table>\n",
       "<p>22032 rows × 17 columns</p>\n",
       "</div>"
      ],
      "text/plain": [
       "tech   Year   scenario country                                  parameter  \\\n",
       "0      2015     1.5deg      AO  New power generation capacity (Aggregate)   \n",
       "1      2015     1.5deg      AO               Power Generation (Aggregate)   \n",
       "2      2015     1.5deg      AO      Power Generation Capacity (Aggregate)   \n",
       "3      2015     1.5deg      BF  New power generation capacity (Aggregate)   \n",
       "4      2015     1.5deg      BF               Power Generation (Aggregate)   \n",
       "...     ...        ...     ...                                        ...   \n",
       "22027  2065  Reference      ZM               Power Generation (Aggregate)   \n",
       "22028  2065  Reference      ZM      Power Generation Capacity (Aggregate)   \n",
       "22029  2065  Reference      ZW  New power generation capacity (Aggregate)   \n",
       "22030  2065  Reference      ZW               Power Generation (Aggregate)   \n",
       "22031  2065  Reference      ZW      Power Generation Capacity (Aggregate)   \n",
       "\n",
       "tech   BECCS  Biomass     Coal  Coal CCS    Gas  Gas CCS  Geothermal   Hydro  \\\n",
       "0        0.0     0.00    0.000       0.0  0.000      0.0         0.0   0.000   \n",
       "1        0.0     0.00    0.000       0.0  2.150      0.0         0.0  13.060   \n",
       "2        0.0     0.00    0.000       0.0  0.085      0.0         0.0   0.887   \n",
       "3        0.0     0.00    0.000       0.0  0.000      0.0         0.0   0.000   \n",
       "4        0.0     0.04    0.000       0.0  0.000      0.0         0.0   0.190   \n",
       "...      ...      ...      ...       ...    ...      ...         ...     ...   \n",
       "22027    0.0     0.00   75.550       0.0  0.000      0.0         0.0  81.360   \n",
       "22028    0.0     0.00    8.365       0.0  0.000      0.0         0.0   5.585   \n",
       "22029    0.0     0.00    0.050       0.0  0.000      0.0         0.0   0.000   \n",
       "22030    0.0     0.00  145.090       0.0  0.000      0.0         0.0  31.730   \n",
       "22031    0.0     0.00    6.702       0.0  0.000      0.0         0.0   2.134   \n",
       "\n",
       "tech   Nuclear     Oil  Solar CSP  Solar PV  Wind (Offshore)  \n",
       "0          0.0   0.000        0.0     0.001            0.000  \n",
       "1          0.0  19.170        0.0     0.070            0.000  \n",
       "2          0.0   1.083        0.0     0.013            0.000  \n",
       "3          0.0   0.000        0.0     0.000            0.000  \n",
       "4          0.0   7.400        0.0     0.040            0.000  \n",
       "...        ...     ...        ...       ...              ...  \n",
       "22027      0.0   0.000        0.0   262.640          270.030  \n",
       "22028      0.0   0.000        0.0    40.327           28.781  \n",
       "22029      0.0   0.000        0.0     3.500            0.000  \n",
       "22030      0.0   0.000        0.0   206.460            0.000  \n",
       "22031      0.0   0.000        0.0    28.192            0.000  \n",
       "\n",
       "[22032 rows x 17 columns]"
      ]
     },
     "execution_count": 31,
     "metadata": {},
     "output_type": "execute_result"
    }
   ],
   "source": [
    "results_piv"
   ]
  },
  {
   "cell_type": "code",
   "execution_count": 20,
   "metadata": {},
   "outputs": [
    {
     "data": {
      "text/html": [
       "<div>\n",
       "<style scoped>\n",
       "    .dataframe tbody tr th:only-of-type {\n",
       "        vertical-align: middle;\n",
       "    }\n",
       "\n",
       "    .dataframe tbody tr th {\n",
       "        vertical-align: top;\n",
       "    }\n",
       "\n",
       "    .dataframe thead th {\n",
       "        text-align: right;\n",
       "    }\n",
       "</style>\n",
       "<table border=\"1\" class=\"dataframe\">\n",
       "  <thead>\n",
       "    <tr style=\"text-align: right;\">\n",
       "      <th></th>\n",
       "      <th>Year</th>\n",
       "      <th>Scenario</th>\n",
       "      <th>Country</th>\n",
       "      <th>Wind (Onshore)</th>\n",
       "      <th>Wind (Offshore)</th>\n",
       "      <th>Solar CSP</th>\n",
       "      <th>Solar PV</th>\n",
       "      <th>Hydro</th>\n",
       "      <th>Oil</th>\n",
       "      <th>Gas CCS</th>\n",
       "      <th>Gas</th>\n",
       "      <th>Nuclear</th>\n",
       "      <th>Geothermal</th>\n",
       "      <th>Coal</th>\n",
       "      <th>Biomass</th>\n",
       "      <th>BECCS</th>\n",
       "      <th>Hydrogen</th>\n",
       "    </tr>\n",
       "  </thead>\n",
       "  <tbody>\n",
       "    <tr>\n",
       "      <td>0</td>\n",
       "      <td>2010</td>\n",
       "      <td>Baseline</td>\n",
       "      <td>Uganda</td>\n",
       "      <td>2.833000e+07</td>\n",
       "      <td>0.000000e+00</td>\n",
       "      <td>0.0</td>\n",
       "      <td>0.000000e+00</td>\n",
       "      <td>1.529820e+09</td>\n",
       "      <td>906560000.0</td>\n",
       "      <td>0.0</td>\n",
       "      <td>2.549700e+08</td>\n",
       "      <td>0.000000e+00</td>\n",
       "      <td>1.133200e+08</td>\n",
       "      <td>0.0</td>\n",
       "      <td>0.000000e+00</td>\n",
       "      <td>NaN</td>\n",
       "      <td>NaN</td>\n",
       "    </tr>\n",
       "    <tr>\n",
       "      <td>1</td>\n",
       "      <td>2040</td>\n",
       "      <td>Scenario 1</td>\n",
       "      <td>Uganda</td>\n",
       "      <td>1.190000e+08</td>\n",
       "      <td>0.000000e+00</td>\n",
       "      <td>0.0</td>\n",
       "      <td>2.618000e+09</td>\n",
       "      <td>7.140000e+09</td>\n",
       "      <td>952000000.0</td>\n",
       "      <td>0.0</td>\n",
       "      <td>1.094800e+10</td>\n",
       "      <td>0.000000e+00</td>\n",
       "      <td>2.142000e+09</td>\n",
       "      <td>0.0</td>\n",
       "      <td>0.000000e+00</td>\n",
       "      <td>NaN</td>\n",
       "      <td>NaN</td>\n",
       "    </tr>\n",
       "    <tr>\n",
       "      <td>2</td>\n",
       "      <td>2020</td>\n",
       "      <td>Baseline</td>\n",
       "      <td>UK</td>\n",
       "      <td>3.185884e+10</td>\n",
       "      <td>3.365384e+10</td>\n",
       "      <td>0.0</td>\n",
       "      <td>1.178659e+10</td>\n",
       "      <td>0.000000e+00</td>\n",
       "      <td>0.0</td>\n",
       "      <td>0.0</td>\n",
       "      <td>1.124054e+11</td>\n",
       "      <td>6.133635e+10</td>\n",
       "      <td>0.000000e+00</td>\n",
       "      <td>0.0</td>\n",
       "      <td>2.102316e+10</td>\n",
       "      <td>NaN</td>\n",
       "      <td>NaN</td>\n",
       "    </tr>\n",
       "    <tr>\n",
       "      <td>3</td>\n",
       "      <td>2050</td>\n",
       "      <td>Consumer Transformation</td>\n",
       "      <td>UK</td>\n",
       "      <td>1.079889e+11</td>\n",
       "      <td>3.083926e+11</td>\n",
       "      <td>0.0</td>\n",
       "      <td>6.447000e+10</td>\n",
       "      <td>0.000000e+00</td>\n",
       "      <td>0.0</td>\n",
       "      <td>0.0</td>\n",
       "      <td>0.000000e+00</td>\n",
       "      <td>1.011202e+11</td>\n",
       "      <td>0.000000e+00</td>\n",
       "      <td>0.0</td>\n",
       "      <td>1.535083e+09</td>\n",
       "      <td>NaN</td>\n",
       "      <td>NaN</td>\n",
       "    </tr>\n",
       "    <tr>\n",
       "      <td>4</td>\n",
       "      <td>2050</td>\n",
       "      <td>System Transformation</td>\n",
       "      <td>UK</td>\n",
       "      <td>4.599598e+10</td>\n",
       "      <td>3.065219e+11</td>\n",
       "      <td>0.0</td>\n",
       "      <td>4.242613e+10</td>\n",
       "      <td>0.000000e+00</td>\n",
       "      <td>0.0</td>\n",
       "      <td>0.0</td>\n",
       "      <td>7.237920e+07</td>\n",
       "      <td>8.691915e+10</td>\n",
       "      <td>0.000000e+00</td>\n",
       "      <td>0.0</td>\n",
       "      <td>1.125366e+09</td>\n",
       "      <td>NaN</td>\n",
       "      <td>NaN</td>\n",
       "    </tr>\n",
       "    <tr>\n",
       "      <td>5</td>\n",
       "      <td>2050</td>\n",
       "      <td>Leading the Way</td>\n",
       "      <td>UK</td>\n",
       "      <td>9.958464e+10</td>\n",
       "      <td>3.151650e+11</td>\n",
       "      <td>0.0</td>\n",
       "      <td>6.344838e+10</td>\n",
       "      <td>0.000000e+00</td>\n",
       "      <td>0.0</td>\n",
       "      <td>0.0</td>\n",
       "      <td>1.221165e+07</td>\n",
       "      <td>3.412224e+10</td>\n",
       "      <td>0.000000e+00</td>\n",
       "      <td>0.0</td>\n",
       "      <td>1.612199e+09</td>\n",
       "      <td>NaN</td>\n",
       "      <td>NaN</td>\n",
       "    </tr>\n",
       "    <tr>\n",
       "      <td>6</td>\n",
       "      <td>2050</td>\n",
       "      <td>Steady Progression</td>\n",
       "      <td>UK</td>\n",
       "      <td>5.990922e+10</td>\n",
       "      <td>2.469362e+11</td>\n",
       "      <td>0.0</td>\n",
       "      <td>2.720272e+10</td>\n",
       "      <td>0.000000e+00</td>\n",
       "      <td>0.0</td>\n",
       "      <td>0.0</td>\n",
       "      <td>6.044317e+10</td>\n",
       "      <td>6.174834e+10</td>\n",
       "      <td>0.000000e+00</td>\n",
       "      <td>0.0</td>\n",
       "      <td>6.675448e+09</td>\n",
       "      <td>NaN</td>\n",
       "      <td>NaN</td>\n",
       "    </tr>\n",
       "    <tr>\n",
       "      <td>7</td>\n",
       "      <td>0</td>\n",
       "      <td>Baseline</td>\n",
       "      <td>Kenya</td>\n",
       "      <td>NaN</td>\n",
       "      <td>NaN</td>\n",
       "      <td>NaN</td>\n",
       "      <td>NaN</td>\n",
       "      <td>NaN</td>\n",
       "      <td>NaN</td>\n",
       "      <td>NaN</td>\n",
       "      <td>NaN</td>\n",
       "      <td>NaN</td>\n",
       "      <td>NaN</td>\n",
       "      <td>NaN</td>\n",
       "      <td>NaN</td>\n",
       "      <td>NaN</td>\n",
       "      <td>NaN</td>\n",
       "    </tr>\n",
       "  </tbody>\n",
       "</table>\n",
       "</div>"
      ],
      "text/plain": [
       "   Year                 Scenario Country  Wind (Onshore)  Wind (Offshore)  \\\n",
       "0  2010                 Baseline  Uganda    2.833000e+07     0.000000e+00   \n",
       "1  2040               Scenario 1  Uganda    1.190000e+08     0.000000e+00   \n",
       "2  2020                 Baseline      UK    3.185884e+10     3.365384e+10   \n",
       "3  2050  Consumer Transformation      UK    1.079889e+11     3.083926e+11   \n",
       "4  2050    System Transformation      UK    4.599598e+10     3.065219e+11   \n",
       "5  2050          Leading the Way      UK    9.958464e+10     3.151650e+11   \n",
       "6  2050       Steady Progression      UK    5.990922e+10     2.469362e+11   \n",
       "7     0                 Baseline   Kenya             NaN              NaN   \n",
       "\n",
       "   Solar CSP      Solar PV         Hydro          Oil  Gas CCS           Gas  \\\n",
       "0        0.0  0.000000e+00  1.529820e+09  906560000.0      0.0  2.549700e+08   \n",
       "1        0.0  2.618000e+09  7.140000e+09  952000000.0      0.0  1.094800e+10   \n",
       "2        0.0  1.178659e+10  0.000000e+00          0.0      0.0  1.124054e+11   \n",
       "3        0.0  6.447000e+10  0.000000e+00          0.0      0.0  0.000000e+00   \n",
       "4        0.0  4.242613e+10  0.000000e+00          0.0      0.0  7.237920e+07   \n",
       "5        0.0  6.344838e+10  0.000000e+00          0.0      0.0  1.221165e+07   \n",
       "6        0.0  2.720272e+10  0.000000e+00          0.0      0.0  6.044317e+10   \n",
       "7        NaN           NaN           NaN          NaN      NaN           NaN   \n",
       "\n",
       "        Nuclear    Geothermal  Coal       Biomass  BECCS  Hydrogen  \n",
       "0  0.000000e+00  1.133200e+08   0.0  0.000000e+00    NaN       NaN  \n",
       "1  0.000000e+00  2.142000e+09   0.0  0.000000e+00    NaN       NaN  \n",
       "2  6.133635e+10  0.000000e+00   0.0  2.102316e+10    NaN       NaN  \n",
       "3  1.011202e+11  0.000000e+00   0.0  1.535083e+09    NaN       NaN  \n",
       "4  8.691915e+10  0.000000e+00   0.0  1.125366e+09    NaN       NaN  \n",
       "5  3.412224e+10  0.000000e+00   0.0  1.612199e+09    NaN       NaN  \n",
       "6  6.174834e+10  0.000000e+00   0.0  6.675448e+09    NaN       NaN  \n",
       "7           NaN           NaN   NaN           NaN    NaN       NaN  "
      ]
     },
     "execution_count": 20,
     "metadata": {},
     "output_type": "execute_result"
    }
   ],
   "source": [
    "dfC"
   ]
  },
  {
   "cell_type": "code",
   "execution_count": 21,
   "metadata": {},
   "outputs": [
    {
     "data": {
      "text/html": [
       "<div>\n",
       "<style scoped>\n",
       "    .dataframe tbody tr th:only-of-type {\n",
       "        vertical-align: middle;\n",
       "    }\n",
       "\n",
       "    .dataframe tbody tr th {\n",
       "        vertical-align: top;\n",
       "    }\n",
       "\n",
       "    .dataframe thead th {\n",
       "        text-align: right;\n",
       "    }\n",
       "</style>\n",
       "<table border=\"1\" class=\"dataframe\">\n",
       "  <thead>\n",
       "    <tr style=\"text-align: right;\">\n",
       "      <th></th>\n",
       "      <th>Aluminium</th>\n",
       "      <th>Bentonite</th>\n",
       "      <th>Carbon Fiber</th>\n",
       "      <th>Cast Iron</th>\n",
       "      <th>Cement</th>\n",
       "      <th>Ceramics</th>\n",
       "      <th>Concrete</th>\n",
       "      <th>Copper</th>\n",
       "      <th>Epoxy</th>\n",
       "      <th>EVA</th>\n",
       "      <th>...</th>\n",
       "      <th>Lubricant</th>\n",
       "      <th>Non-Ferrous Metal</th>\n",
       "      <th>Paint</th>\n",
       "      <th>Plastic</th>\n",
       "      <th>PVC</th>\n",
       "      <th>Resin</th>\n",
       "      <th>Sand</th>\n",
       "      <th>Silicon</th>\n",
       "      <th>Steel</th>\n",
       "      <th>Stainless Steel</th>\n",
       "    </tr>\n",
       "    <tr>\n",
       "      <th>tech</th>\n",
       "      <th></th>\n",
       "      <th></th>\n",
       "      <th></th>\n",
       "      <th></th>\n",
       "      <th></th>\n",
       "      <th></th>\n",
       "      <th></th>\n",
       "      <th></th>\n",
       "      <th></th>\n",
       "      <th></th>\n",
       "      <th></th>\n",
       "      <th></th>\n",
       "      <th></th>\n",
       "      <th></th>\n",
       "      <th></th>\n",
       "      <th></th>\n",
       "      <th></th>\n",
       "      <th></th>\n",
       "      <th></th>\n",
       "      <th></th>\n",
       "      <th></th>\n",
       "    </tr>\n",
       "  </thead>\n",
       "  <tbody>\n",
       "    <tr>\n",
       "      <td>Wind (Onshore)</td>\n",
       "      <td>0.006769</td>\n",
       "      <td>0.000000</td>\n",
       "      <td>0.006018</td>\n",
       "      <td>0.467939</td>\n",
       "      <td>0.000000</td>\n",
       "      <td>0.000000</td>\n",
       "      <td>9.872309</td>\n",
       "      <td>4.799576e-02</td>\n",
       "      <td>0.049788</td>\n",
       "      <td>0.0</td>\n",
       "      <td>...</td>\n",
       "      <td>1.473255</td>\n",
       "      <td>0.00000</td>\n",
       "      <td>0.002022</td>\n",
       "      <td>0.013943</td>\n",
       "      <td>0.00000</td>\n",
       "      <td>0.019384</td>\n",
       "      <td>0.000000</td>\n",
       "      <td>0.000</td>\n",
       "      <td>2.766928</td>\n",
       "      <td>0.000000</td>\n",
       "    </tr>\n",
       "    <tr>\n",
       "      <td>Solar CSP</td>\n",
       "      <td>0.000000</td>\n",
       "      <td>0.000000</td>\n",
       "      <td>0.000000</td>\n",
       "      <td>0.000000</td>\n",
       "      <td>0.000000</td>\n",
       "      <td>0.332445</td>\n",
       "      <td>0.223237</td>\n",
       "      <td>0.000000e+00</td>\n",
       "      <td>0.000000</td>\n",
       "      <td>0.0</td>\n",
       "      <td>...</td>\n",
       "      <td>0.000000</td>\n",
       "      <td>0.08847</td>\n",
       "      <td>0.000000</td>\n",
       "      <td>0.050419</td>\n",
       "      <td>0.00000</td>\n",
       "      <td>0.000000</td>\n",
       "      <td>0.000000</td>\n",
       "      <td>0.000</td>\n",
       "      <td>2.099188</td>\n",
       "      <td>5.162354</td>\n",
       "    </tr>\n",
       "    <tr>\n",
       "      <td>Solar PV</td>\n",
       "      <td>0.950000</td>\n",
       "      <td>0.000000</td>\n",
       "      <td>0.000000</td>\n",
       "      <td>0.000000</td>\n",
       "      <td>0.000000</td>\n",
       "      <td>0.000000</td>\n",
       "      <td>0.000000</td>\n",
       "      <td>2.000000e-02</td>\n",
       "      <td>0.000000</td>\n",
       "      <td>0.0</td>\n",
       "      <td>...</td>\n",
       "      <td>0.000000</td>\n",
       "      <td>0.00000</td>\n",
       "      <td>0.000000</td>\n",
       "      <td>0.020000</td>\n",
       "      <td>0.00000</td>\n",
       "      <td>0.000000</td>\n",
       "      <td>0.000000</td>\n",
       "      <td>0.115</td>\n",
       "      <td>12.500000</td>\n",
       "      <td>0.000000</td>\n",
       "    </tr>\n",
       "    <tr>\n",
       "      <td>Hydro</td>\n",
       "      <td>0.000000</td>\n",
       "      <td>0.000000</td>\n",
       "      <td>0.000000</td>\n",
       "      <td>0.355250</td>\n",
       "      <td>0.921333</td>\n",
       "      <td>0.000000</td>\n",
       "      <td>9.680000</td>\n",
       "      <td>1.113250e-01</td>\n",
       "      <td>0.000000</td>\n",
       "      <td>0.0</td>\n",
       "      <td>...</td>\n",
       "      <td>0.000000</td>\n",
       "      <td>0.00000</td>\n",
       "      <td>0.000000</td>\n",
       "      <td>0.000000</td>\n",
       "      <td>2.16889</td>\n",
       "      <td>0.000000</td>\n",
       "      <td>3.959450</td>\n",
       "      <td>0.000</td>\n",
       "      <td>0.893867</td>\n",
       "      <td>0.000000</td>\n",
       "    </tr>\n",
       "    <tr>\n",
       "      <td>Geothermal</td>\n",
       "      <td>0.845000</td>\n",
       "      <td>0.495400</td>\n",
       "      <td>0.000000</td>\n",
       "      <td>0.019000</td>\n",
       "      <td>0.893740</td>\n",
       "      <td>0.000000</td>\n",
       "      <td>1.678600</td>\n",
       "      <td>0.000000e+00</td>\n",
       "      <td>0.000000</td>\n",
       "      <td>0.0</td>\n",
       "      <td>...</td>\n",
       "      <td>0.000000</td>\n",
       "      <td>0.00000</td>\n",
       "      <td>0.000000</td>\n",
       "      <td>0.000000</td>\n",
       "      <td>0.00000</td>\n",
       "      <td>0.000000</td>\n",
       "      <td>0.000000</td>\n",
       "      <td>0.000</td>\n",
       "      <td>2.385000</td>\n",
       "      <td>0.000000</td>\n",
       "    </tr>\n",
       "    <tr>\n",
       "      <td>Gas CCS</td>\n",
       "      <td>0.010286</td>\n",
       "      <td>0.000261</td>\n",
       "      <td>0.000000</td>\n",
       "      <td>0.002449</td>\n",
       "      <td>0.329143</td>\n",
       "      <td>0.000000</td>\n",
       "      <td>0.586498</td>\n",
       "      <td>5.714286e-07</td>\n",
       "      <td>0.000000</td>\n",
       "      <td>0.0</td>\n",
       "      <td>...</td>\n",
       "      <td>0.000784</td>\n",
       "      <td>0.00000</td>\n",
       "      <td>0.000000</td>\n",
       "      <td>0.000000</td>\n",
       "      <td>0.00000</td>\n",
       "      <td>0.000000</td>\n",
       "      <td>1.844898</td>\n",
       "      <td>0.000</td>\n",
       "      <td>1.837910</td>\n",
       "      <td>0.000000</td>\n",
       "    </tr>\n",
       "    <tr>\n",
       "      <td>Oil</td>\n",
       "      <td>0.000533</td>\n",
       "      <td>0.000000</td>\n",
       "      <td>0.000000</td>\n",
       "      <td>0.000786</td>\n",
       "      <td>0.000000</td>\n",
       "      <td>0.000000</td>\n",
       "      <td>0.190259</td>\n",
       "      <td>0.000000e+00</td>\n",
       "      <td>0.000000</td>\n",
       "      <td>0.0</td>\n",
       "      <td>...</td>\n",
       "      <td>0.000000</td>\n",
       "      <td>0.00000</td>\n",
       "      <td>0.000000</td>\n",
       "      <td>0.000000</td>\n",
       "      <td>0.00000</td>\n",
       "      <td>0.000000</td>\n",
       "      <td>0.000000</td>\n",
       "      <td>0.000</td>\n",
       "      <td>0.063420</td>\n",
       "      <td>0.000000</td>\n",
       "    </tr>\n",
       "    <tr>\n",
       "      <td>Gas</td>\n",
       "      <td>0.001224</td>\n",
       "      <td>0.000000</td>\n",
       "      <td>0.000000</td>\n",
       "      <td>2.200000</td>\n",
       "      <td>0.000000</td>\n",
       "      <td>0.000000</td>\n",
       "      <td>0.095150</td>\n",
       "      <td>0.000000e+00</td>\n",
       "      <td>0.000000</td>\n",
       "      <td>0.0</td>\n",
       "      <td>...</td>\n",
       "      <td>0.000000</td>\n",
       "      <td>0.00000</td>\n",
       "      <td>0.000000</td>\n",
       "      <td>0.000000</td>\n",
       "      <td>0.00000</td>\n",
       "      <td>0.000000</td>\n",
       "      <td>0.000000</td>\n",
       "      <td>0.000</td>\n",
       "      <td>2.460000</td>\n",
       "      <td>0.000000</td>\n",
       "    </tr>\n",
       "    <tr>\n",
       "      <td>Coal</td>\n",
       "      <td>0.004749</td>\n",
       "      <td>0.000000</td>\n",
       "      <td>0.000000</td>\n",
       "      <td>0.000000</td>\n",
       "      <td>0.000000</td>\n",
       "      <td>0.000000</td>\n",
       "      <td>1.357078</td>\n",
       "      <td>0.000000e+00</td>\n",
       "      <td>0.000000</td>\n",
       "      <td>0.0</td>\n",
       "      <td>...</td>\n",
       "      <td>0.000000</td>\n",
       "      <td>0.00000</td>\n",
       "      <td>0.000000</td>\n",
       "      <td>0.000000</td>\n",
       "      <td>0.00000</td>\n",
       "      <td>0.000000</td>\n",
       "      <td>0.000000</td>\n",
       "      <td>0.000</td>\n",
       "      <td>0.473364</td>\n",
       "      <td>0.000000</td>\n",
       "    </tr>\n",
       "    <tr>\n",
       "      <td>Wind (Offshore)</td>\n",
       "      <td>0.008219</td>\n",
       "      <td>0.000000</td>\n",
       "      <td>0.000000</td>\n",
       "      <td>0.252420</td>\n",
       "      <td>0.000000</td>\n",
       "      <td>0.000197</td>\n",
       "      <td>0.002369</td>\n",
       "      <td>2.136986e-01</td>\n",
       "      <td>0.000000</td>\n",
       "      <td>0.0</td>\n",
       "      <td>...</td>\n",
       "      <td>0.000000</td>\n",
       "      <td>0.00000</td>\n",
       "      <td>0.000000</td>\n",
       "      <td>0.052968</td>\n",
       "      <td>0.00000</td>\n",
       "      <td>0.000000</td>\n",
       "      <td>0.000000</td>\n",
       "      <td>0.000</td>\n",
       "      <td>5.680365</td>\n",
       "      <td>0.000000</td>\n",
       "    </tr>\n",
       "    <tr>\n",
       "      <td>Biomass</td>\n",
       "      <td>0.023066</td>\n",
       "      <td>0.000000</td>\n",
       "      <td>0.000000</td>\n",
       "      <td>0.000000</td>\n",
       "      <td>0.000000</td>\n",
       "      <td>0.000000</td>\n",
       "      <td>5.068447</td>\n",
       "      <td>0.000000e+00</td>\n",
       "      <td>0.000000</td>\n",
       "      <td>0.0</td>\n",
       "      <td>...</td>\n",
       "      <td>0.000000</td>\n",
       "      <td>0.00000</td>\n",
       "      <td>0.000000</td>\n",
       "      <td>0.000000</td>\n",
       "      <td>0.00000</td>\n",
       "      <td>0.000000</td>\n",
       "      <td>0.000000</td>\n",
       "      <td>0.000</td>\n",
       "      <td>0.723886</td>\n",
       "      <td>0.000000</td>\n",
       "    </tr>\n",
       "    <tr>\n",
       "      <td>Nuclear</td>\n",
       "      <td>0.000234</td>\n",
       "      <td>0.000000</td>\n",
       "      <td>0.000000</td>\n",
       "      <td>0.000000</td>\n",
       "      <td>0.000000</td>\n",
       "      <td>0.000000</td>\n",
       "      <td>1.432200</td>\n",
       "      <td>0.000000e+00</td>\n",
       "      <td>0.000000</td>\n",
       "      <td>0.0</td>\n",
       "      <td>...</td>\n",
       "      <td>0.000000</td>\n",
       "      <td>0.00000</td>\n",
       "      <td>0.000000</td>\n",
       "      <td>0.000000</td>\n",
       "      <td>0.00000</td>\n",
       "      <td>0.000000</td>\n",
       "      <td>0.000000</td>\n",
       "      <td>0.000</td>\n",
       "      <td>0.073040</td>\n",
       "      <td>0.000000</td>\n",
       "    </tr>\n",
       "    <tr>\n",
       "      <td>BECCS</td>\n",
       "      <td>0.000000</td>\n",
       "      <td>0.000000</td>\n",
       "      <td>0.000000</td>\n",
       "      <td>0.000000</td>\n",
       "      <td>0.000000</td>\n",
       "      <td>0.000000</td>\n",
       "      <td>0.000039</td>\n",
       "      <td>0.000000e+00</td>\n",
       "      <td>0.000000</td>\n",
       "      <td>0.0</td>\n",
       "      <td>...</td>\n",
       "      <td>0.000000</td>\n",
       "      <td>0.00000</td>\n",
       "      <td>0.000000</td>\n",
       "      <td>0.000000</td>\n",
       "      <td>0.00000</td>\n",
       "      <td>0.000000</td>\n",
       "      <td>0.000000</td>\n",
       "      <td>0.000</td>\n",
       "      <td>0.005176</td>\n",
       "      <td>0.000000</td>\n",
       "    </tr>\n",
       "    <tr>\n",
       "      <td>Hydrogen</td>\n",
       "      <td>NaN</td>\n",
       "      <td>NaN</td>\n",
       "      <td>NaN</td>\n",
       "      <td>NaN</td>\n",
       "      <td>NaN</td>\n",
       "      <td>NaN</td>\n",
       "      <td>NaN</td>\n",
       "      <td>NaN</td>\n",
       "      <td>NaN</td>\n",
       "      <td>NaN</td>\n",
       "      <td>...</td>\n",
       "      <td>NaN</td>\n",
       "      <td>NaN</td>\n",
       "      <td>NaN</td>\n",
       "      <td>NaN</td>\n",
       "      <td>NaN</td>\n",
       "      <td>NaN</td>\n",
       "      <td>NaN</td>\n",
       "      <td>NaN</td>\n",
       "      <td>NaN</td>\n",
       "      <td>NaN</td>\n",
       "    </tr>\n",
       "  </tbody>\n",
       "</table>\n",
       "<p>14 rows × 22 columns</p>\n",
       "</div>"
      ],
      "text/plain": [
       "                 Aluminium  Bentonite  Carbon Fiber  Cast Iron    Cement  \\\n",
       "tech                                                                       \n",
       "Wind (Onshore)    0.006769   0.000000      0.006018   0.467939  0.000000   \n",
       "Solar CSP         0.000000   0.000000      0.000000   0.000000  0.000000   \n",
       "Solar PV          0.950000   0.000000      0.000000   0.000000  0.000000   \n",
       "Hydro             0.000000   0.000000      0.000000   0.355250  0.921333   \n",
       "Geothermal        0.845000   0.495400      0.000000   0.019000  0.893740   \n",
       "Gas CCS           0.010286   0.000261      0.000000   0.002449  0.329143   \n",
       "Oil               0.000533   0.000000      0.000000   0.000786  0.000000   \n",
       "Gas               0.001224   0.000000      0.000000   2.200000  0.000000   \n",
       "Coal              0.004749   0.000000      0.000000   0.000000  0.000000   \n",
       "Wind (Offshore)   0.008219   0.000000      0.000000   0.252420  0.000000   \n",
       "Biomass           0.023066   0.000000      0.000000   0.000000  0.000000   \n",
       "Nuclear           0.000234   0.000000      0.000000   0.000000  0.000000   \n",
       "BECCS             0.000000   0.000000      0.000000   0.000000  0.000000   \n",
       "Hydrogen               NaN        NaN           NaN        NaN       NaN   \n",
       "\n",
       "                 Ceramics  Concrete        Copper     Epoxy  EVA   ...  \\\n",
       "tech                                                               ...   \n",
       "Wind (Onshore)   0.000000  9.872309  4.799576e-02  0.049788   0.0  ...   \n",
       "Solar CSP        0.332445  0.223237  0.000000e+00  0.000000   0.0  ...   \n",
       "Solar PV         0.000000  0.000000  2.000000e-02  0.000000   0.0  ...   \n",
       "Hydro            0.000000  9.680000  1.113250e-01  0.000000   0.0  ...   \n",
       "Geothermal       0.000000  1.678600  0.000000e+00  0.000000   0.0  ...   \n",
       "Gas CCS          0.000000  0.586498  5.714286e-07  0.000000   0.0  ...   \n",
       "Oil              0.000000  0.190259  0.000000e+00  0.000000   0.0  ...   \n",
       "Gas              0.000000  0.095150  0.000000e+00  0.000000   0.0  ...   \n",
       "Coal             0.000000  1.357078  0.000000e+00  0.000000   0.0  ...   \n",
       "Wind (Offshore)  0.000197  0.002369  2.136986e-01  0.000000   0.0  ...   \n",
       "Biomass          0.000000  5.068447  0.000000e+00  0.000000   0.0  ...   \n",
       "Nuclear          0.000000  1.432200  0.000000e+00  0.000000   0.0  ...   \n",
       "BECCS            0.000000  0.000039  0.000000e+00  0.000000   0.0  ...   \n",
       "Hydrogen              NaN       NaN           NaN       NaN   NaN  ...   \n",
       "\n",
       "                 Lubricant  Non-Ferrous Metal     Paint   Plastic      PVC  \\\n",
       "tech                                                                         \n",
       "Wind (Onshore)    1.473255            0.00000  0.002022  0.013943  0.00000   \n",
       "Solar CSP         0.000000            0.08847  0.000000  0.050419  0.00000   \n",
       "Solar PV          0.000000            0.00000  0.000000  0.020000  0.00000   \n",
       "Hydro             0.000000            0.00000  0.000000  0.000000  2.16889   \n",
       "Geothermal        0.000000            0.00000  0.000000  0.000000  0.00000   \n",
       "Gas CCS           0.000784            0.00000  0.000000  0.000000  0.00000   \n",
       "Oil               0.000000            0.00000  0.000000  0.000000  0.00000   \n",
       "Gas               0.000000            0.00000  0.000000  0.000000  0.00000   \n",
       "Coal              0.000000            0.00000  0.000000  0.000000  0.00000   \n",
       "Wind (Offshore)   0.000000            0.00000  0.000000  0.052968  0.00000   \n",
       "Biomass           0.000000            0.00000  0.000000  0.000000  0.00000   \n",
       "Nuclear           0.000000            0.00000  0.000000  0.000000  0.00000   \n",
       "BECCS             0.000000            0.00000  0.000000  0.000000  0.00000   \n",
       "Hydrogen               NaN                NaN       NaN       NaN      NaN   \n",
       "\n",
       "                    Resin      Sand  Silicon      Steel  Stainless Steel  \n",
       "tech                                                                      \n",
       "Wind (Onshore)   0.019384  0.000000    0.000   2.766928         0.000000  \n",
       "Solar CSP        0.000000  0.000000    0.000   2.099188         5.162354  \n",
       "Solar PV         0.000000  0.000000    0.115  12.500000         0.000000  \n",
       "Hydro            0.000000  3.959450    0.000   0.893867         0.000000  \n",
       "Geothermal       0.000000  0.000000    0.000   2.385000         0.000000  \n",
       "Gas CCS          0.000000  1.844898    0.000   1.837910         0.000000  \n",
       "Oil              0.000000  0.000000    0.000   0.063420         0.000000  \n",
       "Gas              0.000000  0.000000    0.000   2.460000         0.000000  \n",
       "Coal             0.000000  0.000000    0.000   0.473364         0.000000  \n",
       "Wind (Offshore)  0.000000  0.000000    0.000   5.680365         0.000000  \n",
       "Biomass          0.000000  0.000000    0.000   0.723886         0.000000  \n",
       "Nuclear          0.000000  0.000000    0.000   0.073040         0.000000  \n",
       "BECCS            0.000000  0.000000    0.000   0.005176         0.000000  \n",
       "Hydrogen              NaN       NaN      NaN        NaN              NaN  \n",
       "\n",
       "[14 rows x 22 columns]"
      ]
     },
     "execution_count": 21,
     "metadata": {},
     "output_type": "execute_result"
    }
   ],
   "source": [
    "cM"
   ]
  },
  {
   "cell_type": "code",
   "execution_count": 887,
   "metadata": {
    "scrolled": true
   },
   "outputs": [
    {
     "name": "stdout",
     "output_type": "stream",
     "text": [
      "egE_Uganda_Bas_2010_sep\n",
      "egE_Uganda_Sce_2040_sep\n",
      "egE_UK_Bas_2020_sep\n",
      "egE_UK_Con_2050_sep\n",
      "egE_UK_Sys_2050_sep\n",
      "egE_UK_Lea_2050_sep\n",
      "egE_UK_Ste_2050_sep\n",
      "egE_Kenya_Bas_0_sep\n"
     ]
    }
   ],
   "source": [
    "#Example for a single effect calculation\n",
    "# for c in dfC['Country'].unique():\n",
    "#     eg_E_tech = cM.fillna(0).dot(cE.values)\n",
    "#     eg_E_tech_sep = cM.fillna(0).multiply(cE.T.values)\n",
    "    \n",
    "#     for sc in dfC[dfC['Country']==c]['Scenario'].unique():\n",
    "#         for y in dfC[(dfC['Country']==c)&(dfC['Scenario']==sc)]['Year'].unique():\n",
    "#             globals()['egE_{0}_{1}_{2}_sep'.format(c,sc[0:3],str(y))] = eg_E_tech_sep.reindex(index = coln).multiply(dfC[(dfC['Country']==c)&(dfC['Scenario']==sc)&(dfC['Year']==y)][coln].T.values) \n",
    "#             print('egE_{0}_{1}_{2}_sep'.format(c,sc[0:3],str(y)))           \n",
    "            \n",
    "# egE_country = dfC[['Year','Scenario','Country']]\n",
    "# egE_country['value'] = 0\n",
    "\n",
    "# eg_country_tech_E = dfC.copy()\n",
    "# for col in eg_country_tech_E.iloc[:,3:].columns:\n",
    "#     eg_country_tech_E[col] = 0\n",
    "\n",
    "# for index, row in dfC[coln].iterrows():\n",
    "#     val = pd.DataFrame(row).fillna(0).T.dot(cM.fillna(0)[0:len(dfC.iloc[:,3:].T)].values).dot(cE.values)\n",
    "#     egE_country.loc[index,'value'] = val.values[0]\n",
    "    \n",
    "#     valt = pd.DataFrame(row).fillna(0).values*(eg_E_tech)\n",
    "#     for col in valt.T.columns:\n",
    "#         eg_country_tech_E.loc[index,col] = valt.T.loc[0,col]"
   ]
  },
  {
   "cell_type": "markdown",
   "metadata": {},
   "source": [
    "# Errors"
   ]
  },
  {
   "cell_type": "code",
   "execution_count": 27,
   "metadata": {
    "scrolled": true
   },
   "outputs": [],
   "source": [
    "# country energy projection [kWh]\n",
    "e_C = pd.read_excel(mypath+'Excel_model_material_implications_energy_systems.xlsx', \n",
    "                    sheet_name = 'Matrices', \n",
    "                skiprows = 2, usecols = \"AQ:AW\", nrows = 1)\n",
    "# material per energy technology [g/kWh]\n",
    "e_M = pd.read_excel(mypath+'Excel_model_material_implications_energy_systems.xlsx', \n",
    "                    sheet_name = 'Matrices', \n",
    "                skiprows = 2, usecols = \"AY:BU\", nrows = 10)\n",
    "# embodied emissions (GHG) per material [gCO2e/g]\n",
    "e_E = pd.read_excel(mypath+'Excel_model_material_implications_energy_systems.xlsx', \n",
    "                    sheet_name = 'Matrices', \n",
    "                skiprows = 2, usecols = \"BX:BX\", nrows = 22)\n",
    "# water usage per material [l/kg]\n",
    "e_W = pd.read_excel(mypath+'Excel_model_material_implications_energy_systems.xlsx', \n",
    "                    sheet_name = 'Matrices', \n",
    "                skiprows = 2, usecols = \"BY:BY\", nrows = 22)\n",
    "# recycling rate in current supply per material [%]\n",
    "e_R = pd.read_excel(mypath+'Excel_model_material_implications_energy_systems.xlsx', \n",
    "                    sheet_name = 'Matrices', \n",
    "                skiprows = 2, usecols = \"BZ:BZ\", nrows = 22)\n",
    "# costs per material [â‚¬/kg]\n",
    "e_K = pd.read_excel(mypath+'Excel_model_material_implications_energy_systems.xlsx', \n",
    "                    sheet_name = 'Matrices', \n",
    "                skiprows = 2, usecols = \"CA:CA\", nrows = 22)\n",
    "e_K = e_K/1000\n",
    "\n",
    "for ef in [e_C, e_M, e_E, e_W, e_R, e_K]:\n",
    "    eco = ef.columns.values\n",
    "    ef.columns = [str(x).replace('.1','') for x in eco]\n",
    "e_M = e_M.rename(columns={'[g/kWh]':'tech'}).set_index('tech')\n",
    "\n",
    "# clean calculations trying .dot\n",
    "for ef, ne in zip([e_E, e_W, e_R, e_K],['E', 'W', 'R', 'K'] ):\n",
    "    #seperate errors per material per kWh for different impacts \n",
    "    globals()['em_'.format(ne)] = ((ef/globals()['{}'.format(ne)]).pow(2)).T\n",
    "    globals()['em_'.format(ne)].columns = e_cM.columns\n",
    "    globals()['em_'.format(ne)] = globals()['em_'.format(ne)].reset_index().drop(columns='index', axis = 1)\n",
    "    \n",
    "    t1 = pd.DataFrame([x+y for x in ((e_cM/cM).pow(2)).values for y in globals()['em_'.format(ne)].values]).pow(0.5)\n",
    "    t1.columns = globals()['{}_tech_sep'.format(ne)].columns\n",
    "    t1.index = e_cM.index\n",
    "    \n",
    "#     e_E_tech_sep = E_tech_sep.*sqrt((e_M./M).^2+(e_E'./E').^2)\n",
    "    globals()['e_{}_tech_sep'.format(ne)] = globals()['{}_tech_sep'.format(ne)].mul(t1, fill_value=0)\n",
    "    globals()['e_{}_tot'.format(ne)] = globals()['e_{}_tech_sep'.format(ne)].T.sum()\n",
    "# Do I need to remove any rows with this? [0:len(C.T)]\n",
    "\n",
    "for ef, ne in zip([e_E, e_W, e_R, e_K],['E', 'W', 'R', 'K'] ):\n",
    "    #seperate errors per material per kWh for different impacts \n",
    "    globals()['em_'.format(ne)] = ((ef/globals()['{}'.format(ne)]).pow(2)).T\n",
    "    globals()['em_'.format(ne)].columns = e_M.columns\n",
    "    globals()['em_'.format(ne)] = globals()['em_'.format(ne)].reset_index().drop(columns='index', axis = 1)\n",
    "    \n",
    "    # add index of tech to t2, otherwise the calc gives error\n",
    "    tc = (e_C/C).T\n",
    "    t2 = pd.DataFrame([x+y+z for x in ((e_M[0:len(C.T)]/M[0:len(C.T)]).pow(2)).values for y in globals()['em_'.format(ne)].values for z in (tc.pow(2))]).pow(0.5)\n",
    "    t2.columns =  globals()['e_{}_tech_sep'.format(ne)].columns\n",
    "    t2.index = tc.index\n",
    "    \n",
    "    globals()['e_{}_country_sep'.format(ne)] = globals()['{}_country_sep'.format(ne)].mul(t2, fill_value=0)\n",
    "    globals()['e_{}c_tot'.format(ne)] = globals()['e_{}_country_sep'.format(ne)].T.sum()"
   ]
  },
  {
   "cell_type": "markdown",
   "metadata": {},
   "source": [
    "# Errors for all countries"
   ]
  },
  {
   "cell_type": "code",
   "execution_count": 29,
   "metadata": {},
   "outputs": [],
   "source": [
    "# Error or all countries and scenarios\n",
    "e_dfC = pd.read_excel(mypath+'EnergyProjection.xlsx', sheet_name = 'All countries (e)', \n",
    "                skiprows = 2, usecols = \"B:R\")\n",
    "# material per energy technology [g/kWh]\n",
    "e_cM = pd.read_excel(mypath+'Excel_model_material_implications_energy_systems.xlsx', \n",
    "                    sheet_name = 'Matrices (country)', \n",
    "                skiprows = 2, usecols = \"BM:CI\", nrows = 14)\n",
    "# embodied emissions (GHG) per material [gCO2e/g]\n",
    "e_cE = pd.read_excel(mypath+'Excel_model_material_implications_energy_systems.xlsx', \n",
    "                    sheet_name = 'Matrices (country)', \n",
    "                skiprows = 2, usecols = \"CL\", nrows = 22)\n",
    "# water usage per material [l/kg]\n",
    "e_cW = pd.read_excel(mypath+'Excel_model_material_implications_energy_systems.xlsx', \n",
    "                    sheet_name = 'Matrices (country)', \n",
    "                skiprows = 2, usecols = \"CM\", nrows = 22)\n",
    "# recycling rate in current supply per material [%]\n",
    "e_cR = pd.read_excel(mypath+'Excel_model_material_implications_energy_systems.xlsx', \n",
    "                    sheet_name = 'Matrices (country)', \n",
    "                skiprows = 2, usecols = \"CN\", nrows = 22)\n",
    "# costs per material [â‚¬/kg]\n",
    "e_cK = pd.read_excel(mypath+'Excel_model_material_implications_energy_systems.xlsx', \n",
    "                    sheet_name = 'Matrices (country)', \n",
    "                skiprows = 2, usecols = \"CO\", nrows = 22)\n",
    "e_cK = e_cK/1000\n",
    "\n",
    "# e_dfC\n",
    "for ef in [ e_cM, e_cE, e_cW, e_cR, e_cK]:\n",
    "    eco = ef.columns.values\n",
    "    ef.columns = [str(x).replace('.1','') for x in eco]\n",
    "e_cM = e_cM.rename(columns={'[g/kWh]':'tech'}).set_index('tech')\n"
   ]
  },
  {
   "cell_type": "code",
   "execution_count": 30,
   "metadata": {
    "scrolled": true
   },
   "outputs": [
    {
     "ename": "KeyError",
     "evalue": "'e_dfE_Uganda_Bas_2010_sep'",
     "output_type": "error",
     "traceback": [
      "\u001b[1;31m---------------------------------------------------------------------------\u001b[0m",
      "\u001b[1;31mKeyError\u001b[0m                                  Traceback (most recent call last)",
      "\u001b[1;32m<ipython-input-30-0ebaf2cb3556>\u001b[0m in \u001b[0;36m<module>\u001b[1;34m\u001b[0m\n\u001b[0;32m     46\u001b[0m                 \u001b[0mglobals\u001b[0m\u001b[1;33m(\u001b[0m\u001b[1;33m)\u001b[0m\u001b[1;33m[\u001b[0m\u001b[1;34m'e_df{0}_countries_sep'\u001b[0m\u001b[1;33m.\u001b[0m\u001b[0mformat\u001b[0m\u001b[1;33m(\u001b[0m\u001b[0mne\u001b[0m\u001b[1;33m)\u001b[0m\u001b[1;33m]\u001b[0m \u001b[1;33m=\u001b[0m \u001b[0mglobals\u001b[0m\u001b[1;33m(\u001b[0m\u001b[1;33m)\u001b[0m\u001b[1;33m[\u001b[0m\u001b[1;34m'e_df{0}_countries_sep'\u001b[0m\u001b[1;33m.\u001b[0m\u001b[0mformat\u001b[0m\u001b[1;33m(\u001b[0m\u001b[0mne\u001b[0m\u001b[1;33m)\u001b[0m\u001b[1;33m]\u001b[0m\u001b[1;33m[\u001b[0m\u001b[1;33m[\u001b[0m\u001b[1;34m'Country'\u001b[0m\u001b[1;33m,\u001b[0m\u001b[1;34m'Year'\u001b[0m\u001b[1;33m,\u001b[0m\u001b[1;34m'Scenario'\u001b[0m\u001b[1;33m,\u001b[0m\u001b[1;34m'tech'\u001b[0m\u001b[1;33m]\u001b[0m\u001b[1;33m+\u001b[0m\u001b[0mmats\u001b[0m\u001b[1;33m]\u001b[0m\u001b[1;33m\u001b[0m\u001b[1;33m\u001b[0m\u001b[0m\n\u001b[0;32m     47\u001b[0m \u001b[1;33m\u001b[0m\u001b[0m\n\u001b[1;32m---> 48\u001b[1;33m                 \u001b[0mnew\u001b[0m \u001b[1;33m=\u001b[0m \u001b[0mpd\u001b[0m\u001b[1;33m.\u001b[0m\u001b[0mDataFrame\u001b[0m\u001b[1;33m(\u001b[0m\u001b[0mglobals\u001b[0m\u001b[1;33m(\u001b[0m\u001b[1;33m)\u001b[0m\u001b[1;33m[\u001b[0m\u001b[1;34m'e_df{0}_{1}_{2}_{3}_sep'\u001b[0m\u001b[1;33m.\u001b[0m\u001b[0mformat\u001b[0m\u001b[1;33m(\u001b[0m\u001b[0mne\u001b[0m\u001b[1;33m,\u001b[0m\u001b[0mc\u001b[0m\u001b[1;33m,\u001b[0m\u001b[0msc\u001b[0m\u001b[1;33m[\u001b[0m\u001b[1;36m0\u001b[0m\u001b[1;33m:\u001b[0m\u001b[1;36m3\u001b[0m\u001b[1;33m]\u001b[0m\u001b[1;33m,\u001b[0m\u001b[0mstr\u001b[0m\u001b[1;33m(\u001b[0m\u001b[0my\u001b[0m\u001b[1;33m)\u001b[0m\u001b[1;33m)\u001b[0m\u001b[1;33m]\u001b[0m\u001b[1;33m.\u001b[0m\u001b[0mT\u001b[0m\u001b[1;33m.\u001b[0m\u001b[0msum\u001b[0m\u001b[1;33m(\u001b[0m\u001b[1;33m)\u001b[0m\u001b[1;33m)\u001b[0m\u001b[1;33m.\u001b[0m\u001b[0mT\u001b[0m\u001b[1;33m\u001b[0m\u001b[1;33m\u001b[0m\u001b[0m\n\u001b[0m\u001b[0;32m     49\u001b[0m                 \u001b[0mnew\u001b[0m\u001b[1;33m[\u001b[0m\u001b[1;34m'Country'\u001b[0m\u001b[1;33m]\u001b[0m \u001b[1;33m=\u001b[0m \u001b[0mc\u001b[0m\u001b[1;33m\u001b[0m\u001b[1;33m\u001b[0m\u001b[0m\n\u001b[0;32m     50\u001b[0m                 \u001b[0mnew\u001b[0m\u001b[1;33m[\u001b[0m\u001b[1;34m'Scenario'\u001b[0m\u001b[1;33m]\u001b[0m \u001b[1;33m=\u001b[0m \u001b[0msc\u001b[0m\u001b[1;33m\u001b[0m\u001b[1;33m\u001b[0m\u001b[0m\n",
      "\u001b[1;31mKeyError\u001b[0m: 'e_dfE_Uganda_Bas_2010_sep'"
     ]
    }
   ],
   "source": [
    "\n",
    "# Ordering dfC columns for the same order as M\n",
    "coln = list(cM.index)\n",
    "techs = ['Wind (Onshore)', 'Solar CSP', 'Solar PV', 'Hydro', 'Geothermal',\n",
    "       'Gas CCS', 'Oil', 'Gas', 'Coal', 'Wind (Offshore)', 'Biomass',\n",
    "       'Nuclear', 'BECCS', 'Hydrogen']\n",
    "mats = list(cM.columns)\n",
    "\n",
    "for ef, ne in zip([e_cE, e_cW, e_cR, e_cK],['E', 'W', 'R', 'K'] ):\n",
    "    #seperate errors per material per kWh for different impacts \n",
    "    globals()['em_'.format(ne)] = ((ef/globals()['{}'.format(ne)]).pow(2)).T\n",
    "    globals()['em_'.format(ne)].columns = e_cM.columns\n",
    "    globals()['em_'.format(ne)] = globals()['em_'.format(ne)].reset_index().drop(columns='index', axis = 1)\n",
    "    \n",
    "    t1 = pd.DataFrame([x+y for x in ((e_cM/cM).pow(2)).values for y in globals()['em_'.format(ne)].values]).pow(0.5)\n",
    "    t1.columns = globals()['df{}_tech_sep'.format(ne)].columns\n",
    "    t1.index = e_cM.index\n",
    "    \n",
    "#     e_E_tech_sep = E_tech_sep.*sqrt((e_M./M).^2+(e_E'./E').^2)\n",
    "    globals()['e_df{}_tech_sep'.format(ne)] = globals()['df{}_tech_sep'.format(ne)].mul(t1, fill_value=0)\n",
    "    globals()['e_df{}_tot'.format(ne)] = globals()['e_df{}_tech_sep'.format(ne)].T.sum()\n",
    "# Do I need to remove any rows with this? [0:len(C.T)]\n",
    "\n",
    "for ef, ne in zip([e_cE, e_cW, e_cR, e_cK],['E', 'W', 'R', 'K'] ):\n",
    "    #seperate errors per material per kWh for different impacts \n",
    "    globals()['em_'.format(ne)] = ((ef/globals()['{}'.format(ne)]).pow(2)).T\n",
    "    globals()['em_'.format(ne)].columns = e_cM.columns\n",
    "    globals()['em_'.format(ne)] = globals()['em_'.format(ne)].reset_index().drop(columns='index', axis = 1)\n",
    "    \n",
    "    globals()['e_df{0}_countries_sep'.format(ne)] = pd.DataFrame(columns =['Country','Year','Scenario','tech']+mats )\n",
    "    globals()['e_df{0}c_tot'.format(ne)] = pd.DataFrame(columns =['Country','Year','Scenario']+techs )\n",
    "    for c in dfC['Country'].unique():\n",
    "        for sc in dfC[dfC['Country']==c]['Scenario'].unique():\n",
    "            for y in dfC[(dfC['Country']==c)&(dfC['Scenario']==sc)]['Year'].unique():\n",
    "                # add index of tech to t2, otherwise the calc gives error\n",
    "                tc = (e_dfC[(e_dfC['Country']==c)&(e_dfC['Scenario']==sc)&(e_dfC['Year']==y)][coln]/dfC[(dfC['Country']==c)&(dfC['Scenario']==sc)&(dfC['Year']==y)])[coln].T\n",
    "                t2 = pd.DataFrame([x+y+z for x in ((e_cM/cM).pow(2)).values for y in globals()['em_'.format(ne)].values for z in (tc.pow(2))]).pow(0.5)\n",
    "                t2.columns =  globals()['e_{}_tech_sep'.format(ne)].columns\n",
    "                t2.index = tc.index\n",
    "                \n",
    "                news = pd.DataFrame(globals()['df{0}_{1}_{2}_{3}_sep'.format(ne,c,sc[0:3],str(y))].mul(t2, fill_value=0))\n",
    "                news = news.reset_index()\n",
    "                news['Country'] = c\n",
    "                news['Scenario'] = sc\n",
    "                news['Year'] = y\n",
    "                globals()['e_df{0}_countries_sep'.format(ne)] = globals()['e_df{0}_countries_sep'.format(ne)].append(news)\n",
    "                globals()['e_df{0}_countries_sep'.format(ne)] = globals()['e_df{0}_countries_sep'.format(ne)][['Country','Year','Scenario','tech']+mats]\n",
    "                \n",
    "                new = pd.DataFrame(globals()['e_df{0}_{1}_{2}_{3}_sep'.format(ne,c,sc[0:3],str(y))].T.sum()).T\n",
    "                new['Country'] = c\n",
    "                new['Scenario'] = sc\n",
    "                new['Year'] = y\n",
    "                globals()['e_df{0}c_tot'.format(ne)] = globals()['e_df{0}c_tot'.format(ne)].append(new)\n",
    "                globals()['e_df{0}c_tot'.format(ne)] =globals()['e_df{0}c_tot'.format(ne)][['Country','Year','Scenario']+techs]\n",
    "                "
   ]
  },
  {
   "cell_type": "code",
   "execution_count": null,
   "metadata": {},
   "outputs": [],
   "source": []
  },
  {
   "cell_type": "markdown",
   "metadata": {},
   "source": [
    "# Employment and land-use"
   ]
  },
  {
   "cell_type": "code",
   "execution_count": 16,
   "metadata": {},
   "outputs": [],
   "source": [
    "# Employment by stage [job-years/MW] Manuf and C&I and Dec, [jobs/MW] for O&M, [jobs/PJ] for fuel\n",
    "jobs = pd.read_excel(mypath+'Excel_model_material_implications_energy_systems.xlsx', \n",
    "                    sheet_name = 'Employment', \n",
    "                skiprows = 37, usecols = \"B:G,T\", nrows = 23)\n",
    "jobs.columns = ['tech', 'Manufacturing', 'Construction and Installation',\n",
    "       'Operation and Maintenance', 'Fuel', 'Decommissioning', 'Total']\n",
    "\n",
    "# In [jobs-lifetime/kWh]\n",
    "op_jobs = pd.read_excel(mypath+'Excel_model_material_implications_energy_systems.xlsx', \n",
    "                    sheet_name = 'Employment', \n",
    "                skiprows = 65, usecols = \"B:G\", nrows = 23)\n",
    "op_jobs.columns = ['tech','Capacity (MW)', 'kWh/lifetime', 'Load factor','Lifetime','Operation and Maintenance']\n",
    "\n",
    "jobs = jobs.merge(op_jobs[['tech','Capacity (MW)','kWh/lifetime']], on = 'tech')\n",
    "# Ram2020 has Regional Employment multipliers that should be useful for country evaluations\n",
    "\n",
    "# Land required [km^2/1000 MW]\n",
    "land = pd.read_excel(mypath+'Excel_model_material_implications_energy_systems.xlsx', \n",
    "                    sheet_name = 'Employment', \n",
    "                skiprows = 19, usecols = \"B:C\", nrows = 14)\n",
    "land.columns = ['tech','land']\n",
    "\n",
    "jobs['Operation and Maintenance (jobs)'] = jobs['Capacity (MW)'] * jobs['Operation and Maintenance']"
   ]
  },
  {
   "cell_type": "code",
   "execution_count": null,
   "metadata": {},
   "outputs": [],
   "source": [
    "# employment * kWh/tech/country\n"
   ]
  },
  {
   "cell_type": "markdown",
   "metadata": {},
   "source": [
    "# Plots for single country values"
   ]
  },
  {
   "cell_type": "markdown",
   "metadata": {},
   "source": [
    "## Per kWh"
   ]
  },
  {
   "cell_type": "code",
   "execution_count": 616,
   "metadata": {
    "scrolled": true
   },
   "outputs": [],
   "source": [
    "#  per KWH\n",
    "colors = px.colors.qualitative.Alphabet\n",
    "\n",
    "figpath = \"C:/Users/KarlaC/Dropbox (Cambridge University)/CCG/Electricity and material demand model/Figs/\"\n",
    "\n",
    "labels = ['Embodied Material Emissions [gCO<sub>2</sub>/kWh]','Embodied Material Water Usage [L/kWh]',\n",
    "          'Material Costs [Euro‚cent/kWh]','Material Recycling Rate [g/kWh]']\n",
    "\n",
    "for ne, l in zip(['E', 'W', 'K', 'R'], labels):\n",
    "    fig = go.Figure()\n",
    "    \n",
    "    if ne == 'E' or ne == 'R':\n",
    "        data = globals()['{}_tech_sep'.format(ne)]\n",
    "        datae = pd.DataFrame(np.nan, index=np.arange(len(globals()['{}_tech_sep'.format(ne)])), \n",
    "                     columns=globals()['{}_tech_sep'.format(ne)].columns)\n",
    "        error = globals()['e_{}_tot'.format(ne)]\n",
    "        \n",
    "        datae.loc[datae.index,'Stainless Steel'] = error.values/2\n",
    "        datae.index = data.index\n",
    "    if ne == 'W':\n",
    "        data = globals()['{}_tech_sep'.format(ne)]/1000\n",
    "        datae = pd.DataFrame(np.nan, index=np.arange(len(globals()['{}_tech_sep'.format(ne)])), \n",
    "                     columns=globals()['{}_tech_sep'.format(ne)].columns)\n",
    "        error = globals()['e_{}_tot'.format(ne)]\n",
    "        datae.loc[datae.index,'Stainless Steel'] = error.values/2000\n",
    "        datae.index = data.index\n",
    "        \n",
    "    if ne == 'K':\n",
    "        data = globals()['{}_tech_sep'.format(ne)]*1000\n",
    "        datae = pd.DataFrame(np.nan, index=np.arange(len(globals()['{}_tech_sep'.format(ne)])), \n",
    "                     columns=globals()['{}_tech_sep'.format(ne)].columns)\n",
    "        error = globals()['e_{}_tot'.format(ne)]\n",
    "        datae.loc[datae.index,'Stainless Steel'] = error.values/0.002\n",
    "        datae.index = data.index\n",
    "                \n",
    "    for i, c in zip(data.columns, colors): \n",
    "#         print(i)\n",
    "        fig.add_trace(go.Bar(x = data[i], \n",
    "                             y = data.index,\n",
    "                             name = i, \n",
    "                             marker_color = c, orientation = 'h',\n",
    "                             error_x=dict(type='data', \n",
    "                                      array=datae[i])\n",
    "                            ))\n",
    "\n",
    "    fig.update_layout( xaxis_title =  l, \n",
    "                      template = 'simple_white+presentation', barmode='stack')\n",
    "\n",
    "    pio.write_image(fig, figpath+\"kWh_{}.pdf\".format(ne), width = 500, height = 450)\n",
    "    pio.write_image(fig, figpath+\"kWh_{}.eps\".format(ne), width = 500, height = 450)\n",
    "    plotly.offline.plot(fig, filename = figpath+\"kWh_{}.html\".format(ne), auto_open=False)\n",
    "#     fig.show()"
   ]
  },
  {
   "cell_type": "markdown",
   "metadata": {},
   "source": [
    "## For Country, all factors"
   ]
  },
  {
   "cell_type": "code",
   "execution_count": 559,
   "metadata": {},
   "outputs": [],
   "source": [
    "# for Country\n",
    "colors = px.colors.qualitative.Alphabet\n",
    "\n",
    "figpath = \"C:/Users/KarlaC/Dropbox (Cambridge University)/CCG/Electricity and material demand model/Figs/\"\n",
    "\n",
    "labels = ['Embodied Material Emissions [MtCO<sub>2</sub>]','Embodied Material Water Usage [L]',\n",
    "          'Material Costs [million Euro]','Material Recycling Rate [t]']\n",
    "\n",
    "for  ne, l in zip(['E', 'W', 'K', 'R'], labels):\n",
    "    fig = go.Figure()\n",
    "    \n",
    "    if ne == 'E':\n",
    "        data = globals()['{}_country_sep'.format(ne)]/1e12\n",
    "        datae = pd.DataFrame(np.nan, index=np.arange(len(globals()['{}_country_sep'.format(ne)])), \n",
    "                     columns=globals()['{}_country_sep'.format(ne)].columns)\n",
    "        error = globals()['e_{}c_tot'.format(ne)]\n",
    "        \n",
    "        datae.loc[datae.index,'Stainless Steel'] = error.values/1e12/2\n",
    "        datae.index = data.index\n",
    "    if ne == 'W':\n",
    "        data = globals()['{}_country_sep'.format(ne)]/1000\n",
    "        datae = pd.DataFrame(np.nan, index=np.arange(len(globals()['{}_country_sep'.format(ne)])), \n",
    "                     columns=globals()['{}_country_sep'.format(ne)].columns)\n",
    "        error = globals()['e_{}c_tot'.format(ne)]\n",
    "        datae.loc[datae.index,'Stainless Steel'] = error.values/1000/2\n",
    "        datae.index = data.index\n",
    "        \n",
    "    if ne == 'K'  or ne =='R':\n",
    "        data = globals()['{}_country_sep'.format(ne)]/1e6\n",
    "        datae = pd.DataFrame(np.nan, index=np.arange(len(globals()['{}_country_sep'.format(ne)])), \n",
    "                     columns=globals()['{}_country_sep'.format(ne)].columns)\n",
    "        error = globals()['e_{}c_tot'.format(ne)]\n",
    "        datae.loc[datae.index,'Stainless Steel'] = error.values/1e6/2\n",
    "        datae.index = data.index\n",
    "                \n",
    "    for i, c in zip(data.columns, colors): \n",
    "#         print(i)\n",
    "        fig.add_trace(go.Bar(x = data[i], \n",
    "                             y = data.index,\n",
    "                             name = i, \n",
    "                             marker_color = c, orientation = 'h',\n",
    "                             error_x=dict(type='data', \n",
    "                                      array=datae[i])\n",
    "                            ))\n",
    "\n",
    "    fig.update_layout( xaxis_title =  l, \n",
    "                      legend=dict(orientation=\"h\", yanchor=\"bottom\", \n",
    "#                                   traceorder=\"reversed\",\n",
    "                                   y=1.01,\n",
    "                                   xanchor=\"center\",\n",
    "                                   x=0.4),\n",
    "                                   template = 'simple_white+presentation', barmode='stack')\n",
    "\n",
    "    pio.write_image(fig, figpath+\"country_{}.pdf\".format(ne), width = 900, height = 550)\n",
    "    pio.write_image(fig, figpath+\"country_{}.eps\".format(ne), width = 900, height = 550)\n",
    "    plotly.offline.plot(fig, filename = figpath+\"country_{}.html\".format(ne), auto_open=False)\n",
    "#     fig.show()"
   ]
  },
  {
   "cell_type": "markdown",
   "metadata": {},
   "source": [
    "## Totals and percentages in country"
   ]
  },
  {
   "cell_type": "code",
   "execution_count": 615,
   "metadata": {
    "scrolled": true
   },
   "outputs": [],
   "source": [
    "#  Bar with totals and total percentages for Country\n",
    "colors = px.colors.qualitative.Alphabet\n",
    "\n",
    "figpath = \"C:/Users/KarlaC/Dropbox (Cambridge University)/CCG/Electricity and material demand model/Figs/\"\n",
    "\n",
    "labels = ['Total material mass accross all technologies for Uganda (%)',\n",
    "          'Total CO <sub>2</sub> emissions accross all technologies for Uganda (%)',\n",
    "          'Total material costs accross all technologies for Uganda [million Euro]']\n",
    "names = ['material_mass', 'total_emiss', 'total_mat']\n",
    "colu = ['pct','pct','value']\n",
    "\n",
    "# emissions per energy technology [gCO2/kWh]\n",
    "mat_country = C.T.values*M[0:len(C.T)]\n",
    "\n",
    "for l, n, co in zip( labels, names, colu):\n",
    "    fig = go.Figure()\n",
    "    if n == 'material_mass':\n",
    "        totaal = mat_country.sum().reset_index()\n",
    "        totaal = totaal.rename(columns = {'index':'Material', 0:'value'})\n",
    "       \n",
    "    if n == 'total_emiss':\n",
    "        totaal = E_country_sep.sum().reset_index()   \n",
    "        totaal = totaal.rename(columns = {'index':'Material', 0:'value'})\n",
    "        \n",
    "    if ne == 'total_mat':\n",
    "        totaal = K_country_sep.sum().reset_index()\n",
    "        totaal = totaal/1e6.rename(columns = {'index':'Material', 0:'value'})\n",
    "        \n",
    "    ts = totaal['value'].sum().round(2)\n",
    "    totaal.loc[totaal.index,'pct'] = totaal.loc[totaal.index,'value']/ts*100\n",
    "    tsdf = totaal[['Material','value']]\n",
    "    tsdf.loc[totaal.index,'value']=np.nan\n",
    "    tsdf.loc[totaal['Material']=='Stainless Steel','value']=ts\n",
    "    \n",
    "    for i, c in zip(totaal.Material.unique(), colors): \n",
    "#         print(i)\n",
    "        fig.add_trace(go.Bar(x = totaal[totaal['Material']==i][co], \n",
    "                             y = ['Total'],\n",
    "                             width=0.5,\n",
    "                             name = i ,\n",
    "                             marker_color = c, \n",
    "                             orientation = 'h',\n",
    "                             text = tsdf[totaal['Material']==i], textposition='auto'\n",
    "                                 ))\n",
    "\n",
    "    fig.update_layout( xaxis_title =  l, \n",
    "                      legend=dict(orientation=\"h\", yanchor=\"bottom\",\n",
    "#                                   traceorder=\"reversed\",\n",
    "                                    y=1.02,\n",
    "                                    xanchor=\"right\",\n",
    "                                    x=1),\n",
    "                                    template = 'simple_white+presentation', barmode='stack')\n",
    "\n",
    "\n",
    "#     fig.update_xaxes(range=[0,110])\n",
    "\n",
    "    pio.write_image(fig, figpath+\"country_{}.pdf\".format(n), width = 800, height = 500)\n",
    "    pio.write_image(fig, figpath+\"country_{}.eps\".format(n), width = 800, height = 500)\n",
    "    plotly.offline.plot(fig, filename = figpath+\"country_{}.html\".format(n), auto_open=False)\n",
    "#     fig.show()\n"
   ]
  },
  {
   "cell_type": "markdown",
   "metadata": {},
   "source": [
    "# Plots comparing countries/scenarios"
   ]
  },
  {
   "cell_type": "markdown",
   "metadata": {},
   "source": [
    "## Per kWh"
   ]
  },
  {
   "cell_type": "code",
   "execution_count": null,
   "metadata": {},
   "outputs": [],
   "source": [
    "#  per KWH\n",
    "colors = px.colors.qualitative.Alphabet\n",
    "\n",
    "figpath = \"C:/Users/KarlaC/Dropbox (Cambridge University)/CCG/Electricity and material demand model/Figs/\"\n",
    "\n",
    "labels = ['Embodied Material Emissions [gCO_2/kWh]','Embodied Material Water Usage [L/kWh]',\n",
    "          'Material Costs [Euro‚cent/kWh]','Material Recycling Rate [g/kWh]']\n",
    "\n",
    "for ne, l in zip(['E', 'W', 'K', 'R'], labels):\n",
    "    fig = go.Figure()\n",
    "    \n",
    "    if ne == 'E' or ne == 'R':\n",
    "        data = globals()['{}_tech_sep'.format(ne)]\n",
    "        datae = pd.DataFrame(np.nan, index=np.arange(len(globals()['{}_tech_sep'.format(ne)])), \n",
    "                     columns=globals()['{}_tech_sep'.format(ne)].columns)\n",
    "        error = globals()['e_{}_tot'.format(ne)]\n",
    "        \n",
    "        datae.loc[datae.index,'Stainless Steel'] = error.values/2\n",
    "        datae.index = data.index\n",
    "    if ne == 'W':\n",
    "        data = globals()['{}_tech_sep'.format(ne)]/1000\n",
    "        datae = pd.DataFrame(np.nan, index=np.arange(len(globals()['{}_tech_sep'.format(ne)])), \n",
    "                     columns=globals()['{}_tech_sep'.format(ne)].columns)\n",
    "        error = globals()['e_{}_tot'.format(ne)]\n",
    "        datae.loc[datae.index,'Stainless Steel'] = error.values/2000\n",
    "        datae.index = data.index\n",
    "        \n",
    "    if ne == 'K':\n",
    "        data = globals()['{}_tech_sep'.format(ne)]*1000\n",
    "        datae = pd.DataFrame(np.nan, index=np.arange(len(globals()['{}_tech_sep'.format(ne)])), \n",
    "                     columns=globals()['{}_tech_sep'.format(ne)].columns)\n",
    "        error = globals()['e_{}_tot'.format(ne)]\n",
    "        datae.loc[datae.index,'Stainless Steel'] = error.values/0.002\n",
    "        datae.index = data.index\n",
    "                \n",
    "    for i, c in zip(data.columns, colors): \n",
    "#         print(i)\n",
    "        fig.add_trace(go.Bar(x = data[i], \n",
    "                             y = data.index,\n",
    "                             name = i, \n",
    "                             marker_color = c, orientation = 'h',\n",
    "                             error_x=dict(type='data', \n",
    "                                      array=datae[i])\n",
    "                            ))\n",
    "\n",
    "    fig.update_layout( xaxis_title =  l, \n",
    "                      template = 'simple_white+presentation', barmode='stack')\n",
    "\n",
    "    pio.write_image(fig, figpath+\"kWh_{}.pdf\".format(ne), width = 500, height = 450)\n",
    "    pio.write_image(fig, figpath+\"kWh_{}.eps\".format(ne), width = 500, height = 450)\n",
    "    plotly.offline.plot(fig, filename = figpath+\"kWh_{}.html\".format(ne), auto_open=False)\n",
    "#     fig.show()"
   ]
  },
  {
   "cell_type": "markdown",
   "metadata": {},
   "source": [
    "## For Country, all factors"
   ]
  },
  {
   "cell_type": "code",
   "execution_count": 17,
   "metadata": {
    "scrolled": true
   },
   "outputs": [
    {
     "name": "stdout",
     "output_type": "stream",
     "text": [
      "Uganda\n",
      "Baseline 1\n"
     ]
    },
    {
     "ename": "KeyError",
     "evalue": "'e_dfEc_tot'",
     "output_type": "error",
     "traceback": [
      "\u001b[1;31m---------------------------------------------------------------------------\u001b[0m",
      "\u001b[1;31mKeyError\u001b[0m                                  Traceback (most recent call last)",
      "\u001b[1;32m<ipython-input-17-cb1553012dc1>\u001b[0m in \u001b[0;36m<module>\u001b[1;34m\u001b[0m\n\u001b[0;32m     47\u001b[0m                                      columns=globals()['df{0}_{1}_{2}_{3}_sep'.format(ne,c,sc[0:3],str(y))].columns)\n\u001b[0;32m     48\u001b[0m                 \u001b[1;31m#         ERROR\u001b[0m\u001b[1;33m\u001b[0m\u001b[1;33m\u001b[0m\u001b[1;33m\u001b[0m\u001b[0m\n\u001b[1;32m---> 49\u001b[1;33m                         \u001b[0merror\u001b[0m \u001b[1;33m=\u001b[0m \u001b[0mglobals\u001b[0m\u001b[1;33m(\u001b[0m\u001b[1;33m)\u001b[0m\u001b[1;33m[\u001b[0m\u001b[1;34m'e_df{}c_tot'\u001b[0m\u001b[1;33m.\u001b[0m\u001b[0mformat\u001b[0m\u001b[1;33m(\u001b[0m\u001b[0mne\u001b[0m\u001b[1;33m)\u001b[0m\u001b[1;33m]\u001b[0m\u001b[1;33m\u001b[0m\u001b[1;33m\u001b[0m\u001b[0m\n\u001b[0m\u001b[0;32m     50\u001b[0m                         \u001b[0merror\u001b[0m \u001b[1;33m=\u001b[0m \u001b[0merror\u001b[0m\u001b[1;33m[\u001b[0m\u001b[1;33m(\u001b[0m\u001b[0merror\u001b[0m\u001b[1;33m[\u001b[0m\u001b[1;34m'Country'\u001b[0m\u001b[1;33m]\u001b[0m\u001b[1;33m==\u001b[0m\u001b[0mc\u001b[0m\u001b[1;33m)\u001b[0m\u001b[1;33m&\u001b[0m\u001b[1;33m(\u001b[0m\u001b[0merror\u001b[0m\u001b[1;33m[\u001b[0m\u001b[1;34m'Scenario'\u001b[0m\u001b[1;33m]\u001b[0m\u001b[1;33m==\u001b[0m\u001b[0msc\u001b[0m\u001b[1;33m)\u001b[0m\u001b[1;33m&\u001b[0m\u001b[1;33m(\u001b[0m\u001b[0merror\u001b[0m\u001b[1;33m[\u001b[0m\u001b[1;34m'Year'\u001b[0m\u001b[1;33m]\u001b[0m\u001b[1;33m==\u001b[0m\u001b[0my\u001b[0m\u001b[1;33m)\u001b[0m\u001b[1;33m]\u001b[0m\u001b[1;33m[\u001b[0m\u001b[0matechs\u001b[0m\u001b[1;33m]\u001b[0m\u001b[1;33m\u001b[0m\u001b[1;33m\u001b[0m\u001b[0m\n\u001b[0;32m     51\u001b[0m                         \u001b[0mdatae\u001b[0m\u001b[1;33m.\u001b[0m\u001b[0mloc\u001b[0m\u001b[1;33m[\u001b[0m\u001b[0mdatae\u001b[0m\u001b[1;33m.\u001b[0m\u001b[0mindex\u001b[0m\u001b[1;33m,\u001b[0m\u001b[1;34m'Stainless Steel'\u001b[0m\u001b[1;33m]\u001b[0m \u001b[1;33m=\u001b[0m \u001b[0merror\u001b[0m\u001b[1;33m.\u001b[0m\u001b[0mvalues\u001b[0m\u001b[1;33m/\u001b[0m\u001b[1;36m1e12\u001b[0m\u001b[1;33m/\u001b[0m\u001b[1;36m2\u001b[0m\u001b[1;33m\u001b[0m\u001b[1;33m\u001b[0m\u001b[0m\n",
      "\u001b[1;31mKeyError\u001b[0m: 'e_dfEc_tot'"
     ]
    }
   ],
   "source": [
    "# for Country\n",
    "# make subplots for all scenario/year combos for each country\n",
    "# MISSING: ADD ERROR DATA\n",
    "# for ef, ne in zip([cE, cW, cR, cK],['E', 'W', 'R', 'K'] ):\n",
    "    \n",
    "colors = px.colors.qualitative.Alphabet\n",
    "\n",
    "figpath = \"C:/Users/KarlaC/Dropbox (Cambridge University)/CCG/Electricity and material demand model/Figs/Countries/\"\n",
    "\n",
    "labels = ['Embodied Material Emissions [MtCO<sub>2</sub>]','Embodied Material Water Usage [L]',\n",
    "          'Material Costs [million Euro]','Material Recycling Rate [t]']\n",
    "atechs = ['Wind (Onshore)', 'Solar CSP', 'Solar PV', 'Hydro', 'Geothermal',\n",
    "       'Gas CCS', 'Oil', 'Gas', 'Coal', 'Wind (Offshore)', 'Biomass',\n",
    "       'Nuclear', 'BECCS', 'Hydrogen']\n",
    "mats = list(cM.columns)\n",
    "# e_dfK_countries_sep\n",
    "# e_dfEc_tot\n",
    "\n",
    "# make list w names for plot titles\n",
    "for c in dfC['Country'].unique():\n",
    "    globals()['l_{}'.format(c)] = []\n",
    "    for sc, y in zip(dfC[dfC['Country']==c]['Scenario'],dfC[dfC['Country']==c]['Year']):\n",
    "        globals()['l_{}'.format(c)].append('{0} {1}'.format(y,sc))\n",
    "\n",
    "                \n",
    "for  ne, l in zip(['E', 'W', 'K', 'R'], labels):\n",
    "    #     'df{ne}_{country}_{scenario}_{year}_sep'\n",
    "    for c in dfC['Country'].unique():\n",
    "        fig = make_subplots(rows=len(dfC[dfC['Country']==c]['Scenario'].unique()), cols=1,\n",
    "                           subplot_titles=globals()['l_{}'.format(c)],\n",
    "                            x_title =  l, shared_xaxes = True\n",
    "                           )\n",
    "        print(c)\n",
    "        h = len(globals()['l_{}'.format(c)])*330\n",
    "        slegend = [True, False, False, False, False]\n",
    "        for sc, ns,sl in zip(dfC[dfC['Country']==c]['Scenario'].unique(),range(1,len(dfC[dfC['Country']==c]['Scenario'].unique())+1),slegend):\n",
    "            print(sc,ns)\n",
    "            for y in dfC[(dfC['Country']==c)&(dfC['Scenario']==sc)]['Year'].unique():\n",
    "#                 range(1,len(dfC[dfC['Country']==c]['Scenario'].unique())+1)\n",
    "#                 globals()['df{0}_{1}_{2}_{3}_sep'.format(ne,c,sc[0:3],str(y))] \n",
    "\n",
    "                    if ne == 'E':\n",
    "                        data = globals()['df{0}_{1}_{2}_{3}_sep'.format(ne,c,sc[0:3],str(y))] /1e12\n",
    "                        datae = pd.DataFrame(np.nan, \n",
    "                                             index=np.arange(len(globals()['df{0}_{1}_{2}_{3}_sep'.format(ne,c,sc[0:3],\n",
    "                                                                                                          str(y))])), \n",
    "                                     columns=globals()['df{0}_{1}_{2}_{3}_sep'.format(ne,c,sc[0:3],str(y))].columns)\n",
    "                #         ERROR\n",
    "                        error = globals()['e_df{}c_tot'.format(ne)]\n",
    "                        error = error[(error['Country']==c)&(error['Scenario']==sc)&(error['Year']==y)][atechs]\n",
    "                        datae.loc[datae.index,'Stainless Steel'] = error.values/1e12/2\n",
    "                        datae.index = data.index\n",
    "                    if ne == 'W':\n",
    "                        data = globals()['df{0}_{1}_{2}_{3}_sep'.format(ne,c,sc[0:3],str(y))] /1000\n",
    "                        datae = pd.DataFrame(np.nan, \n",
    "                                             index=np.arange(len(globals()['df{0}_{1}_{2}_{3}_sep'.format(ne,c,\n",
    "                                                                                                          sc[0:3],str(y))])), \n",
    "                                     columns=globals()['df{0}_{1}_{2}_{3}_sep'.format(ne,c,sc[0:3],str(y))].columns)\n",
    "#                         ERROR\n",
    "                        error = globals()['e_df{}c_tot'.format(ne)]\n",
    "                        error = error[(error['Country']==c)&(error['Scenario']==sc)&(error['Year']==y)][atechs]\n",
    "                        datae.loc[datae.index,'Stainless Steel'] = error.values/1000/2\n",
    "                        datae.index = data.index\n",
    "\n",
    "                    if ne == 'K'  or ne =='R':\n",
    "                        data = globals()['df{0}_{1}_{2}_{3}_sep'.format(ne,c,sc[0:3],str(y))] /1e6\n",
    "                        datae = pd.DataFrame(np.nan, \n",
    "                                             index=np.arange(len(globals()['df{0}_{1}_{2}_{3}_sep'.format(ne,c,\n",
    "                                                                                                          sc[0:3],str(y))])), \n",
    "                                     columns=globals()['df{0}_{1}_{2}_{3}_sep'.format(ne,c,sc[0:3],str(y))].columns)\n",
    "                #         ERROR\n",
    "                        error = globals()['e_df{}c_tot'.format(ne)]\n",
    "                        error = error[(error['Country']==c)&(error['Scenario']==sc)&(error['Year']==y)][atechs]\n",
    "                        datae.loc[datae.index,'Stainless Steel'] = error.values/1e6/2\n",
    "                        datae.index = data.index\n",
    "\n",
    "                    for i, cl in zip(data.columns, colors): \n",
    "                #         print(i)\n",
    "                        d = data.T.sum().reset_index()\n",
    "                        techs = d[d[0]>0]['tech']\n",
    "                        \n",
    "                        fig.add_trace(go.Bar(x = data.loc[techs][i], \n",
    "                                             y = data.loc[techs].index,\n",
    "                                             name = i, \n",
    "                                             marker_color = cl, orientation = 'h',\n",
    "                                             showlegend = sl,\n",
    "                                             error_x=dict(type='data', \n",
    "                                                      array=datae.loc[techs][i])\n",
    "                                            ),\n",
    "                                     row = ns, col = 1)\n",
    "\n",
    "                    fig.update_layout( \n",
    "#                         xaxis_title =  l, \n",
    "#                                       legend=dict(\n",
    "#                                                   orientation=\"h\", \n",
    "#                                                   yanchor=\"bottom\", \n",
    "#                 #                                   traceorder=\"reversed\",\n",
    "#                                                    y=1.01,\n",
    "#                                                    xanchor=\"center\",\n",
    "#                                                    x=0.4),\n",
    "                                      template = 'simple_white+presentation', barmode='stack')\n",
    "                    fig.update_layout(legend = dict(font = dict(size = 15)))\n",
    "                    \n",
    "\n",
    "        pio.write_image(fig, figpath+\"{0}_{1}.pdf\".format(c,ne), width = 900, height = h)\n",
    "        pio.write_image(fig, figpath+\"{0}_{1}.eps\".format(c,ne), width = 900, height = h)\n",
    "        plotly.offline.plot(fig, filename = figpath+\"{0}_{1}.html\".format(c,ne), auto_open=False)\n",
    "#         fig.show()"
   ]
  },
  {
   "cell_type": "markdown",
   "metadata": {},
   "source": [
    "## Totals and percentages in country"
   ]
  },
  {
   "cell_type": "code",
   "execution_count": null,
   "metadata": {},
   "outputs": [],
   "source": [
    "#  Bar with totals and total percentages for Country\n",
    "colors = px.colors.qualitative.Alphabet\n",
    "\n",
    "figpath = \"C:/Users/KarlaC/Dropbox (Cambridge University)/CCG/Electricity and material demand model/Figs/\"\n",
    "\n",
    "labels = ['Total material mass accross all technologies for Uganda (%)',\n",
    "          'Total CO <sub>2</sub> emissions accross all technologies for Uganda (%)',\n",
    "          'Total material costs accross all technologies for Uganda [million Euro]']\n",
    "names = ['material_mass', 'total_emiss', 'total_mat']\n",
    "colu = ['pct','pct','value']\n",
    "\n",
    "# emissions per energy technology [gCO2/kWh]\n",
    "mat_country = C.T.values*M[0:len(C.T)]\n",
    "\n",
    "for l, n, co in zip( labels, names, colu):\n",
    "    fig = go.Figure()\n",
    "    if n == 'material_mass':\n",
    "        totaal = mat_country.sum().reset_index()\n",
    "        totaal = totaal.rename(columns = {'index':'Material', 0:'value'})\n",
    "       \n",
    "    if n == 'total_emiss':\n",
    "        totaal = E_country_sep.sum().reset_index()   \n",
    "        totaal = totaal.rename(columns = {'index':'Material', 0:'value'})\n",
    "        \n",
    "    if ne == 'total_mat':\n",
    "        totaal = K_country_sep.sum().reset_index()\n",
    "        totaal = totaal/1e6.rename(columns = {'index':'Material', 0:'value'})\n",
    "        \n",
    "    ts = totaal['value'].sum().round(2)\n",
    "    totaal.loc[totaal.index,'pct'] = totaal.loc[totaal.index,'value']/ts*100\n",
    "    tsdf = totaal[['Material','value']]\n",
    "    tsdf.loc[totaal.index,'value']=np.nan\n",
    "    tsdf.loc[totaal['Material']=='Stainless Steel','value']=ts\n",
    "    \n",
    "    for i, c in zip(totaal.Material.unique(), colors): \n",
    "#         print(i)\n",
    "        fig.add_trace(go.Bar(x = totaal[totaal['Material']==i][co], \n",
    "                             y = ['Total'],\n",
    "                             width=0.5,\n",
    "                             name = i ,\n",
    "                             marker_color = c, \n",
    "                             orientation = 'h',\n",
    "                             text = tsdf[totaal['Material']==i], textposition='auto'\n",
    "                                 ))\n",
    "\n",
    "    fig.update_layout( xaxis_title =  l, \n",
    "                      legend=dict(orientation=\"h\", yanchor=\"bottom\",\n",
    "#                                   traceorder=\"reversed\",\n",
    "                                    y=1.02,\n",
    "                                    xanchor=\"right\",\n",
    "                                    x=1),\n",
    "                                    template = 'simple_white+presentation', barmode='stack')\n",
    "\n",
    "\n",
    "#     fig.update_xaxes(range=[0,110])\n",
    "\n",
    "    pio.write_image(fig, figpath+\"country_{}.pdf\".format(n), width = 800, height = 500)\n",
    "    pio.write_image(fig, figpath+\"country_{}.eps\".format(n), width = 800, height = 500)\n",
    "    plotly.offline.plot(fig, filename = figpath+\"country_{}.html\".format(n), auto_open=False)\n",
    "#     fig.show()"
   ]
  },
  {
   "cell_type": "markdown",
   "metadata": {},
   "source": [
    "## Employment and tech"
   ]
  },
  {
   "cell_type": "code",
   "execution_count": null,
   "metadata": {},
   "outputs": [],
   "source": []
  },
  {
   "cell_type": "markdown",
   "metadata": {},
   "source": [
    "# Plots for general values"
   ]
  },
  {
   "cell_type": "markdown",
   "metadata": {},
   "source": [
    "## Embodied vs use-phase"
   ]
  },
  {
   "cell_type": "code",
   "execution_count": 1103,
   "metadata": {},
   "outputs": [
    {
     "data": {
      "application/vnd.plotly.v1+json": {
       "config": {
        "plotlyServerURL": "https://plot.ly"
       },
       "data": [
        {
         "error_x": {
          "array": [
           [
            28.689724254125867
           ],
           [
            12.480948783633497
           ],
           [
            4.360048043243782
           ],
           [
            6.4094052914818995
           ],
           [
            38
           ],
           [
            160
           ],
           [
            85
           ],
           [
            187
           ],
           [
            3.2079259584091258
           ],
           [
            1.6574956007985886
           ],
           [
            0.7023769168568492
           ],
           [
            30
           ]
          ],
          "type": "data"
         },
         "marker": {
          "color": "rgb(229, 134, 6)"
         },
         "name": "Use-Phase",
         "orientation": "h",
         "type": "bar",
         "x": [
          8.575,
          19.523076923076925,
          20.675,
          23.400000000000002,
          28.7,
          53.68333333333334,
          70.84666666666666,
          88,
          190,
          492,
          732,
          1024
         ],
         "y": [
          "Wind (Offshore)",
          "Wind (Onshore)",
          "Hydro",
          "Nuclear",
          "Geothermal",
          "Solar CSP",
          "Solar PV",
          "Biomass",
          "Gas CCS",
          "Gas",
          "Oil",
          "Coal"
         ]
        },
        {
         "error_x": {
          "array": [
           null,
           null,
           null,
           null,
           null,
           null,
           null,
           null,
           null,
           null,
           null,
           null,
           null,
           null,
           5.073818842014789,
           14.30949470375844,
           24.02222791776321,
           1.3881914968667277,
           2.4364840189429082,
           1.083806481546417,
           0.03123248620087333,
           1.299475748033848,
           0.3307778298049546,
           5.15923688536582
          ],
          "type": "data"
         },
         "marker": {
          "color": "rgb(93, 105, 177)"
         },
         "name": "Embodied (materials)",
         "orientation": "h",
         "type": "bar",
         "x": [
          11.687298091976517,
          36.15317846270924,
          43.4517592,
          10.576158290833334,
          17.48815209,
          5.026645850204082,
          0.18254705733130389,
          10.916057604132654,
          1.3533414611872145,
          15.55141549789717
         ],
         "y": [
          "Wind (Onshore)",
          "Solar CSP",
          "Solar PV",
          "Hydro",
          "Geothermal",
          "Gas CCS",
          "Oil",
          "Gas",
          "Coal",
          "Wind (Offshore)"
         ]
        }
       ],
       "layout": {
        "barmode": "stack",
        "legend": {
         "orientation": "h",
         "y": -0.2
        },
        "template": {
         "data": {
          "bar": [
           {
            "error_x": {
             "color": "rgb(36,36,36)"
            },
            "error_y": {
             "color": "rgb(36,36,36)"
            },
            "marker": {
             "line": {
              "color": "white",
              "width": 0.5
             }
            },
            "type": "bar"
           }
          ],
          "barpolar": [
           {
            "marker": {
             "line": {
              "color": "white",
              "width": 0.5
             }
            },
            "type": "barpolar"
           }
          ],
          "carpet": [
           {
            "aaxis": {
             "endlinecolor": "rgb(36,36,36)",
             "gridcolor": "white",
             "linecolor": "white",
             "minorgridcolor": "white",
             "startlinecolor": "rgb(36,36,36)"
            },
            "baxis": {
             "endlinecolor": "rgb(36,36,36)",
             "gridcolor": "white",
             "linecolor": "white",
             "minorgridcolor": "white",
             "startlinecolor": "rgb(36,36,36)"
            },
            "type": "carpet"
           }
          ],
          "choropleth": [
           {
            "colorbar": {
             "outlinewidth": 10,
             "tickcolor": "rgb(36,36,36)",
             "ticklen": 8,
             "ticks": "outside",
             "tickwidth": 2
            },
            "type": "choropleth"
           }
          ],
          "contour": [
           {
            "colorbar": {
             "outlinewidth": 10,
             "tickcolor": "rgb(36,36,36)",
             "ticklen": 8,
             "ticks": "outside",
             "tickwidth": 2
            },
            "colorscale": [
             [
              0,
              "#440154"
             ],
             [
              0.1111111111111111,
              "#482878"
             ],
             [
              0.2222222222222222,
              "#3e4989"
             ],
             [
              0.3333333333333333,
              "#31688e"
             ],
             [
              0.4444444444444444,
              "#26828e"
             ],
             [
              0.5555555555555556,
              "#1f9e89"
             ],
             [
              0.6666666666666666,
              "#35b779"
             ],
             [
              0.7777777777777778,
              "#6ece58"
             ],
             [
              0.8888888888888888,
              "#b5de2b"
             ],
             [
              1,
              "#fde725"
             ]
            ],
            "type": "contour"
           }
          ],
          "contourcarpet": [
           {
            "colorbar": {
             "outlinewidth": 10,
             "tickcolor": "rgb(36,36,36)",
             "ticklen": 8,
             "ticks": "outside",
             "tickwidth": 2
            },
            "type": "contourcarpet"
           }
          ],
          "heatmap": [
           {
            "colorbar": {
             "outlinewidth": 10,
             "tickcolor": "rgb(36,36,36)",
             "ticklen": 8,
             "ticks": "outside",
             "tickwidth": 2
            },
            "colorscale": [
             [
              0,
              "#440154"
             ],
             [
              0.1111111111111111,
              "#482878"
             ],
             [
              0.2222222222222222,
              "#3e4989"
             ],
             [
              0.3333333333333333,
              "#31688e"
             ],
             [
              0.4444444444444444,
              "#26828e"
             ],
             [
              0.5555555555555556,
              "#1f9e89"
             ],
             [
              0.6666666666666666,
              "#35b779"
             ],
             [
              0.7777777777777778,
              "#6ece58"
             ],
             [
              0.8888888888888888,
              "#b5de2b"
             ],
             [
              1,
              "#fde725"
             ]
            ],
            "type": "heatmap"
           }
          ],
          "heatmapgl": [
           {
            "colorbar": {
             "outlinewidth": 10,
             "tickcolor": "rgb(36,36,36)",
             "ticklen": 8,
             "ticks": "outside",
             "tickwidth": 2
            },
            "colorscale": [
             [
              0,
              "#440154"
             ],
             [
              0.1111111111111111,
              "#482878"
             ],
             [
              0.2222222222222222,
              "#3e4989"
             ],
             [
              0.3333333333333333,
              "#31688e"
             ],
             [
              0.4444444444444444,
              "#26828e"
             ],
             [
              0.5555555555555556,
              "#1f9e89"
             ],
             [
              0.6666666666666666,
              "#35b779"
             ],
             [
              0.7777777777777778,
              "#6ece58"
             ],
             [
              0.8888888888888888,
              "#b5de2b"
             ],
             [
              1,
              "#fde725"
             ]
            ],
            "type": "heatmapgl"
           }
          ],
          "histogram": [
           {
            "marker": {
             "line": {
              "color": "white",
              "width": 0.6
             }
            },
            "type": "histogram"
           }
          ],
          "histogram2d": [
           {
            "colorbar": {
             "outlinewidth": 10,
             "tickcolor": "rgb(36,36,36)",
             "ticklen": 8,
             "ticks": "outside",
             "tickwidth": 2
            },
            "colorscale": [
             [
              0,
              "#440154"
             ],
             [
              0.1111111111111111,
              "#482878"
             ],
             [
              0.2222222222222222,
              "#3e4989"
             ],
             [
              0.3333333333333333,
              "#31688e"
             ],
             [
              0.4444444444444444,
              "#26828e"
             ],
             [
              0.5555555555555556,
              "#1f9e89"
             ],
             [
              0.6666666666666666,
              "#35b779"
             ],
             [
              0.7777777777777778,
              "#6ece58"
             ],
             [
              0.8888888888888888,
              "#b5de2b"
             ],
             [
              1,
              "#fde725"
             ]
            ],
            "type": "histogram2d"
           }
          ],
          "histogram2dcontour": [
           {
            "colorbar": {
             "outlinewidth": 10,
             "tickcolor": "rgb(36,36,36)",
             "ticklen": 8,
             "ticks": "outside",
             "tickwidth": 2
            },
            "colorscale": [
             [
              0,
              "#440154"
             ],
             [
              0.1111111111111111,
              "#482878"
             ],
             [
              0.2222222222222222,
              "#3e4989"
             ],
             [
              0.3333333333333333,
              "#31688e"
             ],
             [
              0.4444444444444444,
              "#26828e"
             ],
             [
              0.5555555555555556,
              "#1f9e89"
             ],
             [
              0.6666666666666666,
              "#35b779"
             ],
             [
              0.7777777777777778,
              "#6ece58"
             ],
             [
              0.8888888888888888,
              "#b5de2b"
             ],
             [
              1,
              "#fde725"
             ]
            ],
            "type": "histogram2dcontour"
           }
          ],
          "mesh3d": [
           {
            "colorbar": {
             "outlinewidth": 10,
             "tickcolor": "rgb(36,36,36)",
             "ticklen": 8,
             "ticks": "outside",
             "tickwidth": 2
            },
            "type": "mesh3d"
           }
          ],
          "parcoords": [
           {
            "line": {
             "colorbar": {
              "outlinewidth": 10,
              "tickcolor": "rgb(36,36,36)",
              "ticklen": 8,
              "ticks": "outside",
              "tickwidth": 2
             }
            },
            "type": "parcoords"
           }
          ],
          "pie": [
           {
            "automargin": true,
            "type": "pie"
           }
          ],
          "scatter": [
           {
            "line": {
             "width": 3
            },
            "marker": {
             "colorbar": {
              "outlinewidth": 10,
              "tickcolor": "rgb(36,36,36)",
              "ticklen": 8,
              "ticks": "outside",
              "tickwidth": 2
             },
             "size": 9
            },
            "type": "scatter"
           }
          ],
          "scatter3d": [
           {
            "line": {
             "colorbar": {
              "outlinewidth": 10,
              "tickcolor": "rgb(36,36,36)",
              "ticklen": 8,
              "ticks": "outside",
              "tickwidth": 2
             },
             "width": 3
            },
            "marker": {
             "colorbar": {
              "outlinewidth": 10,
              "tickcolor": "rgb(36,36,36)",
              "ticklen": 8,
              "ticks": "outside",
              "tickwidth": 2
             },
             "size": 9
            },
            "type": "scatter3d"
           }
          ],
          "scattercarpet": [
           {
            "marker": {
             "colorbar": {
              "outlinewidth": 10,
              "tickcolor": "rgb(36,36,36)",
              "ticklen": 8,
              "ticks": "outside",
              "tickwidth": 2
             }
            },
            "type": "scattercarpet"
           }
          ],
          "scattergeo": [
           {
            "line": {
             "width": 3
            },
            "marker": {
             "colorbar": {
              "outlinewidth": 10,
              "tickcolor": "rgb(36,36,36)",
              "ticklen": 8,
              "ticks": "outside",
              "tickwidth": 2
             },
             "size": 9
            },
            "type": "scattergeo"
           }
          ],
          "scattergl": [
           {
            "line": {
             "width": 3
            },
            "marker": {
             "colorbar": {
              "outlinewidth": 10,
              "tickcolor": "rgb(36,36,36)",
              "ticklen": 8,
              "ticks": "outside",
              "tickwidth": 2
             },
             "size": 9
            },
            "type": "scattergl"
           }
          ],
          "scattermapbox": [
           {
            "marker": {
             "colorbar": {
              "outlinewidth": 10,
              "tickcolor": "rgb(36,36,36)",
              "ticklen": 8,
              "ticks": "outside",
              "tickwidth": 2
             }
            },
            "type": "scattermapbox"
           }
          ],
          "scatterpolar": [
           {
            "line": {
             "width": 3
            },
            "marker": {
             "colorbar": {
              "outlinewidth": 10,
              "tickcolor": "rgb(36,36,36)",
              "ticklen": 8,
              "ticks": "outside",
              "tickwidth": 2
             },
             "size": 9
            },
            "type": "scatterpolar"
           }
          ],
          "scatterpolargl": [
           {
            "line": {
             "width": 3
            },
            "marker": {
             "colorbar": {
              "outlinewidth": 10,
              "tickcolor": "rgb(36,36,36)",
              "ticklen": 8,
              "ticks": "outside",
              "tickwidth": 2
             },
             "size": 9
            },
            "type": "scatterpolargl"
           }
          ],
          "scatterternary": [
           {
            "line": {
             "width": 3
            },
            "marker": {
             "colorbar": {
              "outlinewidth": 10,
              "tickcolor": "rgb(36,36,36)",
              "ticklen": 8,
              "ticks": "outside",
              "tickwidth": 2
             },
             "size": 9
            },
            "type": "scatterternary"
           }
          ],
          "surface": [
           {
            "colorbar": {
             "outlinewidth": 10,
             "tickcolor": "rgb(36,36,36)",
             "ticklen": 8,
             "ticks": "outside",
             "tickwidth": 2
            },
            "colorscale": [
             [
              0,
              "#440154"
             ],
             [
              0.1111111111111111,
              "#482878"
             ],
             [
              0.2222222222222222,
              "#3e4989"
             ],
             [
              0.3333333333333333,
              "#31688e"
             ],
             [
              0.4444444444444444,
              "#26828e"
             ],
             [
              0.5555555555555556,
              "#1f9e89"
             ],
             [
              0.6666666666666666,
              "#35b779"
             ],
             [
              0.7777777777777778,
              "#6ece58"
             ],
             [
              0.8888888888888888,
              "#b5de2b"
             ],
             [
              1,
              "#fde725"
             ]
            ],
            "type": "surface"
           }
          ],
          "table": [
           {
            "cells": {
             "fill": {
              "color": "rgb(237,237,237)"
             },
             "height": 30,
             "line": {
              "color": "white"
             }
            },
            "header": {
             "fill": {
              "color": "rgb(217,217,217)"
             },
             "height": 36,
             "line": {
              "color": "white"
             }
            },
            "type": "table"
           }
          ]
         },
         "layout": {
          "annotationdefaults": {
           "arrowhead": 0,
           "arrowwidth": 1
          },
          "coloraxis": {
           "colorbar": {
            "outlinewidth": 10,
            "tickcolor": "rgb(36,36,36)",
            "ticklen": 8,
            "ticks": "outside",
            "tickwidth": 2
           }
          },
          "colorscale": {
           "diverging": [
            [
             0,
             "rgb(103,0,31)"
            ],
            [
             0.1,
             "rgb(178,24,43)"
            ],
            [
             0.2,
             "rgb(214,96,77)"
            ],
            [
             0.3,
             "rgb(244,165,130)"
            ],
            [
             0.4,
             "rgb(253,219,199)"
            ],
            [
             0.5,
             "rgb(247,247,247)"
            ],
            [
             0.6,
             "rgb(209,229,240)"
            ],
            [
             0.7,
             "rgb(146,197,222)"
            ],
            [
             0.8,
             "rgb(67,147,195)"
            ],
            [
             0.9,
             "rgb(33,102,172)"
            ],
            [
             1,
             "rgb(5,48,97)"
            ]
           ],
           "sequential": [
            [
             0,
             "#440154"
            ],
            [
             0.1111111111111111,
             "#482878"
            ],
            [
             0.2222222222222222,
             "#3e4989"
            ],
            [
             0.3333333333333333,
             "#31688e"
            ],
            [
             0.4444444444444444,
             "#26828e"
            ],
            [
             0.5555555555555556,
             "#1f9e89"
            ],
            [
             0.6666666666666666,
             "#35b779"
            ],
            [
             0.7777777777777778,
             "#6ece58"
            ],
            [
             0.8888888888888888,
             "#b5de2b"
            ],
            [
             1,
             "#fde725"
            ]
           ],
           "sequentialminus": [
            [
             0,
             "#440154"
            ],
            [
             0.1111111111111111,
             "#482878"
            ],
            [
             0.2222222222222222,
             "#3e4989"
            ],
            [
             0.3333333333333333,
             "#31688e"
            ],
            [
             0.4444444444444444,
             "#26828e"
            ],
            [
             0.5555555555555556,
             "#1f9e89"
            ],
            [
             0.6666666666666666,
             "#35b779"
            ],
            [
             0.7777777777777778,
             "#6ece58"
            ],
            [
             0.8888888888888888,
             "#b5de2b"
            ],
            [
             1,
             "#fde725"
            ]
           ]
          },
          "colorway": [
           "#1F77B4",
           "#FF7F0E",
           "#2CA02C",
           "#D62728",
           "#9467BD",
           "#8C564B",
           "#E377C2",
           "#7F7F7F",
           "#BCBD22",
           "#17BECF"
          ],
          "font": {
           "color": "rgb(36,36,36)",
           "size": 18
          },
          "geo": {
           "bgcolor": "white",
           "lakecolor": "white",
           "landcolor": "white",
           "showlakes": true,
           "showland": true,
           "subunitcolor": "white"
          },
          "hoverlabel": {
           "align": "left"
          },
          "hovermode": "closest",
          "mapbox": {
           "style": "light"
          },
          "paper_bgcolor": "white",
          "plot_bgcolor": "white",
          "polar": {
           "angularaxis": {
            "gridcolor": "rgb(232,232,232)",
            "linecolor": "rgb(36,36,36)",
            "showgrid": false,
            "showline": true,
            "ticks": "outside"
           },
           "bgcolor": "white",
           "radialaxis": {
            "gridcolor": "rgb(232,232,232)",
            "linecolor": "rgb(36,36,36)",
            "showgrid": false,
            "showline": true,
            "ticks": "outside"
           }
          },
          "scene": {
           "xaxis": {
            "backgroundcolor": "white",
            "gridcolor": "rgb(232,232,232)",
            "gridwidth": 2,
            "linecolor": "rgb(36,36,36)",
            "showbackground": true,
            "showgrid": false,
            "showline": true,
            "ticks": "outside",
            "zeroline": false,
            "zerolinecolor": "rgb(36,36,36)"
           },
           "yaxis": {
            "backgroundcolor": "white",
            "gridcolor": "rgb(232,232,232)",
            "gridwidth": 2,
            "linecolor": "rgb(36,36,36)",
            "showbackground": true,
            "showgrid": false,
            "showline": true,
            "ticks": "outside",
            "zeroline": false,
            "zerolinecolor": "rgb(36,36,36)"
           },
           "zaxis": {
            "backgroundcolor": "white",
            "gridcolor": "rgb(232,232,232)",
            "gridwidth": 2,
            "linecolor": "rgb(36,36,36)",
            "showbackground": true,
            "showgrid": false,
            "showline": true,
            "ticks": "outside",
            "zeroline": false,
            "zerolinecolor": "rgb(36,36,36)"
           }
          },
          "shapedefaults": {
           "fillcolor": "black",
           "line": {
            "width": 0
           },
           "opacity": 0.3
          },
          "ternary": {
           "aaxis": {
            "gridcolor": "rgb(232,232,232)",
            "linecolor": "rgb(36,36,36)",
            "showgrid": false,
            "showline": true,
            "ticks": "outside"
           },
           "baxis": {
            "gridcolor": "rgb(232,232,232)",
            "linecolor": "rgb(36,36,36)",
            "showgrid": false,
            "showline": true,
            "ticks": "outside"
           },
           "bgcolor": "white",
           "caxis": {
            "gridcolor": "rgb(232,232,232)",
            "linecolor": "rgb(36,36,36)",
            "showgrid": false,
            "showline": true,
            "ticks": "outside"
           }
          },
          "title": {
           "x": 0.05
          },
          "xaxis": {
           "automargin": true,
           "gridcolor": "rgb(232,232,232)",
           "linecolor": "rgb(36,36,36)",
           "showgrid": false,
           "showline": true,
           "ticks": "outside",
           "title": {
            "standoff": 15
           },
           "zeroline": false,
           "zerolinecolor": "rgb(36,36,36)"
          },
          "yaxis": {
           "automargin": true,
           "gridcolor": "rgb(232,232,232)",
           "linecolor": "rgb(36,36,36)",
           "showgrid": false,
           "showline": true,
           "ticks": "outside",
           "title": {
            "standoff": 15
           },
           "zeroline": false,
           "zerolinecolor": "rgb(36,36,36)"
          }
         }
        },
        "xaxis": {
         "title": {
          "text": "Emissions per kWh [gCO<sub>2</sub>/kWh]"
         }
        }
       }
      },
      "text/html": [
       "<div>\n",
       "        \n",
       "        \n",
       "            <div id=\"8431fcd5-60ff-4078-8945-fbbbd44e6e37\" class=\"plotly-graph-div\" style=\"height:525px; width:100%;\"></div>\n",
       "            <script type=\"text/javascript\">\n",
       "                require([\"plotly\"], function(Plotly) {\n",
       "                    window.PLOTLYENV=window.PLOTLYENV || {};\n",
       "                    \n",
       "                if (document.getElementById(\"8431fcd5-60ff-4078-8945-fbbbd44e6e37\")) {\n",
       "                    Plotly.newPlot(\n",
       "                        '8431fcd5-60ff-4078-8945-fbbbd44e6e37',\n",
       "                        [{\"error_x\": {\"array\": [[28.689724254125867], [12.480948783633497], [4.360048043243782], [6.4094052914818995], [38.0], [160.0], [85.0], [187.0], [3.2079259584091258], [1.6574956007985886], [0.7023769168568492], [30.0]], \"type\": \"data\"}, \"marker\": {\"color\": \"rgb(229, 134, 6)\"}, \"name\": \"Use-Phase\", \"orientation\": \"h\", \"type\": \"bar\", \"x\": [8.575, 19.523076923076925, 20.675, 23.400000000000002, 28.7, 53.68333333333334, 70.84666666666666, 88.0, 190.0, 492.0, 732.0, 1024.0], \"y\": [\"Wind (Offshore)\", \"Wind (Onshore)\", \"Hydro\", \"Nuclear\", \"Geothermal\", \"Solar CSP\", \"Solar PV\", \"Biomass\", \"Gas CCS\", \"Gas\", \"Oil\", \"Coal\"]}, {\"error_x\": {\"array\": [null, null, null, null, null, null, null, null, null, null, null, null, null, null, 5.073818842014789, 14.30949470375844, 24.02222791776321, 1.3881914968667277, 2.4364840189429082, 1.083806481546417, 0.03123248620087333, 1.299475748033848, 0.3307778298049546, 5.15923688536582], \"type\": \"data\"}, \"marker\": {\"color\": \"rgb(93, 105, 177)\"}, \"name\": \"Embodied (materials)\", \"orientation\": \"h\", \"type\": \"bar\", \"x\": [11.687298091976517, 36.15317846270924, 43.4517592, 10.576158290833334, 17.48815209, 5.026645850204082, 0.18254705733130389, 10.916057604132654, 1.3533414611872145, 15.55141549789717], \"y\": [\"Wind (Onshore)\", \"Solar CSP\", \"Solar PV\", \"Hydro\", \"Geothermal\", \"Gas CCS\", \"Oil\", \"Gas\", \"Coal\", \"Wind (Offshore)\"]}],\n",
       "                        {\"barmode\": \"stack\", \"legend\": {\"orientation\": \"h\", \"y\": -0.2}, \"template\": {\"data\": {\"bar\": [{\"error_x\": {\"color\": \"rgb(36,36,36)\"}, \"error_y\": {\"color\": \"rgb(36,36,36)\"}, \"marker\": {\"line\": {\"color\": \"white\", \"width\": 0.5}}, \"type\": \"bar\"}], \"barpolar\": [{\"marker\": {\"line\": {\"color\": \"white\", \"width\": 0.5}}, \"type\": \"barpolar\"}], \"carpet\": [{\"aaxis\": {\"endlinecolor\": \"rgb(36,36,36)\", \"gridcolor\": \"white\", \"linecolor\": \"white\", \"minorgridcolor\": \"white\", \"startlinecolor\": \"rgb(36,36,36)\"}, \"baxis\": {\"endlinecolor\": \"rgb(36,36,36)\", \"gridcolor\": \"white\", \"linecolor\": \"white\", \"minorgridcolor\": \"white\", \"startlinecolor\": \"rgb(36,36,36)\"}, \"type\": \"carpet\"}], \"choropleth\": [{\"colorbar\": {\"outlinewidth\": 10, \"tickcolor\": \"rgb(36,36,36)\", \"ticklen\": 8, \"ticks\": \"outside\", \"tickwidth\": 2}, \"type\": \"choropleth\"}], \"contour\": [{\"colorbar\": {\"outlinewidth\": 10, \"tickcolor\": \"rgb(36,36,36)\", \"ticklen\": 8, \"ticks\": \"outside\", \"tickwidth\": 2}, \"colorscale\": [[0.0, \"#440154\"], [0.1111111111111111, \"#482878\"], [0.2222222222222222, \"#3e4989\"], [0.3333333333333333, \"#31688e\"], [0.4444444444444444, \"#26828e\"], [0.5555555555555556, \"#1f9e89\"], [0.6666666666666666, \"#35b779\"], [0.7777777777777778, \"#6ece58\"], [0.8888888888888888, \"#b5de2b\"], [1.0, \"#fde725\"]], \"type\": \"contour\"}], \"contourcarpet\": [{\"colorbar\": {\"outlinewidth\": 10, \"tickcolor\": \"rgb(36,36,36)\", \"ticklen\": 8, \"ticks\": \"outside\", \"tickwidth\": 2}, \"type\": \"contourcarpet\"}], \"heatmap\": [{\"colorbar\": {\"outlinewidth\": 10, \"tickcolor\": \"rgb(36,36,36)\", \"ticklen\": 8, \"ticks\": \"outside\", \"tickwidth\": 2}, \"colorscale\": [[0.0, \"#440154\"], [0.1111111111111111, \"#482878\"], [0.2222222222222222, \"#3e4989\"], [0.3333333333333333, \"#31688e\"], [0.4444444444444444, \"#26828e\"], [0.5555555555555556, \"#1f9e89\"], [0.6666666666666666, \"#35b779\"], [0.7777777777777778, \"#6ece58\"], [0.8888888888888888, \"#b5de2b\"], [1.0, \"#fde725\"]], \"type\": \"heatmap\"}], \"heatmapgl\": [{\"colorbar\": {\"outlinewidth\": 10, \"tickcolor\": \"rgb(36,36,36)\", \"ticklen\": 8, \"ticks\": \"outside\", \"tickwidth\": 2}, \"colorscale\": [[0.0, \"#440154\"], [0.1111111111111111, \"#482878\"], [0.2222222222222222, \"#3e4989\"], [0.3333333333333333, \"#31688e\"], [0.4444444444444444, \"#26828e\"], [0.5555555555555556, \"#1f9e89\"], [0.6666666666666666, \"#35b779\"], [0.7777777777777778, \"#6ece58\"], [0.8888888888888888, \"#b5de2b\"], [1.0, \"#fde725\"]], \"type\": \"heatmapgl\"}], \"histogram\": [{\"marker\": {\"line\": {\"color\": \"white\", \"width\": 0.6}}, \"type\": \"histogram\"}], \"histogram2d\": [{\"colorbar\": {\"outlinewidth\": 10, \"tickcolor\": \"rgb(36,36,36)\", \"ticklen\": 8, \"ticks\": \"outside\", \"tickwidth\": 2}, \"colorscale\": [[0.0, \"#440154\"], [0.1111111111111111, \"#482878\"], [0.2222222222222222, \"#3e4989\"], [0.3333333333333333, \"#31688e\"], [0.4444444444444444, \"#26828e\"], [0.5555555555555556, \"#1f9e89\"], [0.6666666666666666, \"#35b779\"], [0.7777777777777778, \"#6ece58\"], [0.8888888888888888, \"#b5de2b\"], [1.0, \"#fde725\"]], \"type\": \"histogram2d\"}], \"histogram2dcontour\": [{\"colorbar\": {\"outlinewidth\": 10, \"tickcolor\": \"rgb(36,36,36)\", \"ticklen\": 8, \"ticks\": \"outside\", \"tickwidth\": 2}, \"colorscale\": [[0.0, \"#440154\"], [0.1111111111111111, \"#482878\"], [0.2222222222222222, \"#3e4989\"], [0.3333333333333333, \"#31688e\"], [0.4444444444444444, \"#26828e\"], [0.5555555555555556, \"#1f9e89\"], [0.6666666666666666, \"#35b779\"], [0.7777777777777778, \"#6ece58\"], [0.8888888888888888, \"#b5de2b\"], [1.0, \"#fde725\"]], \"type\": \"histogram2dcontour\"}], \"mesh3d\": [{\"colorbar\": {\"outlinewidth\": 10, \"tickcolor\": \"rgb(36,36,36)\", \"ticklen\": 8, \"ticks\": \"outside\", \"tickwidth\": 2}, \"type\": \"mesh3d\"}], \"parcoords\": [{\"line\": {\"colorbar\": {\"outlinewidth\": 10, \"tickcolor\": \"rgb(36,36,36)\", \"ticklen\": 8, \"ticks\": \"outside\", \"tickwidth\": 2}}, \"type\": \"parcoords\"}], \"pie\": [{\"automargin\": true, \"type\": \"pie\"}], \"scatter\": [{\"line\": {\"width\": 3}, \"marker\": {\"colorbar\": {\"outlinewidth\": 10, \"tickcolor\": \"rgb(36,36,36)\", \"ticklen\": 8, \"ticks\": \"outside\", \"tickwidth\": 2}, \"size\": 9}, \"type\": \"scatter\"}], \"scatter3d\": [{\"line\": {\"colorbar\": {\"outlinewidth\": 10, \"tickcolor\": \"rgb(36,36,36)\", \"ticklen\": 8, \"ticks\": \"outside\", \"tickwidth\": 2}, \"width\": 3}, \"marker\": {\"colorbar\": {\"outlinewidth\": 10, \"tickcolor\": \"rgb(36,36,36)\", \"ticklen\": 8, \"ticks\": \"outside\", \"tickwidth\": 2}, \"size\": 9}, \"type\": \"scatter3d\"}], \"scattercarpet\": [{\"marker\": {\"colorbar\": {\"outlinewidth\": 10, \"tickcolor\": \"rgb(36,36,36)\", \"ticklen\": 8, \"ticks\": \"outside\", \"tickwidth\": 2}}, \"type\": \"scattercarpet\"}], \"scattergeo\": [{\"line\": {\"width\": 3}, \"marker\": {\"colorbar\": {\"outlinewidth\": 10, \"tickcolor\": \"rgb(36,36,36)\", \"ticklen\": 8, \"ticks\": \"outside\", \"tickwidth\": 2}, \"size\": 9}, \"type\": \"scattergeo\"}], \"scattergl\": [{\"line\": {\"width\": 3}, \"marker\": {\"colorbar\": {\"outlinewidth\": 10, \"tickcolor\": \"rgb(36,36,36)\", \"ticklen\": 8, \"ticks\": \"outside\", \"tickwidth\": 2}, \"size\": 9}, \"type\": \"scattergl\"}], \"scattermapbox\": [{\"marker\": {\"colorbar\": {\"outlinewidth\": 10, \"tickcolor\": \"rgb(36,36,36)\", \"ticklen\": 8, \"ticks\": \"outside\", \"tickwidth\": 2}}, \"type\": \"scattermapbox\"}], \"scatterpolar\": [{\"line\": {\"width\": 3}, \"marker\": {\"colorbar\": {\"outlinewidth\": 10, \"tickcolor\": \"rgb(36,36,36)\", \"ticklen\": 8, \"ticks\": \"outside\", \"tickwidth\": 2}, \"size\": 9}, \"type\": \"scatterpolar\"}], \"scatterpolargl\": [{\"line\": {\"width\": 3}, \"marker\": {\"colorbar\": {\"outlinewidth\": 10, \"tickcolor\": \"rgb(36,36,36)\", \"ticklen\": 8, \"ticks\": \"outside\", \"tickwidth\": 2}, \"size\": 9}, \"type\": \"scatterpolargl\"}], \"scatterternary\": [{\"line\": {\"width\": 3}, \"marker\": {\"colorbar\": {\"outlinewidth\": 10, \"tickcolor\": \"rgb(36,36,36)\", \"ticklen\": 8, \"ticks\": \"outside\", \"tickwidth\": 2}, \"size\": 9}, \"type\": \"scatterternary\"}], \"surface\": [{\"colorbar\": {\"outlinewidth\": 10, \"tickcolor\": \"rgb(36,36,36)\", \"ticklen\": 8, \"ticks\": \"outside\", \"tickwidth\": 2}, \"colorscale\": [[0.0, \"#440154\"], [0.1111111111111111, \"#482878\"], [0.2222222222222222, \"#3e4989\"], [0.3333333333333333, \"#31688e\"], [0.4444444444444444, \"#26828e\"], [0.5555555555555556, \"#1f9e89\"], [0.6666666666666666, \"#35b779\"], [0.7777777777777778, \"#6ece58\"], [0.8888888888888888, \"#b5de2b\"], [1.0, \"#fde725\"]], \"type\": \"surface\"}], \"table\": [{\"cells\": {\"fill\": {\"color\": \"rgb(237,237,237)\"}, \"height\": 30, \"line\": {\"color\": \"white\"}}, \"header\": {\"fill\": {\"color\": \"rgb(217,217,217)\"}, \"height\": 36, \"line\": {\"color\": \"white\"}}, \"type\": \"table\"}]}, \"layout\": {\"annotationdefaults\": {\"arrowhead\": 0, \"arrowwidth\": 1}, \"coloraxis\": {\"colorbar\": {\"outlinewidth\": 10, \"tickcolor\": \"rgb(36,36,36)\", \"ticklen\": 8, \"ticks\": \"outside\", \"tickwidth\": 2}}, \"colorscale\": {\"diverging\": [[0.0, \"rgb(103,0,31)\"], [0.1, \"rgb(178,24,43)\"], [0.2, \"rgb(214,96,77)\"], [0.3, \"rgb(244,165,130)\"], [0.4, \"rgb(253,219,199)\"], [0.5, \"rgb(247,247,247)\"], [0.6, \"rgb(209,229,240)\"], [0.7, \"rgb(146,197,222)\"], [0.8, \"rgb(67,147,195)\"], [0.9, \"rgb(33,102,172)\"], [1.0, \"rgb(5,48,97)\"]], \"sequential\": [[0.0, \"#440154\"], [0.1111111111111111, \"#482878\"], [0.2222222222222222, \"#3e4989\"], [0.3333333333333333, \"#31688e\"], [0.4444444444444444, \"#26828e\"], [0.5555555555555556, \"#1f9e89\"], [0.6666666666666666, \"#35b779\"], [0.7777777777777778, \"#6ece58\"], [0.8888888888888888, \"#b5de2b\"], [1.0, \"#fde725\"]], \"sequentialminus\": [[0.0, \"#440154\"], [0.1111111111111111, \"#482878\"], [0.2222222222222222, \"#3e4989\"], [0.3333333333333333, \"#31688e\"], [0.4444444444444444, \"#26828e\"], [0.5555555555555556, \"#1f9e89\"], [0.6666666666666666, \"#35b779\"], [0.7777777777777778, \"#6ece58\"], [0.8888888888888888, \"#b5de2b\"], [1.0, \"#fde725\"]]}, \"colorway\": [\"#1F77B4\", \"#FF7F0E\", \"#2CA02C\", \"#D62728\", \"#9467BD\", \"#8C564B\", \"#E377C2\", \"#7F7F7F\", \"#BCBD22\", \"#17BECF\"], \"font\": {\"color\": \"rgb(36,36,36)\", \"size\": 18}, \"geo\": {\"bgcolor\": \"white\", \"lakecolor\": \"white\", \"landcolor\": \"white\", \"showlakes\": true, \"showland\": true, \"subunitcolor\": \"white\"}, \"hoverlabel\": {\"align\": \"left\"}, \"hovermode\": \"closest\", \"mapbox\": {\"style\": \"light\"}, \"paper_bgcolor\": \"white\", \"plot_bgcolor\": \"white\", \"polar\": {\"angularaxis\": {\"gridcolor\": \"rgb(232,232,232)\", \"linecolor\": \"rgb(36,36,36)\", \"showgrid\": false, \"showline\": true, \"ticks\": \"outside\"}, \"bgcolor\": \"white\", \"radialaxis\": {\"gridcolor\": \"rgb(232,232,232)\", \"linecolor\": \"rgb(36,36,36)\", \"showgrid\": false, \"showline\": true, \"ticks\": \"outside\"}}, \"scene\": {\"xaxis\": {\"backgroundcolor\": \"white\", \"gridcolor\": \"rgb(232,232,232)\", \"gridwidth\": 2, \"linecolor\": \"rgb(36,36,36)\", \"showbackground\": true, \"showgrid\": false, \"showline\": true, \"ticks\": \"outside\", \"zeroline\": false, \"zerolinecolor\": \"rgb(36,36,36)\"}, \"yaxis\": {\"backgroundcolor\": \"white\", \"gridcolor\": \"rgb(232,232,232)\", \"gridwidth\": 2, \"linecolor\": \"rgb(36,36,36)\", \"showbackground\": true, \"showgrid\": false, \"showline\": true, \"ticks\": \"outside\", \"zeroline\": false, \"zerolinecolor\": \"rgb(36,36,36)\"}, \"zaxis\": {\"backgroundcolor\": \"white\", \"gridcolor\": \"rgb(232,232,232)\", \"gridwidth\": 2, \"linecolor\": \"rgb(36,36,36)\", \"showbackground\": true, \"showgrid\": false, \"showline\": true, \"ticks\": \"outside\", \"zeroline\": false, \"zerolinecolor\": \"rgb(36,36,36)\"}}, \"shapedefaults\": {\"fillcolor\": \"black\", \"line\": {\"width\": 0}, \"opacity\": 0.3}, \"ternary\": {\"aaxis\": {\"gridcolor\": \"rgb(232,232,232)\", \"linecolor\": \"rgb(36,36,36)\", \"showgrid\": false, \"showline\": true, \"ticks\": \"outside\"}, \"baxis\": {\"gridcolor\": \"rgb(232,232,232)\", \"linecolor\": \"rgb(36,36,36)\", \"showgrid\": false, \"showline\": true, \"ticks\": \"outside\"}, \"bgcolor\": \"white\", \"caxis\": {\"gridcolor\": \"rgb(232,232,232)\", \"linecolor\": \"rgb(36,36,36)\", \"showgrid\": false, \"showline\": true, \"ticks\": \"outside\"}}, \"title\": {\"x\": 0.05}, \"xaxis\": {\"automargin\": true, \"gridcolor\": \"rgb(232,232,232)\", \"linecolor\": \"rgb(36,36,36)\", \"showgrid\": false, \"showline\": true, \"ticks\": \"outside\", \"title\": {\"standoff\": 15}, \"zeroline\": false, \"zerolinecolor\": \"rgb(36,36,36)\"}, \"yaxis\": {\"automargin\": true, \"gridcolor\": \"rgb(232,232,232)\", \"linecolor\": \"rgb(36,36,36)\", \"showgrid\": false, \"showline\": true, \"ticks\": \"outside\", \"title\": {\"standoff\": 15}, \"zeroline\": false, \"zerolinecolor\": \"rgb(36,36,36)\"}}}, \"xaxis\": {\"title\": {\"text\": \"Emissions per kWh [gCO<sub>2</sub>/kWh]\"}}},\n",
       "                        {\"responsive\": true}\n",
       "                    ).then(function(){\n",
       "                            \n",
       "var gd = document.getElementById('8431fcd5-60ff-4078-8945-fbbbd44e6e37');\n",
       "var x = new MutationObserver(function (mutations, observer) {{\n",
       "        var display = window.getComputedStyle(gd).display;\n",
       "        if (!display || display === 'none') {{\n",
       "            console.log([gd, 'removed!']);\n",
       "            Plotly.purge(gd);\n",
       "            observer.disconnect();\n",
       "        }}\n",
       "}});\n",
       "\n",
       "// Listen for the removal of the full notebook cells\n",
       "var notebookContainer = gd.closest('#notebook-container');\n",
       "if (notebookContainer) {{\n",
       "    x.observe(notebookContainer, {childList: true});\n",
       "}}\n",
       "\n",
       "// Listen for the clearing of the current output cell\n",
       "var outputEl = gd.closest('.output');\n",
       "if (outputEl) {{\n",
       "    x.observe(outputEl, {childList: true});\n",
       "}}\n",
       "\n",
       "                        })\n",
       "                };\n",
       "                });\n",
       "            </script>\n",
       "        </div>"
      ]
     },
     "metadata": {},
     "output_type": "display_data"
    }
   ],
   "source": [
    "# Embodied vs use phase\n",
    "\n",
    "figpath = \"C:/Users/KarlaC/Dropbox (Cambridge University)/CCG/Electricity and material demand model/Figs/\"\n",
    "\n",
    "EU = pd.read_excel(mypath+'Excel_model_material_implications_energy_systems.xlsx', sheet_name = 'Graph', \n",
    "                skiprows = 44, usecols = \"B,T:V\", nrows = 15)\n",
    "EU.rename(columns = {'Unnamed: 1':'tech'}, inplace = True)\n",
    "EU = EU[EU['tech']!= 'Wind']\n",
    "\n",
    "EE_u = pd.read_excel(mypath+'Excel_model_material_implications_energy_systems.xlsx', \n",
    "                   sheet_name = 'Graph', \n",
    "                skiprows = 63, usecols = \"B:C\", nrows = 15)\n",
    "EE_u.rename(columns = {'Unnamed: 1':'tech'}, inplace = True)\n",
    "\n",
    "# EE is the same as e_E_tot\n",
    "\n",
    "colors = px.colors.qualitative.Vivid\n",
    "\n",
    "df = [EU,E_tech]\n",
    "dnames = ['EU','E_tech']\n",
    "\n",
    "datae_u = EU[['tech','STANDARD ERROR']].rename(columns = {'STANDARD ERROR':'error'})\n",
    "datae_u = datae_u[~datae_u['tech'].isin(['Hydrogen','BECCS'])]\n",
    "datae_e = datae.append(e_E_tot.reset_index().rename(columns = {0:'error'}))\n",
    "datae_e = datae_e[~datae_e['tech'].isin(['Hydrogen','BECCS'])]\n",
    "\n",
    "# sorting data based on use phase\n",
    "\n",
    "fig = go.Figure()\n",
    "for d, dn, c in zip(df, dnames, colors[0:2]): \n",
    "    if dn == 'EU': \n",
    "        d = EU.sort_values(by = 'AVERAGE', ascending = True)\n",
    "        d = d[~d['tech'].isin(['Hydrogen','BECCS'])]\n",
    "        fig.add_trace(go.Bar(x = d.AVERAGE, \n",
    "                             y = d.tech,\n",
    "                             name = 'Use-Phase',\n",
    "                             marker_color = c, \n",
    "                             orientation = 'h',\n",
    "                             error_x=dict(type='data', \n",
    "                                      array=datae_u[['error']])\n",
    "                                 ))\n",
    "    if dn == 'E_tech': \n",
    "        d = E_tech.reset_index().rename(columns = {0:'energy'})\n",
    "        d = d[~d['tech'].isin(['Hydrogen','BECCS'])]\n",
    "        fig.add_trace(go.Bar(x = d.energy, \n",
    "                             y = d.tech,\n",
    "                             name = 'Embodied (materials)' ,\n",
    "                             marker_color = c, \n",
    "                             orientation = 'h',\n",
    "                             error_x=dict(type='data', \n",
    "                                      array=datae_e['error'])\n",
    "                                 ))\n",
    "fig.update_layout(xaxis_title =  'Emissions per kWh [gCO<sub>2</sub>/kWh]', \n",
    "                  template = 'simple_white+presentation', barmode='stack',\n",
    "                  legend=dict(orientation=\"h\", y=-0.2))\n",
    "\n",
    "pio.write_image(fig, figpath+\"embodied_direct_CO2.pdf\", width = 900, height = 700)\n",
    "pio.write_image(fig, figpath+\"embodied_direct_CO2.eps\", width = 900, height = 700)\n",
    "plotly.offline.plot(fig, filename = figpath+\"embodied_direct_CO2.html\", auto_open=False)\n",
    "fig.show()"
   ]
  },
  {
   "cell_type": "markdown",
   "metadata": {},
   "source": [
    "## General - Embodied, water and costs"
   ]
  },
  {
   "cell_type": "code",
   "execution_count": 613,
   "metadata": {},
   "outputs": [],
   "source": [
    "# Embodied, water and costs\n",
    "\n",
    "colors = px.colors.qualitative.Alphabet\n",
    "\n",
    "figpath = \"C:/Users/KarlaC/Dropbox (Cambridge University)/CCG/Electricity and material demand model/Figs/\"\n",
    "\n",
    "labels = ['Embodied Material Emissions [gCO<sub>2</sub>/kWh]','Water Usage [L/kWh]',\n",
    "         'Costs [Euro cent/kWh]','Recycling Rate [g/kWh]']\n",
    "\n",
    "for  ne, l in zip(['E', 'W', 'K', 'R'], labels):\n",
    "    fig = go.Figure()\n",
    "    \n",
    "    if ne == 'E' or ne =='R':\n",
    "        data = globals()['{}_tech_sep'.format(ne)]\n",
    "        datae = pd.DataFrame(np.nan, index=np.arange(len(globals()['{}_tech_sep'.format(ne)])), \n",
    "                     columns=globals()['{}_tech_sep'.format(ne)].columns)\n",
    "        error = globals()['e_{}_tot'.format(ne)]\n",
    "        \n",
    "        datae.loc[datae.index,'Stainless Steel'] = error.values/2\n",
    "        datae.index = data.index\n",
    "    if ne == 'W':\n",
    "        data = globals()['{}_tech_sep'.format(ne)]/1000\n",
    "        datae = pd.DataFrame(np.nan, index=np.arange(len(globals()['{}_tech_sep'.format(ne)])), \n",
    "                     columns=globals()['{}_tech_sep'.format(ne)].columns)\n",
    "        error = globals()['e_{}_tot'.format(ne)]\n",
    "        datae.loc[datae.index,'Stainless Steel'] = error.values/1000/2\n",
    "        datae.index = data.index\n",
    "        \n",
    "    if ne == 'K':\n",
    "        data = globals()['{}_tech_sep'.format(ne)]*1000\n",
    "        datae = pd.DataFrame(np.nan, index=np.arange(len(globals()['{}_tech_sep'.format(ne)])), \n",
    "                     columns=globals()['{}_tech_sep'.format(ne)].columns)\n",
    "        error = globals()['e_{}_tot'.format(ne)]\n",
    "        datae.loc[datae.index,'Stainless Steel'] = error.values*1000/2\n",
    "        datae.index = data.index\n",
    "                \n",
    "    for i, c in zip(data.columns, colors): \n",
    "#         print(i)\n",
    "        fig.add_trace(go.Bar(x = data[i], \n",
    "                             y = data.index,\n",
    "                             name = i, \n",
    "                             marker_color = c, orientation = 'h',\n",
    "                             error_x=dict(type='data', \n",
    "                                      array=datae[i])\n",
    "                            ))\n",
    "\n",
    "    fig.update_layout( xaxis_title =  l, \n",
    "                      legend=dict(orientation=\"h\", yanchor=\"bottom\", \n",
    "#                                   traceorder=\"reversed\",\n",
    "                                   y=1.01,\n",
    "                                   xanchor=\"center\",\n",
    "                                   x=0.4),\n",
    "                                   template = 'simple_white+presentation', barmode='stack')\n",
    "\n",
    "    pio.write_image(fig, figpath+\"general_{}.pdf\".format(ne), width = 1000, height = 700)\n",
    "    pio.write_image(fig, figpath+\"general_{}.eps\".format(ne), width = 1000, height = 700)\n",
    "    plotly.offline.plot(fig, filename = figpath+\"general_{}.html\".format(ne), auto_open=False)\n",
    "#     fig.show()"
   ]
  },
  {
   "cell_type": "markdown",
   "metadata": {},
   "source": [
    "## General - Materials per kWh and embodied-material-emissions per kWh"
   ]
  },
  {
   "cell_type": "code",
   "execution_count": 614,
   "metadata": {
    "scrolled": true
   },
   "outputs": [],
   "source": [
    "## Materials per kWh and embodied-material-emissions per kWh\n",
    "colors = px.colors.qualitative.Alphabet\n",
    "\n",
    "figpath = \"C:/Users/KarlaC/Dropbox (Cambridge University)/CCG/Electricity and material demand model/Figs/\"\n",
    "\n",
    "labels = ['Materials [g/kWh]','Embodied Material Emissions [gCO<sub>2</sub>/kWh]']\n",
    "\n",
    "for  ne, l in zip(['Mat','Em'], labels):\n",
    "    fig = go.Figure()\n",
    "    \n",
    "    if ne == 'Mat':\n",
    "        data = M# /1e12 this would be for Mtonne\n",
    "        datae = pd.DataFrame(np.nan, index=np.arange(len(M)), \n",
    "                     columns=M.columns)\n",
    "        error = e_M.T.sum()         \n",
    "        datae.loc[datae.index,'Stainless Steel'] = error/2 #/1e12 this would be for Mtonne\n",
    "        datae.index = data.index\n",
    "#         the Mat error needs checking\n",
    "        \n",
    "    if ne == 'Em':\n",
    "        data = E_tech_sep# /1e12 this would be for Mtonne\n",
    "        datae = pd.DataFrame(np.nan, index=np.arange(len(E_tech_sep)), \n",
    "                     columns=E_tech_sep.columns)\n",
    "        error = e_E_tech_sep.T.sum()\n",
    "        datae.loc[datae.index,'Stainless Steel'] = error/2\n",
    "        datae.index = data.index\n",
    "            \n",
    "    data = data.sort_values(by = 'tech')\n",
    "    for i, c in zip(data.columns, colors): \n",
    "        fig.add_trace(go.Bar(x = data[i], \n",
    "                             y = data.index,\n",
    "                             name = i, \n",
    "                             marker_color = c, orientation = 'h',\n",
    "                             error_x=dict(type='data', \n",
    "                                      array=datae[i])\n",
    "                            ))\n",
    "\n",
    "    fig.update_layout( xaxis_title =  l, \n",
    "                      legend=dict(orientation=\"h\", yanchor=\"bottom\", \n",
    "#                                   traceorder=\"reversed\",\n",
    "                                   y=1.01,\n",
    "                                   xanchor=\"center\",\n",
    "                                   x=0.4),\n",
    "                                   template = 'simple_white+presentation', barmode='stack')\n",
    "    \n",
    "    pio.write_image(fig, figpath+\"general_{}.pdf\".format(ne), width = 1000, height = 600)\n",
    "    pio.write_image(fig, figpath+\"general_{}.eps\".format(ne), width = 1000, height = 600)\n",
    "    plotly.offline.plot(fig, filename = figpath+\"general_{}.html\".format(ne), auto_open=False)\n",
    "#     fig.show()"
   ]
  },
  {
   "cell_type": "markdown",
   "metadata": {},
   "source": [
    "## General - Bars with total percentage of grams for materials and total percentage of CO2 for materials"
   ]
  },
  {
   "cell_type": "code",
   "execution_count": 608,
   "metadata": {},
   "outputs": [],
   "source": [
    "## Bar with total percentage of material mass and total CO2 for materials general\n",
    "\n",
    "colors = px.colors.qualitative.Alphabet\n",
    "\n",
    "figpath = \"C:/Users/KarlaC/Dropbox (Cambridge University)/CCG/Electricity and material demand model/Figs/\"\n",
    "\n",
    "labels = ['Total material mass accross all technologies (%)',\n",
    "          'Total CO<sub>2</sub> emissions accross all technologies (%)']\n",
    "names = ['material_mass', 'total_emiss']\n",
    "colu = ['pct','pct']\n",
    "\n",
    "for l, n, co in zip( labels, names, colu):\n",
    "    fig = go.Figure()\n",
    "    if n == 'material_mass':\n",
    "        totaal = M.sum().reset_index()\n",
    "        totaal = totaal.rename(columns = {'index':'Material', 0:'value'})\n",
    "       \n",
    "    if n == 'total_emiss':\n",
    "        totaal = E_tech_sep.sum().reset_index()   \n",
    "        totaal = totaal.rename(columns = {'index':'Material', 0:'value'})\n",
    "        \n",
    "        \n",
    "    ts = totaal['value'].sum().round(2)\n",
    "    totaal.loc[totaal.index,'pct'] = totaal.loc[totaal.index,'value']/ts*100\n",
    "    tsdf = totaal[['Material','value']]\n",
    "    tsdf.loc[totaal.index,'value']=np.nan\n",
    "    tsdf.loc[totaal['Material']=='Stainless Steel','value']=ts\n",
    "    \n",
    "    for i, c in zip(totaal.Material.unique(), colors): \n",
    "#         print(i)\n",
    "        fig.add_trace(go.Bar(x = totaal[totaal['Material']==i][co], \n",
    "                             y = ['Total'],\n",
    "                             width=0.5,\n",
    "                             name = i ,\n",
    "                             marker_color = c, \n",
    "                             orientation = 'h',\n",
    "                             text = tsdf[totaal['Material']==i], textposition='auto'\n",
    "                                 ))\n",
    "\n",
    "    fig.update_layout( xaxis_title =  l, \n",
    "                      legend=dict(orientation=\"h\", yanchor=\"bottom\",\n",
    "#                                   traceorder=\"reversed\",\n",
    "                                    y=1.02,\n",
    "                                    xanchor=\"right\",\n",
    "                                    x=1),\n",
    "                                    template = 'simple_white+presentation', barmode='stack')\n",
    "\n",
    "#     fig.update_xaxes(range=[0,110])\n",
    "\n",
    "    pio.write_image(fig, figpath+\"general_{}.pdf\".format(n), width = 800, height = 500)\n",
    "    pio.write_image(fig, figpath+\"general_{}.eps\".format(n), width = 800, height = 500)\n",
    "    plotly.offline.plot(fig, filename = figpath+\"general_{}.html\".format(n), auto_open=False)\n",
    "#     fig.show()"
   ]
  }
 ],
 "metadata": {
  "kernelspec": {
   "display_name": "Python 3",
   "language": "python",
   "name": "python3"
  },
  "language_info": {
   "codemirror_mode": {
    "name": "ipython",
    "version": 3
   },
   "file_extension": ".py",
   "mimetype": "text/x-python",
   "name": "python",
   "nbconvert_exporter": "python",
   "pygments_lexer": "ipython3",
   "version": "3.6.9"
  },
  "toc": {
   "base_numbering": 1,
   "nav_menu": {},
   "number_sections": true,
   "sideBar": true,
   "skip_h1_title": false,
   "title_cell": "Table of Contents",
   "title_sidebar": "Contents",
   "toc_cell": false,
   "toc_position": {
    "height": "calc(100% - 180px)",
    "left": "10px",
    "top": "150px",
    "width": "226px"
   },
   "toc_section_display": true,
   "toc_window_display": true
  }
 },
 "nbformat": 4,
 "nbformat_minor": 2
}
