{
 "cells": [
  {
   "cell_type": "code",
   "execution_count": 1,
   "metadata": {},
   "outputs": [],
   "source": [
    "import matplotlib.pyplot as plt\n",
    "import pandas as pd\n",
    "import numpy as np\n",
    "# import seaborn as sns\n",
    "import plotly\n",
    "import plotly_express as px\n",
    "import os\n",
    "import plotly.io as pio\n",
    "from floweaver import *\n",
    "from ipysankeywidget import SankeyWidget"
   ]
  },
  {
   "cell_type": "code",
   "execution_count": 2,
   "metadata": {},
   "outputs": [],
   "source": [
    "# Setting working directory\n",
    "os.chdir ('C:\\\\Users\\\\KarlaC\\\\MAT-DP\\\\')\n",
    "\n",
    "# Make folders for figures\n",
    "if not os.path.exists('figures'):\n",
    "    os.makedirs('figures')\n",
    "    \n",
    "if not os.path.exists('figures\\countries'):\n",
    "    os.makedirs('figures\\countries')\n",
    "if not os.path.exists('outputs'):\n",
    "    os.makedirs('outputs')"
   ]
  },
  {
   "cell_type": "code",
   "execution_count": null,
   "metadata": {},
   "outputs": [],
   "source": [
    "# for ne in ['E', 'W', 'K', 'R']:\n",
    "#     globals()['df{}_country'.format(ne)] = pd.read_csv(r'outputs/df{}_total_bycountry.csv'.format(ne))\n",
    "#     globals()['dfcountry_tech_{}'.format(ne)]= pd.read_csv(r'outputs/df{}_tech_bycountry.csv'.format(ne))\n",
    "#     globals()['e_df{0}_countries_sep'.format(ne)]= pd.read_csv(r'outputs/errors{}_bymat_bycountry.csv'.format(ne))\n",
    "#     globals()['e_df{0}c_tot'.format(ne)]= pd.read_csv(r'outputs/errors{}_total_bycountry.csv'.format(ne))\n",
    "#     globals()['df{}c_tech_sep'.format(ne)]= pd.read_csv(r'outputs/{}_matbytech_bycountry.csv'.format(ne))\n"
   ]
  },
  {
   "cell_type": "code",
   "execution_count": 3,
   "metadata": {
    "scrolled": true
   },
   "outputs": [],
   "source": [
    "dfEc_tech_sep = pd.read_csv(r'outputs/E_matbytech_bycountry.csv')\n",
    "\n",
    "dfEc_tech_sep_m = pd.melt(dfEc_tech_sep.drop(columns = 'Unnamed: 0'), \n",
    "                     id_vars = ['tech', 'Scenario','Country','Year'], \n",
    "                     var_name = 'Material', value_name = 'Value')\n",
    "dfEc_tech_sep_m['Value'] = [x/1e12 for x in dfEc_tech_sep_m['Value']]\n",
    "\n",
    "# W /1000\n",
    "# K R /1e6\n",
    "df_E = dfEc_tech_sep_m.rename(columns = {'tech':'Source'})\n",
    "df_E['Target'] = 'Embodied emissions'#df_E['Material']\n"
   ]
  },
  {
   "cell_type": "code",
   "execution_count": 4,
   "metadata": {},
   "outputs": [],
   "source": [
    "mat_country = pd.read_csv(r'outputs/massmat_bytech_bycountry.csv')\n",
    "\n",
    "mat_country_m = pd.melt(mat_country, \n",
    "                     id_vars = ['tech', 'Scenario','Country','Year'], \n",
    "                     var_name = 'Material', value_name = 'Value')\n",
    "\n",
    "df_M = mat_country_m.rename(columns = {'Material':'Target','tech':'Source'})\n",
    "df_M['Material'] = df_M['Target']"
   ]
  },
  {
   "cell_type": "code",
   "execution_count": 5,
   "metadata": {
    "scrolled": true
   },
   "outputs": [
    {
     "name": "stderr",
     "output_type": "stream",
     "text": [
      "C:\\Users\\KarlaC\\Anaconda3\\lib\\site-packages\\pandas\\core\\frame.py:7123: FutureWarning:\n",
      "\n",
      "Sorting because non-concatenation axis is not aligned. A future version\n",
      "of pandas will change to not sort by default.\n",
      "\n",
      "To accept the future behavior, pass 'sort=False'.\n",
      "\n",
      "To retain the current behavior and silence the warning, pass 'sort=True'.\n",
      "\n",
      "\n"
     ]
    }
   ],
   "source": [
    "df = pd.DataFrame(columns = ['Material','Source','Target','Value','Year','Scenario','Country'])\n",
    "\n",
    "df = df.append(df_E)\n",
    "df = df.append(df_M)\n"
   ]
  },
  {
   "cell_type": "code",
   "execution_count": 7,
   "metadata": {},
   "outputs": [],
   "source": [
    "df.to_csv(r'outputs/sankey_data.csv',index=False)\n"
   ]
  },
  {
   "cell_type": "code",
   "execution_count": 8,
   "metadata": {},
   "outputs": [],
   "source": [
    "#### DEFINE ALL SLICES IN ORDERING AS VARIABLES\n",
    "\n",
    "materials = ['Aluminium', 'Bentonite', 'Carbon Fiber',\n",
    "            'Cast Iron', 'Cement','Ceramics', 'Concrete','Copper', 'Epoxy', 'EVA ', 'Fibre Glass',\n",
    "            'Glass', 'Lubricant', 'Non-Ferrous Metal', 'Paint', 'Plastic', 'PVC','Resin', 'Sand',\n",
    "            'Silicon', 'Steel', 'Stainless Steel']\n",
    "\n",
    "technologies = ['Wind (Onshore)', 'Wind (Offshore)',\n",
    "       'Solar CSP', 'Solar PV', 'Hydro', 'Oil','Gas', 'Gas CCS', 'Nuclear',\n",
    "       'Geothermal', 'Coal', 'Coal CCS', 'Biomass', 'BECCS', 'Hydrogen']\n",
    "\n",
    "emissions = ['Material embodied emissions']\n"
   ]
  },
  {
   "cell_type": "markdown",
   "metadata": {},
   "source": [
    "# Technologies to materials"
   ]
  },
  {
   "cell_type": "code",
   "execution_count": 27,
   "metadata": {},
   "outputs": [],
   "source": [
    "partition_type = Partition.Simple('Material',df['Material'].unique())\n",
    "nodes = {'technologies': ProcessGroup(technologies, Partition.Simple('process', technologies), title='Technologies'),\n",
    "         'materials': ProcessGroup(materials, Partition.Simple('process', materials), title='Materials')\n",
    "         }                         \n",
    "\n",
    "ordering = [\n",
    "    ['technologies'],\n",
    "     ['materials']\n",
    "    ]\n",
    "\n",
    "bundles = [\n",
    "    Bundle('technologies','materials')\n",
    "]\n",
    "\n",
    "colors = ['rgb(0.961, 1.034, 1.084)',\n",
    "#           'rgb(245, 237, 226)',\n",
    "        'rgb(179, 154, 154)',\n",
    "        'rgb(220, 142, 106)',\n",
    "        'rgb(232, 218, 120)',\n",
    "        'rgb(162, 77, 55)',\n",
    "        'rgb(187, 208, 182)',\n",
    "        'rgb(61, 50, 25)',\n",
    "        'rgb(195, 127, 120)',\n",
    "        'rgb(108, 139, 124)',\n",
    "        'rgb(183, 116, 87)',\n",
    "        'rgb(255, 253, 228)',\n",
    "        'rgb(155, 172, 162)',\n",
    "        'rgb(213, 219, 139)',\n",
    "        'rgb(32, 64, 79)',\n",
    "        'rgb(172, 162, 151)',\n",
    "        'rgb(222, 215, 199)',\n",
    "        'rgb(213, 237, 231)',\n",
    "        'rgb(87, 207, 197)',\n",
    "        'rgb(91, 110, 95)',\n",
    "        'rgb(251, 205, 198)',\n",
    "        'rgb(209, 211, 212)',\n",
    "        'rgb(182, 198, 226)'\n",
    "            ]\n",
    "\n",
    "# colors =['rgb(0.961, 1.034, 1.084)',\n",
    "#  'rbg(0.702, 0.604, 0.604)',\n",
    "#  '(0.863, 0.557, 0.416)',\n",
    "# '(0.91, 0.855, 0.471)',\n",
    "#  '(0.635, 0.302, 0.216)',\n",
    "# '(0.733, 0.816, 0.714)',\n",
    "# '(0.239, 0.196, 0.098)',\n",
    "# '(0.765, 0.498, 0.471)',\n",
    "#  '(0.424, 0.545, 0.486)',\n",
    "# '(0.718, 0.455, 0.341)',\n",
    "#  '(1.0, 0.992, 0.894)',\n",
    "# '(0.608, 0.675, 0.635)',\n",
    "#  '(0.835, 0.859, 0.545)',\n",
    "#  '(0.125, 0.251, 0.31)',\n",
    "# '(0.675, 0.635, 0.592)',\n",
    "#  '(0.871, 0.843, 0.78)',\n",
    "#  '(0.835, 0.929, 0.906)',\n",
    "#  '(0.341, 0.812, 0.773)',\n",
    "#  '(0.357, 0.431, 0.373)',\n",
    "#  '(0.984, 0.804, 0.776)',\n",
    "#  '(0.82, 0.827, 0.831)',\n",
    "#  '(0.714, 0.776, 0.886)']\n",
    "\n",
    "palette = pd.DataFrame(list(zip(materials,colors))).set_index(0)[1].to_dict()\n",
    "\n",
    "sdd = SankeyDefinition(nodes, bundles, ordering,flow_partition=partition_type)\n",
    "size = dict(width=1000, height=700)"
   ]
  },
  {
   "cell_type": "code",
   "execution_count": 125,
   "metadata": {
    "scrolled": true
   },
   "outputs": [
    {
     "name": "stdout",
     "output_type": "stream",
     "text": [
      "UK Baseline 2020\n",
      "UK Consumer Transformation 2050\n",
      "UK System Transformation 2050\n",
      "UK Leading the Way 2050\n",
      "UK Steady Progression 2050\n",
      "Uganda Baseline 2010\n",
      "Uganda Scenario 1 2040\n"
     ]
    }
   ],
   "source": [
    "# Floweaver can't save in loop\n",
    "# df = df.rename(columns = {'Source':'source','Target':'target'})\n",
    "# for c in ['UK','Uganda']:\n",
    "#     for sc in df[df['Country']==c]['Scenario'].unique():\n",
    "#         for y in df[(df['Country']==c)&(df['Scenario']==sc)]['Year'].unique():\n",
    "#             dfc = df[(df['Country']==c)&(df['Scenario']==sc)&(df['Year']==y)]\n",
    "#             print(c,sc, y)\n",
    "#             Sank = weave(sdd, dfc, measures='Value', \n",
    "#                   palette=palette).to_widget(**size,margins=dict(left=100, right=120))\n",
    "         "
   ]
  },
  {
   "cell_type": "code",
   "execution_count": 33,
   "metadata": {},
   "outputs": [],
   "source": [
    "df = df.rename(columns = {'Source':'source','Target':'target'})\n",
    "c = 'Uganda'\n",
    "sc = 'Baseline'\n",
    "y = 2010\n",
    "dfc = df[(df['Country']==c)&(df['Scenario']==sc)&(df['Year']==y)]\n",
    "Sank = weave(sdd, dfc, measures='Value', \n",
    "      palette=palette).to_widget(**size,margins=dict(left=160, right=160))"
   ]
  },
  {
   "cell_type": "code",
   "execution_count": 34,
   "metadata": {},
   "outputs": [
    {
     "data": {
      "application/vnd.jupyter.widget-view+json": {
       "model_id": "112a2c4a0e434f309b214623e614e965",
       "version_major": 2,
       "version_minor": 0
      },
      "text/plain": [
       "SankeyWidget(groups=[{'id': 'technologies', 'type': 'process', 'title': 'Technologies', 'nodes': ['technologie…"
      ]
     },
     "metadata": {},
     "output_type": "display_data"
    }
   ],
   "source": [
    "Sank.auto_save_png(r'figures/countries/'+c+'_'+sc[:4]+str(y)+'TMSankey.png')"
   ]
  },
  {
   "cell_type": "markdown",
   "metadata": {},
   "source": [
    "# Technologies to emissions"
   ]
  },
  {
   "cell_type": "code",
   "execution_count": 38,
   "metadata": {},
   "outputs": [],
   "source": [
    "partition_type = Partition.Simple('Material',df['Material'].unique())\n",
    "nodes = {'technologies': ProcessGroup(technologies, Partition.Simple('process', technologies), title='Technologies'),\n",
    "        'emissions': ProcessGroup(emissions, Partition.Simple('process', emissions), title='Embodied Emissions')\n",
    "         }                         \n",
    "\n",
    "ordering = [\n",
    "    ['technologies'],\n",
    "     ['emissions']\n",
    "    ]\n",
    "\n",
    "bundles = [\n",
    "    Bundle('technologies', 'emissions')\n",
    "]\n",
    "\n",
    "\n",
    "colors = ['rgb(0.961, 1.034, 1.084)',\n",
    "#           'rgb(245, 237, 226)',\n",
    "        'rgb(179, 154, 154)',\n",
    "        'rgb(220, 142, 106)',\n",
    "        'rgb(232, 218, 120)',\n",
    "        'rgb(162, 77, 55)',\n",
    "        'rgb(187, 208, 182)',\n",
    "        'rgb(61, 50, 25)',\n",
    "        'rgb(195, 127, 120)',\n",
    "        'rgb(108, 139, 124)',\n",
    "        'rgb(183, 116, 87)',\n",
    "        'rgb(255, 253, 228)',\n",
    "        'rgb(155, 172, 162)',\n",
    "        'rgb(213, 219, 139)',\n",
    "        'rgb(32, 64, 79)',\n",
    "        'rgb(172, 162, 151)',\n",
    "        'rgb(222, 215, 199)',\n",
    "        'rgb(213, 237, 231)',\n",
    "        'rgb(87, 207, 197)',\n",
    "        'rgb(91, 110, 95)',\n",
    "        'rgb(251, 205, 198)',\n",
    "        'rgb(209, 211, 212)',\n",
    "        'rgb(182, 198, 226)'\n",
    "            ]\n",
    "\n",
    "palette = pd.DataFrame(list(zip(materials,colors))).set_index(0)[1].to_dict()\n",
    "\n",
    "sdd = SankeyDefinition(nodes, bundles, ordering,flow_partition=partition_type)\n",
    "size = dict(width=1000, height=700)"
   ]
  },
  {
   "cell_type": "code",
   "execution_count": 21,
   "metadata": {
    "scrolled": true
   },
   "outputs": [
    {
     "name": "stdout",
     "output_type": "stream",
     "text": [
      "UK Baseline 2020\n",
      "UK Consumer Transformation 2050\n"
     ]
    },
    {
     "ename": "KeyboardInterrupt",
     "evalue": "",
     "output_type": "error",
     "traceback": [
      "\u001b[1;31m---------------------------------------------------------------------------\u001b[0m",
      "\u001b[1;31mKeyboardInterrupt\u001b[0m                         Traceback (most recent call last)",
      "\u001b[1;32m<ipython-input-21-d3d77b798a73>\u001b[0m in \u001b[0;36m<module>\u001b[1;34m\u001b[0m\n\u001b[0;32m      2\u001b[0m     \u001b[1;32mfor\u001b[0m \u001b[0msc\u001b[0m \u001b[1;32min\u001b[0m \u001b[0mdf\u001b[0m\u001b[1;33m[\u001b[0m\u001b[0mdf\u001b[0m\u001b[1;33m[\u001b[0m\u001b[1;34m'Country'\u001b[0m\u001b[1;33m]\u001b[0m\u001b[1;33m==\u001b[0m\u001b[0mc\u001b[0m\u001b[1;33m]\u001b[0m\u001b[1;33m[\u001b[0m\u001b[1;34m'Scenario'\u001b[0m\u001b[1;33m]\u001b[0m\u001b[1;33m.\u001b[0m\u001b[0munique\u001b[0m\u001b[1;33m(\u001b[0m\u001b[1;33m)\u001b[0m\u001b[1;33m:\u001b[0m\u001b[1;33m\u001b[0m\u001b[1;33m\u001b[0m\u001b[0m\n\u001b[0;32m      3\u001b[0m         \u001b[1;32mfor\u001b[0m \u001b[0my\u001b[0m \u001b[1;32min\u001b[0m \u001b[0mdf\u001b[0m\u001b[1;33m[\u001b[0m\u001b[1;33m(\u001b[0m\u001b[0mdf\u001b[0m\u001b[1;33m[\u001b[0m\u001b[1;34m'Country'\u001b[0m\u001b[1;33m]\u001b[0m\u001b[1;33m==\u001b[0m\u001b[0mc\u001b[0m\u001b[1;33m)\u001b[0m\u001b[1;33m&\u001b[0m\u001b[1;33m(\u001b[0m\u001b[0mdf\u001b[0m\u001b[1;33m[\u001b[0m\u001b[1;34m'Scenario'\u001b[0m\u001b[1;33m]\u001b[0m\u001b[1;33m==\u001b[0m\u001b[0msc\u001b[0m\u001b[1;33m)\u001b[0m\u001b[1;33m]\u001b[0m\u001b[1;33m[\u001b[0m\u001b[1;34m'Year'\u001b[0m\u001b[1;33m]\u001b[0m\u001b[1;33m.\u001b[0m\u001b[0munique\u001b[0m\u001b[1;33m(\u001b[0m\u001b[1;33m)\u001b[0m\u001b[1;33m:\u001b[0m\u001b[1;33m\u001b[0m\u001b[1;33m\u001b[0m\u001b[0m\n\u001b[1;32m----> 4\u001b[1;33m             \u001b[0mdfc\u001b[0m \u001b[1;33m=\u001b[0m \u001b[0mdf\u001b[0m\u001b[1;33m[\u001b[0m\u001b[1;33m(\u001b[0m\u001b[0mdf\u001b[0m\u001b[1;33m[\u001b[0m\u001b[1;34m'Country'\u001b[0m\u001b[1;33m]\u001b[0m\u001b[1;33m==\u001b[0m\u001b[0mc\u001b[0m\u001b[1;33m)\u001b[0m\u001b[1;33m&\u001b[0m\u001b[1;33m(\u001b[0m\u001b[0mdf\u001b[0m\u001b[1;33m[\u001b[0m\u001b[1;34m'Scenario'\u001b[0m\u001b[1;33m]\u001b[0m\u001b[1;33m==\u001b[0m\u001b[0msc\u001b[0m\u001b[1;33m)\u001b[0m\u001b[1;33m&\u001b[0m\u001b[1;33m(\u001b[0m\u001b[0mdf\u001b[0m\u001b[1;33m[\u001b[0m\u001b[1;34m'Year'\u001b[0m\u001b[1;33m]\u001b[0m\u001b[1;33m==\u001b[0m\u001b[0my\u001b[0m\u001b[1;33m)\u001b[0m\u001b[1;33m]\u001b[0m\u001b[1;33m\u001b[0m\u001b[1;33m\u001b[0m\u001b[0m\n\u001b[0m\u001b[0;32m      5\u001b[0m             \u001b[0mprint\u001b[0m\u001b[1;33m(\u001b[0m\u001b[0mc\u001b[0m\u001b[1;33m,\u001b[0m\u001b[0msc\u001b[0m\u001b[1;33m,\u001b[0m \u001b[0my\u001b[0m\u001b[1;33m)\u001b[0m\u001b[1;33m\u001b[0m\u001b[1;33m\u001b[0m\u001b[0m\n",
      "\u001b[1;32m~\\Anaconda3\\lib\\site-packages\\pandas\\core\\ops\\__init__.py\u001b[0m in \u001b[0;36mwrapper\u001b[1;34m(self, other)\u001b[0m\n\u001b[0;32m   1299\u001b[0m         \u001b[1;32melif\u001b[0m \u001b[0misinstance\u001b[0m\u001b[1;33m(\u001b[0m\u001b[0mother\u001b[0m\u001b[1;33m,\u001b[0m \u001b[1;33m(\u001b[0m\u001b[0mABCSeries\u001b[0m\u001b[1;33m,\u001b[0m \u001b[0mABCIndexClass\u001b[0m\u001b[1;33m)\u001b[0m\u001b[1;33m)\u001b[0m\u001b[1;33m:\u001b[0m\u001b[1;33m\u001b[0m\u001b[1;33m\u001b[0m\u001b[0m\n\u001b[0;32m   1300\u001b[0m             \u001b[0mis_other_int_dtype\u001b[0m \u001b[1;33m=\u001b[0m \u001b[0mis_integer_dtype\u001b[0m\u001b[1;33m(\u001b[0m\u001b[0mother\u001b[0m\u001b[1;33m.\u001b[0m\u001b[0mdtype\u001b[0m\u001b[1;33m)\u001b[0m\u001b[1;33m\u001b[0m\u001b[1;33m\u001b[0m\u001b[0m\n\u001b[1;32m-> 1301\u001b[1;33m             \u001b[0mother\u001b[0m \u001b[1;33m=\u001b[0m \u001b[0mfill_int\u001b[0m\u001b[1;33m(\u001b[0m\u001b[0mother\u001b[0m\u001b[1;33m)\u001b[0m \u001b[1;32mif\u001b[0m \u001b[0mis_other_int_dtype\u001b[0m \u001b[1;32melse\u001b[0m \u001b[0mfill_bool\u001b[0m\u001b[1;33m(\u001b[0m\u001b[0mother\u001b[0m\u001b[1;33m)\u001b[0m\u001b[1;33m\u001b[0m\u001b[1;33m\u001b[0m\u001b[0m\n\u001b[0m\u001b[0;32m   1302\u001b[0m \u001b[1;33m\u001b[0m\u001b[0m\n\u001b[0;32m   1303\u001b[0m             \u001b[0movalues\u001b[0m \u001b[1;33m=\u001b[0m \u001b[0mother\u001b[0m\u001b[1;33m.\u001b[0m\u001b[0mvalues\u001b[0m\u001b[1;33m\u001b[0m\u001b[1;33m\u001b[0m\u001b[0m\n",
      "\u001b[1;32m~\\Anaconda3\\lib\\site-packages\\pandas\\core\\ops\\__init__.py\u001b[0m in \u001b[0;36m<lambda>\u001b[1;34m(x)\u001b[0m\n\u001b[0;32m   1285\u001b[0m \u001b[1;33m\u001b[0m\u001b[0m\n\u001b[0;32m   1286\u001b[0m     \u001b[0mfill_int\u001b[0m \u001b[1;33m=\u001b[0m \u001b[1;32mlambda\u001b[0m \u001b[0mx\u001b[0m\u001b[1;33m:\u001b[0m \u001b[0mx\u001b[0m\u001b[1;33m.\u001b[0m\u001b[0mfillna\u001b[0m\u001b[1;33m(\u001b[0m\u001b[1;36m0\u001b[0m\u001b[1;33m)\u001b[0m\u001b[1;33m\u001b[0m\u001b[1;33m\u001b[0m\u001b[0m\n\u001b[1;32m-> 1287\u001b[1;33m     \u001b[0mfill_bool\u001b[0m \u001b[1;33m=\u001b[0m \u001b[1;32mlambda\u001b[0m \u001b[0mx\u001b[0m\u001b[1;33m:\u001b[0m \u001b[0mx\u001b[0m\u001b[1;33m.\u001b[0m\u001b[0mfillna\u001b[0m\u001b[1;33m(\u001b[0m\u001b[1;32mFalse\u001b[0m\u001b[1;33m)\u001b[0m\u001b[1;33m.\u001b[0m\u001b[0mastype\u001b[0m\u001b[1;33m(\u001b[0m\u001b[0mbool\u001b[0m\u001b[1;33m)\u001b[0m\u001b[1;33m\u001b[0m\u001b[1;33m\u001b[0m\u001b[0m\n\u001b[0m\u001b[0;32m   1288\u001b[0m \u001b[1;33m\u001b[0m\u001b[0m\n\u001b[0;32m   1289\u001b[0m     \u001b[1;32mdef\u001b[0m \u001b[0mwrapper\u001b[0m\u001b[1;33m(\u001b[0m\u001b[0mself\u001b[0m\u001b[1;33m,\u001b[0m \u001b[0mother\u001b[0m\u001b[1;33m)\u001b[0m\u001b[1;33m:\u001b[0m\u001b[1;33m\u001b[0m\u001b[1;33m\u001b[0m\u001b[0m\n",
      "\u001b[1;32m~\\Anaconda3\\lib\\site-packages\\pandas\\core\\series.py\u001b[0m in \u001b[0;36mfillna\u001b[1;34m(self, value, method, axis, inplace, limit, downcast, **kwargs)\u001b[0m\n\u001b[0;32m   4343\u001b[0m             \u001b[0mlimit\u001b[0m\u001b[1;33m=\u001b[0m\u001b[0mlimit\u001b[0m\u001b[1;33m,\u001b[0m\u001b[1;33m\u001b[0m\u001b[1;33m\u001b[0m\u001b[0m\n\u001b[0;32m   4344\u001b[0m             \u001b[0mdowncast\u001b[0m\u001b[1;33m=\u001b[0m\u001b[0mdowncast\u001b[0m\u001b[1;33m,\u001b[0m\u001b[1;33m\u001b[0m\u001b[1;33m\u001b[0m\u001b[0m\n\u001b[1;32m-> 4345\u001b[1;33m             \u001b[1;33m**\u001b[0m\u001b[0mkwargs\u001b[0m\u001b[1;33m\u001b[0m\u001b[1;33m\u001b[0m\u001b[0m\n\u001b[0m\u001b[0;32m   4346\u001b[0m         )\n\u001b[0;32m   4347\u001b[0m \u001b[1;33m\u001b[0m\u001b[0m\n",
      "\u001b[1;32m~\\Anaconda3\\lib\\site-packages\\pandas\\core\\generic.py\u001b[0m in \u001b[0;36mfillna\u001b[1;34m(self, value, method, axis, inplace, limit, downcast)\u001b[0m\n\u001b[0;32m   6256\u001b[0m \u001b[1;33m\u001b[0m\u001b[0m\n\u001b[0;32m   6257\u001b[0m                 new_data = self._data.fillna(\n\u001b[1;32m-> 6258\u001b[1;33m                     \u001b[0mvalue\u001b[0m\u001b[1;33m=\u001b[0m\u001b[0mvalue\u001b[0m\u001b[1;33m,\u001b[0m \u001b[0mlimit\u001b[0m\u001b[1;33m=\u001b[0m\u001b[0mlimit\u001b[0m\u001b[1;33m,\u001b[0m \u001b[0minplace\u001b[0m\u001b[1;33m=\u001b[0m\u001b[0minplace\u001b[0m\u001b[1;33m,\u001b[0m \u001b[0mdowncast\u001b[0m\u001b[1;33m=\u001b[0m\u001b[0mdowncast\u001b[0m\u001b[1;33m\u001b[0m\u001b[1;33m\u001b[0m\u001b[0m\n\u001b[0m\u001b[0;32m   6259\u001b[0m                 )\n\u001b[0;32m   6260\u001b[0m \u001b[1;33m\u001b[0m\u001b[0m\n",
      "\u001b[1;32m~\\Anaconda3\\lib\\site-packages\\pandas\\core\\internals\\managers.py\u001b[0m in \u001b[0;36mfillna\u001b[1;34m(self, **kwargs)\u001b[0m\n\u001b[0;32m    573\u001b[0m \u001b[1;33m\u001b[0m\u001b[0m\n\u001b[0;32m    574\u001b[0m     \u001b[1;32mdef\u001b[0m \u001b[0mfillna\u001b[0m\u001b[1;33m(\u001b[0m\u001b[0mself\u001b[0m\u001b[1;33m,\u001b[0m \u001b[1;33m**\u001b[0m\u001b[0mkwargs\u001b[0m\u001b[1;33m)\u001b[0m\u001b[1;33m:\u001b[0m\u001b[1;33m\u001b[0m\u001b[1;33m\u001b[0m\u001b[0m\n\u001b[1;32m--> 575\u001b[1;33m         \u001b[1;32mreturn\u001b[0m \u001b[0mself\u001b[0m\u001b[1;33m.\u001b[0m\u001b[0mapply\u001b[0m\u001b[1;33m(\u001b[0m\u001b[1;34m\"fillna\"\u001b[0m\u001b[1;33m,\u001b[0m \u001b[1;33m**\u001b[0m\u001b[0mkwargs\u001b[0m\u001b[1;33m)\u001b[0m\u001b[1;33m\u001b[0m\u001b[1;33m\u001b[0m\u001b[0m\n\u001b[0m\u001b[0;32m    576\u001b[0m \u001b[1;33m\u001b[0m\u001b[0m\n\u001b[0;32m    577\u001b[0m     \u001b[1;32mdef\u001b[0m \u001b[0mdowncast\u001b[0m\u001b[1;33m(\u001b[0m\u001b[0mself\u001b[0m\u001b[1;33m,\u001b[0m \u001b[1;33m**\u001b[0m\u001b[0mkwargs\u001b[0m\u001b[1;33m)\u001b[0m\u001b[1;33m:\u001b[0m\u001b[1;33m\u001b[0m\u001b[1;33m\u001b[0m\u001b[0m\n",
      "\u001b[1;32m~\\Anaconda3\\lib\\site-packages\\pandas\\core\\internals\\managers.py\u001b[0m in \u001b[0;36mapply\u001b[1;34m(self, f, axes, filter, do_integrity_check, consolidate, **kwargs)\u001b[0m\n\u001b[0;32m    436\u001b[0m                     \u001b[0mkwargs\u001b[0m\u001b[1;33m[\u001b[0m\u001b[0mk\u001b[0m\u001b[1;33m]\u001b[0m \u001b[1;33m=\u001b[0m \u001b[0mobj\u001b[0m\u001b[1;33m.\u001b[0m\u001b[0mreindex\u001b[0m\u001b[1;33m(\u001b[0m\u001b[0mb_items\u001b[0m\u001b[1;33m,\u001b[0m \u001b[0maxis\u001b[0m\u001b[1;33m=\u001b[0m\u001b[0maxis\u001b[0m\u001b[1;33m,\u001b[0m \u001b[0mcopy\u001b[0m\u001b[1;33m=\u001b[0m\u001b[0malign_copy\u001b[0m\u001b[1;33m)\u001b[0m\u001b[1;33m\u001b[0m\u001b[1;33m\u001b[0m\u001b[0m\n\u001b[0;32m    437\u001b[0m \u001b[1;33m\u001b[0m\u001b[0m\n\u001b[1;32m--> 438\u001b[1;33m             \u001b[0mapplied\u001b[0m \u001b[1;33m=\u001b[0m \u001b[0mgetattr\u001b[0m\u001b[1;33m(\u001b[0m\u001b[0mb\u001b[0m\u001b[1;33m,\u001b[0m \u001b[0mf\u001b[0m\u001b[1;33m)\u001b[0m\u001b[1;33m(\u001b[0m\u001b[1;33m**\u001b[0m\u001b[0mkwargs\u001b[0m\u001b[1;33m)\u001b[0m\u001b[1;33m\u001b[0m\u001b[1;33m\u001b[0m\u001b[0m\n\u001b[0m\u001b[0;32m    439\u001b[0m             \u001b[0mresult_blocks\u001b[0m \u001b[1;33m=\u001b[0m \u001b[0m_extend_blocks\u001b[0m\u001b[1;33m(\u001b[0m\u001b[0mapplied\u001b[0m\u001b[1;33m,\u001b[0m \u001b[0mresult_blocks\u001b[0m\u001b[1;33m)\u001b[0m\u001b[1;33m\u001b[0m\u001b[1;33m\u001b[0m\u001b[0m\n\u001b[0;32m    440\u001b[0m \u001b[1;33m\u001b[0m\u001b[0m\n",
      "\u001b[1;32m~\\Anaconda3\\lib\\site-packages\\pandas\\core\\internals\\blocks.py\u001b[0m in \u001b[0;36mfillna\u001b[1;34m(self, value, limit, inplace, downcast)\u001b[0m\n\u001b[0;32m    404\u001b[0m         \u001b[0minplace\u001b[0m \u001b[1;33m=\u001b[0m \u001b[0mvalidate_bool_kwarg\u001b[0m\u001b[1;33m(\u001b[0m\u001b[0minplace\u001b[0m\u001b[1;33m,\u001b[0m \u001b[1;34m\"inplace\"\u001b[0m\u001b[1;33m)\u001b[0m\u001b[1;33m\u001b[0m\u001b[1;33m\u001b[0m\u001b[0m\n\u001b[0;32m    405\u001b[0m \u001b[1;33m\u001b[0m\u001b[0m\n\u001b[1;32m--> 406\u001b[1;33m         \u001b[0mmask\u001b[0m \u001b[1;33m=\u001b[0m \u001b[0misna\u001b[0m\u001b[1;33m(\u001b[0m\u001b[0mself\u001b[0m\u001b[1;33m.\u001b[0m\u001b[0mvalues\u001b[0m\u001b[1;33m)\u001b[0m\u001b[1;33m\u001b[0m\u001b[1;33m\u001b[0m\u001b[0m\n\u001b[0m\u001b[0;32m    407\u001b[0m         \u001b[1;32mif\u001b[0m \u001b[0mlimit\u001b[0m \u001b[1;32mis\u001b[0m \u001b[1;32mnot\u001b[0m \u001b[1;32mNone\u001b[0m\u001b[1;33m:\u001b[0m\u001b[1;33m\u001b[0m\u001b[1;33m\u001b[0m\u001b[0m\n\u001b[0;32m    408\u001b[0m             \u001b[1;32mif\u001b[0m \u001b[1;32mnot\u001b[0m \u001b[0mis_integer\u001b[0m\u001b[1;33m(\u001b[0m\u001b[0mlimit\u001b[0m\u001b[1;33m)\u001b[0m\u001b[1;33m:\u001b[0m\u001b[1;33m\u001b[0m\u001b[1;33m\u001b[0m\u001b[0m\n",
      "\u001b[1;32m~\\Anaconda3\\lib\\site-packages\\pandas\\core\\dtypes\\missing.py\u001b[0m in \u001b[0;36misna\u001b[1;34m(obj)\u001b[0m\n\u001b[0;32m    120\u001b[0m     \u001b[0mName\u001b[0m\u001b[1;33m:\u001b[0m \u001b[1;36m1\u001b[0m\u001b[1;33m,\u001b[0m \u001b[0mdtype\u001b[0m\u001b[1;33m:\u001b[0m \u001b[0mbool\u001b[0m\u001b[1;33m\u001b[0m\u001b[1;33m\u001b[0m\u001b[0m\n\u001b[0;32m    121\u001b[0m     \"\"\"\n\u001b[1;32m--> 122\u001b[1;33m     \u001b[1;32mreturn\u001b[0m \u001b[0m_isna\u001b[0m\u001b[1;33m(\u001b[0m\u001b[0mobj\u001b[0m\u001b[1;33m)\u001b[0m\u001b[1;33m\u001b[0m\u001b[1;33m\u001b[0m\u001b[0m\n\u001b[0m\u001b[0;32m    123\u001b[0m \u001b[1;33m\u001b[0m\u001b[0m\n\u001b[0;32m    124\u001b[0m \u001b[1;33m\u001b[0m\u001b[0m\n",
      "\u001b[1;32m~\\Anaconda3\\lib\\site-packages\\pandas\\core\\dtypes\\missing.py\u001b[0m in \u001b[0;36m_isna_new\u001b[1;34m(obj)\u001b[0m\n\u001b[0;32m    145\u001b[0m         ),\n\u001b[0;32m    146\u001b[0m     ):\n\u001b[1;32m--> 147\u001b[1;33m         \u001b[1;32mreturn\u001b[0m \u001b[0m_isna_ndarraylike\u001b[0m\u001b[1;33m(\u001b[0m\u001b[0mobj\u001b[0m\u001b[1;33m)\u001b[0m\u001b[1;33m\u001b[0m\u001b[1;33m\u001b[0m\u001b[0m\n\u001b[0m\u001b[0;32m    148\u001b[0m     \u001b[1;32melif\u001b[0m \u001b[0misinstance\u001b[0m\u001b[1;33m(\u001b[0m\u001b[0mobj\u001b[0m\u001b[1;33m,\u001b[0m \u001b[0mABCGeneric\u001b[0m\u001b[1;33m)\u001b[0m\u001b[1;33m:\u001b[0m\u001b[1;33m\u001b[0m\u001b[1;33m\u001b[0m\u001b[0m\n\u001b[0;32m    149\u001b[0m         \u001b[1;32mreturn\u001b[0m \u001b[0mobj\u001b[0m\u001b[1;33m.\u001b[0m\u001b[0m_constructor\u001b[0m\u001b[1;33m(\u001b[0m\u001b[0mobj\u001b[0m\u001b[1;33m.\u001b[0m\u001b[0m_data\u001b[0m\u001b[1;33m.\u001b[0m\u001b[0misna\u001b[0m\u001b[1;33m(\u001b[0m\u001b[0mfunc\u001b[0m\u001b[1;33m=\u001b[0m\u001b[0misna\u001b[0m\u001b[1;33m)\u001b[0m\u001b[1;33m)\u001b[0m\u001b[1;33m\u001b[0m\u001b[1;33m\u001b[0m\u001b[0m\n",
      "\u001b[1;32m~\\Anaconda3\\lib\\site-packages\\pandas\\core\\dtypes\\missing.py\u001b[0m in \u001b[0;36m_isna_ndarraylike\u001b[1;34m(obj)\u001b[0m\n\u001b[0;32m    254\u001b[0m         \u001b[0mresult\u001b[0m \u001b[1;33m=\u001b[0m \u001b[0mvalues\u001b[0m\u001b[1;33m.\u001b[0m\u001b[0mview\u001b[0m\u001b[1;33m(\u001b[0m\u001b[1;34m\"i8\"\u001b[0m\u001b[1;33m)\u001b[0m \u001b[1;33m==\u001b[0m \u001b[0miNaT\u001b[0m\u001b[1;33m\u001b[0m\u001b[1;33m\u001b[0m\u001b[0m\n\u001b[0;32m    255\u001b[0m     \u001b[1;32melse\u001b[0m\u001b[1;33m:\u001b[0m\u001b[1;33m\u001b[0m\u001b[1;33m\u001b[0m\u001b[0m\n\u001b[1;32m--> 256\u001b[1;33m         \u001b[0mresult\u001b[0m \u001b[1;33m=\u001b[0m \u001b[0mnp\u001b[0m\u001b[1;33m.\u001b[0m\u001b[0misnan\u001b[0m\u001b[1;33m(\u001b[0m\u001b[0mvalues\u001b[0m\u001b[1;33m)\u001b[0m\u001b[1;33m\u001b[0m\u001b[1;33m\u001b[0m\u001b[0m\n\u001b[0m\u001b[0;32m    257\u001b[0m \u001b[1;33m\u001b[0m\u001b[0m\n\u001b[0;32m    258\u001b[0m     \u001b[1;31m# box\u001b[0m\u001b[1;33m\u001b[0m\u001b[1;33m\u001b[0m\u001b[1;33m\u001b[0m\u001b[0m\n",
      "\u001b[1;31mKeyboardInterrupt\u001b[0m: "
     ]
    }
   ],
   "source": [
    "for c in ['UK','Uganda']:\n",
    "    for sc in df[df['Country']==c]['Scenario'].unique():\n",
    "        for y in df[(df['Country']==c)&(df['Scenario']==sc)]['Year'].unique():\n",
    "            dfc = df[(df['Country']==c)&(df['Scenario']==sc)&(df['Year']==y)]\n",
    "            print(c,sc, y)"
   ]
  },
  {
   "cell_type": "code",
   "execution_count": 39,
   "metadata": {},
   "outputs": [],
   "source": [
    "df = df.rename(columns = {'Source':'source','Target':'target'})\n",
    "c = 'Uganda'\n",
    "sc = 'Scenario 1'\n",
    "y = 2040\n",
    "dfc = df[(df['Country']==c)&(df['Scenario']==sc)&(df['Year']==y)]\n",
    "Sank = weave(sdd, dfc, measures='Value', \n",
    "      palette=palette).to_widget(**size,margins=dict(left=160, right=160))"
   ]
  },
  {
   "cell_type": "code",
   "execution_count": 40,
   "metadata": {},
   "outputs": [
    {
     "data": {
      "application/vnd.jupyter.widget-view+json": {
       "model_id": "925dd487be844493acce723680030122",
       "version_major": 2,
       "version_minor": 0
      },
      "text/plain": [
       "SankeyWidget(groups=[{'id': 'technologies', 'type': 'process', 'title': 'Technologies', 'nodes': ['technologie…"
      ]
     },
     "metadata": {},
     "output_type": "display_data"
    }
   ],
   "source": [
    "Sank.auto_save_png(r'figures/countries/'+c+'_'+sc[:4]+str(y)+'TESankey.png')"
   ]
  },
  {
   "cell_type": "markdown",
   "metadata": {},
   "source": [
    "# Sankeys for TEMBA"
   ]
  },
  {
   "cell_type": "code",
   "execution_count": 2,
   "metadata": {},
   "outputs": [],
   "source": [
    "df_TEMBA = pd.read_csv(r'C:/Users/KarlaC/MAT-DP/outputs/TEMBA_SANKEY_data.csv')"
   ]
  },
  {
   "cell_type": "code",
   "execution_count": 59,
   "metadata": {},
   "outputs": [
    {
     "data": {
      "text/html": [
       "<div>\n",
       "<style scoped>\n",
       "    .dataframe tbody tr th:only-of-type {\n",
       "        vertical-align: middle;\n",
       "    }\n",
       "\n",
       "    .dataframe tbody tr th {\n",
       "        vertical-align: top;\n",
       "    }\n",
       "\n",
       "    .dataframe thead th {\n",
       "        text-align: right;\n",
       "    }\n",
       "</style>\n",
       "<table border=\"1\" class=\"dataframe\">\n",
       "  <thead>\n",
       "    <tr style=\"text-align: right;\">\n",
       "      <th></th>\n",
       "      <th>Material</th>\n",
       "      <th>Region</th>\n",
       "      <th>Scenario</th>\n",
       "      <th>source</th>\n",
       "      <th>target</th>\n",
       "      <th>Unit</th>\n",
       "      <th>Value</th>\n",
       "      <th>Year</th>\n",
       "    </tr>\n",
       "  </thead>\n",
       "  <tbody>\n",
       "    <tr>\n",
       "      <td>0</td>\n",
       "      <td>Aluminium</td>\n",
       "      <td>Central Africa</td>\n",
       "      <td>1.5deg</td>\n",
       "      <td>BECCS</td>\n",
       "      <td>Embodied emissions</td>\n",
       "      <td>Mt CO2</td>\n",
       "      <td>0.0</td>\n",
       "      <td>2015</td>\n",
       "    </tr>\n",
       "    <tr>\n",
       "      <td>1</td>\n",
       "      <td>Bentonite</td>\n",
       "      <td>Central Africa</td>\n",
       "      <td>1.5deg</td>\n",
       "      <td>BECCS</td>\n",
       "      <td>Embodied emissions</td>\n",
       "      <td>Mt CO2</td>\n",
       "      <td>0.0</td>\n",
       "      <td>2015</td>\n",
       "    </tr>\n",
       "    <tr>\n",
       "      <td>2</td>\n",
       "      <td>Carbon Fiber</td>\n",
       "      <td>Central Africa</td>\n",
       "      <td>1.5deg</td>\n",
       "      <td>BECCS</td>\n",
       "      <td>Embodied emissions</td>\n",
       "      <td>Mt CO2</td>\n",
       "      <td>0.0</td>\n",
       "      <td>2015</td>\n",
       "    </tr>\n",
       "    <tr>\n",
       "      <td>3</td>\n",
       "      <td>Cast Iron</td>\n",
       "      <td>Central Africa</td>\n",
       "      <td>1.5deg</td>\n",
       "      <td>BECCS</td>\n",
       "      <td>Embodied emissions</td>\n",
       "      <td>Mt CO2</td>\n",
       "      <td>0.0</td>\n",
       "      <td>2015</td>\n",
       "    </tr>\n",
       "    <tr>\n",
       "      <td>4</td>\n",
       "      <td>Cement</td>\n",
       "      <td>Central Africa</td>\n",
       "      <td>1.5deg</td>\n",
       "      <td>BECCS</td>\n",
       "      <td>Embodied emissions</td>\n",
       "      <td>Mt CO2</td>\n",
       "      <td>0.0</td>\n",
       "      <td>2015</td>\n",
       "    </tr>\n",
       "  </tbody>\n",
       "</table>\n",
       "</div>"
      ],
      "text/plain": [
       "       Material          Region Scenario source              target    Unit  \\\n",
       "0     Aluminium  Central Africa   1.5deg  BECCS  Embodied emissions  Mt CO2   \n",
       "1     Bentonite  Central Africa   1.5deg  BECCS  Embodied emissions  Mt CO2   \n",
       "2  Carbon Fiber  Central Africa   1.5deg  BECCS  Embodied emissions  Mt CO2   \n",
       "3     Cast Iron  Central Africa   1.5deg  BECCS  Embodied emissions  Mt CO2   \n",
       "4        Cement  Central Africa   1.5deg  BECCS  Embodied emissions  Mt CO2   \n",
       "\n",
       "   Value  Year  \n",
       "0    0.0  2015  \n",
       "1    0.0  2015  \n",
       "2    0.0  2015  \n",
       "3    0.0  2015  \n",
       "4    0.0  2015  "
      ]
     },
     "execution_count": 59,
     "metadata": {},
     "output_type": "execute_result"
    }
   ],
   "source": [
    "df_TEMBA.head()"
   ]
  },
  {
   "cell_type": "code",
   "execution_count": 79,
   "metadata": {},
   "outputs": [],
   "source": [
    "#### DEFINE ALL SLICES IN ORDERING AS VARIABLES\n",
    "\n",
    "materials = ['Aluminium', 'Bentonite', 'Carbon Fiber',\n",
    "            'Cast Iron', 'Cement','Ceramics', 'Concrete','Copper', 'Epoxy', 'EVA ', 'Fibre Glass',\n",
    "            'Glass', 'Lubricant', 'Non-Ferrous Metal', 'Paint', 'Plastic', 'PVC','Resin', 'Sand',\n",
    "            'Silicon', 'Steel', 'Stainless Steel']\n",
    "\n",
    "technologies = ['Wind (Onshore)', 'Wind (Offshore)',\n",
    "       'Solar CSP', 'Solar PV', 'Hydro', 'Oil','Gas', 'Gas CCS', 'Nuclear',\n",
    "       'Geothermal', 'Coal', 'Coal CCS', 'Biomass', 'BECCS', 'Hydrogen']\n",
    "regions = ['Central Africa', 'Eastern Africa', 'Northern Africa',\n",
    "       'Southern Africa', 'Western Africa']\n",
    "\n",
    "emissions = ['Material embodied emissions']"
   ]
  },
  {
   "cell_type": "markdown",
   "metadata": {},
   "source": [
    "## Technologies to materials"
   ]
  },
  {
   "cell_type": "code",
   "execution_count": 44,
   "metadata": {},
   "outputs": [],
   "source": [
    "partition_type = Partition.Simple('Material',df['Material'].unique())\n",
    "nodes = {'technologies': ProcessGroup(technologies, Partition.Simple('process', technologies), title='Technologies'),\n",
    "         'materials': ProcessGroup(materials, Partition.Simple('process', materials), title='Materials')\n",
    "         }                         \n",
    "\n",
    "ordering = [\n",
    "    ['technologies'],\n",
    "     ['materials']\n",
    "    ]\n",
    "\n",
    "bundles = [\n",
    "    Bundle('technologies','materials')\n",
    "]\n",
    "\n",
    "colors = ['rgb(0.961, 1.034, 1.084)',\n",
    "#           'rgb(245, 237, 226)',\n",
    "        'rgb(179, 154, 154)',\n",
    "        'rgb(220, 142, 106)',\n",
    "        'rgb(232, 218, 120)',\n",
    "        'rgb(162, 77, 55)',\n",
    "        'rgb(187, 208, 182)',\n",
    "        'rgb(61, 50, 25)',\n",
    "        'rgb(195, 127, 120)',\n",
    "        'rgb(108, 139, 124)',\n",
    "        'rgb(183, 116, 87)',\n",
    "        'rgb(255, 253, 228)',\n",
    "        'rgb(155, 172, 162)',\n",
    "        'rgb(213, 219, 139)',\n",
    "        'rgb(32, 64, 79)',\n",
    "        'rgb(172, 162, 151)',\n",
    "        'rgb(222, 215, 199)',\n",
    "        'rgb(213, 237, 231)',\n",
    "        'rgb(87, 207, 197)',\n",
    "        'rgb(91, 110, 95)',\n",
    "        'rgb(251, 205, 198)',\n",
    "        'rgb(209, 211, 212)',\n",
    "        'rgb(182, 198, 226)'\n",
    "            ]\n",
    "\n",
    "# colors =['rgb(0.961, 1.034, 1.084)',\n",
    "#  'rbg(0.702, 0.604, 0.604)',\n",
    "#  '(0.863, 0.557, 0.416)',\n",
    "# '(0.91, 0.855, 0.471)',\n",
    "#  '(0.635, 0.302, 0.216)',\n",
    "# '(0.733, 0.816, 0.714)',\n",
    "# '(0.239, 0.196, 0.098)',\n",
    "# '(0.765, 0.498, 0.471)',\n",
    "#  '(0.424, 0.545, 0.486)',\n",
    "# '(0.718, 0.455, 0.341)',\n",
    "#  '(1.0, 0.992, 0.894)',\n",
    "# '(0.608, 0.675, 0.635)',\n",
    "#  '(0.835, 0.859, 0.545)',\n",
    "#  '(0.125, 0.251, 0.31)',\n",
    "# '(0.675, 0.635, 0.592)',\n",
    "#  '(0.871, 0.843, 0.78)',\n",
    "#  '(0.835, 0.929, 0.906)',\n",
    "#  '(0.341, 0.812, 0.773)',\n",
    "#  '(0.357, 0.431, 0.373)',\n",
    "#  '(0.984, 0.804, 0.776)',\n",
    "#  '(0.82, 0.827, 0.831)',\n",
    "#  '(0.714, 0.776, 0.886)']\n",
    "\n",
    "palette = pd.DataFrame(list(zip(materials,colors))).set_index(0)[1].to_dict()\n",
    "\n",
    "sdd = SankeyDefinition(nodes, bundles, ordering,flow_partition=partition_type)\n",
    "size = dict(width=1000, height=700)"
   ]
  },
  {
   "cell_type": "code",
   "execution_count": null,
   "metadata": {},
   "outputs": [],
   "source": [
    "# Floweaver can't save in loop\n",
    "# df = df.rename(columns = {'Source':'source','Target':'target'})\n",
    "# for c in ['UK','Uganda']:\n",
    "#     for sc in df[df['Country']==c]['Scenario'].unique():\n",
    "#         for y in df[(df['Country']==c)&(df['Scenario']==sc)]['Year'].unique():\n",
    "#             dfc = df[(df['Country']==c)&(df['Scenario']==sc)&(df['Year']==y)]\n",
    "#             print(c,sc, y)\n",
    "#             Sank = weave(sdd, dfc, measures='Value', \n",
    "#                   palette=palette).to_widget(**size,margins=dict(left=100, right=120))\n",
    "         "
   ]
  },
  {
   "cell_type": "code",
   "execution_count": null,
   "metadata": {},
   "outputs": [],
   "source": [
    "df_TEMBA = df_TEMBA.rename(columns = {'Source':'source','Target':'target'})\n",
    "# r = 'Central Africa'\n",
    "sc = 'Reference'\n",
    "y = 2010\n",
    "dfc = df_TEMBA[(df_TEMBA['Region']==r)&(df_TEMBA['Scenario']==sc)&(df_TEMBA['Year']==y)]\n",
    "Sank = weave(sdd, dfc, measures='Value', \n",
    "      palette=palette).to_widget(**size,margins=dict(left=160, right=160))"
   ]
  },
  {
   "cell_type": "code",
   "execution_count": null,
   "metadata": {},
   "outputs": [],
   "source": [
    "Sank.auto_save_png(r'figures/TEMBA/'+r+'_'+sc+str(y)+'TMSankey.png')"
   ]
  },
  {
   "cell_type": "markdown",
   "metadata": {},
   "source": [
    "## Technologies to emissions"
   ]
  },
  {
   "cell_type": "code",
   "execution_count": 85,
   "metadata": {},
   "outputs": [],
   "source": [
    "partition_type = Partition.Simple('Material',df_TEMBA['Material'].unique())\n",
    "partition_otype = Partition.Simple('Region', df_TEMBA['Region'].unique())\n",
    "nodes = {'technologies': ProcessGroup(technologies, Partition.Simple('process', technologies), title='Technologies'),\n",
    "#          'regions': ProcessGroup(regions,partition_otype, title='Region'),\n",
    "        'emissions': ProcessGroup(emissions, Partition.Simple('process', emissions), title='Embodied Emissions'),\n",
    "         'region': Waypoint(partition_otype, title = 'Region')\n",
    "         }                         \n",
    "# Partition.Simple('process', regions)\n",
    "\n",
    "ordering = [\n",
    "    ['technologies'],\n",
    "    ['region'],\n",
    "     ['emissions']\n",
    "    ]\n",
    "\n",
    "bundles = [\n",
    "    Bundle('technologies', 'emissions', waypoints=['region']),\n",
    "#     Bundle('regions', 'emissions')\n",
    "]\n",
    "\n",
    "colors = ['rgb(0.961, 1.034, 1.084)',\n",
    "#           'rgb(245, 237, 226)',\n",
    "        'rgb(179, 154, 154)',\n",
    "        'rgb(220, 142, 106)',\n",
    "        'rgb(232, 218, 120)',\n",
    "        'rgb(162, 77, 55)',\n",
    "        'rgb(187, 208, 182)',\n",
    "        'rgb(61, 50, 25)',\n",
    "        'rgb(195, 127, 120)',\n",
    "        'rgb(108, 139, 124)',\n",
    "        'rgb(183, 116, 87)',\n",
    "        'rgb(255, 253, 228)',\n",
    "        'rgb(155, 172, 162)',\n",
    "        'rgb(213, 219, 139)',\n",
    "        'rgb(32, 64, 79)',\n",
    "        'rgb(172, 162, 151)',\n",
    "        'rgb(222, 215, 199)',\n",
    "        'rgb(213, 237, 231)',\n",
    "        'rgb(87, 207, 197)',\n",
    "        'rgb(91, 110, 95)',\n",
    "        'rgb(251, 205, 198)',\n",
    "        'rgb(209, 211, 212)',\n",
    "        'rgb(182, 198, 226)'\n",
    "            ]\n",
    "\n",
    "palette = pd.DataFrame(list(zip(materials,colors))).set_index(0)[1].to_dict()\n",
    "\n",
    "sdd = SankeyDefinition(nodes, bundles, ordering,flow_partition=partition_type)\n",
    "size = dict(width=1000, height=700)"
   ]
  },
  {
   "cell_type": "code",
   "execution_count": null,
   "metadata": {},
   "outputs": [],
   "source": [
    "# for c in ['UK','Uganda']:\n",
    "#     for sc in df[df['Country']==c]['Scenario'].unique():\n",
    "#         for y in df[(df['Country']==c)&(df['Scenario']==sc)]['Year'].unique():\n",
    "#             dfc = df[(df['Country']==c)&(df['Scenario']==sc)&(df['Year']==y)]\n",
    "#             print(c,sc, y)"
   ]
  },
  {
   "cell_type": "code",
   "execution_count": 87,
   "metadata": {},
   "outputs": [
    {
     "data": {
      "application/vnd.jupyter.widget-view+json": {
       "model_id": "b765e426d4ec4398baeef80ca2c466c1",
       "version_major": 2,
       "version_minor": 0
      },
      "text/plain": [
       "SankeyWidget(groups=[{'id': 'technologies', 'type': 'process', 'title': 'Technologies', 'nodes': ['technologie…"
      ]
     },
     "metadata": {},
     "output_type": "display_data"
    }
   ],
   "source": [
    "df_TEMBA = df_TEMBA.rename(columns = {'Source':'source','Target':'target'})\n",
    "# r = 'Central Africa'\n",
    "sc = 'Reference'\n",
    "y = 2065\n",
    "dfc = df_TEMBA[(df_TEMBA['Scenario']==sc)&(df_TEMBA['Year']==y)]\n",
    "# Sank = \n",
    "weave(sdd, dfc, measures='Value', \n",
    "      palette=palette).to_widget(**size,margins=dict(left=160, right=160))"
   ]
  },
  {
   "cell_type": "code",
   "execution_count": 77,
   "metadata": {},
   "outputs": [],
   "source": [
    "Sank.auto_save_png(r'figures/TEMBA/'+'_'+sc[:4]+str(y)+'TESankey.png')"
   ]
  },
  {
   "cell_type": "code",
   "execution_count": null,
   "metadata": {},
   "outputs": [],
   "source": [
    "# example from Leo's Sankey below\n",
    "# http://localhost:8889/notebooks/Dropbox%20(Cambridge%20University)/Leonardo%20PhD/3rd%20Chapter/IEA%20Future%20Scenario/SankeyETP-2014(KCB2020).ipynb"
   ]
  },
  {
   "cell_type": "code",
   "execution_count": null,
   "metadata": {},
   "outputs": [],
   "source": [
    "#### DEFINE ALL SLICES IN ORDERING AS VARIABLES\n",
    "\n",
    "#inputs = slice 0\n",
    "\n",
    "# primaryenergy=['Oil', 'Coal',  'Nuclear', 'Biomass and waste',\n",
    "#        'Renewable', 'Hydrogen', 'Other','Natural gas','Ambient gain']\n",
    "\n",
    "# transform =['Fuel Processing','Power Plants']\n",
    "\n",
    "# sectors = ['Road-Light','Road-Heavy','Aviation', 'Navigation','Rail','Agriculture', 'Industry', 'Residential', 'Services']\n",
    "\n",
    "\n",
    "# slice_2 = ['Mechanical', 'Process Heating Indirect', \n",
    "#        'Process Heating Direct', 'Hot Water','Space Heating','Process Cooling', 'Space Cooling',\n",
    "#         'Information', 'Illumination']\n",
    "\n",
    "# devices = ['Spark Ignition Engine','Fuel Cell', 'Diesel Engine','Gas Turbine', 'Electric Motor',\n",
    "#            'Boiler', 'Burner','Heat Pump','Electric Heater', 'Cooler',\n",
    "#          'Electronics', 'Light Device',\n",
    "#         ]\n",
    "\n",
    "# useful = ['Work','Thermal' , 'Information','loss']"
   ]
  },
  {
   "cell_type": "code",
   "execution_count": null,
   "metadata": {},
   "outputs": [],
   "source": [
    "\n",
    "# partition_type = Partition.Simple('material',df['material'].unique())\n",
    "\n",
    "# nodes = {\n",
    "#     'primary':ProcessGroup(primaryenergy),\n",
    "#     'transform': ProcessGroup(transform),\n",
    "#     'sector': ProcessGroup(sectors),\n",
    "#     'device': ProcessGroup(devices),\n",
    "#     'useful': ProcessGroup(useful),\n",
    "    \n",
    "# }\n",
    "\n",
    "# # Partition\n",
    "# nodes['primary'].partition =Partition.Simple('process',primaryenergy)\n",
    "\n",
    "# nodes['transform'].partition =Partition.Simple('process',transform)\n",
    "# nodes['sector'].partition =Partition.Simple('process',sectors)\n",
    "# nodes['device'].partition =Partition.Simple('process',devices)\n",
    "# nodes['useful'].partition =Partition.Simple('process',useful)\n",
    "\n",
    "# #Waypoints\n",
    "\n",
    "\n",
    "# # Order\n",
    "# ordering = [\n",
    "#     ['primary'],\n",
    "#     ['transform'],\n",
    "#     ['sector' ],\n",
    "#     ['device' ],\n",
    "#     ['useful']\n",
    "# ]\n",
    "\n",
    "# palette_leo={'Coal':'black',\n",
    "#              'Nuclear':'purple',\n",
    "#              'Natural gas':'blue',\n",
    "#             'Electricity':'yellow',\n",
    "#              'Heat':'orange',\n",
    "#             'Oil products':'brown',\n",
    "#              'Oil':'brown',\n",
    "#              'Renewable':'green',\n",
    "#             'Biomass, waste and other renewables':'green',\n",
    "#             'Biomass and waste':'green'}\n",
    "\n",
    "# bundles = [ \n",
    "#     Bundle('primary', 'transform'),\n",
    "#     Bundle('transform', 'sector'),\n",
    "#     Bundle('sector', 'device'),\n",
    "#     Bundle('device', 'useful')\n",
    "#            ]\n",
    "\n",
    "# sdd = SankeyDefinition(nodes, bundles, ordering,flow_partition=partition_type)\n",
    "# size = dict(width=1000, height=600)"
   ]
  },
  {
   "cell_type": "code",
   "execution_count": null,
   "metadata": {},
   "outputs": [],
   "source": [
    "\n",
    "# weave(sdd, df,measures='energy',palette=palette_leo).to_widget(**size)\n"
   ]
  },
  {
   "cell_type": "code",
   "execution_count": null,
   "metadata": {},
   "outputs": [],
   "source": []
  },
  {
   "cell_type": "code",
   "execution_count": null,
   "metadata": {},
   "outputs": [],
   "source": []
  }
 ],
 "metadata": {
  "kernelspec": {
   "display_name": "Python 3",
   "language": "python",
   "name": "python3"
  },
  "language_info": {
   "codemirror_mode": {
    "name": "ipython",
    "version": 3
   },
   "file_extension": ".py",
   "mimetype": "text/x-python",
   "name": "python",
   "nbconvert_exporter": "python",
   "pygments_lexer": "ipython3",
   "version": "3.6.9"
  },
  "toc": {
   "base_numbering": 1,
   "nav_menu": {},
   "number_sections": true,
   "sideBar": true,
   "skip_h1_title": false,
   "title_cell": "Table of Contents",
   "title_sidebar": "Contents",
   "toc_cell": false,
   "toc_position": {
    "height": "calc(100% - 180px)",
    "left": "10px",
    "top": "150px",
    "width": "227px"
   },
   "toc_section_display": true,
   "toc_window_display": true
  }
 },
 "nbformat": 4,
 "nbformat_minor": 2
}
