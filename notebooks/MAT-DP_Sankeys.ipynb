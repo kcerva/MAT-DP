{
 "cells": [
  {
   "cell_type": "code",
   "execution_count": 162,
   "metadata": {},
   "outputs": [],
   "source": [
    "import matplotlib.pyplot as plt\n",
    "import pandas as pd\n",
    "import numpy as np\n",
    "# import seaborn as sns\n",
    "import plotly\n",
    "import plotly_express as px\n",
    "import os\n",
    "import plotly.io as pio\n",
    "from floweaver import *\n",
    "from ipysankeywidget import SankeyWidget"
   ]
  },
  {
   "cell_type": "code",
   "execution_count": 4,
   "metadata": {},
   "outputs": [],
   "source": [
    "# Setting working directory\n",
    "os.chdir ('C:\\\\Users\\\\KarlaC\\\\MAT-DP\\\\')\n",
    "\n",
    "# Make folders for figures\n",
    "if not os.path.exists('figures'):\n",
    "    os.makedirs('figures')\n",
    "    \n",
    "if not os.path.exists('figures\\countries'):\n",
    "    os.makedirs('figures\\countries')\n",
    "if not os.path.exists('outputs'):\n",
    "    os.makedirs('outputs')"
   ]
  },
  {
   "cell_type": "code",
   "execution_count": null,
   "metadata": {},
   "outputs": [],
   "source": [
    "# for ne in ['E', 'W', 'K', 'R']:\n",
    "#     globals()['df{}_country'.format(ne)] = pd.read_csv(r'outputs/df{}_total_bycountry.csv'.format(ne))\n",
    "#     globals()['dfcountry_tech_{}'.format(ne)]= pd.read_csv(r'outputs/df{}_tech_bycountry.csv'.format(ne))\n",
    "#     globals()['e_df{0}_countries_sep'.format(ne)]= pd.read_csv(r'outputs/errors{}_bymat_bycountry.csv'.format(ne))\n",
    "#     globals()['e_df{0}c_tot'.format(ne)]= pd.read_csv(r'outputs/errors{}_total_bycountry.csv'.format(ne))\n",
    "#     globals()['df{}c_tech_sep'.format(ne)]= pd.read_csv(r'outputs/{}_matbytech_bycountry.csv'.format(ne))\n"
   ]
  },
  {
   "cell_type": "code",
   "execution_count": 20,
   "metadata": {
    "scrolled": true
   },
   "outputs": [],
   "source": [
    "dfEc_tech_sep = pd.read_csv(r'outputs/E_matbytech_bycountry.csv')\n",
    "\n",
    "dfEc_tech_sep_m = pd.melt(dfEc_tech_sep.drop(columns = 'Unnamed: 0'), \n",
    "                     id_vars = ['tech', 'Scenario','Country','Year'], \n",
    "                     var_name = 'Material', value_name = 'Value')\n",
    "dfEc_tech_sep_m['Value'] = [x/1e12 for x in dfEc_tech_sep_m['Value']]\n",
    "\n",
    "# W /1000\n",
    "# K R /1e6\n",
    "df_E = dfEc_tech_sep_m.rename(columns = {'tech':'Source'})\n",
    "df_E['Target'] = 'Embodied emissions'#df_E['Material']\n"
   ]
  },
  {
   "cell_type": "code",
   "execution_count": 145,
   "metadata": {},
   "outputs": [],
   "source": [
    "mat_country = pd.read_csv(r'outputs/massmat_bytech_bycountry.csv')\n",
    "\n",
    "mat_country_m = pd.melt(mat_country, \n",
    "                     id_vars = ['tech', 'Scenario','Country','Year'], \n",
    "                     var_name = 'Material', value_name = 'Value')\n",
    "\n",
    "df_M = mat_country_m.rename(columns = {'Material':'Target','tech':'Source'})\n",
    "df_M['Material'] = df_M['Target']"
   ]
  },
  {
   "cell_type": "code",
   "execution_count": 146,
   "metadata": {
    "scrolled": true
   },
   "outputs": [],
   "source": [
    "df = pd.DataFrame(columns = ['Material','Source','Target','Value','Year','Scenario','Country'])\n",
    "\n",
    "df = df.append(df_E)\n",
    "df = df.append(df_M)\n"
   ]
  },
  {
   "cell_type": "code",
   "execution_count": 224,
   "metadata": {},
   "outputs": [
    {
     "data": {
      "text/html": [
       "<div>\n",
       "<style scoped>\n",
       "    .dataframe tbody tr th:only-of-type {\n",
       "        vertical-align: middle;\n",
       "    }\n",
       "\n",
       "    .dataframe tbody tr th {\n",
       "        vertical-align: top;\n",
       "    }\n",
       "\n",
       "    .dataframe thead th {\n",
       "        text-align: right;\n",
       "    }\n",
       "</style>\n",
       "<table border=\"1\" class=\"dataframe\">\n",
       "  <thead>\n",
       "    <tr style=\"text-align: right;\">\n",
       "      <th></th>\n",
       "      <th>Country</th>\n",
       "      <th>Material</th>\n",
       "      <th>Scenario</th>\n",
       "      <th>source</th>\n",
       "      <th>target</th>\n",
       "      <th>Value</th>\n",
       "      <th>Year</th>\n",
       "    </tr>\n",
       "  </thead>\n",
       "  <tbody>\n",
       "    <tr>\n",
       "      <td>0</td>\n",
       "      <td>Uganda</td>\n",
       "      <td>Aluminium</td>\n",
       "      <td>Baseline</td>\n",
       "      <td>Wind (Onshore)</td>\n",
       "      <td>Embodied emissions</td>\n",
       "      <td>0.000002</td>\n",
       "      <td>2010</td>\n",
       "    </tr>\n",
       "    <tr>\n",
       "      <td>1</td>\n",
       "      <td>Uganda</td>\n",
       "      <td>Aluminium</td>\n",
       "      <td>Baseline</td>\n",
       "      <td>Solar CSP</td>\n",
       "      <td>Embodied emissions</td>\n",
       "      <td>0.000000</td>\n",
       "      <td>2010</td>\n",
       "    </tr>\n",
       "    <tr>\n",
       "      <td>2</td>\n",
       "      <td>Uganda</td>\n",
       "      <td>Aluminium</td>\n",
       "      <td>Baseline</td>\n",
       "      <td>Solar PV</td>\n",
       "      <td>Embodied emissions</td>\n",
       "      <td>0.000000</td>\n",
       "      <td>2010</td>\n",
       "    </tr>\n",
       "    <tr>\n",
       "      <td>3</td>\n",
       "      <td>Uganda</td>\n",
       "      <td>Aluminium</td>\n",
       "      <td>Baseline</td>\n",
       "      <td>Hydro</td>\n",
       "      <td>Embodied emissions</td>\n",
       "      <td>0.000000</td>\n",
       "      <td>2010</td>\n",
       "    </tr>\n",
       "    <tr>\n",
       "      <td>4</td>\n",
       "      <td>Uganda</td>\n",
       "      <td>Aluminium</td>\n",
       "      <td>Baseline</td>\n",
       "      <td>Geothermal</td>\n",
       "      <td>Embodied emissions</td>\n",
       "      <td>0.001205</td>\n",
       "      <td>2010</td>\n",
       "    </tr>\n",
       "  </tbody>\n",
       "</table>\n",
       "</div>"
      ],
      "text/plain": [
       "  Country   Material  Scenario          source              target     Value  \\\n",
       "0  Uganda  Aluminium  Baseline  Wind (Onshore)  Embodied emissions  0.000002   \n",
       "1  Uganda  Aluminium  Baseline       Solar CSP  Embodied emissions  0.000000   \n",
       "2  Uganda  Aluminium  Baseline        Solar PV  Embodied emissions  0.000000   \n",
       "3  Uganda  Aluminium  Baseline           Hydro  Embodied emissions  0.000000   \n",
       "4  Uganda  Aluminium  Baseline      Geothermal  Embodied emissions  0.001205   \n",
       "\n",
       "   Year  \n",
       "0  2010  \n",
       "1  2010  \n",
       "2  2010  \n",
       "3  2010  \n",
       "4  2010  "
      ]
     },
     "execution_count": 224,
     "metadata": {},
     "output_type": "execute_result"
    }
   ],
   "source": [
    "df.head()"
   ]
  },
  {
   "cell_type": "code",
   "execution_count": 223,
   "metadata": {},
   "outputs": [],
   "source": [
    "df.to_csv(r'outputs/sankey_data.csv',index=False)\n"
   ]
  },
  {
   "cell_type": "code",
   "execution_count": 147,
   "metadata": {},
   "outputs": [],
   "source": [
    "#### DEFINE ALL SLICES IN ORDERING AS VARIABLES\n",
    "\n",
    "materials = ['Aluminium', 'Bentonite', 'Carbon Fiber',\n",
    "            'Cast Iron', 'Cement','Ceramics', 'Concrete','Copper', 'Epoxy', 'EVA ', 'Fibre Glass',\n",
    "            'Glass', 'Lubricant', 'Non-Ferrous Metal', 'Paint', 'Plastic', 'PVC','Resin', 'Sand',\n",
    "            'Silicon', 'Steel', 'Stainless Steel']\n",
    "\n",
    "technologies = ['Wind (Onshore)', 'Wind (Offshore)',\n",
    "       'Solar CSP', 'Solar PV', 'Hydro', 'Oil','Gas', 'Gas CCS', 'Nuclear',\n",
    "       'Geothermal', 'Coal', 'Coal CCS', 'Biomass', 'BECCS', 'Hydrogen']\n",
    "\n",
    "emissions = ['Material embodied emissions']\n"
   ]
  },
  {
   "cell_type": "markdown",
   "metadata": {},
   "source": [
    "# Technologies to materials"
   ]
  },
  {
   "cell_type": "code",
   "execution_count": 192,
   "metadata": {},
   "outputs": [],
   "source": [
    "partition_type = Partition.Simple('Material',df['Material'].unique())\n",
    "nodes = {'technologies': ProcessGroup(technologies, Partition.Simple('process', technologies), title='Technologies'),\n",
    "         'materials': ProcessGroup(materials, Partition.Simple('process', materials), title='Materials')\n",
    "         }                         \n",
    "\n",
    "ordering = [\n",
    "    ['technologies'],\n",
    "     ['materials']\n",
    "    ]\n",
    "\n",
    "bundles = [\n",
    "    Bundle('technologies','materials')\n",
    "]\n",
    "\n",
    "colors = ['rgb(0.961, 1.034, 1.084)',\n",
    "#           'rgb(245, 237, 226)',\n",
    "        'rgb(179, 154, 154)',\n",
    "        'rgb(220, 142, 106)',\n",
    "        'rgb(232, 218, 120)',\n",
    "        'rgb(162, 77, 55)',\n",
    "        'rgb(187, 208, 182)',\n",
    "        'rgb(61, 50, 25)',\n",
    "        'rgb(195, 127, 120)',\n",
    "        'rgb(108, 139, 124)',\n",
    "        'rgb(183, 116, 87)',\n",
    "        'rgb(255, 253, 228)',\n",
    "        'rgb(155, 172, 162)',\n",
    "        'rgb(213, 219, 139)',\n",
    "        'rgb(32, 64, 79)',\n",
    "        'rgb(172, 162, 151)',\n",
    "        'rgb(222, 215, 199)',\n",
    "        'rgb(213, 237, 231)',\n",
    "        'rgb(87, 207, 197)',\n",
    "        'rgb(91, 110, 95)',\n",
    "        'rgb(251, 205, 198)',\n",
    "        'rgb(209, 211, 212)',\n",
    "        'rgb(182, 198, 226)'\n",
    "            ]\n",
    "\n",
    "# colors =['rgb(0.961, 1.034, 1.084)',\n",
    "#  'rbg(0.702, 0.604, 0.604)',\n",
    "#  '(0.863, 0.557, 0.416)',\n",
    "# '(0.91, 0.855, 0.471)',\n",
    "#  '(0.635, 0.302, 0.216)',\n",
    "# '(0.733, 0.816, 0.714)',\n",
    "# '(0.239, 0.196, 0.098)',\n",
    "# '(0.765, 0.498, 0.471)',\n",
    "#  '(0.424, 0.545, 0.486)',\n",
    "# '(0.718, 0.455, 0.341)',\n",
    "#  '(1.0, 0.992, 0.894)',\n",
    "# '(0.608, 0.675, 0.635)',\n",
    "#  '(0.835, 0.859, 0.545)',\n",
    "#  '(0.125, 0.251, 0.31)',\n",
    "# '(0.675, 0.635, 0.592)',\n",
    "#  '(0.871, 0.843, 0.78)',\n",
    "#  '(0.835, 0.929, 0.906)',\n",
    "#  '(0.341, 0.812, 0.773)',\n",
    "#  '(0.357, 0.431, 0.373)',\n",
    "#  '(0.984, 0.804, 0.776)',\n",
    "#  '(0.82, 0.827, 0.831)',\n",
    "#  '(0.714, 0.776, 0.886)']\n",
    "\n",
    "palette = pd.DataFrame(list(zip(materials,colors))).set_index(0)[1].to_dict()\n",
    "\n",
    "sdd = SankeyDefinition(nodes, bundles, ordering,flow_partition=partition_type)\n",
    "size = dict(width=1300, height=600)"
   ]
  },
  {
   "cell_type": "code",
   "execution_count": 125,
   "metadata": {
    "scrolled": true
   },
   "outputs": [
    {
     "name": "stdout",
     "output_type": "stream",
     "text": [
      "UK Baseline 2020\n",
      "UK Consumer Transformation 2050\n",
      "UK System Transformation 2050\n",
      "UK Leading the Way 2050\n",
      "UK Steady Progression 2050\n",
      "Uganda Baseline 2010\n",
      "Uganda Scenario 1 2040\n"
     ]
    }
   ],
   "source": [
    "# Floweaver can't save in loop\n",
    "# df = df.rename(columns = {'Source':'source','Target':'target'})\n",
    "# for c in ['UK','Uganda']:\n",
    "#     for sc in df[df['Country']==c]['Scenario'].unique():\n",
    "#         for y in df[(df['Country']==c)&(df['Scenario']==sc)]['Year'].unique():\n",
    "#             dfc = df[(df['Country']==c)&(df['Scenario']==sc)&(df['Year']==y)]\n",
    "#             print(c,sc, y)\n",
    "#             Sank = weave(sdd, dfc, measures='Value', \n",
    "#                   palette=palette).to_widget(**size,margins=dict(left=100, right=120))\n",
    "         "
   ]
  },
  {
   "cell_type": "code",
   "execution_count": 203,
   "metadata": {},
   "outputs": [],
   "source": [
    "df = df.rename(columns = {'Source':'source','Target':'target'})\n",
    "c = 'Uganda'\n",
    "sc = 'Scenario 1'\n",
    "y = 2040\n",
    "dfc = df[(df['Country']==c)&(df['Scenario']==sc)&(df['Year']==y)]\n",
    "Sank = weave(sdd, dfc, measures='Value', \n",
    "      palette=palette).to_widget(**size,margins=dict(left=120, right=120))"
   ]
  },
  {
   "cell_type": "code",
   "execution_count": 204,
   "metadata": {},
   "outputs": [
    {
     "data": {
      "application/vnd.jupyter.widget-view+json": {
       "model_id": "172aca2d5e254c0c90fa86e8587a9044",
       "version_major": 2,
       "version_minor": 0
      },
      "text/plain": [
       "SankeyWidget(groups=[{'id': 'technologies', 'type': 'process', 'title': 'Technologies', 'nodes': ['technologie…"
      ]
     },
     "metadata": {},
     "output_type": "display_data"
    }
   ],
   "source": [
    "Sank.auto_save_png(r'figures/countries/'+c+'_'+sc[:4]+str(y)+'TMSankey.png')"
   ]
  },
  {
   "cell_type": "markdown",
   "metadata": {},
   "source": [
    "# Technologies to emissions"
   ]
  },
  {
   "cell_type": "code",
   "execution_count": 205,
   "metadata": {},
   "outputs": [],
   "source": [
    "partition_type = Partition.Simple('Material',df['Material'].unique())\n",
    "nodes = {'technologies': ProcessGroup(technologies, Partition.Simple('process', technologies), title='Technologies'),\n",
    "        'emissions': ProcessGroup(emissions, Partition.Simple('process', emissions), title='Embodied Emissions')\n",
    "         }                         \n",
    "\n",
    "ordering = [\n",
    "    ['technologies'],\n",
    "     ['emissions']\n",
    "    ]\n",
    "\n",
    "bundles = [\n",
    "    Bundle('technologies', 'emissions')\n",
    "]\n",
    "\n",
    "\n",
    "colors = ['rgb(0.961, 1.034, 1.084)',\n",
    "#           'rgb(245, 237, 226)',\n",
    "        'rgb(179, 154, 154)',\n",
    "        'rgb(220, 142, 106)',\n",
    "        'rgb(232, 218, 120)',\n",
    "        'rgb(162, 77, 55)',\n",
    "        'rgb(187, 208, 182)',\n",
    "        'rgb(61, 50, 25)',\n",
    "        'rgb(195, 127, 120)',\n",
    "        'rgb(108, 139, 124)',\n",
    "        'rgb(183, 116, 87)',\n",
    "        'rgb(255, 253, 228)',\n",
    "        'rgb(155, 172, 162)',\n",
    "        'rgb(213, 219, 139)',\n",
    "        'rgb(32, 64, 79)',\n",
    "        'rgb(172, 162, 151)',\n",
    "        'rgb(222, 215, 199)',\n",
    "        'rgb(213, 237, 231)',\n",
    "        'rgb(87, 207, 197)',\n",
    "        'rgb(91, 110, 95)',\n",
    "        'rgb(251, 205, 198)',\n",
    "        'rgb(209, 211, 212)',\n",
    "        'rgb(182, 198, 226)'\n",
    "            ]\n",
    "\n",
    "palette = pd.DataFrame(list(zip(materials,colors))).set_index(0)[1].to_dict()\n",
    "\n",
    "sdd = SankeyDefinition(nodes, bundles, ordering,flow_partition=partition_type)\n",
    "size = dict(width=1300, height=600)"
   ]
  },
  {
   "cell_type": "code",
   "execution_count": 206,
   "metadata": {},
   "outputs": [
    {
     "name": "stdout",
     "output_type": "stream",
     "text": [
      "UK Baseline 2020\n",
      "UK Consumer Transformation 2050\n",
      "UK System Transformation 2050\n",
      "UK Leading the Way 2050\n",
      "UK Steady Progression 2050\n",
      "Uganda Baseline 2010\n",
      "Uganda Scenario 1 2040\n"
     ]
    }
   ],
   "source": [
    "for c in ['UK','Uganda']:\n",
    "    for sc in df[df['Country']==c]['Scenario'].unique():\n",
    "        for y in df[(df['Country']==c)&(df['Scenario']==sc)]['Year'].unique():\n",
    "            dfc = df[(df['Country']==c)&(df['Scenario']==sc)&(df['Year']==y)]\n",
    "            print(c,sc, y)"
   ]
  },
  {
   "cell_type": "code",
   "execution_count": 221,
   "metadata": {},
   "outputs": [],
   "source": [
    "df = df.rename(columns = {'Source':'source','Target':'target'})\n",
    "c = 'Uganda'\n",
    "sc = 'Scenario 1'\n",
    "y = 2040\n",
    "dfc = df[(df['Country']==c)&(df['Scenario']==sc)&(df['Year']==y)]\n",
    "Sank = weave(sdd, dfc, measures='Value', \n",
    "      palette=palette).to_widget(**size,margins=dict(left=120, right=300))"
   ]
  },
  {
   "cell_type": "code",
   "execution_count": 222,
   "metadata": {},
   "outputs": [
    {
     "data": {
      "application/vnd.jupyter.widget-view+json": {
       "model_id": "b19c8fcd2c764312b3d316b6675e34bf",
       "version_major": 2,
       "version_minor": 0
      },
      "text/plain": [
       "SankeyWidget(groups=[{'id': 'technologies', 'type': 'process', 'title': 'Technologies', 'nodes': ['technologie…"
      ]
     },
     "metadata": {},
     "output_type": "display_data"
    }
   ],
   "source": [
    "Sank.auto_save_png(r'figures/countries/'+c+'_'+sc[:4]+str(y)+'TESankey.png')"
   ]
  },
  {
   "cell_type": "code",
   "execution_count": null,
   "metadata": {},
   "outputs": [],
   "source": [
    "# example from Leo's Sankey below\n",
    "# http://localhost:8889/notebooks/Dropbox%20(Cambridge%20University)/Leonardo%20PhD/3rd%20Chapter/IEA%20Future%20Scenario/SankeyETP-2014(KCB2020).ipynb"
   ]
  },
  {
   "cell_type": "code",
   "execution_count": null,
   "metadata": {},
   "outputs": [],
   "source": [
    "#### DEFINE ALL SLICES IN ORDERING AS VARIABLES\n",
    "\n",
    "#inputs = slice 0\n",
    "\n",
    "# primaryenergy=['Oil', 'Coal',  'Nuclear', 'Biomass and waste',\n",
    "#        'Renewable', 'Hydrogen', 'Other','Natural gas','Ambient gain']\n",
    "\n",
    "# transform =['Fuel Processing','Power Plants']\n",
    "\n",
    "# sectors = ['Road-Light','Road-Heavy','Aviation', 'Navigation','Rail','Agriculture', 'Industry', 'Residential', 'Services']\n",
    "\n",
    "\n",
    "# slice_2 = ['Mechanical', 'Process Heating Indirect', \n",
    "#        'Process Heating Direct', 'Hot Water','Space Heating','Process Cooling', 'Space Cooling',\n",
    "#         'Information', 'Illumination']\n",
    "\n",
    "# devices = ['Spark Ignition Engine','Fuel Cell', 'Diesel Engine','Gas Turbine', 'Electric Motor',\n",
    "#            'Boiler', 'Burner','Heat Pump','Electric Heater', 'Cooler',\n",
    "#          'Electronics', 'Light Device',\n",
    "#         ]\n",
    "\n",
    "# useful = ['Work','Thermal' , 'Information','loss']"
   ]
  },
  {
   "cell_type": "code",
   "execution_count": null,
   "metadata": {},
   "outputs": [],
   "source": [
    "\n",
    "# partition_type = Partition.Simple('material',df['material'].unique())\n",
    "\n",
    "# nodes = {\n",
    "#     'primary':ProcessGroup(primaryenergy),\n",
    "#     'transform': ProcessGroup(transform),\n",
    "#     'sector': ProcessGroup(sectors),\n",
    "#     'device': ProcessGroup(devices),\n",
    "#     'useful': ProcessGroup(useful),\n",
    "    \n",
    "# }\n",
    "\n",
    "# # Partition\n",
    "# nodes['primary'].partition =Partition.Simple('process',primaryenergy)\n",
    "\n",
    "# nodes['transform'].partition =Partition.Simple('process',transform)\n",
    "# nodes['sector'].partition =Partition.Simple('process',sectors)\n",
    "# nodes['device'].partition =Partition.Simple('process',devices)\n",
    "# nodes['useful'].partition =Partition.Simple('process',useful)\n",
    "\n",
    "# #Waypoints\n",
    "\n",
    "\n",
    "# # Order\n",
    "# ordering = [\n",
    "#     ['primary'],\n",
    "#     ['transform'],\n",
    "#     ['sector' ],\n",
    "#     ['device' ],\n",
    "#     ['useful']\n",
    "# ]\n",
    "\n",
    "# palette_leo={'Coal':'black',\n",
    "#              'Nuclear':'purple',\n",
    "#              'Natural gas':'blue',\n",
    "#             'Electricity':'yellow',\n",
    "#              'Heat':'orange',\n",
    "#             'Oil products':'brown',\n",
    "#              'Oil':'brown',\n",
    "#              'Renewable':'green',\n",
    "#             'Biomass, waste and other renewables':'green',\n",
    "#             'Biomass and waste':'green'}\n",
    "\n",
    "# bundles = [ \n",
    "#     Bundle('primary', 'transform'),\n",
    "#     Bundle('transform', 'sector'),\n",
    "#     Bundle('sector', 'device'),\n",
    "#     Bundle('device', 'useful')\n",
    "#            ]\n",
    "\n",
    "# sdd = SankeyDefinition(nodes, bundles, ordering,flow_partition=partition_type)\n",
    "# size = dict(width=1000, height=600)"
   ]
  },
  {
   "cell_type": "code",
   "execution_count": null,
   "metadata": {},
   "outputs": [],
   "source": [
    "\n",
    "# weave(sdd, df,measures='energy',palette=palette_leo).to_widget(**size)\n"
   ]
  },
  {
   "cell_type": "code",
   "execution_count": null,
   "metadata": {},
   "outputs": [],
   "source": []
  },
  {
   "cell_type": "code",
   "execution_count": null,
   "metadata": {},
   "outputs": [],
   "source": []
  }
 ],
 "metadata": {
  "kernelspec": {
   "display_name": "Python 3",
   "language": "python",
   "name": "python3"
  },
  "language_info": {
   "codemirror_mode": {
    "name": "ipython",
    "version": 3
   },
   "file_extension": ".py",
   "mimetype": "text/x-python",
   "name": "python",
   "nbconvert_exporter": "python",
   "pygments_lexer": "ipython3",
   "version": "3.6.9"
  },
  "toc": {
   "base_numbering": 1,
   "nav_menu": {},
   "number_sections": true,
   "sideBar": true,
   "skip_h1_title": false,
   "title_cell": "Table of Contents",
   "title_sidebar": "Contents",
   "toc_cell": false,
   "toc_position": {
    "height": "calc(100% - 180px)",
    "left": "10px",
    "top": "150px",
    "width": "227px"
   },
   "toc_section_display": true,
   "toc_window_display": true
  }
 },
 "nbformat": 4,
 "nbformat_minor": 2
}
